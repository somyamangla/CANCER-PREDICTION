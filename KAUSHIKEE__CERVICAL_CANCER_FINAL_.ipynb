{
  "nbformat": 4,
  "nbformat_minor": 0,
  "metadata": {
    "colab": {
      "provenance": [],
      "include_colab_link": true
    },
    "kernelspec": {
      "name": "python3",
      "display_name": "Python 3"
    },
    "language_info": {
      "name": "python"
    }
  },
  "cells": [
    {
      "cell_type": "markdown",
      "metadata": {
        "id": "view-in-github",
        "colab_type": "text"
      },
      "source": [
        "<a href=\"https://colab.research.google.com/github/somyamangla/CANCER-PREDICTION/blob/main/KAUSHIKEE__CERVICAL_CANCER_FINAL_.ipynb\" target=\"_parent\"><img src=\"https://colab.research.google.com/assets/colab-badge.svg\" alt=\"Open In Colab\"/></a>"
      ]
    },
    {
      "cell_type": "code",
      "execution_count": null,
      "metadata": {
        "id": "2d4VH3KlyTES"
      },
      "outputs": [],
      "source": [
        "# for numerical computing\n",
        "import numpy as np\n",
        "# for dataframes\n",
        "import pandas as pd\n",
        "# for easier visualization\n",
        "import seaborn as sns\n",
        "# for visualization and to display plots\n",
        "from matplotlib import pyplot as plt\n",
        "# %matplotlib inline\n",
        "# import color maps\n",
        "from matplotlib.colors import ListedColormap\n",
        "# Ignore Warnings\n",
        "import warnings\n",
        "warnings.filterwarnings(\"ignore\")\n",
        "\n",
        "from math import sqrt\n",
        "\n",
        "# to split train and test set\n",
        "from sklearn.model_selection import train_test_split\n",
        "\n",
        "# to perform hyperparameter tuning\n",
        "from sklearn.model_selection import GridSearchCV\n",
        "from sklearn.model_selection import RandomizedSearchCV\n",
        "\n",
        "from sklearn.model_selection import cross_val_score\n",
        "\n",
        "# Machine Learning Models\n",
        "from sklearn.linear_model import LogisticRegression\n",
        "from sklearn.ensemble import RandomForestClassifier\n",
        "from xgboost import XGBClassifier\n",
        "from sklearn.tree import DecisionTreeClassifier\n",
        "from sklearn.svm import SVC\n",
        "from sklearn.metrics import roc_curve, auc, roc_auc_score, confusion_matrix\n",
        "\n",
        "from sklearn.preprocessing import StandardScaler\n",
        "from sklearn.model_selection import train_test_split\n",
        "from sklearn.model_selection import cross_val_score\n",
        "from sklearn.neighbors import KNeighborsClassifier\n",
        "from matplotlib.colors import ListedColormap\n",
        "from sklearn.metrics import accuracy_score\n",
        "\n",
        "#import xgboost\n",
        "import os\n",
        "from xgboost import XGBClassifier\n",
        "from xgboost import plot_importance  # to plot feature importance\n",
        "import joblib\n",
        "import seaborn as sns\n",
        "import numpy as np\n",
        "import pandas as pd\n",
        "import matplotlib.pyplot as plt\n",
        "\n",
        "from sklearn.preprocessing import LabelEncoder\n",
        "from sklearn.neighbors import KNeighborsClassifier\n",
        "from sklearn.model_selection import train_test_split\n",
        "from sklearn.preprocessing import StandardScaler\n",
        "from sklearn.metrics import f1_score, precision_score, accuracy_score, recall_score, balanced_accuracy_score\n",
        "from sklearn.svm import SVC\n",
        "from sklearn.model_selection import StratifiedKFold\n",
        "from sklearn.feature_selection import RFECV\n",
        "from sklearn.model_selection import train_test_split\n",
        "\n",
        "import pandas as pd \n",
        "import matplotlib.pyplot as plt\n",
        "from sklearn.ensemble import RandomForestClassifier\n",
        "from sklearn import model_selection , metrics\n",
        "from sklearn.svm import SVC\n",
        "from sklearn.linear_model import LinearRegression\n",
        "from sklearn.model_selection import train_test_split\n",
        "from openpyxl import load_workbook\n",
        "import seaborn as sns\n",
        "from sklearn.metrics import confusion_matrix, ConfusionMatrixDisplay\n",
        "from sklearn.metrics import r2_score\n",
        "from sklearn.metrics import mean_squared_error\n",
        "from sklearn.preprocessing import LabelEncoder\n",
        "from sklearn.neighbors import KNeighborsClassifier\n",
        "from sklearn.model_selection import train_test_split\n",
        "from sklearn.preprocessing import StandardScaler\n",
        "from sklearn.metrics import f1_score, precision_score, accuracy_score, recall_score, balanced_accuracy_score\n",
        "from sklearn.svm import SVC\n",
        "from sklearn.model_selection import StratifiedKFold\n",
        "from sklearn.feature_selection import RFECV\n",
        "from sklearn.model_selection import train_test_split\n",
        "from sklearn.metrics import accuracy_score\n",
        "from sklearn.model_selection import train_test_split\n",
        "from sklearn.metrics import classification_report,confusion_matrix\n",
        "from sklearn.ensemble import AdaBoostClassifier, BaggingClassifier\n",
        "from sklearn.linear_model import Perceptron\n",
        "from sklearn.linear_model import SGDClassifier\n",
        "from sklearn.neural_network import MLPClassifier\n",
        "from sklearn.ensemble import GradientBoostingClassifier\n",
        "\n",
        "import pandas as pd \n",
        "import matplotlib.pyplot as plt\n",
        "from sklearn.ensemble import RandomForestClassifier\n",
        "from sklearn import model_selection , metrics\n",
        "from sklearn.svm import SVC\n",
        "from sklearn.linear_model import LinearRegression\n",
        "from sklearn.model_selection import train_test_split\n",
        "from openpyxl import load_workbook\n",
        "import seaborn as sns\n",
        "from sklearn.metrics import confusion_matrix, ConfusionMatrixDisplay\n",
        "from sklearn.metrics import r2_score\n",
        "from sklearn.metrics import mean_squared_error\n",
        "from sklearn.preprocessing import LabelEncoder\n",
        "from sklearn.neighbors import KNeighborsClassifier\n",
        "from sklearn.model_selection import train_test_split\n",
        "from sklearn.preprocessing import StandardScaler\n",
        "from sklearn.metrics import f1_score, precision_score, accuracy_score, recall_score, balanced_accuracy_score\n",
        "from sklearn.svm import SVC\n",
        "from sklearn.model_selection import StratifiedKFold\n",
        "from sklearn.feature_selection import RFECV\n",
        "from sklearn.model_selection import train_test_split\n",
        "from sklearn.metrics import accuracy_score\n",
        "from sklearn.model_selection import train_test_split\n",
        "from sklearn.metrics import classification_report,confusion_matrix\n",
        "from sklearn.ensemble import AdaBoostClassifier, BaggingClassifier\n",
        "from sklearn.linear_model import Perceptron\n",
        "from sklearn.linear_model import SGDClassifier\n",
        "from sklearn.neural_network import MLPClassifier\n",
        "from sklearn.ensemble import GradientBoostingClassifier\n",
        "from sklearn.metrics import confusion_matrix\n",
        "from sklearn.metrics import accuracy_score\n",
        "from sklearn.feature_selection import RFECV\n",
        "from sklearn.svm import SVC\n",
        "from sklearn.model_selection import StratifiedKFold\n",
        "from sklearn.metrics import classification_report\n",
        "from sklearn.model_selection import train_test_split\n",
        "from sklearn.linear_model import LogisticRegression\n",
        "from sklearn.model_selection import GridSearchCV\n",
        "from sklearn.metrics import roc_curve, auc, roc_auc_score, confusion_matrix\n",
        "from sklearn.neighbors import KNeighborsClassifier\n",
        "from sklearn.model_selection import train_test_split\n",
        "from sklearn.datasets import load_iris"
      ]
    },
    {
      "cell_type": "code",
      "source": [
        "data = pd.read_csv(\"/content/kag_risk_factors_cervical_cancer.csv\")"
      ],
      "metadata": {
        "id": "g4oMIoaHybPm"
      },
      "execution_count": null,
      "outputs": []
    },
    {
      "cell_type": "code",
      "source": [
        "data.head()"
      ],
      "metadata": {
        "colab": {
          "base_uri": "https://localhost:8080/",
          "height": 369
        },
        "id": "PS_ijZ8pyv-y",
        "outputId": "27934376-9fa3-4e18-807c-b8c95b6419e0"
      },
      "execution_count": null,
      "outputs": [
        {
          "output_type": "execute_result",
          "data": {
            "text/plain": [
              "   Age Number of sexual partners First sexual intercourse Num of pregnancies  \\\n",
              "0   18                       4.0                     15.0                1.0   \n",
              "1   15                       1.0                     14.0                1.0   \n",
              "2   34                       1.0                        ?                1.0   \n",
              "3   52                       5.0                     16.0                4.0   \n",
              "4   46                       3.0                     21.0                4.0   \n",
              "\n",
              "  Smokes Smokes (years) Smokes (packs/year) Hormonal Contraceptives  \\\n",
              "0    0.0            0.0                 0.0                     0.0   \n",
              "1    0.0            0.0                 0.0                     0.0   \n",
              "2    0.0            0.0                 0.0                     0.0   \n",
              "3    1.0           37.0                37.0                     1.0   \n",
              "4    0.0            0.0                 0.0                     1.0   \n",
              "\n",
              "  Hormonal Contraceptives (years)  IUD  ... STDs: Time since first diagnosis  \\\n",
              "0                             0.0  0.0  ...                                ?   \n",
              "1                             0.0  0.0  ...                                ?   \n",
              "2                             0.0  0.0  ...                                ?   \n",
              "3                             3.0  0.0  ...                                ?   \n",
              "4                            15.0  0.0  ...                                ?   \n",
              "\n",
              "  STDs: Time since last diagnosis Dx:Cancer Dx:CIN Dx:HPV Dx Hinselmann  \\\n",
              "0                               ?         0      0      0  0          0   \n",
              "1                               ?         0      0      0  0          0   \n",
              "2                               ?         0      0      0  0          0   \n",
              "3                               ?         1      0      1  0          0   \n",
              "4                               ?         0      0      0  0          0   \n",
              "\n",
              "  Schiller Citology Biopsy  \n",
              "0        0        0      0  \n",
              "1        0        0      0  \n",
              "2        0        0      0  \n",
              "3        0        0      0  \n",
              "4        0        0      0  \n",
              "\n",
              "[5 rows x 36 columns]"
            ],
            "text/html": [
              "\n",
              "  <div id=\"df-075e1796-4e89-4e4c-99ef-581670098013\">\n",
              "    <div class=\"colab-df-container\">\n",
              "      <div>\n",
              "<style scoped>\n",
              "    .dataframe tbody tr th:only-of-type {\n",
              "        vertical-align: middle;\n",
              "    }\n",
              "\n",
              "    .dataframe tbody tr th {\n",
              "        vertical-align: top;\n",
              "    }\n",
              "\n",
              "    .dataframe thead th {\n",
              "        text-align: right;\n",
              "    }\n",
              "</style>\n",
              "<table border=\"1\" class=\"dataframe\">\n",
              "  <thead>\n",
              "    <tr style=\"text-align: right;\">\n",
              "      <th></th>\n",
              "      <th>Age</th>\n",
              "      <th>Number of sexual partners</th>\n",
              "      <th>First sexual intercourse</th>\n",
              "      <th>Num of pregnancies</th>\n",
              "      <th>Smokes</th>\n",
              "      <th>Smokes (years)</th>\n",
              "      <th>Smokes (packs/year)</th>\n",
              "      <th>Hormonal Contraceptives</th>\n",
              "      <th>Hormonal Contraceptives (years)</th>\n",
              "      <th>IUD</th>\n",
              "      <th>...</th>\n",
              "      <th>STDs: Time since first diagnosis</th>\n",
              "      <th>STDs: Time since last diagnosis</th>\n",
              "      <th>Dx:Cancer</th>\n",
              "      <th>Dx:CIN</th>\n",
              "      <th>Dx:HPV</th>\n",
              "      <th>Dx</th>\n",
              "      <th>Hinselmann</th>\n",
              "      <th>Schiller</th>\n",
              "      <th>Citology</th>\n",
              "      <th>Biopsy</th>\n",
              "    </tr>\n",
              "  </thead>\n",
              "  <tbody>\n",
              "    <tr>\n",
              "      <th>0</th>\n",
              "      <td>18</td>\n",
              "      <td>4.0</td>\n",
              "      <td>15.0</td>\n",
              "      <td>1.0</td>\n",
              "      <td>0.0</td>\n",
              "      <td>0.0</td>\n",
              "      <td>0.0</td>\n",
              "      <td>0.0</td>\n",
              "      <td>0.0</td>\n",
              "      <td>0.0</td>\n",
              "      <td>...</td>\n",
              "      <td>?</td>\n",
              "      <td>?</td>\n",
              "      <td>0</td>\n",
              "      <td>0</td>\n",
              "      <td>0</td>\n",
              "      <td>0</td>\n",
              "      <td>0</td>\n",
              "      <td>0</td>\n",
              "      <td>0</td>\n",
              "      <td>0</td>\n",
              "    </tr>\n",
              "    <tr>\n",
              "      <th>1</th>\n",
              "      <td>15</td>\n",
              "      <td>1.0</td>\n",
              "      <td>14.0</td>\n",
              "      <td>1.0</td>\n",
              "      <td>0.0</td>\n",
              "      <td>0.0</td>\n",
              "      <td>0.0</td>\n",
              "      <td>0.0</td>\n",
              "      <td>0.0</td>\n",
              "      <td>0.0</td>\n",
              "      <td>...</td>\n",
              "      <td>?</td>\n",
              "      <td>?</td>\n",
              "      <td>0</td>\n",
              "      <td>0</td>\n",
              "      <td>0</td>\n",
              "      <td>0</td>\n",
              "      <td>0</td>\n",
              "      <td>0</td>\n",
              "      <td>0</td>\n",
              "      <td>0</td>\n",
              "    </tr>\n",
              "    <tr>\n",
              "      <th>2</th>\n",
              "      <td>34</td>\n",
              "      <td>1.0</td>\n",
              "      <td>?</td>\n",
              "      <td>1.0</td>\n",
              "      <td>0.0</td>\n",
              "      <td>0.0</td>\n",
              "      <td>0.0</td>\n",
              "      <td>0.0</td>\n",
              "      <td>0.0</td>\n",
              "      <td>0.0</td>\n",
              "      <td>...</td>\n",
              "      <td>?</td>\n",
              "      <td>?</td>\n",
              "      <td>0</td>\n",
              "      <td>0</td>\n",
              "      <td>0</td>\n",
              "      <td>0</td>\n",
              "      <td>0</td>\n",
              "      <td>0</td>\n",
              "      <td>0</td>\n",
              "      <td>0</td>\n",
              "    </tr>\n",
              "    <tr>\n",
              "      <th>3</th>\n",
              "      <td>52</td>\n",
              "      <td>5.0</td>\n",
              "      <td>16.0</td>\n",
              "      <td>4.0</td>\n",
              "      <td>1.0</td>\n",
              "      <td>37.0</td>\n",
              "      <td>37.0</td>\n",
              "      <td>1.0</td>\n",
              "      <td>3.0</td>\n",
              "      <td>0.0</td>\n",
              "      <td>...</td>\n",
              "      <td>?</td>\n",
              "      <td>?</td>\n",
              "      <td>1</td>\n",
              "      <td>0</td>\n",
              "      <td>1</td>\n",
              "      <td>0</td>\n",
              "      <td>0</td>\n",
              "      <td>0</td>\n",
              "      <td>0</td>\n",
              "      <td>0</td>\n",
              "    </tr>\n",
              "    <tr>\n",
              "      <th>4</th>\n",
              "      <td>46</td>\n",
              "      <td>3.0</td>\n",
              "      <td>21.0</td>\n",
              "      <td>4.0</td>\n",
              "      <td>0.0</td>\n",
              "      <td>0.0</td>\n",
              "      <td>0.0</td>\n",
              "      <td>1.0</td>\n",
              "      <td>15.0</td>\n",
              "      <td>0.0</td>\n",
              "      <td>...</td>\n",
              "      <td>?</td>\n",
              "      <td>?</td>\n",
              "      <td>0</td>\n",
              "      <td>0</td>\n",
              "      <td>0</td>\n",
              "      <td>0</td>\n",
              "      <td>0</td>\n",
              "      <td>0</td>\n",
              "      <td>0</td>\n",
              "      <td>0</td>\n",
              "    </tr>\n",
              "  </tbody>\n",
              "</table>\n",
              "<p>5 rows × 36 columns</p>\n",
              "</div>\n",
              "      <button class=\"colab-df-convert\" onclick=\"convertToInteractive('df-075e1796-4e89-4e4c-99ef-581670098013')\"\n",
              "              title=\"Convert this dataframe to an interactive table.\"\n",
              "              style=\"display:none;\">\n",
              "        \n",
              "  <svg xmlns=\"http://www.w3.org/2000/svg\" height=\"24px\"viewBox=\"0 0 24 24\"\n",
              "       width=\"24px\">\n",
              "    <path d=\"M0 0h24v24H0V0z\" fill=\"none\"/>\n",
              "    <path d=\"M18.56 5.44l.94 2.06.94-2.06 2.06-.94-2.06-.94-.94-2.06-.94 2.06-2.06.94zm-11 1L8.5 8.5l.94-2.06 2.06-.94-2.06-.94L8.5 2.5l-.94 2.06-2.06.94zm10 10l.94 2.06.94-2.06 2.06-.94-2.06-.94-.94-2.06-.94 2.06-2.06.94z\"/><path d=\"M17.41 7.96l-1.37-1.37c-.4-.4-.92-.59-1.43-.59-.52 0-1.04.2-1.43.59L10.3 9.45l-7.72 7.72c-.78.78-.78 2.05 0 2.83L4 21.41c.39.39.9.59 1.41.59.51 0 1.02-.2 1.41-.59l7.78-7.78 2.81-2.81c.8-.78.8-2.07 0-2.86zM5.41 20L4 18.59l7.72-7.72 1.47 1.35L5.41 20z\"/>\n",
              "  </svg>\n",
              "      </button>\n",
              "      \n",
              "  <style>\n",
              "    .colab-df-container {\n",
              "      display:flex;\n",
              "      flex-wrap:wrap;\n",
              "      gap: 12px;\n",
              "    }\n",
              "\n",
              "    .colab-df-convert {\n",
              "      background-color: #E8F0FE;\n",
              "      border: none;\n",
              "      border-radius: 50%;\n",
              "      cursor: pointer;\n",
              "      display: none;\n",
              "      fill: #1967D2;\n",
              "      height: 32px;\n",
              "      padding: 0 0 0 0;\n",
              "      width: 32px;\n",
              "    }\n",
              "\n",
              "    .colab-df-convert:hover {\n",
              "      background-color: #E2EBFA;\n",
              "      box-shadow: 0px 1px 2px rgba(60, 64, 67, 0.3), 0px 1px 3px 1px rgba(60, 64, 67, 0.15);\n",
              "      fill: #174EA6;\n",
              "    }\n",
              "\n",
              "    [theme=dark] .colab-df-convert {\n",
              "      background-color: #3B4455;\n",
              "      fill: #D2E3FC;\n",
              "    }\n",
              "\n",
              "    [theme=dark] .colab-df-convert:hover {\n",
              "      background-color: #434B5C;\n",
              "      box-shadow: 0px 1px 3px 1px rgba(0, 0, 0, 0.15);\n",
              "      filter: drop-shadow(0px 1px 2px rgba(0, 0, 0, 0.3));\n",
              "      fill: #FFFFFF;\n",
              "    }\n",
              "  </style>\n",
              "\n",
              "      <script>\n",
              "        const buttonEl =\n",
              "          document.querySelector('#df-075e1796-4e89-4e4c-99ef-581670098013 button.colab-df-convert');\n",
              "        buttonEl.style.display =\n",
              "          google.colab.kernel.accessAllowed ? 'block' : 'none';\n",
              "\n",
              "        async function convertToInteractive(key) {\n",
              "          const element = document.querySelector('#df-075e1796-4e89-4e4c-99ef-581670098013');\n",
              "          const dataTable =\n",
              "            await google.colab.kernel.invokeFunction('convertToInteractive',\n",
              "                                                     [key], {});\n",
              "          if (!dataTable) return;\n",
              "\n",
              "          const docLinkHtml = 'Like what you see? Visit the ' +\n",
              "            '<a target=\"_blank\" href=https://colab.research.google.com/notebooks/data_table.ipynb>data table notebook</a>'\n",
              "            + ' to learn more about interactive tables.';\n",
              "          element.innerHTML = '';\n",
              "          dataTable['output_type'] = 'display_data';\n",
              "          await google.colab.output.renderOutput(dataTable, element);\n",
              "          const docLink = document.createElement('div');\n",
              "          docLink.innerHTML = docLinkHtml;\n",
              "          element.appendChild(docLink);\n",
              "        }\n",
              "      </script>\n",
              "    </div>\n",
              "  </div>\n",
              "  "
            ]
          },
          "metadata": {},
          "execution_count": 12
        }
      ]
    },
    {
      "cell_type": "code",
      "source": [
        "data.tail()"
      ],
      "metadata": {
        "colab": {
          "base_uri": "https://localhost:8080/",
          "height": 369
        },
        "id": "Fgoz5O3yyzvH",
        "outputId": "586e3040-72f3-4165-c709-d9b574edf41e"
      },
      "execution_count": null,
      "outputs": [
        {
          "output_type": "execute_result",
          "data": {
            "text/plain": [
              "     Age Number of sexual partners First sexual intercourse  \\\n",
              "853   34                       3.0                     18.0   \n",
              "854   32                       2.0                     19.0   \n",
              "855   25                       2.0                     17.0   \n",
              "856   33                       2.0                     24.0   \n",
              "857   29                       2.0                     20.0   \n",
              "\n",
              "    Num of pregnancies Smokes Smokes (years) Smokes (packs/year)  \\\n",
              "853                0.0    0.0            0.0                 0.0   \n",
              "854                1.0    0.0            0.0                 0.0   \n",
              "855                0.0    0.0            0.0                 0.0   \n",
              "856                2.0    0.0            0.0                 0.0   \n",
              "857                1.0    0.0            0.0                 0.0   \n",
              "\n",
              "    Hormonal Contraceptives Hormonal Contraceptives (years)  IUD  ...  \\\n",
              "853                     0.0                             0.0  0.0  ...   \n",
              "854                     1.0                             8.0  0.0  ...   \n",
              "855                     1.0                            0.08  0.0  ...   \n",
              "856                     1.0                            0.08  0.0  ...   \n",
              "857                     1.0                             0.5  0.0  ...   \n",
              "\n",
              "    STDs: Time since first diagnosis STDs: Time since last diagnosis  \\\n",
              "853                                ?                               ?   \n",
              "854                                ?                               ?   \n",
              "855                                ?                               ?   \n",
              "856                                ?                               ?   \n",
              "857                                ?                               ?   \n",
              "\n",
              "    Dx:Cancer Dx:CIN Dx:HPV Dx Hinselmann Schiller Citology Biopsy  \n",
              "853         0      0      0  0          0        0        0      0  \n",
              "854         0      0      0  0          0        0        0      0  \n",
              "855         0      0      0  0          0        0        1      0  \n",
              "856         0      0      0  0          0        0        0      0  \n",
              "857         0      0      0  0          0        0        0      0  \n",
              "\n",
              "[5 rows x 36 columns]"
            ],
            "text/html": [
              "\n",
              "  <div id=\"df-9da04f30-d52c-4307-b2e6-90fe9771d5d4\">\n",
              "    <div class=\"colab-df-container\">\n",
              "      <div>\n",
              "<style scoped>\n",
              "    .dataframe tbody tr th:only-of-type {\n",
              "        vertical-align: middle;\n",
              "    }\n",
              "\n",
              "    .dataframe tbody tr th {\n",
              "        vertical-align: top;\n",
              "    }\n",
              "\n",
              "    .dataframe thead th {\n",
              "        text-align: right;\n",
              "    }\n",
              "</style>\n",
              "<table border=\"1\" class=\"dataframe\">\n",
              "  <thead>\n",
              "    <tr style=\"text-align: right;\">\n",
              "      <th></th>\n",
              "      <th>Age</th>\n",
              "      <th>Number of sexual partners</th>\n",
              "      <th>First sexual intercourse</th>\n",
              "      <th>Num of pregnancies</th>\n",
              "      <th>Smokes</th>\n",
              "      <th>Smokes (years)</th>\n",
              "      <th>Smokes (packs/year)</th>\n",
              "      <th>Hormonal Contraceptives</th>\n",
              "      <th>Hormonal Contraceptives (years)</th>\n",
              "      <th>IUD</th>\n",
              "      <th>...</th>\n",
              "      <th>STDs: Time since first diagnosis</th>\n",
              "      <th>STDs: Time since last diagnosis</th>\n",
              "      <th>Dx:Cancer</th>\n",
              "      <th>Dx:CIN</th>\n",
              "      <th>Dx:HPV</th>\n",
              "      <th>Dx</th>\n",
              "      <th>Hinselmann</th>\n",
              "      <th>Schiller</th>\n",
              "      <th>Citology</th>\n",
              "      <th>Biopsy</th>\n",
              "    </tr>\n",
              "  </thead>\n",
              "  <tbody>\n",
              "    <tr>\n",
              "      <th>853</th>\n",
              "      <td>34</td>\n",
              "      <td>3.0</td>\n",
              "      <td>18.0</td>\n",
              "      <td>0.0</td>\n",
              "      <td>0.0</td>\n",
              "      <td>0.0</td>\n",
              "      <td>0.0</td>\n",
              "      <td>0.0</td>\n",
              "      <td>0.0</td>\n",
              "      <td>0.0</td>\n",
              "      <td>...</td>\n",
              "      <td>?</td>\n",
              "      <td>?</td>\n",
              "      <td>0</td>\n",
              "      <td>0</td>\n",
              "      <td>0</td>\n",
              "      <td>0</td>\n",
              "      <td>0</td>\n",
              "      <td>0</td>\n",
              "      <td>0</td>\n",
              "      <td>0</td>\n",
              "    </tr>\n",
              "    <tr>\n",
              "      <th>854</th>\n",
              "      <td>32</td>\n",
              "      <td>2.0</td>\n",
              "      <td>19.0</td>\n",
              "      <td>1.0</td>\n",
              "      <td>0.0</td>\n",
              "      <td>0.0</td>\n",
              "      <td>0.0</td>\n",
              "      <td>1.0</td>\n",
              "      <td>8.0</td>\n",
              "      <td>0.0</td>\n",
              "      <td>...</td>\n",
              "      <td>?</td>\n",
              "      <td>?</td>\n",
              "      <td>0</td>\n",
              "      <td>0</td>\n",
              "      <td>0</td>\n",
              "      <td>0</td>\n",
              "      <td>0</td>\n",
              "      <td>0</td>\n",
              "      <td>0</td>\n",
              "      <td>0</td>\n",
              "    </tr>\n",
              "    <tr>\n",
              "      <th>855</th>\n",
              "      <td>25</td>\n",
              "      <td>2.0</td>\n",
              "      <td>17.0</td>\n",
              "      <td>0.0</td>\n",
              "      <td>0.0</td>\n",
              "      <td>0.0</td>\n",
              "      <td>0.0</td>\n",
              "      <td>1.0</td>\n",
              "      <td>0.08</td>\n",
              "      <td>0.0</td>\n",
              "      <td>...</td>\n",
              "      <td>?</td>\n",
              "      <td>?</td>\n",
              "      <td>0</td>\n",
              "      <td>0</td>\n",
              "      <td>0</td>\n",
              "      <td>0</td>\n",
              "      <td>0</td>\n",
              "      <td>0</td>\n",
              "      <td>1</td>\n",
              "      <td>0</td>\n",
              "    </tr>\n",
              "    <tr>\n",
              "      <th>856</th>\n",
              "      <td>33</td>\n",
              "      <td>2.0</td>\n",
              "      <td>24.0</td>\n",
              "      <td>2.0</td>\n",
              "      <td>0.0</td>\n",
              "      <td>0.0</td>\n",
              "      <td>0.0</td>\n",
              "      <td>1.0</td>\n",
              "      <td>0.08</td>\n",
              "      <td>0.0</td>\n",
              "      <td>...</td>\n",
              "      <td>?</td>\n",
              "      <td>?</td>\n",
              "      <td>0</td>\n",
              "      <td>0</td>\n",
              "      <td>0</td>\n",
              "      <td>0</td>\n",
              "      <td>0</td>\n",
              "      <td>0</td>\n",
              "      <td>0</td>\n",
              "      <td>0</td>\n",
              "    </tr>\n",
              "    <tr>\n",
              "      <th>857</th>\n",
              "      <td>29</td>\n",
              "      <td>2.0</td>\n",
              "      <td>20.0</td>\n",
              "      <td>1.0</td>\n",
              "      <td>0.0</td>\n",
              "      <td>0.0</td>\n",
              "      <td>0.0</td>\n",
              "      <td>1.0</td>\n",
              "      <td>0.5</td>\n",
              "      <td>0.0</td>\n",
              "      <td>...</td>\n",
              "      <td>?</td>\n",
              "      <td>?</td>\n",
              "      <td>0</td>\n",
              "      <td>0</td>\n",
              "      <td>0</td>\n",
              "      <td>0</td>\n",
              "      <td>0</td>\n",
              "      <td>0</td>\n",
              "      <td>0</td>\n",
              "      <td>0</td>\n",
              "    </tr>\n",
              "  </tbody>\n",
              "</table>\n",
              "<p>5 rows × 36 columns</p>\n",
              "</div>\n",
              "      <button class=\"colab-df-convert\" onclick=\"convertToInteractive('df-9da04f30-d52c-4307-b2e6-90fe9771d5d4')\"\n",
              "              title=\"Convert this dataframe to an interactive table.\"\n",
              "              style=\"display:none;\">\n",
              "        \n",
              "  <svg xmlns=\"http://www.w3.org/2000/svg\" height=\"24px\"viewBox=\"0 0 24 24\"\n",
              "       width=\"24px\">\n",
              "    <path d=\"M0 0h24v24H0V0z\" fill=\"none\"/>\n",
              "    <path d=\"M18.56 5.44l.94 2.06.94-2.06 2.06-.94-2.06-.94-.94-2.06-.94 2.06-2.06.94zm-11 1L8.5 8.5l.94-2.06 2.06-.94-2.06-.94L8.5 2.5l-.94 2.06-2.06.94zm10 10l.94 2.06.94-2.06 2.06-.94-2.06-.94-.94-2.06-.94 2.06-2.06.94z\"/><path d=\"M17.41 7.96l-1.37-1.37c-.4-.4-.92-.59-1.43-.59-.52 0-1.04.2-1.43.59L10.3 9.45l-7.72 7.72c-.78.78-.78 2.05 0 2.83L4 21.41c.39.39.9.59 1.41.59.51 0 1.02-.2 1.41-.59l7.78-7.78 2.81-2.81c.8-.78.8-2.07 0-2.86zM5.41 20L4 18.59l7.72-7.72 1.47 1.35L5.41 20z\"/>\n",
              "  </svg>\n",
              "      </button>\n",
              "      \n",
              "  <style>\n",
              "    .colab-df-container {\n",
              "      display:flex;\n",
              "      flex-wrap:wrap;\n",
              "      gap: 12px;\n",
              "    }\n",
              "\n",
              "    .colab-df-convert {\n",
              "      background-color: #E8F0FE;\n",
              "      border: none;\n",
              "      border-radius: 50%;\n",
              "      cursor: pointer;\n",
              "      display: none;\n",
              "      fill: #1967D2;\n",
              "      height: 32px;\n",
              "      padding: 0 0 0 0;\n",
              "      width: 32px;\n",
              "    }\n",
              "\n",
              "    .colab-df-convert:hover {\n",
              "      background-color: #E2EBFA;\n",
              "      box-shadow: 0px 1px 2px rgba(60, 64, 67, 0.3), 0px 1px 3px 1px rgba(60, 64, 67, 0.15);\n",
              "      fill: #174EA6;\n",
              "    }\n",
              "\n",
              "    [theme=dark] .colab-df-convert {\n",
              "      background-color: #3B4455;\n",
              "      fill: #D2E3FC;\n",
              "    }\n",
              "\n",
              "    [theme=dark] .colab-df-convert:hover {\n",
              "      background-color: #434B5C;\n",
              "      box-shadow: 0px 1px 3px 1px rgba(0, 0, 0, 0.15);\n",
              "      filter: drop-shadow(0px 1px 2px rgba(0, 0, 0, 0.3));\n",
              "      fill: #FFFFFF;\n",
              "    }\n",
              "  </style>\n",
              "\n",
              "      <script>\n",
              "        const buttonEl =\n",
              "          document.querySelector('#df-9da04f30-d52c-4307-b2e6-90fe9771d5d4 button.colab-df-convert');\n",
              "        buttonEl.style.display =\n",
              "          google.colab.kernel.accessAllowed ? 'block' : 'none';\n",
              "\n",
              "        async function convertToInteractive(key) {\n",
              "          const element = document.querySelector('#df-9da04f30-d52c-4307-b2e6-90fe9771d5d4');\n",
              "          const dataTable =\n",
              "            await google.colab.kernel.invokeFunction('convertToInteractive',\n",
              "                                                     [key], {});\n",
              "          if (!dataTable) return;\n",
              "\n",
              "          const docLinkHtml = 'Like what you see? Visit the ' +\n",
              "            '<a target=\"_blank\" href=https://colab.research.google.com/notebooks/data_table.ipynb>data table notebook</a>'\n",
              "            + ' to learn more about interactive tables.';\n",
              "          element.innerHTML = '';\n",
              "          dataTable['output_type'] = 'display_data';\n",
              "          await google.colab.output.renderOutput(dataTable, element);\n",
              "          const docLink = document.createElement('div');\n",
              "          docLink.innerHTML = docLinkHtml;\n",
              "          element.appendChild(docLink);\n",
              "        }\n",
              "      </script>\n",
              "    </div>\n",
              "  </div>\n",
              "  "
            ]
          },
          "metadata": {},
          "execution_count": 13
        }
      ]
    },
    {
      "cell_type": "code",
      "source": [
        "data.info()"
      ],
      "metadata": {
        "colab": {
          "base_uri": "https://localhost:8080/"
        },
        "id": "T321yw2ry2Yx",
        "outputId": "7bf55f93-3436-474e-dc6f-03e60cf7a898"
      },
      "execution_count": null,
      "outputs": [
        {
          "output_type": "stream",
          "name": "stdout",
          "text": [
            "<class 'pandas.core.frame.DataFrame'>\n",
            "RangeIndex: 858 entries, 0 to 857\n",
            "Data columns (total 36 columns):\n",
            " #   Column                              Non-Null Count  Dtype \n",
            "---  ------                              --------------  ----- \n",
            " 0   Age                                 858 non-null    int64 \n",
            " 1   Number of sexual partners           858 non-null    object\n",
            " 2   First sexual intercourse            858 non-null    object\n",
            " 3   Num of pregnancies                  858 non-null    object\n",
            " 4   Smokes                              858 non-null    object\n",
            " 5   Smokes (years)                      858 non-null    object\n",
            " 6   Smokes (packs/year)                 858 non-null    object\n",
            " 7   Hormonal Contraceptives             858 non-null    object\n",
            " 8   Hormonal Contraceptives (years)     858 non-null    object\n",
            " 9   IUD                                 858 non-null    object\n",
            " 10  IUD (years)                         858 non-null    object\n",
            " 11  STDs                                858 non-null    object\n",
            " 12  STDs (number)                       858 non-null    object\n",
            " 13  STDs:condylomatosis                 858 non-null    object\n",
            " 14  STDs:cervical condylomatosis        858 non-null    object\n",
            " 15  STDs:vaginal condylomatosis         858 non-null    object\n",
            " 16  STDs:vulvo-perineal condylomatosis  858 non-null    object\n",
            " 17  STDs:syphilis                       858 non-null    object\n",
            " 18  STDs:pelvic inflammatory disease    858 non-null    object\n",
            " 19  STDs:genital herpes                 858 non-null    object\n",
            " 20  STDs:molluscum contagiosum          858 non-null    object\n",
            " 21  STDs:AIDS                           858 non-null    object\n",
            " 22  STDs:HIV                            858 non-null    object\n",
            " 23  STDs:Hepatitis B                    858 non-null    object\n",
            " 24  STDs:HPV                            858 non-null    object\n",
            " 25  STDs: Number of diagnosis           858 non-null    int64 \n",
            " 26  STDs: Time since first diagnosis    858 non-null    object\n",
            " 27  STDs: Time since last diagnosis     858 non-null    object\n",
            " 28  Dx:Cancer                           858 non-null    int64 \n",
            " 29  Dx:CIN                              858 non-null    int64 \n",
            " 30  Dx:HPV                              858 non-null    int64 \n",
            " 31  Dx                                  858 non-null    int64 \n",
            " 32  Hinselmann                          858 non-null    int64 \n",
            " 33  Schiller                            858 non-null    int64 \n",
            " 34  Citology                            858 non-null    int64 \n",
            " 35  Biopsy                              858 non-null    int64 \n",
            "dtypes: int64(10), object(26)\n",
            "memory usage: 241.4+ KB\n"
          ]
        }
      ]
    },
    {
      "cell_type": "code",
      "source": [
        "data.isnull().sum()\n"
      ],
      "metadata": {
        "colab": {
          "base_uri": "https://localhost:8080/"
        },
        "id": "_gVimBUcy491",
        "outputId": "160aa1ae-81eb-4664-ae74-5d660fd2d1c9"
      },
      "execution_count": null,
      "outputs": [
        {
          "output_type": "execute_result",
          "data": {
            "text/plain": [
              "Age                                   0\n",
              "Number of sexual partners             0\n",
              "First sexual intercourse              0\n",
              "Num of pregnancies                    0\n",
              "Smokes                                0\n",
              "Smokes (years)                        0\n",
              "Smokes (packs/year)                   0\n",
              "Hormonal Contraceptives               0\n",
              "Hormonal Contraceptives (years)       0\n",
              "IUD                                   0\n",
              "IUD (years)                           0\n",
              "STDs                                  0\n",
              "STDs (number)                         0\n",
              "STDs:condylomatosis                   0\n",
              "STDs:cervical condylomatosis          0\n",
              "STDs:vaginal condylomatosis           0\n",
              "STDs:vulvo-perineal condylomatosis    0\n",
              "STDs:syphilis                         0\n",
              "STDs:pelvic inflammatory disease      0\n",
              "STDs:genital herpes                   0\n",
              "STDs:molluscum contagiosum            0\n",
              "STDs:AIDS                             0\n",
              "STDs:HIV                              0\n",
              "STDs:Hepatitis B                      0\n",
              "STDs:HPV                              0\n",
              "STDs: Number of diagnosis             0\n",
              "STDs: Time since first diagnosis      0\n",
              "STDs: Time since last diagnosis       0\n",
              "Dx:Cancer                             0\n",
              "Dx:CIN                                0\n",
              "Dx:HPV                                0\n",
              "Dx                                    0\n",
              "Hinselmann                            0\n",
              "Schiller                              0\n",
              "Citology                              0\n",
              "Biopsy                                0\n",
              "dtype: int64"
            ]
          },
          "metadata": {},
          "execution_count": 15
        }
      ]
    },
    {
      "cell_type": "code",
      "source": [
        "data.nunique()"
      ],
      "metadata": {
        "colab": {
          "base_uri": "https://localhost:8080/"
        },
        "id": "r8hVzdguy_mq",
        "outputId": "be482487-ecb0-45ff-ef5f-27c485af0913"
      },
      "execution_count": null,
      "outputs": [
        {
          "output_type": "execute_result",
          "data": {
            "text/plain": [
              "Age                                   44\n",
              "Number of sexual partners             13\n",
              "First sexual intercourse              22\n",
              "Num of pregnancies                    12\n",
              "Smokes                                 3\n",
              "Smokes (years)                        31\n",
              "Smokes (packs/year)                   63\n",
              "Hormonal Contraceptives                3\n",
              "Hormonal Contraceptives (years)       41\n",
              "IUD                                    3\n",
              "IUD (years)                           27\n",
              "STDs                                   3\n",
              "STDs (number)                          6\n",
              "STDs:condylomatosis                    3\n",
              "STDs:cervical condylomatosis           2\n",
              "STDs:vaginal condylomatosis            3\n",
              "STDs:vulvo-perineal condylomatosis     3\n",
              "STDs:syphilis                          3\n",
              "STDs:pelvic inflammatory disease       3\n",
              "STDs:genital herpes                    3\n",
              "STDs:molluscum contagiosum             3\n",
              "STDs:AIDS                              2\n",
              "STDs:HIV                               3\n",
              "STDs:Hepatitis B                       3\n",
              "STDs:HPV                               3\n",
              "STDs: Number of diagnosis              4\n",
              "STDs: Time since first diagnosis      19\n",
              "STDs: Time since last diagnosis       19\n",
              "Dx:Cancer                              2\n",
              "Dx:CIN                                 2\n",
              "Dx:HPV                                 2\n",
              "Dx                                     2\n",
              "Hinselmann                             2\n",
              "Schiller                               2\n",
              "Citology                               2\n",
              "Biopsy                                 2\n",
              "dtype: int64"
            ]
          },
          "metadata": {},
          "execution_count": 16
        }
      ]
    },
    {
      "cell_type": "code",
      "source": [
        "for x in data.columns:\n",
        "    data[x].replace(\"?\",np.nan,inplace=True)"
      ],
      "metadata": {
        "id": "3n1dOOpIzCDn"
      },
      "execution_count": null,
      "outputs": []
    },
    {
      "cell_type": "code",
      "source": [
        "data.isnull().sum()"
      ],
      "metadata": {
        "colab": {
          "base_uri": "https://localhost:8080/"
        },
        "id": "rM8v7ZjkzGdw",
        "outputId": "d7af3be2-6bbf-4e3e-bac4-6c0dd44f8097"
      },
      "execution_count": null,
      "outputs": [
        {
          "output_type": "execute_result",
          "data": {
            "text/plain": [
              "Age                                     0\n",
              "Number of sexual partners              26\n",
              "First sexual intercourse                7\n",
              "Num of pregnancies                     56\n",
              "Smokes                                 13\n",
              "Smokes (years)                         13\n",
              "Smokes (packs/year)                    13\n",
              "Hormonal Contraceptives               108\n",
              "Hormonal Contraceptives (years)       108\n",
              "IUD                                   117\n",
              "IUD (years)                           117\n",
              "STDs                                  105\n",
              "STDs (number)                         105\n",
              "STDs:condylomatosis                   105\n",
              "STDs:cervical condylomatosis          105\n",
              "STDs:vaginal condylomatosis           105\n",
              "STDs:vulvo-perineal condylomatosis    105\n",
              "STDs:syphilis                         105\n",
              "STDs:pelvic inflammatory disease      105\n",
              "STDs:genital herpes                   105\n",
              "STDs:molluscum contagiosum            105\n",
              "STDs:AIDS                             105\n",
              "STDs:HIV                              105\n",
              "STDs:Hepatitis B                      105\n",
              "STDs:HPV                              105\n",
              "STDs: Number of diagnosis               0\n",
              "STDs: Time since first diagnosis      787\n",
              "STDs: Time since last diagnosis       787\n",
              "Dx:Cancer                               0\n",
              "Dx:CIN                                  0\n",
              "Dx:HPV                                  0\n",
              "Dx                                      0\n",
              "Hinselmann                              0\n",
              "Schiller                                0\n",
              "Citology                                0\n",
              "Biopsy                                  0\n",
              "dtype: int64"
            ]
          },
          "metadata": {},
          "execution_count": 18
        }
      ]
    },
    {
      "cell_type": "code",
      "source": [
        "import missingno as msno"
      ],
      "metadata": {
        "id": "Rbf9OqzrzKDj"
      },
      "execution_count": null,
      "outputs": []
    },
    {
      "cell_type": "code",
      "source": [
        "msno.bar(data)\n",
        "plt.show()"
      ],
      "metadata": {
        "colab": {
          "base_uri": "https://localhost:8080/",
          "height": 470
        },
        "id": "kpdNXlBkzOKi",
        "outputId": "52eaf1f1-b2a9-4fc5-ea30-e5d41158802f"
      },
      "execution_count": null,
      "outputs": [
        {
          "output_type": "display_data",
          "data": {
            "text/plain": [
              "<Figure size 1800x720 with 3 Axes>"
            ],
            "image/png": "[encoded data removed]"
          },
          "metadata": {
            "needs_background": "light"
          }
        }
      ]
    },
    {
      "cell_type": "code",
      "source": [
        "data.isnull().mean()*100"
      ],
      "metadata": {
        "colab": {
          "base_uri": "https://localhost:8080/"
        },
        "id": "X8UgF41pzQ5K",
        "outputId": "4cb05869-c7bc-4775-f46f-f2eb39eb24ee"
      },
      "execution_count": null,
      "outputs": [
        {
          "output_type": "execute_result",
          "data": {
            "text/plain": [
              "Age                                    0.000000\n",
              "Number of sexual partners              3.030303\n",
              "First sexual intercourse               0.815851\n",
              "Num of pregnancies                     6.526807\n",
              "Smokes                                 1.515152\n",
              "Smokes (years)                         1.515152\n",
              "Smokes (packs/year)                    1.515152\n",
              "Hormonal Contraceptives               12.587413\n",
              "Hormonal Contraceptives (years)       12.587413\n",
              "IUD                                   13.636364\n",
              "IUD (years)                           13.636364\n",
              "STDs                                  12.237762\n",
              "STDs (number)                         12.237762\n",
              "STDs:condylomatosis                   12.237762\n",
              "STDs:cervical condylomatosis          12.237762\n",
              "STDs:vaginal condylomatosis           12.237762\n",
              "STDs:vulvo-perineal condylomatosis    12.237762\n",
              "STDs:syphilis                         12.237762\n",
              "STDs:pelvic inflammatory disease      12.237762\n",
              "STDs:genital herpes                   12.237762\n",
              "STDs:molluscum contagiosum            12.237762\n",
              "STDs:AIDS                             12.237762\n",
              "STDs:HIV                              12.237762\n",
              "STDs:Hepatitis B                      12.237762\n",
              "STDs:HPV                              12.237762\n",
              "STDs: Number of diagnosis              0.000000\n",
              "STDs: Time since first diagnosis      91.724942\n",
              "STDs: Time since last diagnosis       91.724942\n",
              "Dx:Cancer                              0.000000\n",
              "Dx:CIN                                 0.000000\n",
              "Dx:HPV                                 0.000000\n",
              "Dx                                     0.000000\n",
              "Hinselmann                             0.000000\n",
              "Schiller                               0.000000\n",
              "Citology                               0.000000\n",
              "Biopsy                                 0.000000\n",
              "dtype: float64"
            ]
          },
          "metadata": {},
          "execution_count": 21
        }
      ]
    },
    {
      "cell_type": "code",
      "source": [
        "data = data.drop(['STDs: Time since first diagnosis','STDs: Time since last diagnosis'],axis=1)"
      ],
      "metadata": {
        "id": "nkZWZL8OzUoB"
      },
      "execution_count": null,
      "outputs": []
    },
    {
      "cell_type": "code",
      "source": [
        "data.dtypes"
      ],
      "metadata": {
        "colab": {
          "base_uri": "https://localhost:8080/"
        },
        "id": "hx1viEUKzYGt",
        "outputId": "e2d70b2a-e9f9-4b94-839a-29cc00d3c7b9"
      },
      "execution_count": null,
      "outputs": [
        {
          "output_type": "execute_result",
          "data": {
            "text/plain": [
              "Age                                    int64\n",
              "Number of sexual partners             object\n",
              "First sexual intercourse              object\n",
              "Num of pregnancies                    object\n",
              "Smokes                                object\n",
              "Smokes (years)                        object\n",
              "Smokes (packs/year)                   object\n",
              "Hormonal Contraceptives               object\n",
              "Hormonal Contraceptives (years)       object\n",
              "IUD                                   object\n",
              "IUD (years)                           object\n",
              "STDs                                  object\n",
              "STDs (number)                         object\n",
              "STDs:condylomatosis                   object\n",
              "STDs:cervical condylomatosis          object\n",
              "STDs:vaginal condylomatosis           object\n",
              "STDs:vulvo-perineal condylomatosis    object\n",
              "STDs:syphilis                         object\n",
              "STDs:pelvic inflammatory disease      object\n",
              "STDs:genital herpes                   object\n",
              "STDs:molluscum contagiosum            object\n",
              "STDs:AIDS                             object\n",
              "STDs:HIV                              object\n",
              "STDs:Hepatitis B                      object\n",
              "STDs:HPV                              object\n",
              "STDs: Number of diagnosis              int64\n",
              "Dx:Cancer                              int64\n",
              "Dx:CIN                                 int64\n",
              "Dx:HPV                                 int64\n",
              "Dx                                     int64\n",
              "Hinselmann                             int64\n",
              "Schiller                               int64\n",
              "Citology                               int64\n",
              "Biopsy                                 int64\n",
              "dtype: object"
            ]
          },
          "metadata": {},
          "execution_count": 23
        }
      ]
    },
    {
      "cell_type": "code",
      "source": [
        "for x in data.columns:\n",
        "    data[x] =  data[x].astype(str).astype(float)"
      ],
      "metadata": {
        "id": "bzpimjtMzaXD"
      },
      "execution_count": null,
      "outputs": []
    },
    {
      "cell_type": "code",
      "source": [
        "data.dtypes"
      ],
      "metadata": {
        "colab": {
          "base_uri": "https://localhost:8080/"
        },
        "id": "YmqeOcEezdpm",
        "outputId": "8f149e19-b018-4de3-b756-d2b5e0e97e53"
      },
      "execution_count": null,
      "outputs": [
        {
          "output_type": "execute_result",
          "data": {
            "text/plain": [
              "Age                                   float64\n",
              "Number of sexual partners             float64\n",
              "First sexual intercourse              float64\n",
              "Num of pregnancies                    float64\n",
              "Smokes                                float64\n",
              "Smokes (years)                        float64\n",
              "Smokes (packs/year)                   float64\n",
              "Hormonal Contraceptives               float64\n",
              "Hormonal Contraceptives (years)       float64\n",
              "IUD                                   float64\n",
              "IUD (years)                           float64\n",
              "STDs                                  float64\n",
              "STDs (number)                         float64\n",
              "STDs:condylomatosis                   float64\n",
              "STDs:cervical condylomatosis          float64\n",
              "STDs:vaginal condylomatosis           float64\n",
              "STDs:vulvo-perineal condylomatosis    float64\n",
              "STDs:syphilis                         float64\n",
              "STDs:pelvic inflammatory disease      float64\n",
              "STDs:genital herpes                   float64\n",
              "STDs:molluscum contagiosum            float64\n",
              "STDs:AIDS                             float64\n",
              "STDs:HIV                              float64\n",
              "STDs:Hepatitis B                      float64\n",
              "STDs:HPV                              float64\n",
              "STDs: Number of diagnosis             float64\n",
              "Dx:Cancer                             float64\n",
              "Dx:CIN                                float64\n",
              "Dx:HPV                                float64\n",
              "Dx                                    float64\n",
              "Hinselmann                            float64\n",
              "Schiller                              float64\n",
              "Citology                              float64\n",
              "Biopsy                                float64\n",
              "dtype: object"
            ]
          },
          "metadata": {},
          "execution_count": 25
        }
      ]
    },
    {
      "cell_type": "code",
      "source": [
        "def imputation_null_value(data):\n",
        "    for x in  data.columns:\n",
        "        value =data[x].mode(dropna=True).loc[0]\n",
        "        data[x].fillna(value,inplace=True)\n",
        "imputation_null_value(data)"
      ],
      "metadata": {
        "id": "sZwZ3D74zgOh"
      },
      "execution_count": null,
      "outputs": []
    },
    {
      "cell_type": "code",
      "source": [
        "msno.bar(data)\n",
        "plt.show()"
      ],
      "metadata": {
        "colab": {
          "base_uri": "https://localhost:8080/",
          "height": 472
        },
        "id": "-ZEgdUbkzjZ3",
        "outputId": "598a2d7e-b786-46ba-dfd9-fec1bb001f94"
      },
      "execution_count": null,
      "outputs": [
        {
          "output_type": "display_data",
          "data": {
            "text/plain": [
              "<Figure size 1800x720 with 3 Axes>"
            ],
            "image/png": "[encoded data removed]"
          },
          "metadata": {
            "needs_background": "light"
          }
        }
      ]
    },
    {
      "cell_type": "code",
      "source": [
        "sns.distplot(data['Age'])\n",
        "plt.show()"
      ],
      "metadata": {
        "colab": {
          "base_uri": "https://localhost:8080/",
          "height": 279
        },
        "id": "KGuoNfGFzlk1",
        "outputId": "9586026f-5de2-44ff-dec2-6d1f7c516431"
      },
      "execution_count": null,
      "outputs": [
        {
          "output_type": "display_data",
          "data": {
            "text/plain": [
              "<Figure size 432x288 with 1 Axes>"
            ],
            "image/png": "[encoded data removed]"
          },
          "metadata": {
            "needs_background": "light"
          }
        }
      ]
    },
    {
      "cell_type": "code",
      "source": [
        "plt.figure(figsize=(10,8))\n",
        "sns.countplot(x = 'Dx:Cancer',data =data,palette = 'viridis')\n",
        "plt.xlabel(\"DX:Cancer\",fontweight = 'bold',size=16)\n",
        "plt.show()"
      ],
      "metadata": {
        "colab": {
          "base_uri": "https://localhost:8080/",
          "height": 502
        },
        "id": "VU1lx8ZDzoKY",
        "outputId": "904aed56-cb6c-443f-9ff2-a9d2ad271cee"
      },
      "execution_count": null,
      "outputs": [
        {
          "output_type": "display_data",
          "data": {
            "text/plain": [
              "<Figure size 720x576 with 1 Axes>"
            ],
            "image/png": "[encoded data removed]"
          },
          "metadata": {
            "needs_background": "light"
          }
        }
      ]
    },
    {
      "cell_type": "code",
      "source": [
        "from sklearn.model_selection import train_test_split\n",
        "\n",
        "# to determine the chi2 value\n",
        "from sklearn.feature_selection import chi2\n",
        "# to select the features\n",
        "from sklearn.feature_selection import SelectKBest"
      ],
      "metadata": {
        "id": "LCg-B9rrzq8w"
      },
      "execution_count": null,
      "outputs": []
    },
    {
      "cell_type": "code",
      "source": [
        "# separate train and test sets\n",
        "X_train, X_test, y_train, y_test = train_test_split(\n",
        "    data.drop('Dx:Cancer',axis=1),\n",
        "    data['Dx:Cancer'],\n",
        "    test_size=0.3,\n",
        "    random_state=0)\n",
        "\n",
        "X_train.shape, X_test.shape"
      ],
      "metadata": {
        "colab": {
          "base_uri": "https://localhost:8080/"
        },
        "id": "4R1HG778zuCa",
        "outputId": "f8374149-6bb7-4061-95d9-d4ab8703a182"
      },
      "execution_count": null,
      "outputs": [
        {
          "output_type": "execute_result",
          "data": {
            "text/plain": [
              "((600, 33), (258, 33))"
            ]
          },
          "metadata": {},
          "execution_count": 31
        }
      ]
    },
    {
      "cell_type": "code",
      "source": [
        "X_train.isnull().sum()"
      ],
      "metadata": {
        "colab": {
          "base_uri": "https://localhost:8080/"
        },
        "id": "oc6zGvG4zwwK",
        "outputId": "4a76373d-69b7-4083-af29-bb6b6d915b99"
      },
      "execution_count": null,
      "outputs": [
        {
          "output_type": "execute_result",
          "data": {
            "text/plain": [
              "Age                                   0\n",
              "Number of sexual partners             0\n",
              "First sexual intercourse              0\n",
              "Num of pregnancies                    0\n",
              "Smokes                                0\n",
              "Smokes (years)                        0\n",
              "Smokes (packs/year)                   0\n",
              "Hormonal Contraceptives               0\n",
              "Hormonal Contraceptives (years)       0\n",
              "IUD                                   0\n",
              "IUD (years)                           0\n",
              "STDs                                  0\n",
              "STDs (number)                         0\n",
              "STDs:condylomatosis                   0\n",
              "STDs:cervical condylomatosis          0\n",
              "STDs:vaginal condylomatosis           0\n",
              "STDs:vulvo-perineal condylomatosis    0\n",
              "STDs:syphilis                         0\n",
              "STDs:pelvic inflammatory disease      0\n",
              "STDs:genital herpes                   0\n",
              "STDs:molluscum contagiosum            0\n",
              "STDs:AIDS                             0\n",
              "STDs:HIV                              0\n",
              "STDs:Hepatitis B                      0\n",
              "STDs:HPV                              0\n",
              "STDs: Number of diagnosis             0\n",
              "Dx:CIN                                0\n",
              "Dx:HPV                                0\n",
              "Dx                                    0\n",
              "Hinselmann                            0\n",
              "Schiller                              0\n",
              "Citology                              0\n",
              "Biopsy                                0\n",
              "dtype: int64"
            ]
          },
          "metadata": {},
          "execution_count": 32
        }
      ]
    },
    {
      "cell_type": "code",
      "source": [
        "y_train.isnull().sum()"
      ],
      "metadata": {
        "colab": {
          "base_uri": "https://localhost:8080/"
        },
        "id": "xub7G99Sz0vx",
        "outputId": "b9ddf19b-4553-4b45-a452-954aa76cdca6"
      },
      "execution_count": null,
      "outputs": [
        {
          "output_type": "execute_result",
          "data": {
            "text/plain": [
              "0"
            ]
          },
          "metadata": {},
          "execution_count": 33
        }
      ]
    },
    {
      "cell_type": "code",
      "source": [
        "# calculate the chi2 p_value between each of the variables\n",
        "# and the target\n",
        "\n",
        "# chi2 returns 2 arrays, one contains the F-Scores which are then\n",
        "# evaluated against the chi2 distribution to obtain the pvalue.\n",
        "# The pvalues are in the second array\n",
        "\n",
        "f_score = chi2(X_train.fillna(0), y_train)\n",
        "\n",
        "# the 2 arrays of values\n",
        "f_score"
      ],
      "metadata": {
        "colab": {
          "base_uri": "https://localhost:8080/"
        },
        "id": "BUST-_Qjz4Ve",
        "outputId": "933800f1-1bc6-4a4a-c75b-f5bc94610817"
      },
      "execution_count": null,
      "outputs": [
        {
          "output_type": "execute_result",
          "data": {
            "text/plain": [
              "(array([1.32935420e+01, 1.11750619e+00, 1.82970704e+00, 8.90430274e-01,\n",
              "        2.96954428e-01, 3.73948665e+01, 1.65779491e+02, 2.25611843e-02,\n",
              "        8.06216187e-01, 1.65458661e+01, 9.57520817e+01, 1.13921902e+00,\n",
              "        1.86757216e+00, 5.97623090e-01,            nan, 5.60271647e-02,\n",
              "        5.97623090e-01, 2.98811545e-01, 1.86757216e-02, 1.86757216e-02,\n",
              "                   nan,            nan, 2.61460102e-01, 1.86757216e-02,\n",
              "                   nan, 1.10186757e+00, 1.49405772e-01, 4.42885013e+02,\n",
              "        2.32038586e+02, 2.30482620e+01, 2.33471640e+01, 1.16735820e+01,\n",
              "        2.36715102e+01]),\n",
              " array([2.66321865e-04, 2.90456071e-01, 1.76162153e-01, 3.45360734e-01,\n",
              "        5.85798050e-01, 9.64757313e-10, 6.18065160e-38, 8.80603821e-01,\n",
              "        3.69241306e-01, 4.74873946e-05, 1.30209511e-22, 2.85817414e-01,\n",
              "        1.71753403e-01, 4.39486365e-01,            nan, 8.12889085e-01,\n",
              "        4.39486365e-01, 5.84628436e-01, 8.91300225e-01, 8.91300225e-01,\n",
              "                   nan,            nan, 6.09118815e-01, 8.91300225e-01,\n",
              "                   nan, 2.93856615e-01, 6.99103871e-01, 2.55012097e-98,\n",
              "        2.14175244e-52, 1.57985257e-06, 1.35242760e-06, 6.33938381e-04,\n",
              "        1.14261589e-06]))"
            ]
          },
          "metadata": {},
          "execution_count": 34
        }
      ]
    },
    {
      "cell_type": "code",
      "source": [
        "# 1) let's capture the p_values (in the second array, remember python indexes at 0) in a pandas Series\n",
        "# 2) add the variable names in the index\n",
        "# 3) order the variables based on their fscore\n",
        "\n",
        "pvalues = pd.Series(f_score[1])\n",
        "pvalues.index = X_train.columns\n",
        "pvalues.sort_values(ascending=True)"
      ],
      "metadata": {
        "colab": {
          "base_uri": "https://localhost:8080/"
        },
        "id": "rccUPV_Sz8Nc",
        "outputId": "d6f551c7-10d5-4edb-ede7-e9dbb9f44719"
      },
      "execution_count": null,
      "outputs": [
        {
          "output_type": "execute_result",
          "data": {
            "text/plain": [
              "Dx:HPV                                2.550121e-98\n",
              "Dx                                    2.141752e-52\n",
              "Smokes (packs/year)                   6.180652e-38\n",
              "IUD (years)                           1.302095e-22\n",
              "Smokes (years)                        9.647573e-10\n",
              "Biopsy                                1.142616e-06\n",
              "Schiller                              1.352428e-06\n",
              "Hinselmann                            1.579853e-06\n",
              "IUD                                   4.748739e-05\n",
              "Age                                   2.663219e-04\n",
              "Citology                              6.339384e-04\n",
              "STDs (number)                         1.717534e-01\n",
              "First sexual intercourse              1.761622e-01\n",
              "STDs                                  2.858174e-01\n",
              "Number of sexual partners             2.904561e-01\n",
              "STDs: Number of diagnosis             2.938566e-01\n",
              "Num of pregnancies                    3.453607e-01\n",
              "Hormonal Contraceptives (years)       3.692413e-01\n",
              "STDs:condylomatosis                   4.394864e-01\n",
              "STDs:vulvo-perineal condylomatosis    4.394864e-01\n",
              "STDs:syphilis                         5.846284e-01\n",
              "Smokes                                5.857981e-01\n",
              "STDs:HIV                              6.091188e-01\n",
              "Dx:CIN                                6.991039e-01\n",
              "STDs:vaginal condylomatosis           8.128891e-01\n",
              "Hormonal Contraceptives               8.806038e-01\n",
              "STDs:genital herpes                   8.913002e-01\n",
              "STDs:pelvic inflammatory disease      8.913002e-01\n",
              "STDs:Hepatitis B                      8.913002e-01\n",
              "STDs:cervical condylomatosis                   NaN\n",
              "STDs:molluscum contagiosum                     NaN\n",
              "STDs:AIDS                                      NaN\n",
              "STDs:HPV                                       NaN\n",
              "dtype: float64"
            ]
          },
          "metadata": {},
          "execution_count": 35
        }
      ]
    },
    {
      "cell_type": "code",
      "source": [
        "sel_ = SelectKBest(chi2, k=15).fit(X_train, y_train)\n",
        "\n",
        "# display features\n",
        "X_train.columns[sel_.get_support()]"
      ],
      "metadata": {
        "colab": {
          "base_uri": "https://localhost:8080/"
        },
        "id": "LF8WkLvKz__J",
        "outputId": "788404c4-9a45-482d-a389-c775cfdb6fec"
      },
      "execution_count": null,
      "outputs": [
        {
          "output_type": "execute_result",
          "data": {
            "text/plain": [
              "Index(['Age', 'Number of sexual partners', 'First sexual intercourse',\n",
              "       'Smokes (years)', 'Smokes (packs/year)', 'IUD', 'IUD (years)', 'STDs',\n",
              "       'STDs (number)', 'Dx:HPV', 'Dx', 'Hinselmann', 'Schiller', 'Citology',\n",
              "       'Biopsy'],\n",
              "      dtype='object')"
            ]
          },
          "metadata": {},
          "execution_count": 36
        }
      ]
    },
    {
      "cell_type": "code",
      "source": [
        "# to remove the rest of the features:\n",
        "\n",
        "X_train = sel_.transform(X_train)\n",
        "X_test = sel_.transform(X_test)"
      ],
      "metadata": {
        "id": "x1hRmxwr0DlP"
      },
      "execution_count": null,
      "outputs": []
    },
    {
      "cell_type": "code",
      "source": [
        "X_train.shape,X_test.shape"
      ],
      "metadata": {
        "colab": {
          "base_uri": "https://localhost:8080/"
        },
        "id": "RvM9ifxJ0Grq",
        "outputId": "29b72177-0620-46b0-c625-e642e5618e41"
      },
      "execution_count": null,
      "outputs": [
        {
          "output_type": "execute_result",
          "data": {
            "text/plain": [
              "((600, 15), (258, 15))"
            ]
          },
          "metadata": {},
          "execution_count": 38
        }
      ]
    },
    {
      "cell_type": "code",
      "source": [
        "from sklearn.preprocessing import StandardScaler\n",
        "sc = StandardScaler()\n",
        "X_train = sc.fit_transform(X_train)\n",
        "X_test = sc.transform(X_test)"
      ],
      "metadata": {
        "id": "6isvpCmc0JPO"
      },
      "execution_count": null,
      "outputs": []
    },
    {
      "cell_type": "markdown",
      "source": [
        "1) Applying Naive Bayes"
      ],
      "metadata": {
        "id": "ICyRSe0yHYTA"
      }
    },
    {
      "cell_type": "code",
      "source": [
        "from sklearn.naive_bayes import GaussianNB\n",
        "classifier = GaussianNB()\n",
        "classifier.fit(X_train, y_train)"
      ],
      "metadata": {
        "colab": {
          "base_uri": "https://localhost:8080/"
        },
        "id": "WxMADlav1GM6",
        "outputId": "94ceef14-99df-4169-c3b7-646471125c23"
      },
      "execution_count": null,
      "outputs": [
        {
          "output_type": "execute_result",
          "data": {
            "text/plain": [
              "GaussianNB()"
            ]
          },
          "metadata": {},
          "execution_count": 40
        }
      ]
    },
    {
      "cell_type": "code",
      "source": [
        "y_pred = classifier.predict(X_test)\n",
        "cm = confusion_matrix(y_test, y_pred)\n",
        "print(cm)"
      ],
      "metadata": {
        "colab": {
          "base_uri": "https://localhost:8080/"
        },
        "id": "llMQs31K2OXL",
        "outputId": "e05a0e6a-2ca2-4fc2-f15a-c4ad30bbdaac"
      },
      "execution_count": null,
      "outputs": [
        {
          "output_type": "stream",
          "name": "stdout",
          "text": [
            "[[204  47]\n",
            " [  2   5]]\n"
          ]
        }
      ]
    },
    {
      "cell_type": "code",
      "source": [
        "sns.heatmap(cm,annot=True)\n",
        "plt.show()"
      ],
      "metadata": {
        "colab": {
          "base_uri": "https://localhost:8080/",
          "height": 265
        },
        "id": "2OSN2D1F2u6l",
        "outputId": "92c7897c-ecd5-474c-ffca-c2c3e195d610"
      },
      "execution_count": null,
      "outputs": [
        {
          "output_type": "display_data",
          "data": {
            "text/plain": [
              "<Figure size 432x288 with 2 Axes>"
            ],
            "image/png": "[encoded data removed]"
          },
          "metadata": {
            "needs_background": "light"
          }
        }
      ]
    },
    {
      "cell_type": "code",
      "source": [
        "acc4 = accuracy_score(y_test, y_pred)\n",
        "print(f\"Accuracy score : {acc4}\")"
      ],
      "metadata": {
        "colab": {
          "base_uri": "https://localhost:8080/"
        },
        "id": "kb8QDMDg2237",
        "outputId": "fe367bcb-843e-496e-c0b7-aeeb1d8a5fff"
      },
      "execution_count": null,
      "outputs": [
        {
          "output_type": "stream",
          "name": "stdout",
          "text": [
            "Accuracy score : 0.810077519379845\n"
          ]
        }
      ]
    },
    {
      "cell_type": "markdown",
      "source": [
        "2) Applying XGBOOST "
      ],
      "metadata": {
        "id": "Qtu-mOyEGbII"
      }
    },
    {
      "cell_type": "code",
      "source": [
        "from xgboost import XGBClassifier\n",
        "classifier = XGBClassifier()\n",
        "classifier.fit(X_train, y_train)"
      ],
      "metadata": {
        "colab": {
          "base_uri": "https://localhost:8080/"
        },
        "id": "R3ABUUXd3MZN",
        "outputId": "4d7ff817-4a4e-43bb-ec70-f82c6f0fede3"
      },
      "execution_count": null,
      "outputs": [
        {
          "output_type": "execute_result",
          "data": {
            "text/plain": [
              "XGBClassifier()"
            ]
          },
          "metadata": {},
          "execution_count": 44
        }
      ]
    },
    {
      "cell_type": "code",
      "source": [
        "y_pred = classifier.predict(X_test)\n",
        "cm = confusion_matrix(y_test, y_pred)\n",
        "print(cm)\n",
        "acc7 = accuracy_score(y_test, y_pred)"
      ],
      "metadata": {
        "colab": {
          "base_uri": "https://localhost:8080/"
        },
        "id": "-3IUDrMa3QQP",
        "outputId": "3e522026-9ff8-4864-f41d-921623292eea"
      },
      "execution_count": null,
      "outputs": [
        {
          "output_type": "stream",
          "name": "stdout",
          "text": [
            "[[251   0]\n",
            " [  2   5]]\n"
          ]
        }
      ]
    },
    {
      "cell_type": "code",
      "source": [
        "print(f\"By XG Boost classifier Acc: {acc7}\")"
      ],
      "metadata": {
        "colab": {
          "base_uri": "https://localhost:8080/"
        },
        "id": "AqxUMx7l3T9x",
        "outputId": "6c0a78b7-232f-480a-d9d5-bd0d11bc5c11"
      },
      "execution_count": null,
      "outputs": [
        {
          "output_type": "stream",
          "name": "stdout",
          "text": [
            "By XG Boost classifier Acc: 0.9922480620155039\n"
          ]
        }
      ]
    },
    {
      "cell_type": "markdown",
      "source": [
        "3) Applying SVM"
      ],
      "metadata": {
        "id": "B6_nrY4Tr4RZ"
      }
    },
    {
      "cell_type": "code",
      "source": [
        "x_train =data.drop(['Biopsy'],axis = 1)\n",
        "x_train"
      ],
      "metadata": {
        "colab": {
          "base_uri": "https://localhost:8080/",
          "height": 540
        },
        "id": "oHO6U-y86fxx",
        "outputId": "dc4a2e78-4569-404e-b7cf-2bf52dc689e3"
      },
      "execution_count": null,
      "outputs": [
        {
          "output_type": "execute_result",
          "data": {
            "text/plain": [
              "      Age  Number of sexual partners  First sexual intercourse  \\\n",
              "0    18.0                        4.0                      15.0   \n",
              "1    15.0                        1.0                      14.0   \n",
              "2    34.0                        1.0                      15.0   \n",
              "3    52.0                        5.0                      16.0   \n",
              "4    46.0                        3.0                      21.0   \n",
              "..    ...                        ...                       ...   \n",
              "853  34.0                        3.0                      18.0   \n",
              "854  32.0                        2.0                      19.0   \n",
              "855  25.0                        2.0                      17.0   \n",
              "856  33.0                        2.0                      24.0   \n",
              "857  29.0                        2.0                      20.0   \n",
              "\n",
              "     Num of pregnancies  Smokes  Smokes (years)  Smokes (packs/year)  \\\n",
              "0                   1.0     0.0             0.0                  0.0   \n",
              "1                   1.0     0.0             0.0                  0.0   \n",
              "2                   1.0     0.0             0.0                  0.0   \n",
              "3                   4.0     1.0            37.0                 37.0   \n",
              "4                   4.0     0.0             0.0                  0.0   \n",
              "..                  ...     ...             ...                  ...   \n",
              "853                 0.0     0.0             0.0                  0.0   \n",
              "854                 1.0     0.0             0.0                  0.0   \n",
              "855                 0.0     0.0             0.0                  0.0   \n",
              "856                 2.0     0.0             0.0                  0.0   \n",
              "857                 1.0     0.0             0.0                  0.0   \n",
              "\n",
              "     Hormonal Contraceptives  Hormonal Contraceptives (years)  IUD  ...  \\\n",
              "0                        0.0                             0.00  0.0  ...   \n",
              "1                        0.0                             0.00  0.0  ...   \n",
              "2                        0.0                             0.00  0.0  ...   \n",
              "3                        1.0                             3.00  0.0  ...   \n",
              "4                        1.0                            15.00  0.0  ...   \n",
              "..                       ...                              ...  ...  ...   \n",
              "853                      0.0                             0.00  0.0  ...   \n",
              "854                      1.0                             8.00  0.0  ...   \n",
              "855                      1.0                             0.08  0.0  ...   \n",
              "856                      1.0                             0.08  0.0  ...   \n",
              "857                      1.0                             0.50  0.0  ...   \n",
              "\n",
              "     STDs:Hepatitis B  STDs:HPV  STDs: Number of diagnosis  Dx:Cancer  Dx:CIN  \\\n",
              "0                 0.0       0.0                        0.0        0.0     0.0   \n",
              "1                 0.0       0.0                        0.0        0.0     0.0   \n",
              "2                 0.0       0.0                        0.0        0.0     0.0   \n",
              "3                 0.0       0.0                        0.0        1.0     0.0   \n",
              "4                 0.0       0.0                        0.0        0.0     0.0   \n",
              "..                ...       ...                        ...        ...     ...   \n",
              "853               0.0       0.0                        0.0        0.0     0.0   \n",
              "854               0.0       0.0                        0.0        0.0     0.0   \n",
              "855               0.0       0.0                        0.0        0.0     0.0   \n",
              "856               0.0       0.0                        0.0        0.0     0.0   \n",
              "857               0.0       0.0                        0.0        0.0     0.0   \n",
              "\n",
              "     Dx:HPV   Dx  Hinselmann  Schiller  Citology  \n",
              "0       0.0  0.0         0.0       0.0       0.0  \n",
              "1       0.0  0.0         0.0       0.0       0.0  \n",
              "2       0.0  0.0         0.0       0.0       0.0  \n",
              "3       1.0  0.0         0.0       0.0       0.0  \n",
              "4       0.0  0.0         0.0       0.0       0.0  \n",
              "..      ...  ...         ...       ...       ...  \n",
              "853     0.0  0.0         0.0       0.0       0.0  \n",
              "854     0.0  0.0         0.0       0.0       0.0  \n",
              "855     0.0  0.0         0.0       0.0       1.0  \n",
              "856     0.0  0.0         0.0       0.0       0.0  \n",
              "857     0.0  0.0         0.0       0.0       0.0  \n",
              "\n",
              "[858 rows x 33 columns]"
            ],
            "text/html": [
              "\n",
              "  <div id=\"df-aa4d4b69-a05c-4519-848c-506c36e880e2\">\n",
              "    <div class=\"colab-df-container\">\n",
              "      <div>\n",
              "<style scoped>\n",
              "    .dataframe tbody tr th:only-of-type {\n",
              "        vertical-align: middle;\n",
              "    }\n",
              "\n",
              "    .dataframe tbody tr th {\n",
              "        vertical-align: top;\n",
              "    }\n",
              "\n",
              "    .dataframe thead th {\n",
              "        text-align: right;\n",
              "    }\n",
              "</style>\n",
              "<table border=\"1\" class=\"dataframe\">\n",
              "  <thead>\n",
              "    <tr style=\"text-align: right;\">\n",
              "      <th></th>\n",
              "      <th>Age</th>\n",
              "      <th>Number of sexual partners</th>\n",
              "      <th>First sexual intercourse</th>\n",
              "      <th>Num of pregnancies</th>\n",
              "      <th>Smokes</th>\n",
              "      <th>Smokes (years)</th>\n",
              "      <th>Smokes (packs/year)</th>\n",
              "      <th>Hormonal Contraceptives</th>\n",
              "      <th>Hormonal Contraceptives (years)</th>\n",
              "      <th>IUD</th>\n",
              "      <th>...</th>\n",
              "      <th>STDs:Hepatitis B</th>\n",
              "      <th>STDs:HPV</th>\n",
              "      <th>STDs: Number of diagnosis</th>\n",
              "      <th>Dx:Cancer</th>\n",
              "      <th>Dx:CIN</th>\n",
              "      <th>Dx:HPV</th>\n",
              "      <th>Dx</th>\n",
              "      <th>Hinselmann</th>\n",
              "      <th>Schiller</th>\n",
              "      <th>Citology</th>\n",
              "    </tr>\n",
              "  </thead>\n",
              "  <tbody>\n",
              "    <tr>\n",
              "      <th>0</th>\n",
              "      <td>18.0</td>\n",
              "      <td>4.0</td>\n",
              "      <td>15.0</td>\n",
              "      <td>1.0</td>\n",
              "      <td>0.0</td>\n",
              "      <td>0.0</td>\n",
              "      <td>0.0</td>\n",
              "      <td>0.0</td>\n",
              "      <td>0.00</td>\n",
              "      <td>0.0</td>\n",
              "      <td>...</td>\n",
              "      <td>0.0</td>\n",
              "      <td>0.0</td>\n",
              "      <td>0.0</td>\n",
              "      <td>0.0</td>\n",
              "      <td>0.0</td>\n",
              "      <td>0.0</td>\n",
              "      <td>0.0</td>\n",
              "      <td>0.0</td>\n",
              "      <td>0.0</td>\n",
              "      <td>0.0</td>\n",
              "    </tr>\n",
              "    <tr>\n",
              "      <th>1</th>\n",
              "      <td>15.0</td>\n",
              "      <td>1.0</td>\n",
              "      <td>14.0</td>\n",
              "      <td>1.0</td>\n",
              "      <td>0.0</td>\n",
              "      <td>0.0</td>\n",
              "      <td>0.0</td>\n",
              "      <td>0.0</td>\n",
              "      <td>0.00</td>\n",
              "      <td>0.0</td>\n",
              "      <td>...</td>\n",
              "      <td>0.0</td>\n",
              "      <td>0.0</td>\n",
              "      <td>0.0</td>\n",
              "      <td>0.0</td>\n",
              "      <td>0.0</td>\n",
              "      <td>0.0</td>\n",
              "      <td>0.0</td>\n",
              "      <td>0.0</td>\n",
              "      <td>0.0</td>\n",
              "      <td>0.0</td>\n",
              "    </tr>\n",
              "    <tr>\n",
              "      <th>2</th>\n",
              "      <td>34.0</td>\n",
              "      <td>1.0</td>\n",
              "      <td>15.0</td>\n",
              "      <td>1.0</td>\n",
              "      <td>0.0</td>\n",
              "      <td>0.0</td>\n",
              "      <td>0.0</td>\n",
              "      <td>0.0</td>\n",
              "      <td>0.00</td>\n",
              "      <td>0.0</td>\n",
              "      <td>...</td>\n",
              "      <td>0.0</td>\n",
              "      <td>0.0</td>\n",
              "      <td>0.0</td>\n",
              "      <td>0.0</td>\n",
              "      <td>0.0</td>\n",
              "      <td>0.0</td>\n",
              "      <td>0.0</td>\n",
              "      <td>0.0</td>\n",
              "      <td>0.0</td>\n",
              "      <td>0.0</td>\n",
              "    </tr>\n",
              "    <tr>\n",
              "      <th>3</th>\n",
              "      <td>52.0</td>\n",
              "      <td>5.0</td>\n",
              "      <td>16.0</td>\n",
              "      <td>4.0</td>\n",
              "      <td>1.0</td>\n",
              "      <td>37.0</td>\n",
              "      <td>37.0</td>\n",
              "      <td>1.0</td>\n",
              "      <td>3.00</td>\n",
              "      <td>0.0</td>\n",
              "      <td>...</td>\n",
              "      <td>0.0</td>\n",
              "      <td>0.0</td>\n",
              "      <td>0.0</td>\n",
              "      <td>1.0</td>\n",
              "      <td>0.0</td>\n",
              "      <td>1.0</td>\n",
              "      <td>0.0</td>\n",
              "      <td>0.0</td>\n",
              "      <td>0.0</td>\n",
              "      <td>0.0</td>\n",
              "    </tr>\n",
              "    <tr>\n",
              "      <th>4</th>\n",
              "      <td>46.0</td>\n",
              "      <td>3.0</td>\n",
              "      <td>21.0</td>\n",
              "      <td>4.0</td>\n",
              "      <td>0.0</td>\n",
              "      <td>0.0</td>\n",
              "      <td>0.0</td>\n",
              "      <td>1.0</td>\n",
              "      <td>15.00</td>\n",
              "      <td>0.0</td>\n",
              "      <td>...</td>\n",
              "      <td>0.0</td>\n",
              "      <td>0.0</td>\n",
              "      <td>0.0</td>\n",
              "      <td>0.0</td>\n",
              "      <td>0.0</td>\n",
              "      <td>0.0</td>\n",
              "      <td>0.0</td>\n",
              "      <td>0.0</td>\n",
              "      <td>0.0</td>\n",
              "      <td>0.0</td>\n",
              "    </tr>\n",
              "    <tr>\n",
              "      <th>...</th>\n",
              "      <td>...</td>\n",
              "      <td>...</td>\n",
              "      <td>...</td>\n",
              "      <td>...</td>\n",
              "      <td>...</td>\n",
              "      <td>...</td>\n",
              "      <td>...</td>\n",
              "      <td>...</td>\n",
              "      <td>...</td>\n",
              "      <td>...</td>\n",
              "      <td>...</td>\n",
              "      <td>...</td>\n",
              "      <td>...</td>\n",
              "      <td>...</td>\n",
              "      <td>...</td>\n",
              "      <td>...</td>\n",
              "      <td>...</td>\n",
              "      <td>...</td>\n",
              "      <td>...</td>\n",
              "      <td>...</td>\n",
              "      <td>...</td>\n",
              "    </tr>\n",
              "    <tr>\n",
              "      <th>853</th>\n",
              "      <td>34.0</td>\n",
              "      <td>3.0</td>\n",
              "      <td>18.0</td>\n",
              "      <td>0.0</td>\n",
              "      <td>0.0</td>\n",
              "      <td>0.0</td>\n",
              "      <td>0.0</td>\n",
              "      <td>0.0</td>\n",
              "      <td>0.00</td>\n",
              "      <td>0.0</td>\n",
              "      <td>...</td>\n",
              "      <td>0.0</td>\n",
              "      <td>0.0</td>\n",
              "      <td>0.0</td>\n",
              "      <td>0.0</td>\n",
              "      <td>0.0</td>\n",
              "      <td>0.0</td>\n",
              "      <td>0.0</td>\n",
              "      <td>0.0</td>\n",
              "      <td>0.0</td>\n",
              "      <td>0.0</td>\n",
              "    </tr>\n",
              "    <tr>\n",
              "      <th>854</th>\n",
              "      <td>32.0</td>\n",
              "      <td>2.0</td>\n",
              "      <td>19.0</td>\n",
              "      <td>1.0</td>\n",
              "      <td>0.0</td>\n",
              "      <td>0.0</td>\n",
              "      <td>0.0</td>\n",
              "      <td>1.0</td>\n",
              "      <td>8.00</td>\n",
              "      <td>0.0</td>\n",
              "      <td>...</td>\n",
              "      <td>0.0</td>\n",
              "      <td>0.0</td>\n",
              "      <td>0.0</td>\n",
              "      <td>0.0</td>\n",
              "      <td>0.0</td>\n",
              "      <td>0.0</td>\n",
              "      <td>0.0</td>\n",
              "      <td>0.0</td>\n",
              "      <td>0.0</td>\n",
              "      <td>0.0</td>\n",
              "    </tr>\n",
              "    <tr>\n",
              "      <th>855</th>\n",
              "      <td>25.0</td>\n",
              "      <td>2.0</td>\n",
              "      <td>17.0</td>\n",
              "      <td>0.0</td>\n",
              "      <td>0.0</td>\n",
              "      <td>0.0</td>\n",
              "      <td>0.0</td>\n",
              "      <td>1.0</td>\n",
              "      <td>0.08</td>\n",
              "      <td>0.0</td>\n",
              "      <td>...</td>\n",
              "      <td>0.0</td>\n",
              "      <td>0.0</td>\n",
              "      <td>0.0</td>\n",
              "      <td>0.0</td>\n",
              "      <td>0.0</td>\n",
              "      <td>0.0</td>\n",
              "      <td>0.0</td>\n",
              "      <td>0.0</td>\n",
              "      <td>0.0</td>\n",
              "      <td>1.0</td>\n",
              "    </tr>\n",
              "    <tr>\n",
              "      <th>856</th>\n",
              "      <td>33.0</td>\n",
              "      <td>2.0</td>\n",
              "      <td>24.0</td>\n",
              "      <td>2.0</td>\n",
              "      <td>0.0</td>\n",
              "      <td>0.0</td>\n",
              "      <td>0.0</td>\n",
              "      <td>1.0</td>\n",
              "      <td>0.08</td>\n",
              "      <td>0.0</td>\n",
              "      <td>...</td>\n",
              "      <td>0.0</td>\n",
              "      <td>0.0</td>\n",
              "      <td>0.0</td>\n",
              "      <td>0.0</td>\n",
              "      <td>0.0</td>\n",
              "      <td>0.0</td>\n",
              "      <td>0.0</td>\n",
              "      <td>0.0</td>\n",
              "      <td>0.0</td>\n",
              "      <td>0.0</td>\n",
              "    </tr>\n",
              "    <tr>\n",
              "      <th>857</th>\n",
              "      <td>29.0</td>\n",
              "      <td>2.0</td>\n",
              "      <td>20.0</td>\n",
              "      <td>1.0</td>\n",
              "      <td>0.0</td>\n",
              "      <td>0.0</td>\n",
              "      <td>0.0</td>\n",
              "      <td>1.0</td>\n",
              "      <td>0.50</td>\n",
              "      <td>0.0</td>\n",
              "      <td>...</td>\n",
              "      <td>0.0</td>\n",
              "      <td>0.0</td>\n",
              "      <td>0.0</td>\n",
              "      <td>0.0</td>\n",
              "      <td>0.0</td>\n",
              "      <td>0.0</td>\n",
              "      <td>0.0</td>\n",
              "      <td>0.0</td>\n",
              "      <td>0.0</td>\n",
              "      <td>0.0</td>\n",
              "    </tr>\n",
              "  </tbody>\n",
              "</table>\n",
              "<p>858 rows × 33 columns</p>\n",
              "</div>\n",
              "      <button class=\"colab-df-convert\" onclick=\"convertToInteractive('df-aa4d4b69-a05c-4519-848c-506c36e880e2')\"\n",
              "              title=\"Convert this dataframe to an interactive table.\"\n",
              "              style=\"display:none;\">\n",
              "        \n",
              "  <svg xmlns=\"http://www.w3.org/2000/svg\" height=\"24px\"viewBox=\"0 0 24 24\"\n",
              "       width=\"24px\">\n",
              "    <path d=\"M0 0h24v24H0V0z\" fill=\"none\"/>\n",
              "    <path d=\"M18.56 5.44l.94 2.06.94-2.06 2.06-.94-2.06-.94-.94-2.06-.94 2.06-2.06.94zm-11 1L8.5 8.5l.94-2.06 2.06-.94-2.06-.94L8.5 2.5l-.94 2.06-2.06.94zm10 10l.94 2.06.94-2.06 2.06-.94-2.06-.94-.94-2.06-.94 2.06-2.06.94z\"/><path d=\"M17.41 7.96l-1.37-1.37c-.4-.4-.92-.59-1.43-.59-.52 0-1.04.2-1.43.59L10.3 9.45l-7.72 7.72c-.78.78-.78 2.05 0 2.83L4 21.41c.39.39.9.59 1.41.59.51 0 1.02-.2 1.41-.59l7.78-7.78 2.81-2.81c.8-.78.8-2.07 0-2.86zM5.41 20L4 18.59l7.72-7.72 1.47 1.35L5.41 20z\"/>\n",
              "  </svg>\n",
              "      </button>\n",
              "      \n",
              "  <style>\n",
              "    .colab-df-container {\n",
              "      display:flex;\n",
              "      flex-wrap:wrap;\n",
              "      gap: 12px;\n",
              "    }\n",
              "\n",
              "    .colab-df-convert {\n",
              "      background-color: #E8F0FE;\n",
              "      border: none;\n",
              "      border-radius: 50%;\n",
              "      cursor: pointer;\n",
              "      display: none;\n",
              "      fill: #1967D2;\n",
              "      height: 32px;\n",
              "      padding: 0 0 0 0;\n",
              "      width: 32px;\n",
              "    }\n",
              "\n",
              "    .colab-df-convert:hover {\n",
              "      background-color: #E2EBFA;\n",
              "      box-shadow: 0px 1px 2px rgba(60, 64, 67, 0.3), 0px 1px 3px 1px rgba(60, 64, 67, 0.15);\n",
              "      fill: #174EA6;\n",
              "    }\n",
              "\n",
              "    [theme=dark] .colab-df-convert {\n",
              "      background-color: #3B4455;\n",
              "      fill: #D2E3FC;\n",
              "    }\n",
              "\n",
              "    [theme=dark] .colab-df-convert:hover {\n",
              "      background-color: #434B5C;\n",
              "      box-shadow: 0px 1px 3px 1px rgba(0, 0, 0, 0.15);\n",
              "      filter: drop-shadow(0px 1px 2px rgba(0, 0, 0, 0.3));\n",
              "      fill: #FFFFFF;\n",
              "    }\n",
              "  </style>\n",
              "\n",
              "      <script>\n",
              "        const buttonEl =\n",
              "          document.querySelector('#df-aa4d4b69-a05c-4519-848c-506c36e880e2 button.colab-df-convert');\n",
              "        buttonEl.style.display =\n",
              "          google.colab.kernel.accessAllowed ? 'block' : 'none';\n",
              "\n",
              "        async function convertToInteractive(key) {\n",
              "          const element = document.querySelector('#df-aa4d4b69-a05c-4519-848c-506c36e880e2');\n",
              "          const dataTable =\n",
              "            await google.colab.kernel.invokeFunction('convertToInteractive',\n",
              "                                                     [key], {});\n",
              "          if (!dataTable) return;\n",
              "\n",
              "          const docLinkHtml = 'Like what you see? Visit the ' +\n",
              "            '<a target=\"_blank\" href=https://colab.research.google.com/notebooks/data_table.ipynb>data table notebook</a>'\n",
              "            + ' to learn more about interactive tables.';\n",
              "          element.innerHTML = '';\n",
              "          dataTable['output_type'] = 'display_data';\n",
              "          await google.colab.output.renderOutput(dataTable, element);\n",
              "          const docLink = document.createElement('div');\n",
              "          docLink.innerHTML = docLinkHtml;\n",
              "          element.appendChild(docLink);\n",
              "        }\n",
              "      </script>\n",
              "    </div>\n",
              "  </div>\n",
              "  "
            ]
          },
          "metadata": {},
          "execution_count": 47
        }
      ]
    },
    {
      "cell_type": "code",
      "source": [
        "y_train =data.Biopsy \n",
        "y_train"
      ],
      "metadata": {
        "colab": {
          "base_uri": "https://localhost:8080/"
        },
        "id": "dfdbhDKP6zi9",
        "outputId": "9a383408-6051-46cc-9b9c-5648adb3c040"
      },
      "execution_count": null,
      "outputs": [
        {
          "output_type": "execute_result",
          "data": {
            "text/plain": [
              "0      0.0\n",
              "1      0.0\n",
              "2      0.0\n",
              "3      0.0\n",
              "4      0.0\n",
              "      ... \n",
              "853    0.0\n",
              "854    0.0\n",
              "855    0.0\n",
              "856    0.0\n",
              "857    0.0\n",
              "Name: Biopsy, Length: 858, dtype: float64"
            ]
          },
          "metadata": {},
          "execution_count": 48
        }
      ]
    },
    {
      "cell_type": "code",
      "source": [
        "svc = SVC(kernel='linear')\n",
        "rfecv = RFECV(estimator=svc, step=1, cv=StratifiedKFold(2), scoring='accuracy')\n",
        "rfecv.fit(x_train, y_train)\n",
        "\n",
        "print(\"Optimal number of features : %d\" % rfecv.n_features_)\n",
        "\n",
        "# Plot number of Features Vs Cross-validation scores\n",
        "plt.figure()\n",
        "plt.xlabel(\"Number of features selected\")\n",
        "plt.ylabel(\"Cross validation score (nb of correct classifications)\")\n",
        "plt.plot(range(1, len(rfecv.grid_scores_) + 1), rfecv.grid_scores_)\n",
        "plt.show()"
      ],
      "metadata": {
        "colab": {
          "base_uri": "https://localhost:8080/",
          "height": 316
        },
        "id": "5Uhp3b3Y7Cu9",
        "outputId": "d2321244-cb55-4083-a671-e163a70bc4ac"
      },
      "execution_count": null,
      "outputs": [
        {
          "output_type": "stream",
          "name": "stdout",
          "text": [
            "Optimal number of features : 1\n"
          ]
        },
        {
          "output_type": "display_data",
          "data": {
            "text/plain": [
              "<Figure size 432x288 with 1 Axes>"
            ],
            "image/png": "[encoded data removed]"
          },
          "metadata": {
            "needs_background": "light"
          }
        }
      ]
    },
    {
      "cell_type": "code",
      "source": [
        "FEATURES = list(x_train.columns[rfecv.support_])\n",
        "print('Best features :', FEATURES)"
      ],
      "metadata": {
        "colab": {
          "base_uri": "https://localhost:8080/"
        },
        "id": "mxQ_IPKB7iyx",
        "outputId": "bc50e16f-6d6b-4785-d04f-885b9928a288"
      },
      "execution_count": null,
      "outputs": [
        {
          "output_type": "stream",
          "name": "stdout",
          "text": [
            "Best features : ['Schiller']\n"
          ]
        }
      ]
    },
    {
      "cell_type": "code",
      "source": [
        "from sklearn.preprocessing import StandardScaler\n",
        "\n",
        "def preprocess(X):\n",
        "    #extracting chosen features\n",
        "    X = X[FEATURES]\n",
        "    #Standardizing Features\n",
        "    sc = StandardScaler()\n",
        "    X = sc.fit_transform(X)\n",
        "    return X\n",
        "\n",
        "x_train = preprocess(x_train)\n",
        "x_train\n"
      ],
      "metadata": {
        "colab": {
          "base_uri": "https://localhost:8080/"
        },
        "id": "6xL6hUI58WaH",
        "outputId": "2a2acedd-ab75-4066-e9b9-f293c8e41590"
      },
      "execution_count": null,
      "outputs": [
        {
          "output_type": "execute_result",
          "data": {
            "text/plain": [
              "array([[-0.3072259 ],\n",
              "       [-0.3072259 ],\n",
              "       [-0.3072259 ],\n",
              "       [-0.3072259 ],\n",
              "       [-0.3072259 ],\n",
              "       [-0.3072259 ],\n",
              "       [ 3.25493388],\n",
              "       [-0.3072259 ],\n",
              "       [-0.3072259 ],\n",
              "       [-0.3072259 ],\n",
              "       [-0.3072259 ],\n",
              "       [-0.3072259 ],\n",
              "       [-0.3072259 ],\n",
              "       [-0.3072259 ],\n",
              "       [-0.3072259 ],\n",
              "       [-0.3072259 ],\n",
              "       [-0.3072259 ],\n",
              "       [-0.3072259 ],\n",
              "       [-0.3072259 ],\n",
              "       [-0.3072259 ],\n",
              "       [-0.3072259 ],\n",
              "       [-0.3072259 ],\n",
              "       [ 3.25493388],\n",
              "       [ 3.25493388],\n",
              "       [-0.3072259 ],\n",
              "       [-0.3072259 ],\n",
              "       [-0.3072259 ],\n",
              "       [-0.3072259 ],\n",
              "       [-0.3072259 ],\n",
              "       [-0.3072259 ],\n",
              "       [-0.3072259 ],\n",
              "       [-0.3072259 ],\n",
              "       [-0.3072259 ],\n",
              "       [-0.3072259 ],\n",
              "       [ 3.25493388],\n",
              "       [-0.3072259 ],\n",
              "       [-0.3072259 ],\n",
              "       [-0.3072259 ],\n",
              "       [-0.3072259 ],\n",
              "       [-0.3072259 ],\n",
              "       [-0.3072259 ],\n",
              "       [ 3.25493388],\n",
              "       [-0.3072259 ],\n",
              "       [-0.3072259 ],\n",
              "       [ 3.25493388],\n",
              "       [-0.3072259 ],\n",
              "       [-0.3072259 ],\n",
              "       [-0.3072259 ],\n",
              "       [-0.3072259 ],\n",
              "       [-0.3072259 ],\n",
              "       [-0.3072259 ],\n",
              "       [-0.3072259 ],\n",
              "       [-0.3072259 ],\n",
              "       [-0.3072259 ],\n",
              "       [-0.3072259 ],\n",
              "       [-0.3072259 ],\n",
              "       [-0.3072259 ],\n",
              "       [ 3.25493388],\n",
              "       [ 3.25493388],\n",
              "       [-0.3072259 ],\n",
              "       [-0.3072259 ],\n",
              "       [-0.3072259 ],\n",
              "       [-0.3072259 ],\n",
              "       [-0.3072259 ],\n",
              "       [ 3.25493388],\n",
              "       [-0.3072259 ],\n",
              "       [-0.3072259 ],\n",
              "       [-0.3072259 ],\n",
              "       [-0.3072259 ],\n",
              "       [-0.3072259 ],\n",
              "       [-0.3072259 ],\n",
              "       [-0.3072259 ],\n",
              "       [-0.3072259 ],\n",
              "       [-0.3072259 ],\n",
              "       [-0.3072259 ],\n",
              "       [-0.3072259 ],\n",
              "       [-0.3072259 ],\n",
              "       [-0.3072259 ],\n",
              "       [ 3.25493388],\n",
              "       [-0.3072259 ],\n",
              "       [-0.3072259 ],\n",
              "       [-0.3072259 ],\n",
              "       [-0.3072259 ],\n",
              "       [-0.3072259 ],\n",
              "       [-0.3072259 ],\n",
              "       [-0.3072259 ],\n",
              "       [-0.3072259 ],\n",
              "       [-0.3072259 ],\n",
              "       [-0.3072259 ],\n",
              "       [-0.3072259 ],\n",
              "       [-0.3072259 ],\n",
              "       [-0.3072259 ],\n",
              "       [-0.3072259 ],\n",
              "       [ 3.25493388],\n",
              "       [-0.3072259 ],\n",
              "       [-0.3072259 ],\n",
              "       [ 3.25493388],\n",
              "       [-0.3072259 ],\n",
              "       [-0.3072259 ],\n",
              "       [-0.3072259 ],\n",
              "       [-0.3072259 ],\n",
              "       [-0.3072259 ],\n",
              "       [-0.3072259 ],\n",
              "       [ 3.25493388],\n",
              "       [-0.3072259 ],\n",
              "       [-0.3072259 ],\n",
              "       [-0.3072259 ],\n",
              "       [-0.3072259 ],\n",
              "       [-0.3072259 ],\n",
              "       [-0.3072259 ],\n",
              "       [-0.3072259 ],\n",
              "       [-0.3072259 ],\n",
              "       [-0.3072259 ],\n",
              "       [-0.3072259 ],\n",
              "       [-0.3072259 ],\n",
              "       [-0.3072259 ],\n",
              "       [-0.3072259 ],\n",
              "       [-0.3072259 ],\n",
              "       [-0.3072259 ],\n",
              "       [-0.3072259 ],\n",
              "       [-0.3072259 ],\n",
              "       [-0.3072259 ],\n",
              "       [-0.3072259 ],\n",
              "       [-0.3072259 ],\n",
              "       [-0.3072259 ],\n",
              "       [-0.3072259 ],\n",
              "       [-0.3072259 ],\n",
              "       [-0.3072259 ],\n",
              "       [-0.3072259 ],\n",
              "       [-0.3072259 ],\n",
              "       [-0.3072259 ],\n",
              "       [ 3.25493388],\n",
              "       [-0.3072259 ],\n",
              "       [-0.3072259 ],\n",
              "       [-0.3072259 ],\n",
              "       [-0.3072259 ],\n",
              "       [-0.3072259 ],\n",
              "       [-0.3072259 ],\n",
              "       [-0.3072259 ],\n",
              "       [-0.3072259 ],\n",
              "       [-0.3072259 ],\n",
              "       [-0.3072259 ],\n",
              "       [-0.3072259 ],\n",
              "       [-0.3072259 ],\n",
              "       [-0.3072259 ],\n",
              "       [-0.3072259 ],\n",
              "       [-0.3072259 ],\n",
              "       [-0.3072259 ],\n",
              "       [-0.3072259 ],\n",
              "       [-0.3072259 ],\n",
              "       [-0.3072259 ],\n",
              "       [-0.3072259 ],\n",
              "       [ 3.25493388],\n",
              "       [-0.3072259 ],\n",
              "       [-0.3072259 ],\n",
              "       [-0.3072259 ],\n",
              "       [-0.3072259 ],\n",
              "       [-0.3072259 ],\n",
              "       [-0.3072259 ],\n",
              "       [-0.3072259 ],\n",
              "       [-0.3072259 ],\n",
              "       [-0.3072259 ],\n",
              "       [-0.3072259 ],\n",
              "       [-0.3072259 ],\n",
              "       [-0.3072259 ],\n",
              "       [-0.3072259 ],\n",
              "       [-0.3072259 ],\n",
              "       [-0.3072259 ],\n",
              "       [-0.3072259 ],\n",
              "       [-0.3072259 ],\n",
              "       [-0.3072259 ],\n",
              "       [-0.3072259 ],\n",
              "       [-0.3072259 ],\n",
              "       [-0.3072259 ],\n",
              "       [-0.3072259 ],\n",
              "       [-0.3072259 ],\n",
              "       [-0.3072259 ],\n",
              "       [-0.3072259 ],\n",
              "       [-0.3072259 ],\n",
              "       [-0.3072259 ],\n",
              "       [-0.3072259 ],\n",
              "       [-0.3072259 ],\n",
              "       [-0.3072259 ],\n",
              "       [-0.3072259 ],\n",
              "       [-0.3072259 ],\n",
              "       [ 3.25493388],\n",
              "       [-0.3072259 ],\n",
              "       [-0.3072259 ],\n",
              "       [-0.3072259 ],\n",
              "       [-0.3072259 ],\n",
              "       [-0.3072259 ],\n",
              "       [ 3.25493388],\n",
              "       [-0.3072259 ],\n",
              "       [-0.3072259 ],\n",
              "       [-0.3072259 ],\n",
              "       [-0.3072259 ],\n",
              "       [-0.3072259 ],\n",
              "       [-0.3072259 ],\n",
              "       [-0.3072259 ],\n",
              "       [-0.3072259 ],\n",
              "       [-0.3072259 ],\n",
              "       [-0.3072259 ],\n",
              "       [-0.3072259 ],\n",
              "       [ 3.25493388],\n",
              "       [-0.3072259 ],\n",
              "       [ 3.25493388],\n",
              "       [-0.3072259 ],\n",
              "       [-0.3072259 ],\n",
              "       [-0.3072259 ],\n",
              "       [-0.3072259 ],\n",
              "       [-0.3072259 ],\n",
              "       [-0.3072259 ],\n",
              "       [-0.3072259 ],\n",
              "       [-0.3072259 ],\n",
              "       [ 3.25493388],\n",
              "       [-0.3072259 ],\n",
              "       [ 3.25493388],\n",
              "       [-0.3072259 ],\n",
              "       [-0.3072259 ],\n",
              "       [-0.3072259 ],\n",
              "       [-0.3072259 ],\n",
              "       [-0.3072259 ],\n",
              "       [-0.3072259 ],\n",
              "       [-0.3072259 ],\n",
              "       [ 3.25493388],\n",
              "       [-0.3072259 ],\n",
              "       [-0.3072259 ],\n",
              "       [ 3.25493388],\n",
              "       [-0.3072259 ],\n",
              "       [-0.3072259 ],\n",
              "       [-0.3072259 ],\n",
              "       [-0.3072259 ],\n",
              "       [-0.3072259 ],\n",
              "       [-0.3072259 ],\n",
              "       [-0.3072259 ],\n",
              "       [-0.3072259 ],\n",
              "       [-0.3072259 ],\n",
              "       [-0.3072259 ],\n",
              "       [-0.3072259 ],\n",
              "       [-0.3072259 ],\n",
              "       [-0.3072259 ],\n",
              "       [-0.3072259 ],\n",
              "       [-0.3072259 ],\n",
              "       [-0.3072259 ],\n",
              "       [-0.3072259 ],\n",
              "       [-0.3072259 ],\n",
              "       [-0.3072259 ],\n",
              "       [-0.3072259 ],\n",
              "       [-0.3072259 ],\n",
              "       [-0.3072259 ],\n",
              "       [-0.3072259 ],\n",
              "       [ 3.25493388],\n",
              "       [-0.3072259 ],\n",
              "       [-0.3072259 ],\n",
              "       [-0.3072259 ],\n",
              "       [-0.3072259 ],\n",
              "       [-0.3072259 ],\n",
              "       [ 3.25493388],\n",
              "       [-0.3072259 ],\n",
              "       [-0.3072259 ],\n",
              "       [-0.3072259 ],\n",
              "       [-0.3072259 ],\n",
              "       [-0.3072259 ],\n",
              "       [-0.3072259 ],\n",
              "       [ 3.25493388],\n",
              "       [-0.3072259 ],\n",
              "       [-0.3072259 ],\n",
              "       [-0.3072259 ],\n",
              "       [-0.3072259 ],\n",
              "       [-0.3072259 ],\n",
              "       [-0.3072259 ],\n",
              "       [-0.3072259 ],\n",
              "       [-0.3072259 ],\n",
              "       [-0.3072259 ],\n",
              "       [-0.3072259 ],\n",
              "       [ 3.25493388],\n",
              "       [-0.3072259 ],\n",
              "       [-0.3072259 ],\n",
              "       [-0.3072259 ],\n",
              "       [-0.3072259 ],\n",
              "       [-0.3072259 ],\n",
              "       [-0.3072259 ],\n",
              "       [-0.3072259 ],\n",
              "       [-0.3072259 ],\n",
              "       [-0.3072259 ],\n",
              "       [-0.3072259 ],\n",
              "       [-0.3072259 ],\n",
              "       [-0.3072259 ],\n",
              "       [-0.3072259 ],\n",
              "       [-0.3072259 ],\n",
              "       [-0.3072259 ],\n",
              "       [-0.3072259 ],\n",
              "       [-0.3072259 ],\n",
              "       [-0.3072259 ],\n",
              "       [-0.3072259 ],\n",
              "       [-0.3072259 ],\n",
              "       [-0.3072259 ],\n",
              "       [-0.3072259 ],\n",
              "       [-0.3072259 ],\n",
              "       [-0.3072259 ],\n",
              "       [-0.3072259 ],\n",
              "       [-0.3072259 ],\n",
              "       [-0.3072259 ],\n",
              "       [-0.3072259 ],\n",
              "       [-0.3072259 ],\n",
              "       [-0.3072259 ],\n",
              "       [-0.3072259 ],\n",
              "       [-0.3072259 ],\n",
              "       [-0.3072259 ],\n",
              "       [-0.3072259 ],\n",
              "       [-0.3072259 ],\n",
              "       [-0.3072259 ],\n",
              "       [-0.3072259 ],\n",
              "       [-0.3072259 ],\n",
              "       [ 3.25493388],\n",
              "       [-0.3072259 ],\n",
              "       [-0.3072259 ],\n",
              "       [-0.3072259 ],\n",
              "       [-0.3072259 ],\n",
              "       [-0.3072259 ],\n",
              "       [ 3.25493388],\n",
              "       [-0.3072259 ],\n",
              "       [-0.3072259 ],\n",
              "       [-0.3072259 ],\n",
              "       [-0.3072259 ],\n",
              "       [-0.3072259 ],\n",
              "       [-0.3072259 ],\n",
              "       [-0.3072259 ],\n",
              "       [-0.3072259 ],\n",
              "       [-0.3072259 ],\n",
              "       [-0.3072259 ],\n",
              "       [-0.3072259 ],\n",
              "       [-0.3072259 ],\n",
              "       [-0.3072259 ],\n",
              "       [-0.3072259 ],\n",
              "       [ 3.25493388],\n",
              "       [-0.3072259 ],\n",
              "       [-0.3072259 ],\n",
              "       [-0.3072259 ],\n",
              "       [-0.3072259 ],\n",
              "       [-0.3072259 ],\n",
              "       [-0.3072259 ],\n",
              "       [-0.3072259 ],\n",
              "       [-0.3072259 ],\n",
              "       [-0.3072259 ],\n",
              "       [ 3.25493388],\n",
              "       [-0.3072259 ],\n",
              "       [-0.3072259 ],\n",
              "       [-0.3072259 ],\n",
              "       [-0.3072259 ],\n",
              "       [-0.3072259 ],\n",
              "       [-0.3072259 ],\n",
              "       [-0.3072259 ],\n",
              "       [-0.3072259 ],\n",
              "       [ 3.25493388],\n",
              "       [-0.3072259 ],\n",
              "       [-0.3072259 ],\n",
              "       [-0.3072259 ],\n",
              "       [-0.3072259 ],\n",
              "       [-0.3072259 ],\n",
              "       [-0.3072259 ],\n",
              "       [-0.3072259 ],\n",
              "       [-0.3072259 ],\n",
              "       [-0.3072259 ],\n",
              "       [-0.3072259 ],\n",
              "       [-0.3072259 ],\n",
              "       [-0.3072259 ],\n",
              "       [-0.3072259 ],\n",
              "       [-0.3072259 ],\n",
              "       [-0.3072259 ],\n",
              "       [ 3.25493388],\n",
              "       [-0.3072259 ],\n",
              "       [-0.3072259 ],\n",
              "       [-0.3072259 ],\n",
              "       [-0.3072259 ],\n",
              "       [-0.3072259 ],\n",
              "       [-0.3072259 ],\n",
              "       [-0.3072259 ],\n",
              "       [-0.3072259 ],\n",
              "       [-0.3072259 ],\n",
              "       [-0.3072259 ],\n",
              "       [-0.3072259 ],\n",
              "       [-0.3072259 ],\n",
              "       [ 3.25493388],\n",
              "       [-0.3072259 ],\n",
              "       [ 3.25493388],\n",
              "       [-0.3072259 ],\n",
              "       [-0.3072259 ],\n",
              "       [-0.3072259 ],\n",
              "       [-0.3072259 ],\n",
              "       [-0.3072259 ],\n",
              "       [-0.3072259 ],\n",
              "       [-0.3072259 ],\n",
              "       [-0.3072259 ],\n",
              "       [-0.3072259 ],\n",
              "       [-0.3072259 ],\n",
              "       [-0.3072259 ],\n",
              "       [-0.3072259 ],\n",
              "       [-0.3072259 ],\n",
              "       [-0.3072259 ],\n",
              "       [-0.3072259 ],\n",
              "       [-0.3072259 ],\n",
              "       [-0.3072259 ],\n",
              "       [-0.3072259 ],\n",
              "       [-0.3072259 ],\n",
              "       [-0.3072259 ],\n",
              "       [-0.3072259 ],\n",
              "       [ 3.25493388],\n",
              "       [-0.3072259 ],\n",
              "       [-0.3072259 ],\n",
              "       [-0.3072259 ],\n",
              "       [ 3.25493388],\n",
              "       [-0.3072259 ],\n",
              "       [-0.3072259 ],\n",
              "       [-0.3072259 ],\n",
              "       [-0.3072259 ],\n",
              "       [-0.3072259 ],\n",
              "       [-0.3072259 ],\n",
              "       [-0.3072259 ],\n",
              "       [-0.3072259 ],\n",
              "       [-0.3072259 ],\n",
              "       [ 3.25493388],\n",
              "       [-0.3072259 ],\n",
              "       [-0.3072259 ],\n",
              "       [-0.3072259 ],\n",
              "       [-0.3072259 ],\n",
              "       [-0.3072259 ],\n",
              "       [-0.3072259 ],\n",
              "       [-0.3072259 ],\n",
              "       [-0.3072259 ],\n",
              "       [-0.3072259 ],\n",
              "       [-0.3072259 ],\n",
              "       [-0.3072259 ],\n",
              "       [ 3.25493388],\n",
              "       [-0.3072259 ],\n",
              "       [-0.3072259 ],\n",
              "       [-0.3072259 ],\n",
              "       [-0.3072259 ],\n",
              "       [-0.3072259 ],\n",
              "       [-0.3072259 ],\n",
              "       [-0.3072259 ],\n",
              "       [-0.3072259 ],\n",
              "       [-0.3072259 ],\n",
              "       [-0.3072259 ],\n",
              "       [-0.3072259 ],\n",
              "       [-0.3072259 ],\n",
              "       [-0.3072259 ],\n",
              "       [-0.3072259 ],\n",
              "       [-0.3072259 ],\n",
              "       [-0.3072259 ],\n",
              "       [-0.3072259 ],\n",
              "       [-0.3072259 ],\n",
              "       [-0.3072259 ],\n",
              "       [-0.3072259 ],\n",
              "       [-0.3072259 ],\n",
              "       [-0.3072259 ],\n",
              "       [-0.3072259 ],\n",
              "       [-0.3072259 ],\n",
              "       [-0.3072259 ],\n",
              "       [-0.3072259 ],\n",
              "       [-0.3072259 ],\n",
              "       [-0.3072259 ],\n",
              "       [-0.3072259 ],\n",
              "       [-0.3072259 ],\n",
              "       [ 3.25493388],\n",
              "       [-0.3072259 ],\n",
              "       [-0.3072259 ],\n",
              "       [-0.3072259 ],\n",
              "       [-0.3072259 ],\n",
              "       [-0.3072259 ],\n",
              "       [-0.3072259 ],\n",
              "       [-0.3072259 ],\n",
              "       [ 3.25493388],\n",
              "       [-0.3072259 ],\n",
              "       [-0.3072259 ],\n",
              "       [-0.3072259 ],\n",
              "       [-0.3072259 ],\n",
              "       [-0.3072259 ],\n",
              "       [-0.3072259 ],\n",
              "       [-0.3072259 ],\n",
              "       [-0.3072259 ],\n",
              "       [-0.3072259 ],\n",
              "       [ 3.25493388],\n",
              "       [-0.3072259 ],\n",
              "       [-0.3072259 ],\n",
              "       [-0.3072259 ],\n",
              "       [-0.3072259 ],\n",
              "       [-0.3072259 ],\n",
              "       [-0.3072259 ],\n",
              "       [-0.3072259 ],\n",
              "       [-0.3072259 ],\n",
              "       [-0.3072259 ],\n",
              "       [-0.3072259 ],\n",
              "       [-0.3072259 ],\n",
              "       [-0.3072259 ],\n",
              "       [-0.3072259 ],\n",
              "       [ 3.25493388],\n",
              "       [-0.3072259 ],\n",
              "       [-0.3072259 ],\n",
              "       [-0.3072259 ],\n",
              "       [-0.3072259 ],\n",
              "       [-0.3072259 ],\n",
              "       [-0.3072259 ],\n",
              "       [-0.3072259 ],\n",
              "       [-0.3072259 ],\n",
              "       [-0.3072259 ],\n",
              "       [-0.3072259 ],\n",
              "       [-0.3072259 ],\n",
              "       [-0.3072259 ],\n",
              "       [-0.3072259 ],\n",
              "       [-0.3072259 ],\n",
              "       [-0.3072259 ],\n",
              "       [-0.3072259 ],\n",
              "       [-0.3072259 ],\n",
              "       [-0.3072259 ],\n",
              "       [-0.3072259 ],\n",
              "       [-0.3072259 ],\n",
              "       [-0.3072259 ],\n",
              "       [-0.3072259 ],\n",
              "       [-0.3072259 ],\n",
              "       [-0.3072259 ],\n",
              "       [-0.3072259 ],\n",
              "       [-0.3072259 ],\n",
              "       [-0.3072259 ],\n",
              "       [-0.3072259 ],\n",
              "       [-0.3072259 ],\n",
              "       [-0.3072259 ],\n",
              "       [-0.3072259 ],\n",
              "       [-0.3072259 ],\n",
              "       [-0.3072259 ],\n",
              "       [ 3.25493388],\n",
              "       [-0.3072259 ],\n",
              "       [-0.3072259 ],\n",
              "       [-0.3072259 ],\n",
              "       [-0.3072259 ],\n",
              "       [-0.3072259 ],\n",
              "       [-0.3072259 ],\n",
              "       [-0.3072259 ],\n",
              "       [-0.3072259 ],\n",
              "       [ 3.25493388],\n",
              "       [-0.3072259 ],\n",
              "       [-0.3072259 ],\n",
              "       [-0.3072259 ],\n",
              "       [-0.3072259 ],\n",
              "       [-0.3072259 ],\n",
              "       [-0.3072259 ],\n",
              "       [-0.3072259 ],\n",
              "       [-0.3072259 ],\n",
              "       [-0.3072259 ],\n",
              "       [ 3.25493388],\n",
              "       [-0.3072259 ],\n",
              "       [-0.3072259 ],\n",
              "       [-0.3072259 ],\n",
              "       [-0.3072259 ],\n",
              "       [-0.3072259 ],\n",
              "       [-0.3072259 ],\n",
              "       [-0.3072259 ],\n",
              "       [-0.3072259 ],\n",
              "       [-0.3072259 ],\n",
              "       [-0.3072259 ],\n",
              "       [-0.3072259 ],\n",
              "       [-0.3072259 ],\n",
              "       [-0.3072259 ],\n",
              "       [-0.3072259 ],\n",
              "       [-0.3072259 ],\n",
              "       [-0.3072259 ],\n",
              "       [-0.3072259 ],\n",
              "       [-0.3072259 ],\n",
              "       [-0.3072259 ],\n",
              "       [-0.3072259 ],\n",
              "       [-0.3072259 ],\n",
              "       [-0.3072259 ],\n",
              "       [-0.3072259 ],\n",
              "       [-0.3072259 ],\n",
              "       [-0.3072259 ],\n",
              "       [-0.3072259 ],\n",
              "       [-0.3072259 ],\n",
              "       [ 3.25493388],\n",
              "       [ 3.25493388],\n",
              "       [-0.3072259 ],\n",
              "       [-0.3072259 ],\n",
              "       [-0.3072259 ],\n",
              "       [-0.3072259 ],\n",
              "       [-0.3072259 ],\n",
              "       [-0.3072259 ],\n",
              "       [-0.3072259 ],\n",
              "       [-0.3072259 ],\n",
              "       [-0.3072259 ],\n",
              "       [-0.3072259 ],\n",
              "       [-0.3072259 ],\n",
              "       [-0.3072259 ],\n",
              "       [-0.3072259 ],\n",
              "       [-0.3072259 ],\n",
              "       [-0.3072259 ],\n",
              "       [-0.3072259 ],\n",
              "       [-0.3072259 ],\n",
              "       [-0.3072259 ],\n",
              "       [-0.3072259 ],\n",
              "       [ 3.25493388],\n",
              "       [-0.3072259 ],\n",
              "       [-0.3072259 ],\n",
              "       [-0.3072259 ],\n",
              "       [-0.3072259 ],\n",
              "       [-0.3072259 ],\n",
              "       [-0.3072259 ],\n",
              "       [-0.3072259 ],\n",
              "       [-0.3072259 ],\n",
              "       [-0.3072259 ],\n",
              "       [-0.3072259 ],\n",
              "       [-0.3072259 ],\n",
              "       [ 3.25493388],\n",
              "       [-0.3072259 ],\n",
              "       [-0.3072259 ],\n",
              "       [-0.3072259 ],\n",
              "       [ 3.25493388],\n",
              "       [-0.3072259 ],\n",
              "       [-0.3072259 ],\n",
              "       [-0.3072259 ],\n",
              "       [-0.3072259 ],\n",
              "       [-0.3072259 ],\n",
              "       [-0.3072259 ],\n",
              "       [-0.3072259 ],\n",
              "       [-0.3072259 ],\n",
              "       [-0.3072259 ],\n",
              "       [-0.3072259 ],\n",
              "       [-0.3072259 ],\n",
              "       [-0.3072259 ],\n",
              "       [-0.3072259 ],\n",
              "       [-0.3072259 ],\n",
              "       [-0.3072259 ],\n",
              "       [-0.3072259 ],\n",
              "       [-0.3072259 ],\n",
              "       [-0.3072259 ],\n",
              "       [-0.3072259 ],\n",
              "       [-0.3072259 ],\n",
              "       [-0.3072259 ],\n",
              "       [-0.3072259 ],\n",
              "       [-0.3072259 ],\n",
              "       [-0.3072259 ],\n",
              "       [-0.3072259 ],\n",
              "       [-0.3072259 ],\n",
              "       [-0.3072259 ],\n",
              "       [-0.3072259 ],\n",
              "       [-0.3072259 ],\n",
              "       [ 3.25493388],\n",
              "       [-0.3072259 ],\n",
              "       [ 3.25493388],\n",
              "       [-0.3072259 ],\n",
              "       [-0.3072259 ],\n",
              "       [-0.3072259 ],\n",
              "       [-0.3072259 ],\n",
              "       [-0.3072259 ],\n",
              "       [-0.3072259 ],\n",
              "       [-0.3072259 ],\n",
              "       [-0.3072259 ],\n",
              "       [-0.3072259 ],\n",
              "       [-0.3072259 ],\n",
              "       [-0.3072259 ],\n",
              "       [-0.3072259 ],\n",
              "       [-0.3072259 ],\n",
              "       [-0.3072259 ],\n",
              "       [-0.3072259 ],\n",
              "       [-0.3072259 ],\n",
              "       [-0.3072259 ],\n",
              "       [ 3.25493388],\n",
              "       [-0.3072259 ],\n",
              "       [-0.3072259 ],\n",
              "       [-0.3072259 ],\n",
              "       [ 3.25493388],\n",
              "       [ 3.25493388],\n",
              "       [ 3.25493388],\n",
              "       [ 3.25493388],\n",
              "       [-0.3072259 ],\n",
              "       [ 3.25493388],\n",
              "       [-0.3072259 ],\n",
              "       [-0.3072259 ],\n",
              "       [-0.3072259 ],\n",
              "       [-0.3072259 ],\n",
              "       [-0.3072259 ],\n",
              "       [-0.3072259 ],\n",
              "       [-0.3072259 ],\n",
              "       [-0.3072259 ],\n",
              "       [-0.3072259 ],\n",
              "       [-0.3072259 ],\n",
              "       [-0.3072259 ],\n",
              "       [-0.3072259 ],\n",
              "       [ 3.25493388],\n",
              "       [ 3.25493388],\n",
              "       [ 3.25493388],\n",
              "       [-0.3072259 ],\n",
              "       [-0.3072259 ],\n",
              "       [ 3.25493388],\n",
              "       [-0.3072259 ],\n",
              "       [ 3.25493388],\n",
              "       [-0.3072259 ],\n",
              "       [-0.3072259 ],\n",
              "       [-0.3072259 ],\n",
              "       [-0.3072259 ],\n",
              "       [-0.3072259 ],\n",
              "       [-0.3072259 ],\n",
              "       [-0.3072259 ],\n",
              "       [-0.3072259 ],\n",
              "       [-0.3072259 ],\n",
              "       [-0.3072259 ],\n",
              "       [ 3.25493388],\n",
              "       [-0.3072259 ],\n",
              "       [-0.3072259 ],\n",
              "       [-0.3072259 ],\n",
              "       [-0.3072259 ],\n",
              "       [-0.3072259 ],\n",
              "       [-0.3072259 ],\n",
              "       [-0.3072259 ],\n",
              "       [-0.3072259 ],\n",
              "       [-0.3072259 ],\n",
              "       [-0.3072259 ],\n",
              "       [-0.3072259 ],\n",
              "       [-0.3072259 ],\n",
              "       [-0.3072259 ],\n",
              "       [-0.3072259 ],\n",
              "       [ 3.25493388],\n",
              "       [-0.3072259 ],\n",
              "       [-0.3072259 ],\n",
              "       [-0.3072259 ],\n",
              "       [-0.3072259 ],\n",
              "       [-0.3072259 ],\n",
              "       [-0.3072259 ],\n",
              "       [-0.3072259 ],\n",
              "       [-0.3072259 ],\n",
              "       [-0.3072259 ],\n",
              "       [-0.3072259 ],\n",
              "       [-0.3072259 ],\n",
              "       [-0.3072259 ],\n",
              "       [-0.3072259 ],\n",
              "       [-0.3072259 ],\n",
              "       [-0.3072259 ],\n",
              "       [-0.3072259 ],\n",
              "       [-0.3072259 ],\n",
              "       [-0.3072259 ],\n",
              "       [-0.3072259 ],\n",
              "       [ 3.25493388],\n",
              "       [-0.3072259 ],\n",
              "       [-0.3072259 ],\n",
              "       [-0.3072259 ],\n",
              "       [-0.3072259 ],\n",
              "       [-0.3072259 ],\n",
              "       [-0.3072259 ],\n",
              "       [-0.3072259 ],\n",
              "       [-0.3072259 ],\n",
              "       [-0.3072259 ],\n",
              "       [-0.3072259 ],\n",
              "       [ 3.25493388],\n",
              "       [-0.3072259 ],\n",
              "       [-0.3072259 ],\n",
              "       [ 3.25493388],\n",
              "       [ 3.25493388],\n",
              "       [-0.3072259 ],\n",
              "       [ 3.25493388],\n",
              "       [-0.3072259 ],\n",
              "       [-0.3072259 ],\n",
              "       [-0.3072259 ],\n",
              "       [-0.3072259 ],\n",
              "       [-0.3072259 ],\n",
              "       [-0.3072259 ],\n",
              "       [-0.3072259 ],\n",
              "       [-0.3072259 ],\n",
              "       [-0.3072259 ],\n",
              "       [-0.3072259 ],\n",
              "       [-0.3072259 ],\n",
              "       [-0.3072259 ],\n",
              "       [-0.3072259 ],\n",
              "       [-0.3072259 ],\n",
              "       [-0.3072259 ],\n",
              "       [-0.3072259 ],\n",
              "       [-0.3072259 ],\n",
              "       [-0.3072259 ],\n",
              "       [-0.3072259 ],\n",
              "       [-0.3072259 ],\n",
              "       [-0.3072259 ],\n",
              "       [-0.3072259 ],\n",
              "       [-0.3072259 ],\n",
              "       [-0.3072259 ],\n",
              "       [ 3.25493388],\n",
              "       [-0.3072259 ],\n",
              "       [-0.3072259 ],\n",
              "       [-0.3072259 ],\n",
              "       [-0.3072259 ],\n",
              "       [ 3.25493388],\n",
              "       [-0.3072259 ],\n",
              "       [-0.3072259 ],\n",
              "       [-0.3072259 ],\n",
              "       [-0.3072259 ],\n",
              "       [-0.3072259 ],\n",
              "       [-0.3072259 ],\n",
              "       [-0.3072259 ],\n",
              "       [-0.3072259 ],\n",
              "       [-0.3072259 ],\n",
              "       [-0.3072259 ],\n",
              "       [ 3.25493388],\n",
              "       [-0.3072259 ],\n",
              "       [-0.3072259 ],\n",
              "       [-0.3072259 ],\n",
              "       [-0.3072259 ],\n",
              "       [-0.3072259 ],\n",
              "       [-0.3072259 ],\n",
              "       [-0.3072259 ],\n",
              "       [-0.3072259 ],\n",
              "       [-0.3072259 ],\n",
              "       [-0.3072259 ],\n",
              "       [-0.3072259 ],\n",
              "       [-0.3072259 ],\n",
              "       [-0.3072259 ],\n",
              "       [-0.3072259 ],\n",
              "       [-0.3072259 ],\n",
              "       [-0.3072259 ],\n",
              "       [-0.3072259 ],\n",
              "       [-0.3072259 ],\n",
              "       [-0.3072259 ],\n",
              "       [-0.3072259 ],\n",
              "       [-0.3072259 ],\n",
              "       [-0.3072259 ],\n",
              "       [-0.3072259 ],\n",
              "       [-0.3072259 ],\n",
              "       [-0.3072259 ],\n",
              "       [-0.3072259 ],\n",
              "       [-0.3072259 ],\n",
              "       [-0.3072259 ],\n",
              "       [-0.3072259 ],\n",
              "       [-0.3072259 ],\n",
              "       [-0.3072259 ],\n",
              "       [-0.3072259 ],\n",
              "       [-0.3072259 ],\n",
              "       [-0.3072259 ],\n",
              "       [-0.3072259 ],\n",
              "       [-0.3072259 ],\n",
              "       [-0.3072259 ],\n",
              "       [-0.3072259 ],\n",
              "       [-0.3072259 ],\n",
              "       [-0.3072259 ],\n",
              "       [-0.3072259 ],\n",
              "       [-0.3072259 ],\n",
              "       [-0.3072259 ],\n",
              "       [-0.3072259 ],\n",
              "       [-0.3072259 ],\n",
              "       [-0.3072259 ],\n",
              "       [-0.3072259 ],\n",
              "       [-0.3072259 ],\n",
              "       [-0.3072259 ],\n",
              "       [-0.3072259 ],\n",
              "       [-0.3072259 ],\n",
              "       [-0.3072259 ],\n",
              "       [-0.3072259 ],\n",
              "       [-0.3072259 ],\n",
              "       [-0.3072259 ],\n",
              "       [-0.3072259 ],\n",
              "       [-0.3072259 ],\n",
              "       [-0.3072259 ],\n",
              "       [-0.3072259 ],\n",
              "       [-0.3072259 ]])"
            ]
          },
          "metadata": {},
          "execution_count": 51
        }
      ]
    },
    {
      "cell_type": "code",
      "source": [
        "from sklearn.svm import SVC\n",
        "\n",
        "SV = SVC(probability=True, random_state=0) \n",
        "SV.fit(x_train, y_train)\n",
        "print('SVM Classifier Training Accuracy:', SV.score(x_train, y_train))"
      ],
      "metadata": {
        "colab": {
          "base_uri": "https://localhost:8080/"
        },
        "id": "ctXuk5fo8n9S",
        "outputId": "769e4ec4-18c4-4a68-a4f5-43f7fd510cde"
      },
      "execution_count": null,
      "outputs": [
        {
          "output_type": "stream",
          "name": "stdout",
          "text": [
            "SVM Classifier Training Accuracy: 0.9615384615384616\n"
          ]
        }
      ]
    },
    {
      "cell_type": "markdown",
      "source": [
        "4) Applying Random Forest"
      ],
      "metadata": {
        "id": "uf0fn3X6rsPW"
      }
    },
    {
      "cell_type": "code",
      "source": [
        "model = RandomForestClassifier()\n",
        "model.fit(x_train,y_train)"
      ],
      "metadata": {
        "colab": {
          "base_uri": "https://localhost:8080/"
        },
        "id": "AWh5QDSHCqCE",
        "outputId": "05359985-fe09-4e18-9ef9-7f2a03668282"
      },
      "execution_count": null,
      "outputs": [
        {
          "output_type": "execute_result",
          "data": {
            "text/plain": [
              "RandomForestClassifier()"
            ]
          },
          "metadata": {},
          "execution_count": 53
        }
      ]
    },
    {
      "cell_type": "code",
      "source": [
        "accuracy = metrics.accuracy_score(y_test,y_pred)\n",
        "accuracy"
      ],
      "metadata": {
        "colab": {
          "base_uri": "https://localhost:8080/"
        },
        "id": "NCzYBP0GC7UP",
        "outputId": "1669e461-5a69-4caa-f25d-95dcb2954340"
      },
      "execution_count": null,
      "outputs": [
        {
          "output_type": "execute_result",
          "data": {
            "text/plain": [
              "0.9922480620155039"
            ]
          },
          "metadata": {},
          "execution_count": 54
        }
      ]
    },
    {
      "cell_type": "markdown",
      "source": [
        "5) Applying Gradient Boosting"
      ],
      "metadata": {
        "id": "dWgOdix1rxd1"
      }
    },
    {
      "cell_type": "code",
      "source": [
        "from sklearn.metrics import accuracy_score\n",
        "from sklearn.model_selection import train_test_split\n",
        "from sklearn.metrics import classification_report,confusion_matrix\n",
        "from sklearn.ensemble import AdaBoostClassifier, BaggingClassifier\n",
        "from sklearn.linear_model import Perceptron\n",
        "from sklearn.linear_model import SGDClassifier\n",
        "from sklearn.neural_network import MLPClassifier\n",
        "from sklearn.model_selection import train_test_split"
      ],
      "metadata": {
        "id": "UONFIrrHG1kZ"
      },
      "execution_count": null,
      "outputs": []
    },
    {
      "cell_type": "code",
      "source": [
        "def extract_features_for_prediction(x_train, y_train, x_test, y_test, pipeline):\n",
        "   (...)\n",
        "   return final_x_test[:, :15]"
      ],
      "metadata": {
        "id": "uq81fNFqMlZy"
      },
      "execution_count": null,
      "outputs": []
    },
    {
      "cell_type": "code",
      "source": [
        "x = data.iloc[:,:-1]\n",
        "y = data.iloc[:,1]"
      ],
      "metadata": {
        "id": "GaT8FDJUoMqX"
      },
      "execution_count": null,
      "outputs": []
    },
    {
      "cell_type": "code",
      "source": [
        "x_train = x.iloc[:700,:]"
      ],
      "metadata": {
        "id": "lK2z7xfboQi1"
      },
      "execution_count": null,
      "outputs": []
    },
    {
      "cell_type": "code",
      "source": [
        "X_train.shape"
      ],
      "metadata": {
        "colab": {
          "base_uri": "https://localhost:8080/"
        },
        "id": "8MWRGZI-om5d",
        "outputId": "8d6d9d17-565b-4e3a-c541-133b68b35949"
      },
      "execution_count": null,
      "outputs": [
        {
          "output_type": "execute_result",
          "data": {
            "text/plain": [
              "(600, 15)"
            ]
          },
          "metadata": {},
          "execution_count": 70
        }
      ]
    },
    {
      "cell_type": "code",
      "source": [
        "x_test = x.iloc[700:1000,:]"
      ],
      "metadata": {
        "id": "bzkegOmLooT_"
      },
      "execution_count": null,
      "outputs": []
    },
    {
      "cell_type": "code",
      "source": [
        "x_test.shape"
      ],
      "metadata": {
        "colab": {
          "base_uri": "https://localhost:8080/"
        },
        "id": "FW1YL_5TorYv",
        "outputId": "702ce723-f732-4185-e905-48d373280af8"
      },
      "execution_count": null,
      "outputs": [
        {
          "output_type": "execute_result",
          "data": {
            "text/plain": [
              "(158, 33)"
            ]
          },
          "metadata": {},
          "execution_count": 74
        }
      ]
    },
    {
      "cell_type": "code",
      "source": [
        "y_train = y.iloc[:700]"
      ],
      "metadata": {
        "id": "oUeJ3mlbot4z"
      },
      "execution_count": null,
      "outputs": []
    },
    {
      "cell_type": "code",
      "source": [
        "y_train.shape"
      ],
      "metadata": {
        "colab": {
          "base_uri": "https://localhost:8080/"
        },
        "id": "Aqh1114JowTq",
        "outputId": "4e626711-0a5d-49c8-f5ed-f1f4b28358e0"
      },
      "execution_count": null,
      "outputs": [
        {
          "output_type": "execute_result",
          "data": {
            "text/plain": [
              "(700,)"
            ]
          },
          "metadata": {},
          "execution_count": 76
        }
      ]
    },
    {
      "cell_type": "code",
      "source": [
        "y_test = y.iloc[700:1000]"
      ],
      "metadata": {
        "id": "cWcwZF9wo0Y8"
      },
      "execution_count": null,
      "outputs": []
    },
    {
      "cell_type": "code",
      "source": [
        "gbclass = GradientBoostingClassifier(\n",
        "                    random_state = 1000,\n",
        "                    verbose = 0,\n",
        "                    n_estimators = 10,\n",
        "                    learning_rate = 0.9,\n",
        "                    loss = 'deviance',\n",
        "                    max_depth = 3\n",
        "                   )\n",
        "#gbclass = GradientBoostingClassifier(n_estimators=100, learning_rate=1.0, max_depth=1, random_state=0)\n",
        "# Train the model using the training sets and check score\n",
        "gbclass.fit(x_train, y_train)\n",
        "#Predict Output\n",
        "predicted= gbclass.predict(x_test)\n",
        "\n",
        "gbclass_score = round(gbclass.score(x_train, y_train) * 100, 2)\n",
        "gbclass_score_test = round(gbclass.score(x_test, y_test) * 100, 2)\n",
        "print('Score: \\n', gbclass_score)\n",
        "print('Test Score: \\n', gbclass_score_test)\n",
        "print('Accuracy: \\n', accuracy_score(y_test,predicted))\n",
        "print(confusion_matrix(predicted,y_test))\n",
        "print(classification_report(y_test,predicted))"
      ],
      "metadata": {
        "colab": {
          "base_uri": "https://localhost:8080/"
        },
        "id": "DOBQDQhCo5jd",
        "outputId": "2a0f5b7d-aa91-4e3a-d319-dd82733e7ca3"
      },
      "execution_count": null,
      "outputs": [
        {
          "output_type": "stream",
          "name": "stdout",
          "text": [
            "Score: \n",
            " 100.0\n",
            "Test Score: \n",
            " 98.73\n",
            "Accuracy: \n",
            " 0.9873417721518988\n",
            "[[36  0  0  0  0  0  0  0  0]\n",
            " [ 0 52  0  0  0  0  0  0  0]\n",
            " [ 0  0 41  0  0  0  0  0  0]\n",
            " [ 0  0  0 12  0  0  0  0  0]\n",
            " [ 0  0  0  0  8  0  0  1  1]\n",
            " [ 0  0  0  0  0  2  0  0  0]\n",
            " [ 0  0  0  0  0  0  4  0  0]\n",
            " [ 0  0  0  0  0  0  0  1  0]\n",
            " [ 0  0  0  0  0  0  0  0  0]]\n",
            "              precision    recall  f1-score   support\n",
            "\n",
            "         1.0       1.00      1.00      1.00        36\n",
            "         2.0       1.00      1.00      1.00        52\n",
            "         3.0       1.00      1.00      1.00        41\n",
            "         4.0       1.00      1.00      1.00        12\n",
            "         5.0       0.80      1.00      0.89         8\n",
            "         6.0       1.00      1.00      1.00         2\n",
            "         7.0       1.00      1.00      1.00         4\n",
            "         8.0       1.00      0.50      0.67         2\n",
            "         9.0       0.00      0.00      0.00         1\n",
            "\n",
            "    accuracy                           0.99       158\n",
            "   macro avg       0.87      0.83      0.84       158\n",
            "weighted avg       0.98      0.99      0.98       158\n",
            "\n"
          ]
        }
      ]
    },
    {
      "cell_type": "markdown",
      "source": [
        "6) Applying Linear Regression"
      ],
      "metadata": {
        "id": "iuDcbtbSsG0-"
      }
    },
    {
      "cell_type": "code",
      "source": [
        "LR = LinearRegression()\n",
        "# fitting the training data\n",
        "LR.fit(x_train,y_train)"
      ],
      "metadata": {
        "colab": {
          "base_uri": "https://localhost:8080/"
        },
        "id": "msT4n1LYt417",
        "outputId": "c66c6191-1e5a-4ab2-91b5-b85575938895"
      },
      "execution_count": null,
      "outputs": [
        {
          "output_type": "execute_result",
          "data": {
            "text/plain": [
              "LinearRegression()"
            ]
          },
          "metadata": {},
          "execution_count": 83
        }
      ]
    },
    {
      "cell_type": "code",
      "source": [
        "y_pred =  LR.predict(x_test)\n",
        "y_pred"
      ],
      "metadata": {
        "colab": {
          "base_uri": "https://localhost:8080/"
        },
        "id": "wPAhw4XPuN4H",
        "outputId": "221d332f-61b7-4754-8463-6aac61299d58"
      },
      "execution_count": null,
      "outputs": [
        {
          "output_type": "execute_result",
          "data": {
            "text/plain": [
              "array([1., 2., 4., 1., 3., 3., 1., 2., 1., 2., 1., 2., 3., 1., 2., 2., 3.,\n",
              "       2., 5., 2., 2., 1., 5., 1., 1., 1., 3., 2., 3., 5., 3., 1., 2., 2.,\n",
              "       2., 1., 3., 2., 6., 2., 1., 2., 7., 5., 4., 1., 2., 1., 4., 5., 3.,\n",
              "       1., 2., 1., 4., 2., 4., 3., 4., 3., 1., 2., 2., 3., 1., 5., 1., 2.,\n",
              "       2., 2., 3., 2., 7., 1., 4., 2., 1., 4., 2., 1., 5., 3., 3., 1., 7.,\n",
              "       1., 6., 2., 2., 1., 2., 2., 3., 2., 2., 3., 7., 3., 4., 3., 2., 3.,\n",
              "       2., 3., 8., 3., 3., 2., 2., 2., 1., 1., 5., 1., 1., 1., 2., 1., 4.,\n",
              "       1., 2., 3., 3., 3., 2., 3., 4., 3., 2., 3., 4., 3., 2., 1., 3., 1.,\n",
              "       3., 9., 3., 3., 2., 2., 3., 3., 8., 2., 2., 3., 3., 3., 1., 2., 3.,\n",
              "       3., 2., 2., 2., 2.])"
            ]
          },
          "metadata": {},
          "execution_count": 85
        }
      ]
    },
    {
      "cell_type": "code",
      "source": [
        "score=r2_score(y_test,y_pred)"
      ],
      "metadata": {
        "id": "WVP8E0GJudyQ"
      },
      "execution_count": null,
      "outputs": []
    },
    {
      "cell_type": "code",
      "source": [
        "Accuracy=r2_score(y_test,y_pred)*100\n",
        "print(\" Accuracy of the model is %.2f\" %Accuracy)"
      ],
      "metadata": {
        "colab": {
          "base_uri": "https://localhost:8080/"
        },
        "id": "IhF91Ih7xhmr",
        "outputId": "a80dc3fe-b7eb-4b66-e3e2-9d33ae780a09"
      },
      "execution_count": null,
      "outputs": [
        {
          "output_type": "stream",
          "name": "stdout",
          "text": [
            " Accuracy of the model is 100.00\n"
          ]
        }
      ]
    },
    {
      "cell_type": "markdown",
      "source": [
        "7) Applying Logistic Regression"
      ],
      "metadata": {
        "id": "9eJorN9YxriN"
      }
    },
    {
      "cell_type": "code",
      "source": [
        "from sklearn.model_selection import GridSearchCV\n",
        "from sklearn.linear_model import LogisticRegression"
      ],
      "metadata": {
        "id": "u7qfGn1Zzt1M"
      },
      "execution_count": null,
      "outputs": []
    },
    {
      "cell_type": "code",
      "source": [
        "x_train, x_test, y_train, y_test = model_selection.train_test_split(x, y, test_size=0.3, random_state=42)"
      ],
      "metadata": {
        "id": "J4MKoqHDybGq"
      },
      "execution_count": null,
      "outputs": []
    },
    {
      "cell_type": "code",
      "source": [
        "tuned_params = {'C': [0.0001, 0.001, 0.01, 0.1, 1, 10, 100, 1000, 10000], 'penalty': ['l1', 'l2'],'solver':['liblinear']}\n",
        "model = GridSearchCV(LogisticRegression(), tuned_params, scoring = 'roc_auc', n_jobs=-1)\n",
        "model.fit(x_train, y_train)"
      ],
      "metadata": {
        "colab": {
          "base_uri": "https://localhost:8080/"
        },
        "id": "gyPYSbrpyke-",
        "outputId": "212fc67d-17b3-41d7-b6c3-366a8cb45e97"
      },
      "execution_count": null,
      "outputs": [
        {
          "output_type": "execute_result",
          "data": {
            "text/plain": [
              "GridSearchCV(estimator=LogisticRegression(), n_jobs=-1,\n",
              "             param_grid={'C': [0.0001, 0.001, 0.01, 0.1, 1, 10, 100, 1000,\n",
              "                               10000],\n",
              "                         'penalty': ['l1', 'l2'], 'solver': ['liblinear']},\n",
              "             scoring='roc_auc')"
            ]
          },
          "metadata": {},
          "execution_count": 132
        }
      ]
    },
    {
      "cell_type": "code",
      "source": [
        "model.best_estimator_"
      ],
      "metadata": {
        "colab": {
          "base_uri": "https://localhost:8080/"
        },
        "id": "mgfxvjle0e0H",
        "outputId": "ad16e5fa-b629-4fe2-ff83-83f2dd76584c"
      },
      "execution_count": null,
      "outputs": [
        {
          "output_type": "execute_result",
          "data": {
            "text/plain": [
              "LogisticRegression(C=0.0001, penalty='l1', solver='liblinear')"
            ]
          },
          "metadata": {},
          "execution_count": 104
        }
      ]
    },
    {
      "cell_type": "code",
      "source": [
        "## Predict Train set results\n",
        "y_train_pred = model.predict(x_train)"
      ],
      "metadata": {
        "id": "UFEQYwCH0kYa"
      },
      "execution_count": null,
      "outputs": []
    },
    {
      "cell_type": "code",
      "source": [
        "## Predict Test set results\n",
        "y_pred = model.predict(x_test)"
      ],
      "metadata": {
        "id": "shcr_czE0pLE"
      },
      "execution_count": null,
      "outputs": []
    },
    {
      "cell_type": "code",
      "source": [
        "# Get just the prediction for the positive class (1)\n",
        "y_pred_proba = model.predict_proba(x_test)[:,1]"
      ],
      "metadata": {
        "id": "ZkBu7MJr0taj"
      },
      "execution_count": null,
      "outputs": []
    },
    {
      "cell_type": "code",
      "source": [
        "# Display first 10 predictions\n",
        "y_pred_proba[:10]"
      ],
      "metadata": {
        "colab": {
          "base_uri": "https://localhost:8080/"
        },
        "id": "XBACxlOB0ymE",
        "outputId": "7796c6f8-3dd7-4d79-c635-74921dc9b2fa"
      },
      "execution_count": null,
      "outputs": [
        {
          "output_type": "execute_result",
          "data": {
            "text/plain": [
              "array([0.08333333, 0.08333333, 0.08333333, 0.08333333, 0.08333333,\n",
              "       0.08333333, 0.08333333, 0.08333333, 0.08333333, 0.08333333])"
            ]
          },
          "metadata": {},
          "execution_count": 108
        }
      ]
    },
    {
      "cell_type": "code",
      "source": [
        "i=28  ## Change the value of i to get the details of any point (56, 213, etc.)\n",
        "print('For test point {}, actual class = {}, precited class = {}, predicted probability = {}'.\n",
        "      format(i, y_test.iloc[i], y_pred[i], y_pred_proba[i]))"
      ],
      "metadata": {
        "colab": {
          "base_uri": "https://localhost:8080/"
        },
        "id": "1B5red1U01zg",
        "outputId": "810bcd19-3c84-4692-be5b-ed9595e07e76"
      },
      "execution_count": null,
      "outputs": [
        {
          "output_type": "stream",
          "name": "stdout",
          "text": [
            "For test point 28, actual class = 2.0, precited class = 1.0, predicted probability = 0.08333333333333333\n"
          ]
        }
      ]
    },
    {
      "cell_type": "code",
      "source": [
        "confusion_matrix(y_test, y_pred).T"
      ],
      "metadata": {
        "colab": {
          "base_uri": "https://localhost:8080/"
        },
        "id": "5NWZgO7e08S6",
        "outputId": "12c6d0a4-ad70-4a56-dc14-25af36474c14"
      },
      "execution_count": null,
      "outputs": [
        {
          "output_type": "execute_result",
          "data": {
            "text/plain": [
              "array([[46, 53, 47, 15,  7,  1,  1,  2],\n",
              "       [ 0,  0,  0,  0,  0,  0,  0,  0],\n",
              "       [ 0,  0,  0,  0,  0,  0,  0,  0],\n",
              "       [ 0,  0,  0,  0,  0,  0,  0,  0],\n",
              "       [ 0,  0,  0,  0,  0,  0,  0,  0],\n",
              "       [ 0,  0,  0,  0,  0,  0,  0,  0],\n",
              "       [ 0,  0,  0,  0,  0,  0,  0,  0],\n",
              "       [ 0,  0,  0,  0,  0,  0,  0,  0]])"
            ]
          },
          "metadata": {},
          "execution_count": 110
        }
      ]
    },
    {
      "cell_type": "code",
      "source": [
        "from sklearn.metrics import accuracy_score\n",
        "from sklearn.linear_model import LogisticRegression\n",
        "\n",
        "\n",
        "y_pred = model.predict(x_test)\n",
        "\n",
        "score =accuracy_score(y_test,y_pred)\n",
        "score"
      ],
      "metadata": {
        "colab": {
          "base_uri": "https://localhost:8080/"
        },
        "id": "-ShhYxbt3ZUQ",
        "outputId": "43555bc1-5d09-4392-f22a-8dfcf190df10"
      },
      "execution_count": null,
      "outputs": [
        {
          "output_type": "execute_result",
          "data": {
            "text/plain": [
              "0.2596899224806202"
            ]
          },
          "metadata": {},
          "execution_count": 133
        }
      ]
    },
    {
      "cell_type": "markdown",
      "source": [
        "8)Applying KNN"
      ],
      "metadata": {
        "id": "ODA_MioO4hE6"
      }
    },
    {
      "cell_type": "code",
      "source": [
        "x_train, x_test, y_train, y_test = model_selection.train_test_split(x, y, test_size=0.2, random_state=42)"
      ],
      "metadata": {
        "id": "kXzaVobX1Ci3"
      },
      "execution_count": null,
      "outputs": []
    },
    {
      "cell_type": "code",
      "source": [
        "knn = KNeighborsClassifier(n_neighbors=7)\n",
        "  \n",
        "knn.fit(x_train, y_train)\n",
        "  \n",
        "# Calculate the accuracy of the model\n",
        "print(knn.score(x_test, y_test))"
      ],
      "metadata": {
        "colab": {
          "base_uri": "https://localhost:8080/"
        },
        "id": "-7kh58FM4_pW",
        "outputId": "d899f807-1a88-4249-d075-3c21ea521128"
      },
      "execution_count": null,
      "outputs": [
        {
          "output_type": "stream",
          "name": "stdout",
          "text": [
            "0.5523255813953488\n"
          ]
        }
      ]
    }
  ]
}