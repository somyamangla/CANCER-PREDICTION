{
  "nbformat": 4,
  "nbformat_minor": 0,
  "metadata": {
    "colab": {
      "provenance": [],
      "include_colab_link": true
    },
    "kernelspec": {
      "name": "python3",
      "display_name": "Python 3"
    },
    "language_info": {
      "name": "python"
    }
  },
  "cells": [
    {
      "cell_type": "markdown",
      "metadata": {
        "id": "view-in-github",
        "colab_type": "text"
      },
      "source": [
        "<a href=\"https://colab.research.google.com/github/somyamangla/CANCER-PREDICTION/blob/main/LungCancer.ipynb\" target=\"_parent\"><img src=\"https://colab.research.google.com/assets/colab-badge.svg\" alt=\"Open In Colab\"/></a>"
      ]
    },
    {
      "cell_type": "code",
      "execution_count": null,
      "metadata": {
        "id": "yRYRZdLtsMNb"
      },
      "outputs": [],
      "source": [
        "import pandas as pd \n",
        "import matplotlib.pyplot as plt\n",
        "from sklearn.ensemble import RandomForestClassifier\n",
        "from sklearn import model_selection , metrics\n",
        "from sklearn.svm import SVC\n",
        "from sklearn.linear_model import LinearRegression\n",
        "from sklearn.model_selection import train_test_split\n",
        "from openpyxl import load_workbook\n",
        "import seaborn as sns\n",
        "from sklearn.metrics import confusion_matrix, ConfusionMatrixDisplay\n",
        "from sklearn.metrics import r2_score\n",
        "from sklearn.metrics import mean_squared_error\n",
        "from sklearn.preprocessing import LabelEncoder\n",
        "from sklearn.neighbors import KNeighborsClassifier\n",
        "from sklearn.model_selection import train_test_split\n",
        "from sklearn.preprocessing import StandardScaler\n",
        "from sklearn.metrics import f1_score, precision_score, accuracy_score, recall_score, balanced_accuracy_score\n",
        "from sklearn.svm import SVC\n",
        "from sklearn.model_selection import StratifiedKFold\n",
        "from sklearn.feature_selection import RFECV\n",
        "from sklearn.model_selection import train_test_split\n",
        "from sklearn.metrics import accuracy_score\n",
        "from sklearn.model_selection import train_test_split\n",
        "from sklearn.metrics import classification_report,confusion_matrix\n",
        "from sklearn.ensemble import AdaBoostClassifier, BaggingClassifier\n",
        "from sklearn.linear_model import Perceptron\n",
        "from sklearn.linear_model import SGDClassifier\n",
        "from sklearn.neural_network import MLPClassifier\n",
        "from sklearn.ensemble import GradientBoostingClassifier\n",
        "from sklearn.metrics import confusion_matrix\n",
        "from sklearn.metrics import accuracy_score\n",
        "from sklearn.feature_selection import RFECV\n",
        "from sklearn.svm import SVC\n",
        "from sklearn.model_selection import StratifiedKFold\n",
        "from sklearn.metrics import classification_report\n",
        "from sklearn.model_selection import train_test_split\n",
        "from sklearn.linear_model import LogisticRegression\n",
        "from sklearn.model_selection import GridSearchCV\n",
        "from sklearn.metrics import roc_curve, auc, roc_auc_score, confusion_matrix\n",
        "from sklearn.neighbors import KNeighborsClassifier\n",
        "from sklearn.model_selection import train_test_split\n",
        "from sklearn.datasets import load_iris\n"
      ]
    },
    {
      "cell_type": "code",
      "source": [
        "df = pd.read_csv('LungDataSet.csv')"
      ],
      "metadata": {
        "id": "PBLoWgKJs_N6"
      },
      "execution_count": null,
      "outputs": []
    },
    {
      "cell_type": "code",
      "source": [
        "df.head()"
      ],
      "metadata": {
        "colab": {
          "base_uri": "https://localhost:8080/",
          "height": 317
        },
        "id": "TfeAJaevtSPw",
        "outputId": "b0fd2b0b-03e4-40e7-ab4d-7ef4db2701d4"
      },
      "execution_count": null,
      "outputs": [
        {
          "output_type": "execute_result",
          "data": {
            "text/plain": [
              "  Patient Id  Age  Gender  AirPollution  Alcoholuse  DustAllergy  \\\n",
              "0         P1   33       1             2           4            5   \n",
              "1        P10   17       1             3           1            5   \n",
              "2       P100   35       1             4           5            6   \n",
              "3      P1000   37       1             7           7            7   \n",
              "4       P101   46       1             6           8            7   \n",
              "\n",
              "   OccuPationalHazards  GeneticRisk  chronicLungDisease  BalancedDiet  ...  \\\n",
              "0                    4            3                   2             2  ...   \n",
              "1                    3            4                   2             2  ...   \n",
              "2                    5            5                   4             6  ...   \n",
              "3                    7            6                   7             7  ...   \n",
              "4                    7            7                   6             7  ...   \n",
              "\n",
              "   Fatigue  WeightLoss  ShortnessofBreath  Wheezing  SwallowingDifficulty  \\\n",
              "0        3           4                  2         2                     3   \n",
              "1        1           3                  7         8                     6   \n",
              "2        8           7                  9         2                     1   \n",
              "3        4           2                  3         1                     4   \n",
              "4        3           2                  4         1                     4   \n",
              "\n",
              "   ClubbingofFingerNails  FrequentCold  DryCough  Snoring   Level  \n",
              "0                      1             2         3        4     Low  \n",
              "1                      2             1         7        2  Medium  \n",
              "2                      4             6         7        2    High  \n",
              "3                      5             6         7        5    High  \n",
              "4                      2             4         2        3    High  \n",
              "\n",
              "[5 rows x 25 columns]"
            ],
            "text/html": [
              "\n",
              "  <div id=\"df-a5405507-80d4-4f34-b8ac-47f508c5bc0d\">\n",
              "    <div class=\"colab-df-container\">\n",
              "      <div>\n",
              "<style scoped>\n",
              "    .dataframe tbody tr th:only-of-type {\n",
              "        vertical-align: middle;\n",
              "    }\n",
              "\n",
              "    .dataframe tbody tr th {\n",
              "        vertical-align: top;\n",
              "    }\n",
              "\n",
              "    .dataframe thead th {\n",
              "        text-align: right;\n",
              "    }\n",
              "</style>\n",
              "<table border=\"1\" class=\"dataframe\">\n",
              "  <thead>\n",
              "    <tr style=\"text-align: right;\">\n",
              "      <th></th>\n",
              "      <th>Patient Id</th>\n",
              "      <th>Age</th>\n",
              "      <th>Gender</th>\n",
              "      <th>AirPollution</th>\n",
              "      <th>Alcoholuse</th>\n",
              "      <th>DustAllergy</th>\n",
              "      <th>OccuPationalHazards</th>\n",
              "      <th>GeneticRisk</th>\n",
              "      <th>chronicLungDisease</th>\n",
              "      <th>BalancedDiet</th>\n",
              "      <th>...</th>\n",
              "      <th>Fatigue</th>\n",
              "      <th>WeightLoss</th>\n",
              "      <th>ShortnessofBreath</th>\n",
              "      <th>Wheezing</th>\n",
              "      <th>SwallowingDifficulty</th>\n",
              "      <th>ClubbingofFingerNails</th>\n",
              "      <th>FrequentCold</th>\n",
              "      <th>DryCough</th>\n",
              "      <th>Snoring</th>\n",
              "      <th>Level</th>\n",
              "    </tr>\n",
              "  </thead>\n",
              "  <tbody>\n",
              "    <tr>\n",
              "      <th>0</th>\n",
              "      <td>P1</td>\n",
              "      <td>33</td>\n",
              "      <td>1</td>\n",
              "      <td>2</td>\n",
              "      <td>4</td>\n",
              "      <td>5</td>\n",
              "      <td>4</td>\n",
              "      <td>3</td>\n",
              "      <td>2</td>\n",
              "      <td>2</td>\n",
              "      <td>...</td>\n",
              "      <td>3</td>\n",
              "      <td>4</td>\n",
              "      <td>2</td>\n",
              "      <td>2</td>\n",
              "      <td>3</td>\n",
              "      <td>1</td>\n",
              "      <td>2</td>\n",
              "      <td>3</td>\n",
              "      <td>4</td>\n",
              "      <td>Low</td>\n",
              "    </tr>\n",
              "    <tr>\n",
              "      <th>1</th>\n",
              "      <td>P10</td>\n",
              "      <td>17</td>\n",
              "      <td>1</td>\n",
              "      <td>3</td>\n",
              "      <td>1</td>\n",
              "      <td>5</td>\n",
              "      <td>3</td>\n",
              "      <td>4</td>\n",
              "      <td>2</td>\n",
              "      <td>2</td>\n",
              "      <td>...</td>\n",
              "      <td>1</td>\n",
              "      <td>3</td>\n",
              "      <td>7</td>\n",
              "      <td>8</td>\n",
              "      <td>6</td>\n",
              "      <td>2</td>\n",
              "      <td>1</td>\n",
              "      <td>7</td>\n",
              "      <td>2</td>\n",
              "      <td>Medium</td>\n",
              "    </tr>\n",
              "    <tr>\n",
              "      <th>2</th>\n",
              "      <td>P100</td>\n",
              "      <td>35</td>\n",
              "      <td>1</td>\n",
              "      <td>4</td>\n",
              "      <td>5</td>\n",
              "      <td>6</td>\n",
              "      <td>5</td>\n",
              "      <td>5</td>\n",
              "      <td>4</td>\n",
              "      <td>6</td>\n",
              "      <td>...</td>\n",
              "      <td>8</td>\n",
              "      <td>7</td>\n",
              "      <td>9</td>\n",
              "      <td>2</td>\n",
              "      <td>1</td>\n",
              "      <td>4</td>\n",
              "      <td>6</td>\n",
              "      <td>7</td>\n",
              "      <td>2</td>\n",
              "      <td>High</td>\n",
              "    </tr>\n",
              "    <tr>\n",
              "      <th>3</th>\n",
              "      <td>P1000</td>\n",
              "      <td>37</td>\n",
              "      <td>1</td>\n",
              "      <td>7</td>\n",
              "      <td>7</td>\n",
              "      <td>7</td>\n",
              "      <td>7</td>\n",
              "      <td>6</td>\n",
              "      <td>7</td>\n",
              "      <td>7</td>\n",
              "      <td>...</td>\n",
              "      <td>4</td>\n",
              "      <td>2</td>\n",
              "      <td>3</td>\n",
              "      <td>1</td>\n",
              "      <td>4</td>\n",
              "      <td>5</td>\n",
              "      <td>6</td>\n",
              "      <td>7</td>\n",
              "      <td>5</td>\n",
              "      <td>High</td>\n",
              "    </tr>\n",
              "    <tr>\n",
              "      <th>4</th>\n",
              "      <td>P101</td>\n",
              "      <td>46</td>\n",
              "      <td>1</td>\n",
              "      <td>6</td>\n",
              "      <td>8</td>\n",
              "      <td>7</td>\n",
              "      <td>7</td>\n",
              "      <td>7</td>\n",
              "      <td>6</td>\n",
              "      <td>7</td>\n",
              "      <td>...</td>\n",
              "      <td>3</td>\n",
              "      <td>2</td>\n",
              "      <td>4</td>\n",
              "      <td>1</td>\n",
              "      <td>4</td>\n",
              "      <td>2</td>\n",
              "      <td>4</td>\n",
              "      <td>2</td>\n",
              "      <td>3</td>\n",
              "      <td>High</td>\n",
              "    </tr>\n",
              "  </tbody>\n",
              "</table>\n",
              "<p>5 rows × 25 columns</p>\n",
              "</div>\n",
              "      <button class=\"colab-df-convert\" onclick=\"convertToInteractive('df-a5405507-80d4-4f34-b8ac-47f508c5bc0d')\"\n",
              "              title=\"Convert this dataframe to an interactive table.\"\n",
              "              style=\"display:none;\">\n",
              "        \n",
              "  <svg xmlns=\"http://www.w3.org/2000/svg\" height=\"24px\"viewBox=\"0 0 24 24\"\n",
              "       width=\"24px\">\n",
              "    <path d=\"M0 0h24v24H0V0z\" fill=\"none\"/>\n",
              "    <path d=\"M18.56 5.44l.94 2.06.94-2.06 2.06-.94-2.06-.94-.94-2.06-.94 2.06-2.06.94zm-11 1L8.5 8.5l.94-2.06 2.06-.94-2.06-.94L8.5 2.5l-.94 2.06-2.06.94zm10 10l.94 2.06.94-2.06 2.06-.94-2.06-.94-.94-2.06-.94 2.06-2.06.94z\"/><path d=\"M17.41 7.96l-1.37-1.37c-.4-.4-.92-.59-1.43-.59-.52 0-1.04.2-1.43.59L10.3 9.45l-7.72 7.72c-.78.78-.78 2.05 0 2.83L4 21.41c.39.39.9.59 1.41.59.51 0 1.02-.2 1.41-.59l7.78-7.78 2.81-2.81c.8-.78.8-2.07 0-2.86zM5.41 20L4 18.59l7.72-7.72 1.47 1.35L5.41 20z\"/>\n",
              "  </svg>\n",
              "      </button>\n",
              "      \n",
              "  <style>\n",
              "    .colab-df-container {\n",
              "      display:flex;\n",
              "      flex-wrap:wrap;\n",
              "      gap: 12px;\n",
              "    }\n",
              "\n",
              "    .colab-df-convert {\n",
              "      background-color: #E8F0FE;\n",
              "      border: none;\n",
              "      border-radius: 50%;\n",
              "      cursor: pointer;\n",
              "      display: none;\n",
              "      fill: #1967D2;\n",
              "      height: 32px;\n",
              "      padding: 0 0 0 0;\n",
              "      width: 32px;\n",
              "    }\n",
              "\n",
              "    .colab-df-convert:hover {\n",
              "      background-color: #E2EBFA;\n",
              "      box-shadow: 0px 1px 2px rgba(60, 64, 67, 0.3), 0px 1px 3px 1px rgba(60, 64, 67, 0.15);\n",
              "      fill: #174EA6;\n",
              "    }\n",
              "\n",
              "    [theme=dark] .colab-df-convert {\n",
              "      background-color: #3B4455;\n",
              "      fill: #D2E3FC;\n",
              "    }\n",
              "\n",
              "    [theme=dark] .colab-df-convert:hover {\n",
              "      background-color: #434B5C;\n",
              "      box-shadow: 0px 1px 3px 1px rgba(0, 0, 0, 0.15);\n",
              "      filter: drop-shadow(0px 1px 2px rgba(0, 0, 0, 0.3));\n",
              "      fill: #FFFFFF;\n",
              "    }\n",
              "  </style>\n",
              "\n",
              "      <script>\n",
              "        const buttonEl =\n",
              "          document.querySelector('#df-a5405507-80d4-4f34-b8ac-47f508c5bc0d button.colab-df-convert');\n",
              "        buttonEl.style.display =\n",
              "          google.colab.kernel.accessAllowed ? 'block' : 'none';\n",
              "\n",
              "        async function convertToInteractive(key) {\n",
              "          const element = document.querySelector('#df-a5405507-80d4-4f34-b8ac-47f508c5bc0d');\n",
              "          const dataTable =\n",
              "            await google.colab.kernel.invokeFunction('convertToInteractive',\n",
              "                                                     [key], {});\n",
              "          if (!dataTable) return;\n",
              "\n",
              "          const docLinkHtml = 'Like what you see? Visit the ' +\n",
              "            '<a target=\"_blank\" href=https://colab.research.google.com/notebooks/data_table.ipynb>data table notebook</a>'\n",
              "            + ' to learn more about interactive tables.';\n",
              "          element.innerHTML = '';\n",
              "          dataTable['output_type'] = 'display_data';\n",
              "          await google.colab.output.renderOutput(dataTable, element);\n",
              "          const docLink = document.createElement('div');\n",
              "          docLink.innerHTML = docLinkHtml;\n",
              "          element.appendChild(docLink);\n",
              "        }\n",
              "      </script>\n",
              "    </div>\n",
              "  </div>\n",
              "  "
            ]
          },
          "metadata": {},
          "execution_count": 5
        }
      ]
    },
    {
      "cell_type": "code",
      "source": [
        "df.shape"
      ],
      "metadata": {
        "colab": {
          "base_uri": "https://localhost:8080/"
        },
        "id": "k4uS1pBjtYKn",
        "outputId": "fd36748d-134b-443d-b418-b89a6e687335"
      },
      "execution_count": null,
      "outputs": [
        {
          "output_type": "execute_result",
          "data": {
            "text/plain": [
              "(1000, 25)"
            ]
          },
          "metadata": {},
          "execution_count": 6
        }
      ]
    },
    {
      "cell_type": "code",
      "source": [
        "df.columns"
      ],
      "metadata": {
        "colab": {
          "base_uri": "https://localhost:8080/"
        },
        "id": "j23ui9cLtcW5",
        "outputId": "c06ed428-a263-4c2c-9393-97c1ea9fa574"
      },
      "execution_count": null,
      "outputs": [
        {
          "output_type": "execute_result",
          "data": {
            "text/plain": [
              "Index(['Patient Id', 'Age', 'Gender', 'AirPollution', 'Alcoholuse',\n",
              "       'DustAllergy', 'OccuPationalHazards', 'GeneticRisk',\n",
              "       'chronicLungDisease', 'BalancedDiet', 'Obesity', 'Smoking',\n",
              "       'PassiveSmoker', 'ChestPain', 'CoughingofBlood', 'Fatigue',\n",
              "       'WeightLoss', 'ShortnessofBreath', 'Wheezing', 'SwallowingDifficulty',\n",
              "       'ClubbingofFingerNails', 'FrequentCold', 'DryCough', 'Snoring',\n",
              "       'Level'],\n",
              "      dtype='object')"
            ]
          },
          "metadata": {},
          "execution_count": 7
        }
      ]
    },
    {
      "cell_type": "code",
      "source": [
        "df.info()"
      ],
      "metadata": {
        "colab": {
          "base_uri": "https://localhost:8080/"
        },
        "id": "JfWB2Bndtgfv",
        "outputId": "70cd7014-6c98-41b7-9ed3-69f0243107d0"
      },
      "execution_count": null,
      "outputs": [
        {
          "output_type": "stream",
          "name": "stdout",
          "text": [
            "<class 'pandas.core.frame.DataFrame'>\n",
            "RangeIndex: 1000 entries, 0 to 999\n",
            "Data columns (total 25 columns):\n",
            " #   Column                 Non-Null Count  Dtype \n",
            "---  ------                 --------------  ----- \n",
            " 0   Patient Id             1000 non-null   object\n",
            " 1   Age                    1000 non-null   int64 \n",
            " 2   Gender                 1000 non-null   int64 \n",
            " 3   AirPollution           1000 non-null   int64 \n",
            " 4   Alcoholuse             1000 non-null   int64 \n",
            " 5   DustAllergy            1000 non-null   int64 \n",
            " 6   OccuPationalHazards    1000 non-null   int64 \n",
            " 7   GeneticRisk            1000 non-null   int64 \n",
            " 8   chronicLungDisease     1000 non-null   int64 \n",
            " 9   BalancedDiet           1000 non-null   int64 \n",
            " 10  Obesity                1000 non-null   int64 \n",
            " 11  Smoking                1000 non-null   int64 \n",
            " 12  PassiveSmoker          1000 non-null   int64 \n",
            " 13  ChestPain              1000 non-null   int64 \n",
            " 14  CoughingofBlood        1000 non-null   int64 \n",
            " 15  Fatigue                1000 non-null   int64 \n",
            " 16  WeightLoss             1000 non-null   int64 \n",
            " 17  ShortnessofBreath      1000 non-null   int64 \n",
            " 18  Wheezing               1000 non-null   int64 \n",
            " 19  SwallowingDifficulty   1000 non-null   int64 \n",
            " 20  ClubbingofFingerNails  1000 non-null   int64 \n",
            " 21  FrequentCold           1000 non-null   int64 \n",
            " 22  DryCough               1000 non-null   int64 \n",
            " 23  Snoring                1000 non-null   int64 \n",
            " 24  Level                  1000 non-null   object\n",
            "dtypes: int64(23), object(2)\n",
            "memory usage: 195.4+ KB\n"
          ]
        }
      ]
    },
    {
      "cell_type": "code",
      "source": [
        "df.isnull().sum()\n"
      ],
      "metadata": {
        "colab": {
          "base_uri": "https://localhost:8080/"
        },
        "id": "xx8va5zltnEP",
        "outputId": "3b80aa35-d37a-4f85-cd8b-2e75a319887f"
      },
      "execution_count": null,
      "outputs": [
        {
          "output_type": "execute_result",
          "data": {
            "text/plain": [
              "Patient Id               0\n",
              "Age                      0\n",
              "Gender                   0\n",
              "AirPollution             0\n",
              "Alcoholuse               0\n",
              "DustAllergy              0\n",
              "OccuPationalHazards      0\n",
              "GeneticRisk              0\n",
              "chronicLungDisease       0\n",
              "BalancedDiet             0\n",
              "Obesity                  0\n",
              "Smoking                  0\n",
              "PassiveSmoker            0\n",
              "ChestPain                0\n",
              "CoughingofBlood          0\n",
              "Fatigue                  0\n",
              "WeightLoss               0\n",
              "ShortnessofBreath        0\n",
              "Wheezing                 0\n",
              "SwallowingDifficulty     0\n",
              "ClubbingofFingerNails    0\n",
              "FrequentCold             0\n",
              "DryCough                 0\n",
              "Snoring                  0\n",
              "Level                    0\n",
              "dtype: int64"
            ]
          },
          "metadata": {},
          "execution_count": 9
        }
      ]
    },
    {
      "cell_type": "code",
      "source": [
        "df[df.duplicated()]"
      ],
      "metadata": {
        "colab": {
          "base_uri": "https://localhost:8080/",
          "height": 160
        },
        "id": "2A3gLr2-tshB",
        "outputId": "c6cbe78b-bf71-4f93-aef7-2f0a455bc04e"
      },
      "execution_count": null,
      "outputs": [
        {
          "output_type": "execute_result",
          "data": {
            "text/plain": [
              "Empty DataFrame\n",
              "Columns: [Patient Id, Age, Gender, AirPollution, Alcoholuse, DustAllergy, OccuPationalHazards, GeneticRisk, chronicLungDisease, BalancedDiet, Obesity, Smoking, PassiveSmoker, ChestPain, CoughingofBlood, Fatigue, WeightLoss, ShortnessofBreath, Wheezing, SwallowingDifficulty, ClubbingofFingerNails, FrequentCold, DryCough, Snoring, Level]\n",
              "Index: []\n",
              "\n",
              "[0 rows x 25 columns]"
            ],
            "text/html": [
              "\n",
              "  <div id=\"df-1e4f6049-11db-4cca-a896-a9a21beb3baa\">\n",
              "    <div class=\"colab-df-container\">\n",
              "      <div>\n",
              "<style scoped>\n",
              "    .dataframe tbody tr th:only-of-type {\n",
              "        vertical-align: middle;\n",
              "    }\n",
              "\n",
              "    .dataframe tbody tr th {\n",
              "        vertical-align: top;\n",
              "    }\n",
              "\n",
              "    .dataframe thead th {\n",
              "        text-align: right;\n",
              "    }\n",
              "</style>\n",
              "<table border=\"1\" class=\"dataframe\">\n",
              "  <thead>\n",
              "    <tr style=\"text-align: right;\">\n",
              "      <th></th>\n",
              "      <th>Patient Id</th>\n",
              "      <th>Age</th>\n",
              "      <th>Gender</th>\n",
              "      <th>AirPollution</th>\n",
              "      <th>Alcoholuse</th>\n",
              "      <th>DustAllergy</th>\n",
              "      <th>OccuPationalHazards</th>\n",
              "      <th>GeneticRisk</th>\n",
              "      <th>chronicLungDisease</th>\n",
              "      <th>BalancedDiet</th>\n",
              "      <th>...</th>\n",
              "      <th>Fatigue</th>\n",
              "      <th>WeightLoss</th>\n",
              "      <th>ShortnessofBreath</th>\n",
              "      <th>Wheezing</th>\n",
              "      <th>SwallowingDifficulty</th>\n",
              "      <th>ClubbingofFingerNails</th>\n",
              "      <th>FrequentCold</th>\n",
              "      <th>DryCough</th>\n",
              "      <th>Snoring</th>\n",
              "      <th>Level</th>\n",
              "    </tr>\n",
              "  </thead>\n",
              "  <tbody>\n",
              "  </tbody>\n",
              "</table>\n",
              "<p>0 rows × 25 columns</p>\n",
              "</div>\n",
              "      <button class=\"colab-df-convert\" onclick=\"convertToInteractive('df-1e4f6049-11db-4cca-a896-a9a21beb3baa')\"\n",
              "              title=\"Convert this dataframe to an interactive table.\"\n",
              "              style=\"display:none;\">\n",
              "        \n",
              "  <svg xmlns=\"http://www.w3.org/2000/svg\" height=\"24px\"viewBox=\"0 0 24 24\"\n",
              "       width=\"24px\">\n",
              "    <path d=\"M0 0h24v24H0V0z\" fill=\"none\"/>\n",
              "    <path d=\"M18.56 5.44l.94 2.06.94-2.06 2.06-.94-2.06-.94-.94-2.06-.94 2.06-2.06.94zm-11 1L8.5 8.5l.94-2.06 2.06-.94-2.06-.94L8.5 2.5l-.94 2.06-2.06.94zm10 10l.94 2.06.94-2.06 2.06-.94-2.06-.94-.94-2.06-.94 2.06-2.06.94z\"/><path d=\"M17.41 7.96l-1.37-1.37c-.4-.4-.92-.59-1.43-.59-.52 0-1.04.2-1.43.59L10.3 9.45l-7.72 7.72c-.78.78-.78 2.05 0 2.83L4 21.41c.39.39.9.59 1.41.59.51 0 1.02-.2 1.41-.59l7.78-7.78 2.81-2.81c.8-.78.8-2.07 0-2.86zM5.41 20L4 18.59l7.72-7.72 1.47 1.35L5.41 20z\"/>\n",
              "  </svg>\n",
              "      </button>\n",
              "      \n",
              "  <style>\n",
              "    .colab-df-container {\n",
              "      display:flex;\n",
              "      flex-wrap:wrap;\n",
              "      gap: 12px;\n",
              "    }\n",
              "\n",
              "    .colab-df-convert {\n",
              "      background-color: #E8F0FE;\n",
              "      border: none;\n",
              "      border-radius: 50%;\n",
              "      cursor: pointer;\n",
              "      display: none;\n",
              "      fill: #1967D2;\n",
              "      height: 32px;\n",
              "      padding: 0 0 0 0;\n",
              "      width: 32px;\n",
              "    }\n",
              "\n",
              "    .colab-df-convert:hover {\n",
              "      background-color: #E2EBFA;\n",
              "      box-shadow: 0px 1px 2px rgba(60, 64, 67, 0.3), 0px 1px 3px 1px rgba(60, 64, 67, 0.15);\n",
              "      fill: #174EA6;\n",
              "    }\n",
              "\n",
              "    [theme=dark] .colab-df-convert {\n",
              "      background-color: #3B4455;\n",
              "      fill: #D2E3FC;\n",
              "    }\n",
              "\n",
              "    [theme=dark] .colab-df-convert:hover {\n",
              "      background-color: #434B5C;\n",
              "      box-shadow: 0px 1px 3px 1px rgba(0, 0, 0, 0.15);\n",
              "      filter: drop-shadow(0px 1px 2px rgba(0, 0, 0, 0.3));\n",
              "      fill: #FFFFFF;\n",
              "    }\n",
              "  </style>\n",
              "\n",
              "      <script>\n",
              "        const buttonEl =\n",
              "          document.querySelector('#df-1e4f6049-11db-4cca-a896-a9a21beb3baa button.colab-df-convert');\n",
              "        buttonEl.style.display =\n",
              "          google.colab.kernel.accessAllowed ? 'block' : 'none';\n",
              "\n",
              "        async function convertToInteractive(key) {\n",
              "          const element = document.querySelector('#df-1e4f6049-11db-4cca-a896-a9a21beb3baa');\n",
              "          const dataTable =\n",
              "            await google.colab.kernel.invokeFunction('convertToInteractive',\n",
              "                                                     [key], {});\n",
              "          if (!dataTable) return;\n",
              "\n",
              "          const docLinkHtml = 'Like what you see? Visit the ' +\n",
              "            '<a target=\"_blank\" href=https://colab.research.google.com/notebooks/data_table.ipynb>data table notebook</a>'\n",
              "            + ' to learn more about interactive tables.';\n",
              "          element.innerHTML = '';\n",
              "          dataTable['output_type'] = 'display_data';\n",
              "          await google.colab.output.renderOutput(dataTable, element);\n",
              "          const docLink = document.createElement('div');\n",
              "          docLink.innerHTML = docLinkHtml;\n",
              "          element.appendChild(docLink);\n",
              "        }\n",
              "      </script>\n",
              "    </div>\n",
              "  </div>\n",
              "  "
            ]
          },
          "metadata": {},
          "execution_count": 10
        }
      ]
    },
    {
      "cell_type": "code",
      "source": [
        "df.describe()"
      ],
      "metadata": {
        "colab": {
          "base_uri": "https://localhost:8080/",
          "height": 394
        },
        "id": "o0aFRIlrtzNT",
        "outputId": "e657bb15-f5f9-483b-ef93-d0b7fa32209d"
      },
      "execution_count": null,
      "outputs": [
        {
          "output_type": "execute_result",
          "data": {
            "text/plain": [
              "               Age       Gender  AirPollution   Alcoholuse  DustAllergy  \\\n",
              "count  1000.000000  1000.000000     1000.0000  1000.000000  1000.000000   \n",
              "mean     37.174000     1.402000        3.8400     4.563000     5.165000   \n",
              "std      12.005493     0.490547        2.0304     2.620477     1.980833   \n",
              "min      14.000000     1.000000        1.0000     1.000000     1.000000   \n",
              "25%      27.750000     1.000000        2.0000     2.000000     4.000000   \n",
              "50%      36.000000     1.000000        3.0000     5.000000     6.000000   \n",
              "75%      45.000000     2.000000        6.0000     7.000000     7.000000   \n",
              "max      73.000000     2.000000        8.0000     8.000000     8.000000   \n",
              "\n",
              "       OccuPationalHazards  GeneticRisk  chronicLungDisease  BalancedDiet  \\\n",
              "count          1000.000000  1000.000000         1000.000000   1000.000000   \n",
              "mean              4.840000     4.580000            4.380000      4.491000   \n",
              "std               2.107805     2.126999            1.848518      2.135528   \n",
              "min               1.000000     1.000000            1.000000      1.000000   \n",
              "25%               3.000000     2.000000            3.000000      2.000000   \n",
              "50%               5.000000     5.000000            4.000000      4.000000   \n",
              "75%               7.000000     7.000000            6.000000      7.000000   \n",
              "max               8.000000     7.000000            7.000000      7.000000   \n",
              "\n",
              "           Obesity  ...  CoughingofBlood      Fatigue   WeightLoss  \\\n",
              "count  1000.000000  ...      1000.000000  1000.000000  1000.000000   \n",
              "mean      4.465000  ...         4.859000     3.856000     3.855000   \n",
              "std       2.124921  ...         2.427965     2.244616     2.206546   \n",
              "min       1.000000  ...         1.000000     1.000000     1.000000   \n",
              "25%       3.000000  ...         3.000000     2.000000     2.000000   \n",
              "50%       4.000000  ...         4.000000     3.000000     3.000000   \n",
              "75%       7.000000  ...         7.000000     5.000000     6.000000   \n",
              "max       7.000000  ...         9.000000     9.000000     8.000000   \n",
              "\n",
              "       ShortnessofBreath     Wheezing  SwallowingDifficulty  \\\n",
              "count        1000.000000  1000.000000           1000.000000   \n",
              "mean            4.240000     3.777000              3.746000   \n",
              "std             2.285087     2.041921              2.270383   \n",
              "min             1.000000     1.000000              1.000000   \n",
              "25%             2.000000     2.000000              2.000000   \n",
              "50%             4.000000     4.000000              4.000000   \n",
              "75%             6.000000     5.000000              5.000000   \n",
              "max             9.000000     8.000000              8.000000   \n",
              "\n",
              "       ClubbingofFingerNails  FrequentCold     DryCough      Snoring  \n",
              "count            1000.000000   1000.000000  1000.000000  1000.000000  \n",
              "mean                3.923000      3.536000     3.853000     2.926000  \n",
              "std                 2.388048      1.832502     2.039007     1.474686  \n",
              "min                 1.000000      1.000000     1.000000     1.000000  \n",
              "25%                 2.000000      2.000000     2.000000     2.000000  \n",
              "50%                 4.000000      3.000000     4.000000     3.000000  \n",
              "75%                 5.000000      5.000000     6.000000     4.000000  \n",
              "max                 9.000000      7.000000     7.000000     7.000000  \n",
              "\n",
              "[8 rows x 23 columns]"
            ],
            "text/html": [
              "\n",
              "  <div id=\"df-4f8a07f2-819b-4bae-9ee0-3a73d29cc45e\">\n",
              "    <div class=\"colab-df-container\">\n",
              "      <div>\n",
              "<style scoped>\n",
              "    .dataframe tbody tr th:only-of-type {\n",
              "        vertical-align: middle;\n",
              "    }\n",
              "\n",
              "    .dataframe tbody tr th {\n",
              "        vertical-align: top;\n",
              "    }\n",
              "\n",
              "    .dataframe thead th {\n",
              "        text-align: right;\n",
              "    }\n",
              "</style>\n",
              "<table border=\"1\" class=\"dataframe\">\n",
              "  <thead>\n",
              "    <tr style=\"text-align: right;\">\n",
              "      <th></th>\n",
              "      <th>Age</th>\n",
              "      <th>Gender</th>\n",
              "      <th>AirPollution</th>\n",
              "      <th>Alcoholuse</th>\n",
              "      <th>DustAllergy</th>\n",
              "      <th>OccuPationalHazards</th>\n",
              "      <th>GeneticRisk</th>\n",
              "      <th>chronicLungDisease</th>\n",
              "      <th>BalancedDiet</th>\n",
              "      <th>Obesity</th>\n",
              "      <th>...</th>\n",
              "      <th>CoughingofBlood</th>\n",
              "      <th>Fatigue</th>\n",
              "      <th>WeightLoss</th>\n",
              "      <th>ShortnessofBreath</th>\n",
              "      <th>Wheezing</th>\n",
              "      <th>SwallowingDifficulty</th>\n",
              "      <th>ClubbingofFingerNails</th>\n",
              "      <th>FrequentCold</th>\n",
              "      <th>DryCough</th>\n",
              "      <th>Snoring</th>\n",
              "    </tr>\n",
              "  </thead>\n",
              "  <tbody>\n",
              "    <tr>\n",
              "      <th>count</th>\n",
              "      <td>1000.000000</td>\n",
              "      <td>1000.000000</td>\n",
              "      <td>1000.0000</td>\n",
              "      <td>1000.000000</td>\n",
              "      <td>1000.000000</td>\n",
              "      <td>1000.000000</td>\n",
              "      <td>1000.000000</td>\n",
              "      <td>1000.000000</td>\n",
              "      <td>1000.000000</td>\n",
              "      <td>1000.000000</td>\n",
              "      <td>...</td>\n",
              "      <td>1000.000000</td>\n",
              "      <td>1000.000000</td>\n",
              "      <td>1000.000000</td>\n",
              "      <td>1000.000000</td>\n",
              "      <td>1000.000000</td>\n",
              "      <td>1000.000000</td>\n",
              "      <td>1000.000000</td>\n",
              "      <td>1000.000000</td>\n",
              "      <td>1000.000000</td>\n",
              "      <td>1000.000000</td>\n",
              "    </tr>\n",
              "    <tr>\n",
              "      <th>mean</th>\n",
              "      <td>37.174000</td>\n",
              "      <td>1.402000</td>\n",
              "      <td>3.8400</td>\n",
              "      <td>4.563000</td>\n",
              "      <td>5.165000</td>\n",
              "      <td>4.840000</td>\n",
              "      <td>4.580000</td>\n",
              "      <td>4.380000</td>\n",
              "      <td>4.491000</td>\n",
              "      <td>4.465000</td>\n",
              "      <td>...</td>\n",
              "      <td>4.859000</td>\n",
              "      <td>3.856000</td>\n",
              "      <td>3.855000</td>\n",
              "      <td>4.240000</td>\n",
              "      <td>3.777000</td>\n",
              "      <td>3.746000</td>\n",
              "      <td>3.923000</td>\n",
              "      <td>3.536000</td>\n",
              "      <td>3.853000</td>\n",
              "      <td>2.926000</td>\n",
              "    </tr>\n",
              "    <tr>\n",
              "      <th>std</th>\n",
              "      <td>12.005493</td>\n",
              "      <td>0.490547</td>\n",
              "      <td>2.0304</td>\n",
              "      <td>2.620477</td>\n",
              "      <td>1.980833</td>\n",
              "      <td>2.107805</td>\n",
              "      <td>2.126999</td>\n",
              "      <td>1.848518</td>\n",
              "      <td>2.135528</td>\n",
              "      <td>2.124921</td>\n",
              "      <td>...</td>\n",
              "      <td>2.427965</td>\n",
              "      <td>2.244616</td>\n",
              "      <td>2.206546</td>\n",
              "      <td>2.285087</td>\n",
              "      <td>2.041921</td>\n",
              "      <td>2.270383</td>\n",
              "      <td>2.388048</td>\n",
              "      <td>1.832502</td>\n",
              "      <td>2.039007</td>\n",
              "      <td>1.474686</td>\n",
              "    </tr>\n",
              "    <tr>\n",
              "      <th>min</th>\n",
              "      <td>14.000000</td>\n",
              "      <td>1.000000</td>\n",
              "      <td>1.0000</td>\n",
              "      <td>1.000000</td>\n",
              "      <td>1.000000</td>\n",
              "      <td>1.000000</td>\n",
              "      <td>1.000000</td>\n",
              "      <td>1.000000</td>\n",
              "      <td>1.000000</td>\n",
              "      <td>1.000000</td>\n",
              "      <td>...</td>\n",
              "      <td>1.000000</td>\n",
              "      <td>1.000000</td>\n",
              "      <td>1.000000</td>\n",
              "      <td>1.000000</td>\n",
              "      <td>1.000000</td>\n",
              "      <td>1.000000</td>\n",
              "      <td>1.000000</td>\n",
              "      <td>1.000000</td>\n",
              "      <td>1.000000</td>\n",
              "      <td>1.000000</td>\n",
              "    </tr>\n",
              "    <tr>\n",
              "      <th>25%</th>\n",
              "      <td>27.750000</td>\n",
              "      <td>1.000000</td>\n",
              "      <td>2.0000</td>\n",
              "      <td>2.000000</td>\n",
              "      <td>4.000000</td>\n",
              "      <td>3.000000</td>\n",
              "      <td>2.000000</td>\n",
              "      <td>3.000000</td>\n",
              "      <td>2.000000</td>\n",
              "      <td>3.000000</td>\n",
              "      <td>...</td>\n",
              "      <td>3.000000</td>\n",
              "      <td>2.000000</td>\n",
              "      <td>2.000000</td>\n",
              "      <td>2.000000</td>\n",
              "      <td>2.000000</td>\n",
              "      <td>2.000000</td>\n",
              "      <td>2.000000</td>\n",
              "      <td>2.000000</td>\n",
              "      <td>2.000000</td>\n",
              "      <td>2.000000</td>\n",
              "    </tr>\n",
              "    <tr>\n",
              "      <th>50%</th>\n",
              "      <td>36.000000</td>\n",
              "      <td>1.000000</td>\n",
              "      <td>3.0000</td>\n",
              "      <td>5.000000</td>\n",
              "      <td>6.000000</td>\n",
              "      <td>5.000000</td>\n",
              "      <td>5.000000</td>\n",
              "      <td>4.000000</td>\n",
              "      <td>4.000000</td>\n",
              "      <td>4.000000</td>\n",
              "      <td>...</td>\n",
              "      <td>4.000000</td>\n",
              "      <td>3.000000</td>\n",
              "      <td>3.000000</td>\n",
              "      <td>4.000000</td>\n",
              "      <td>4.000000</td>\n",
              "      <td>4.000000</td>\n",
              "      <td>4.000000</td>\n",
              "      <td>3.000000</td>\n",
              "      <td>4.000000</td>\n",
              "      <td>3.000000</td>\n",
              "    </tr>\n",
              "    <tr>\n",
              "      <th>75%</th>\n",
              "      <td>45.000000</td>\n",
              "      <td>2.000000</td>\n",
              "      <td>6.0000</td>\n",
              "      <td>7.000000</td>\n",
              "      <td>7.000000</td>\n",
              "      <td>7.000000</td>\n",
              "      <td>7.000000</td>\n",
              "      <td>6.000000</td>\n",
              "      <td>7.000000</td>\n",
              "      <td>7.000000</td>\n",
              "      <td>...</td>\n",
              "      <td>7.000000</td>\n",
              "      <td>5.000000</td>\n",
              "      <td>6.000000</td>\n",
              "      <td>6.000000</td>\n",
              "      <td>5.000000</td>\n",
              "      <td>5.000000</td>\n",
              "      <td>5.000000</td>\n",
              "      <td>5.000000</td>\n",
              "      <td>6.000000</td>\n",
              "      <td>4.000000</td>\n",
              "    </tr>\n",
              "    <tr>\n",
              "      <th>max</th>\n",
              "      <td>73.000000</td>\n",
              "      <td>2.000000</td>\n",
              "      <td>8.0000</td>\n",
              "      <td>8.000000</td>\n",
              "      <td>8.000000</td>\n",
              "      <td>8.000000</td>\n",
              "      <td>7.000000</td>\n",
              "      <td>7.000000</td>\n",
              "      <td>7.000000</td>\n",
              "      <td>7.000000</td>\n",
              "      <td>...</td>\n",
              "      <td>9.000000</td>\n",
              "      <td>9.000000</td>\n",
              "      <td>8.000000</td>\n",
              "      <td>9.000000</td>\n",
              "      <td>8.000000</td>\n",
              "      <td>8.000000</td>\n",
              "      <td>9.000000</td>\n",
              "      <td>7.000000</td>\n",
              "      <td>7.000000</td>\n",
              "      <td>7.000000</td>\n",
              "    </tr>\n",
              "  </tbody>\n",
              "</table>\n",
              "<p>8 rows × 23 columns</p>\n",
              "</div>\n",
              "      <button class=\"colab-df-convert\" onclick=\"convertToInteractive('df-4f8a07f2-819b-4bae-9ee0-3a73d29cc45e')\"\n",
              "              title=\"Convert this dataframe to an interactive table.\"\n",
              "              style=\"display:none;\">\n",
              "        \n",
              "  <svg xmlns=\"http://www.w3.org/2000/svg\" height=\"24px\"viewBox=\"0 0 24 24\"\n",
              "       width=\"24px\">\n",
              "    <path d=\"M0 0h24v24H0V0z\" fill=\"none\"/>\n",
              "    <path d=\"M18.56 5.44l.94 2.06.94-2.06 2.06-.94-2.06-.94-.94-2.06-.94 2.06-2.06.94zm-11 1L8.5 8.5l.94-2.06 2.06-.94-2.06-.94L8.5 2.5l-.94 2.06-2.06.94zm10 10l.94 2.06.94-2.06 2.06-.94-2.06-.94-.94-2.06-.94 2.06-2.06.94z\"/><path d=\"M17.41 7.96l-1.37-1.37c-.4-.4-.92-.59-1.43-.59-.52 0-1.04.2-1.43.59L10.3 9.45l-7.72 7.72c-.78.78-.78 2.05 0 2.83L4 21.41c.39.39.9.59 1.41.59.51 0 1.02-.2 1.41-.59l7.78-7.78 2.81-2.81c.8-.78.8-2.07 0-2.86zM5.41 20L4 18.59l7.72-7.72 1.47 1.35L5.41 20z\"/>\n",
              "  </svg>\n",
              "      </button>\n",
              "      \n",
              "  <style>\n",
              "    .colab-df-container {\n",
              "      display:flex;\n",
              "      flex-wrap:wrap;\n",
              "      gap: 12px;\n",
              "    }\n",
              "\n",
              "    .colab-df-convert {\n",
              "      background-color: #E8F0FE;\n",
              "      border: none;\n",
              "      border-radius: 50%;\n",
              "      cursor: pointer;\n",
              "      display: none;\n",
              "      fill: #1967D2;\n",
              "      height: 32px;\n",
              "      padding: 0 0 0 0;\n",
              "      width: 32px;\n",
              "    }\n",
              "\n",
              "    .colab-df-convert:hover {\n",
              "      background-color: #E2EBFA;\n",
              "      box-shadow: 0px 1px 2px rgba(60, 64, 67, 0.3), 0px 1px 3px 1px rgba(60, 64, 67, 0.15);\n",
              "      fill: #174EA6;\n",
              "    }\n",
              "\n",
              "    [theme=dark] .colab-df-convert {\n",
              "      background-color: #3B4455;\n",
              "      fill: #D2E3FC;\n",
              "    }\n",
              "\n",
              "    [theme=dark] .colab-df-convert:hover {\n",
              "      background-color: #434B5C;\n",
              "      box-shadow: 0px 1px 3px 1px rgba(0, 0, 0, 0.15);\n",
              "      filter: drop-shadow(0px 1px 2px rgba(0, 0, 0, 0.3));\n",
              "      fill: #FFFFFF;\n",
              "    }\n",
              "  </style>\n",
              "\n",
              "      <script>\n",
              "        const buttonEl =\n",
              "          document.querySelector('#df-4f8a07f2-819b-4bae-9ee0-3a73d29cc45e button.colab-df-convert');\n",
              "        buttonEl.style.display =\n",
              "          google.colab.kernel.accessAllowed ? 'block' : 'none';\n",
              "\n",
              "        async function convertToInteractive(key) {\n",
              "          const element = document.querySelector('#df-4f8a07f2-819b-4bae-9ee0-3a73d29cc45e');\n",
              "          const dataTable =\n",
              "            await google.colab.kernel.invokeFunction('convertToInteractive',\n",
              "                                                     [key], {});\n",
              "          if (!dataTable) return;\n",
              "\n",
              "          const docLinkHtml = 'Like what you see? Visit the ' +\n",
              "            '<a target=\"_blank\" href=https://colab.research.google.com/notebooks/data_table.ipynb>data table notebook</a>'\n",
              "            + ' to learn more about interactive tables.';\n",
              "          element.innerHTML = '';\n",
              "          dataTable['output_type'] = 'display_data';\n",
              "          await google.colab.output.renderOutput(dataTable, element);\n",
              "          const docLink = document.createElement('div');\n",
              "          docLink.innerHTML = docLinkHtml;\n",
              "          element.appendChild(docLink);\n",
              "        }\n",
              "      </script>\n",
              "    </div>\n",
              "  </div>\n",
              "  "
            ]
          },
          "metadata": {},
          "execution_count": 11
        }
      ]
    },
    {
      "cell_type": "code",
      "source": [
        "df.dtypes"
      ],
      "metadata": {
        "colab": {
          "base_uri": "https://localhost:8080/"
        },
        "id": "y0qhqpQzucFq",
        "outputId": "2bd47411-1943-4180-9a67-ce40c3294fde"
      },
      "execution_count": null,
      "outputs": [
        {
          "output_type": "execute_result",
          "data": {
            "text/plain": [
              "Patient Id               object\n",
              "Age                       int64\n",
              "Gender                    int64\n",
              "AirPollution              int64\n",
              "Alcoholuse                int64\n",
              "DustAllergy               int64\n",
              "OccuPationalHazards       int64\n",
              "GeneticRisk               int64\n",
              "chronicLungDisease        int64\n",
              "BalancedDiet              int64\n",
              "Obesity                   int64\n",
              "Smoking                   int64\n",
              "PassiveSmoker             int64\n",
              "ChestPain                 int64\n",
              "CoughingofBlood           int64\n",
              "Fatigue                   int64\n",
              "WeightLoss                int64\n",
              "ShortnessofBreath         int64\n",
              "Wheezing                  int64\n",
              "SwallowingDifficulty      int64\n",
              "ClubbingofFingerNails     int64\n",
              "FrequentCold              int64\n",
              "DryCough                  int64\n",
              "Snoring                   int64\n",
              "Level                    object\n",
              "dtype: object"
            ]
          },
          "metadata": {},
          "execution_count": 12
        }
      ]
    },
    {
      "cell_type": "code",
      "source": [
        "df=df.drop(['Patient Id'], axis=1)"
      ],
      "metadata": {
        "id": "Dj8aYrpIuvus"
      },
      "execution_count": null,
      "outputs": []
    },
    {
      "cell_type": "code",
      "source": [
        "df.hist(figsize = (50,40),color = 'darkorange',edgecolor = 'black');"
      ],
      "metadata": {
        "colab": {
          "base_uri": "https://localhost:8080/",
          "height": 690
        },
        "id": "GHs1ZKjdwNpB",
        "outputId": "bd92e074-7e8c-4f43-94de-f49591aedc96"
      },
      "execution_count": null,
      "outputs": [
        {
          "output_type": "display_data",
          "data": {
            "text/plain": [
              "<Figure size 3600x2880 with 25 Axes>"
            ],
            "image/png": "[encoded data removed]"
          },
          "metadata": {
            "needs_background": "light"
          }
        }
      ]
    },
    {
      "cell_type": "code",
      "source": [
        "total = float(df.shape[0])\n",
        "ploting = sns.countplot(x='Gender', data=df)\n",
        "for p in ploting.patches:\n",
        "    height = p.get_height()\n",
        "    ploting.text(p.get_x() + p.get_width()/2.,\n",
        "           height,\n",
        "           '{:.2f}'.format((height/total)*100),\n",
        "           ha='center')\n",
        "plt.legend()\n",
        "plt.show()"
      ],
      "metadata": {
        "colab": {
          "base_uri": "https://localhost:8080/",
          "height": 296
        },
        "id": "bZh1ToS8IqcL",
        "outputId": "b11ad7af-8fa8-4a0a-c23e-11d262ca226b"
      },
      "execution_count": null,
      "outputs": [
        {
          "output_type": "stream",
          "name": "stderr",
          "text": [
            "WARNING:matplotlib.legend:No handles with labels found to put in legend.\n"
          ]
        },
        {
          "output_type": "display_data",
          "data": {
            "text/plain": [
              "<Figure size 432x288 with 1 Axes>"
            ],
            "image/png": "[encoded data removed]"
          },
          "metadata": {
            "needs_background": "light"
          }
        }
      ]
    },
    {
      "cell_type": "code",
      "source": [
        "df['Level'] = df['Level'].map({'Low':0,'Medium':1, 'High': 2})"
      ],
      "metadata": {
        "id": "-pJqqiOqMH_O"
      },
      "execution_count": null,
      "outputs": []
    },
    {
      "cell_type": "code",
      "source": [
        "df.head()"
      ],
      "metadata": {
        "colab": {
          "base_uri": "https://localhost:8080/",
          "height": 299
        },
        "id": "XFaJaR5LMpem",
        "outputId": "5df9c6ae-359d-4089-f2f4-c7f0a34b6264"
      },
      "execution_count": null,
      "outputs": [
        {
          "output_type": "execute_result",
          "data": {
            "text/plain": [
              "   Age  Gender  AirPollution  Alcoholuse  DustAllergy  OccuPationalHazards  \\\n",
              "0   33       1             2           4            5                    4   \n",
              "1   17       1             3           1            5                    3   \n",
              "2   35       1             4           5            6                    5   \n",
              "3   37       1             7           7            7                    7   \n",
              "4   46       1             6           8            7                    7   \n",
              "\n",
              "   GeneticRisk  chronicLungDisease  BalancedDiet  Obesity  ...  Fatigue  \\\n",
              "0            3                   2             2        4  ...        3   \n",
              "1            4                   2             2        2  ...        1   \n",
              "2            5                   4             6        7  ...        8   \n",
              "3            6                   7             7        7  ...        4   \n",
              "4            7                   6             7        7  ...        3   \n",
              "\n",
              "   WeightLoss  ShortnessofBreath  Wheezing  SwallowingDifficulty  \\\n",
              "0           4                  2         2                     3   \n",
              "1           3                  7         8                     6   \n",
              "2           7                  9         2                     1   \n",
              "3           2                  3         1                     4   \n",
              "4           2                  4         1                     4   \n",
              "\n",
              "   ClubbingofFingerNails  FrequentCold  DryCough  Snoring  Level  \n",
              "0                      1             2         3        4      0  \n",
              "1                      2             1         7        2      1  \n",
              "2                      4             6         7        2      2  \n",
              "3                      5             6         7        5      2  \n",
              "4                      2             4         2        3      2  \n",
              "\n",
              "[5 rows x 24 columns]"
            ],
            "text/html": [
              "\n",
              "  <div id=\"df-f4cad8ef-ac83-4c31-8ffe-1d7e44d0d576\">\n",
              "    <div class=\"colab-df-container\">\n",
              "      <div>\n",
              "<style scoped>\n",
              "    .dataframe tbody tr th:only-of-type {\n",
              "        vertical-align: middle;\n",
              "    }\n",
              "\n",
              "    .dataframe tbody tr th {\n",
              "        vertical-align: top;\n",
              "    }\n",
              "\n",
              "    .dataframe thead th {\n",
              "        text-align: right;\n",
              "    }\n",
              "</style>\n",
              "<table border=\"1\" class=\"dataframe\">\n",
              "  <thead>\n",
              "    <tr style=\"text-align: right;\">\n",
              "      <th></th>\n",
              "      <th>Age</th>\n",
              "      <th>Gender</th>\n",
              "      <th>AirPollution</th>\n",
              "      <th>Alcoholuse</th>\n",
              "      <th>DustAllergy</th>\n",
              "      <th>OccuPationalHazards</th>\n",
              "      <th>GeneticRisk</th>\n",
              "      <th>chronicLungDisease</th>\n",
              "      <th>BalancedDiet</th>\n",
              "      <th>Obesity</th>\n",
              "      <th>...</th>\n",
              "      <th>Fatigue</th>\n",
              "      <th>WeightLoss</th>\n",
              "      <th>ShortnessofBreath</th>\n",
              "      <th>Wheezing</th>\n",
              "      <th>SwallowingDifficulty</th>\n",
              "      <th>ClubbingofFingerNails</th>\n",
              "      <th>FrequentCold</th>\n",
              "      <th>DryCough</th>\n",
              "      <th>Snoring</th>\n",
              "      <th>Level</th>\n",
              "    </tr>\n",
              "  </thead>\n",
              "  <tbody>\n",
              "    <tr>\n",
              "      <th>0</th>\n",
              "      <td>33</td>\n",
              "      <td>1</td>\n",
              "      <td>2</td>\n",
              "      <td>4</td>\n",
              "      <td>5</td>\n",
              "      <td>4</td>\n",
              "      <td>3</td>\n",
              "      <td>2</td>\n",
              "      <td>2</td>\n",
              "      <td>4</td>\n",
              "      <td>...</td>\n",
              "      <td>3</td>\n",
              "      <td>4</td>\n",
              "      <td>2</td>\n",
              "      <td>2</td>\n",
              "      <td>3</td>\n",
              "      <td>1</td>\n",
              "      <td>2</td>\n",
              "      <td>3</td>\n",
              "      <td>4</td>\n",
              "      <td>0</td>\n",
              "    </tr>\n",
              "    <tr>\n",
              "      <th>1</th>\n",
              "      <td>17</td>\n",
              "      <td>1</td>\n",
              "      <td>3</td>\n",
              "      <td>1</td>\n",
              "      <td>5</td>\n",
              "      <td>3</td>\n",
              "      <td>4</td>\n",
              "      <td>2</td>\n",
              "      <td>2</td>\n",
              "      <td>2</td>\n",
              "      <td>...</td>\n",
              "      <td>1</td>\n",
              "      <td>3</td>\n",
              "      <td>7</td>\n",
              "      <td>8</td>\n",
              "      <td>6</td>\n",
              "      <td>2</td>\n",
              "      <td>1</td>\n",
              "      <td>7</td>\n",
              "      <td>2</td>\n",
              "      <td>1</td>\n",
              "    </tr>\n",
              "    <tr>\n",
              "      <th>2</th>\n",
              "      <td>35</td>\n",
              "      <td>1</td>\n",
              "      <td>4</td>\n",
              "      <td>5</td>\n",
              "      <td>6</td>\n",
              "      <td>5</td>\n",
              "      <td>5</td>\n",
              "      <td>4</td>\n",
              "      <td>6</td>\n",
              "      <td>7</td>\n",
              "      <td>...</td>\n",
              "      <td>8</td>\n",
              "      <td>7</td>\n",
              "      <td>9</td>\n",
              "      <td>2</td>\n",
              "      <td>1</td>\n",
              "      <td>4</td>\n",
              "      <td>6</td>\n",
              "      <td>7</td>\n",
              "      <td>2</td>\n",
              "      <td>2</td>\n",
              "    </tr>\n",
              "    <tr>\n",
              "      <th>3</th>\n",
              "      <td>37</td>\n",
              "      <td>1</td>\n",
              "      <td>7</td>\n",
              "      <td>7</td>\n",
              "      <td>7</td>\n",
              "      <td>7</td>\n",
              "      <td>6</td>\n",
              "      <td>7</td>\n",
              "      <td>7</td>\n",
              "      <td>7</td>\n",
              "      <td>...</td>\n",
              "      <td>4</td>\n",
              "      <td>2</td>\n",
              "      <td>3</td>\n",
              "      <td>1</td>\n",
              "      <td>4</td>\n",
              "      <td>5</td>\n",
              "      <td>6</td>\n",
              "      <td>7</td>\n",
              "      <td>5</td>\n",
              "      <td>2</td>\n",
              "    </tr>\n",
              "    <tr>\n",
              "      <th>4</th>\n",
              "      <td>46</td>\n",
              "      <td>1</td>\n",
              "      <td>6</td>\n",
              "      <td>8</td>\n",
              "      <td>7</td>\n",
              "      <td>7</td>\n",
              "      <td>7</td>\n",
              "      <td>6</td>\n",
              "      <td>7</td>\n",
              "      <td>7</td>\n",
              "      <td>...</td>\n",
              "      <td>3</td>\n",
              "      <td>2</td>\n",
              "      <td>4</td>\n",
              "      <td>1</td>\n",
              "      <td>4</td>\n",
              "      <td>2</td>\n",
              "      <td>4</td>\n",
              "      <td>2</td>\n",
              "      <td>3</td>\n",
              "      <td>2</td>\n",
              "    </tr>\n",
              "  </tbody>\n",
              "</table>\n",
              "<p>5 rows × 24 columns</p>\n",
              "</div>\n",
              "      <button class=\"colab-df-convert\" onclick=\"convertToInteractive('df-f4cad8ef-ac83-4c31-8ffe-1d7e44d0d576')\"\n",
              "              title=\"Convert this dataframe to an interactive table.\"\n",
              "              style=\"display:none;\">\n",
              "        \n",
              "  <svg xmlns=\"http://www.w3.org/2000/svg\" height=\"24px\"viewBox=\"0 0 24 24\"\n",
              "       width=\"24px\">\n",
              "    <path d=\"M0 0h24v24H0V0z\" fill=\"none\"/>\n",
              "    <path d=\"M18.56 5.44l.94 2.06.94-2.06 2.06-.94-2.06-.94-.94-2.06-.94 2.06-2.06.94zm-11 1L8.5 8.5l.94-2.06 2.06-.94-2.06-.94L8.5 2.5l-.94 2.06-2.06.94zm10 10l.94 2.06.94-2.06 2.06-.94-2.06-.94-.94-2.06-.94 2.06-2.06.94z\"/><path d=\"M17.41 7.96l-1.37-1.37c-.4-.4-.92-.59-1.43-.59-.52 0-1.04.2-1.43.59L10.3 9.45l-7.72 7.72c-.78.78-.78 2.05 0 2.83L4 21.41c.39.39.9.59 1.41.59.51 0 1.02-.2 1.41-.59l7.78-7.78 2.81-2.81c.8-.78.8-2.07 0-2.86zM5.41 20L4 18.59l7.72-7.72 1.47 1.35L5.41 20z\"/>\n",
              "  </svg>\n",
              "      </button>\n",
              "      \n",
              "  <style>\n",
              "    .colab-df-container {\n",
              "      display:flex;\n",
              "      flex-wrap:wrap;\n",
              "      gap: 12px;\n",
              "    }\n",
              "\n",
              "    .colab-df-convert {\n",
              "      background-color: #E8F0FE;\n",
              "      border: none;\n",
              "      border-radius: 50%;\n",
              "      cursor: pointer;\n",
              "      display: none;\n",
              "      fill: #1967D2;\n",
              "      height: 32px;\n",
              "      padding: 0 0 0 0;\n",
              "      width: 32px;\n",
              "    }\n",
              "\n",
              "    .colab-df-convert:hover {\n",
              "      background-color: #E2EBFA;\n",
              "      box-shadow: 0px 1px 2px rgba(60, 64, 67, 0.3), 0px 1px 3px 1px rgba(60, 64, 67, 0.15);\n",
              "      fill: #174EA6;\n",
              "    }\n",
              "\n",
              "    [theme=dark] .colab-df-convert {\n",
              "      background-color: #3B4455;\n",
              "      fill: #D2E3FC;\n",
              "    }\n",
              "\n",
              "    [theme=dark] .colab-df-convert:hover {\n",
              "      background-color: #434B5C;\n",
              "      box-shadow: 0px 1px 3px 1px rgba(0, 0, 0, 0.15);\n",
              "      filter: drop-shadow(0px 1px 2px rgba(0, 0, 0, 0.3));\n",
              "      fill: #FFFFFF;\n",
              "    }\n",
              "  </style>\n",
              "\n",
              "      <script>\n",
              "        const buttonEl =\n",
              "          document.querySelector('#df-f4cad8ef-ac83-4c31-8ffe-1d7e44d0d576 button.colab-df-convert');\n",
              "        buttonEl.style.display =\n",
              "          google.colab.kernel.accessAllowed ? 'block' : 'none';\n",
              "\n",
              "        async function convertToInteractive(key) {\n",
              "          const element = document.querySelector('#df-f4cad8ef-ac83-4c31-8ffe-1d7e44d0d576');\n",
              "          const dataTable =\n",
              "            await google.colab.kernel.invokeFunction('convertToInteractive',\n",
              "                                                     [key], {});\n",
              "          if (!dataTable) return;\n",
              "\n",
              "          const docLinkHtml = 'Like what you see? Visit the ' +\n",
              "            '<a target=\"_blank\" href=https://colab.research.google.com/notebooks/data_table.ipynb>data table notebook</a>'\n",
              "            + ' to learn more about interactive tables.';\n",
              "          element.innerHTML = '';\n",
              "          dataTable['output_type'] = 'display_data';\n",
              "          await google.colab.output.renderOutput(dataTable, element);\n",
              "          const docLink = document.createElement('div');\n",
              "          docLink.innerHTML = docLinkHtml;\n",
              "          element.appendChild(docLink);\n",
              "        }\n",
              "      </script>\n",
              "    </div>\n",
              "  </div>\n",
              "  "
            ]
          },
          "metadata": {},
          "execution_count": 17
        }
      ]
    },
    {
      "cell_type": "code",
      "source": [
        "df.plot()"
      ],
      "metadata": {
        "colab": {
          "base_uri": "https://localhost:8080/",
          "height": 416
        },
        "id": "2w-Uuj_WI4j0",
        "outputId": "7da05d27-c975-4fe9-d2c5-50f93d4e10fb"
      },
      "execution_count": null,
      "outputs": [
        {
          "output_type": "execute_result",
          "data": {
            "text/plain": [
              "<matplotlib.axes._subplots.AxesSubplot at 0x7f6c9ff3bf10>"
            ]
          },
          "metadata": {},
          "execution_count": 18
        },
        {
          "output_type": "display_data",
          "data": {
            "text/plain": [
              "<Figure size 432x288 with 1 Axes>"
            ],
            "image/png": "[encoded data removed]"
          },
          "metadata": {
            "needs_background": "light"
          }
        }
      ]
    },
    {
      "cell_type": "code",
      "source": [
        "df.columns\n"
      ],
      "metadata": {
        "colab": {
          "base_uri": "https://localhost:8080/"
        },
        "id": "oJyV3JUOJFI_",
        "outputId": "d6b78316-5962-4748-fbc4-8a7d6ef635d3"
      },
      "execution_count": null,
      "outputs": [
        {
          "output_type": "execute_result",
          "data": {
            "text/plain": [
              "Index(['Age', 'Gender', 'AirPollution', 'Alcoholuse', 'DustAllergy',\n",
              "       'OccuPationalHazards', 'GeneticRisk', 'chronicLungDisease',\n",
              "       'BalancedDiet', 'Obesity', 'Smoking', 'PassiveSmoker', 'ChestPain',\n",
              "       'CoughingofBlood', 'Fatigue', 'WeightLoss', 'ShortnessofBreath',\n",
              "       'Wheezing', 'SwallowingDifficulty', 'ClubbingofFingerNails',\n",
              "       'FrequentCold', 'DryCough', 'Snoring', 'Level'],\n",
              "      dtype='object')"
            ]
          },
          "metadata": {},
          "execution_count": 19
        }
      ]
    },
    {
      "cell_type": "code",
      "source": [
        "corr = df.corr()\n",
        "features = corr.index\n",
        "plt.figure(figsize=(10,10))\n",
        "ax = sns.heatmap(df[features].corr(), annot=True, cmap='YlGn')"
      ],
      "metadata": {
        "colab": {
          "base_uri": "https://localhost:8080/",
          "height": 695
        },
        "id": "2xvYCUnaJLDe",
        "outputId": "cad7f61a-66c5-44a1-cde4-9067d4b95ce6"
      },
      "execution_count": null,
      "outputs": [
        {
          "output_type": "display_data",
          "data": {
            "text/plain": [
              "<Figure size 720x720 with 2 Axes>"
            ],
            "image/png": "[encoded data removed]"
          },
          "metadata": {
            "needs_background": "light"
          }
        }
      ]
    },
    {
      "cell_type": "code",
      "source": [
        "X = df.iloc[:,:-1]\n",
        "y = df['Level']"
      ],
      "metadata": {
        "id": "sCcEhABtMzoW"
      },
      "execution_count": null,
      "outputs": []
    },
    {
      "cell_type": "code",
      "source": [
        "X_train, X_test, y_train, y_test = model_selection.train_test_split(X, y, test_size=0.2, random_state=30)"
      ],
      "metadata": {
        "id": "-4WsUGQTNDqT"
      },
      "execution_count": null,
      "outputs": []
    },
    {
      "cell_type": "code",
      "source": [
        "df.dtypes"
      ],
      "metadata": {
        "colab": {
          "base_uri": "https://localhost:8080/"
        },
        "id": "Cd1cv4IyNvIZ",
        "outputId": "e6acffab-0516-460e-ef07-9c2f3f5c92a4"
      },
      "execution_count": null,
      "outputs": [
        {
          "output_type": "execute_result",
          "data": {
            "text/plain": [
              "Age                      int64\n",
              "Gender                   int64\n",
              "AirPollution             int64\n",
              "Alcoholuse               int64\n",
              "DustAllergy              int64\n",
              "OccuPationalHazards      int64\n",
              "GeneticRisk              int64\n",
              "chronicLungDisease       int64\n",
              "BalancedDiet             int64\n",
              "Obesity                  int64\n",
              "Smoking                  int64\n",
              "PassiveSmoker            int64\n",
              "ChestPain                int64\n",
              "CoughingofBlood          int64\n",
              "Fatigue                  int64\n",
              "WeightLoss               int64\n",
              "ShortnessofBreath        int64\n",
              "Wheezing                 int64\n",
              "SwallowingDifficulty     int64\n",
              "ClubbingofFingerNails    int64\n",
              "FrequentCold             int64\n",
              "DryCough                 int64\n",
              "Snoring                  int64\n",
              "Level                    int64\n",
              "dtype: object"
            ]
          },
          "metadata": {},
          "execution_count": 23
        }
      ]
    },
    {
      "cell_type": "code",
      "source": [
        "from sklearn.preprocessing import MinMaxScaler\n",
        "scaler = MinMaxScaler()\n",
        "X_train_scaled = pd.DataFrame(scaler.fit_transform(X_train),columns=X_train.columns)\n",
        "X_train_scaled"
      ],
      "metadata": {
        "colab": {
          "base_uri": "https://localhost:8080/",
          "height": 488
        },
        "id": "zoydhLbiNOtB",
        "outputId": "838c53e5-8eb5-4284-f20c-f276bf9c1bc5"
      },
      "execution_count": null,
      "outputs": [
        {
          "output_type": "execute_result",
          "data": {
            "text/plain": [
              "          Age  Gender  AirPollution  Alcoholuse  DustAllergy  \\\n",
              "0    0.372881     0.0      0.714286    0.857143     0.857143   \n",
              "1    0.355932     0.0      0.428571    0.571429     0.714286   \n",
              "2    0.322034     0.0      0.714286    0.857143     0.857143   \n",
              "3    0.423729     1.0      0.714286    1.000000     0.857143   \n",
              "4    0.406780     1.0      0.285714    0.142857     0.285714   \n",
              "..        ...     ...           ...         ...          ...   \n",
              "795  0.644068     0.0      0.285714    0.142857     0.000000   \n",
              "796  0.220339     1.0      0.285714    0.000000     0.428571   \n",
              "797  0.355932     1.0      0.142857    0.000000     0.142857   \n",
              "798  0.322034     0.0      0.714286    1.000000     0.857143   \n",
              "799  0.322034     0.0      0.714286    0.857143     0.857143   \n",
              "\n",
              "     OccuPationalHazards  GeneticRisk  chronicLungDisease  BalancedDiet  \\\n",
              "0               0.857143     1.000000            1.000000      0.833333   \n",
              "1               0.571429     0.833333            0.666667      0.666667   \n",
              "2               0.857143     1.000000            1.000000      0.833333   \n",
              "3               0.857143     1.000000            0.833333      1.000000   \n",
              "4               0.142857     0.333333            0.166667      0.333333   \n",
              "..                   ...          ...                 ...           ...   \n",
              "795             0.142857     0.333333            0.666667      0.000000   \n",
              "796             0.142857     0.333333            0.166667      0.333333   \n",
              "797             0.000000     0.166667            0.000000      0.166667   \n",
              "798             0.857143     1.000000            0.833333      1.000000   \n",
              "799             0.857143     1.000000            0.833333      1.000000   \n",
              "\n",
              "      Obesity  ...  CoughingofBlood  Fatigue  WeightLoss  ShortnessofBreath  \\\n",
              "0    1.000000  ...            0.750    0.875    0.571429              0.750   \n",
              "1    0.666667  ...            0.500    0.000    0.428571              0.250   \n",
              "2    1.000000  ...            0.750    0.875    0.571429              0.750   \n",
              "3    1.000000  ...            1.000    0.250    0.142857              0.375   \n",
              "4    0.166667  ...            0.000    0.000    0.142857              0.250   \n",
              "..        ...  ...              ...      ...         ...                ...   \n",
              "795  0.166667  ...            0.000    0.000    0.000000              0.000   \n",
              "796  0.333333  ...            0.125    0.125    0.142857              0.250   \n",
              "797  0.333333  ...            0.000    0.250    0.428571              0.500   \n",
              "798  1.000000  ...            0.750    1.000    0.714286              0.500   \n",
              "799  1.000000  ...            0.750    0.375    0.428571              0.500   \n",
              "\n",
              "     Wheezing  SwallowingDifficulty  ClubbingofFingerNails  FrequentCold  \\\n",
              "0    0.714286              0.857143                  0.875      1.000000   \n",
              "1    0.142857              0.428571                  0.625      0.166667   \n",
              "2    0.714286              0.857143                  0.875      1.000000   \n",
              "3    0.000000              0.428571                  0.125      0.500000   \n",
              "4    0.142857              0.571429                  0.000      0.666667   \n",
              "..        ...                   ...                    ...           ...   \n",
              "795  0.285714              0.142857                  0.250      0.166667   \n",
              "796  0.428571              0.000000                  0.500      0.166667   \n",
              "797  0.000000              0.285714                  0.125      0.000000   \n",
              "798  0.857143              0.142857                  0.375      0.333333   \n",
              "799  0.714286              0.571429                  0.500      0.500000   \n",
              "\n",
              "     DryCough   Snoring  \n",
              "0    0.833333  0.166667  \n",
              "1    0.500000  0.000000  \n",
              "2    0.833333  0.166667  \n",
              "3    0.166667  0.333333  \n",
              "4    0.000000  0.000000  \n",
              "..        ...       ...  \n",
              "795  0.333333  0.333333  \n",
              "796  0.833333  0.166667  \n",
              "797  0.166667  0.166667  \n",
              "798  0.000000  0.500000  \n",
              "799  0.833333  0.666667  \n",
              "\n",
              "[800 rows x 23 columns]"
            ],
            "text/html": [
              "\n",
              "  <div id=\"df-fa0d351b-e226-4904-8b48-25faa7c29096\">\n",
              "    <div class=\"colab-df-container\">\n",
              "      <div>\n",
              "<style scoped>\n",
              "    .dataframe tbody tr th:only-of-type {\n",
              "        vertical-align: middle;\n",
              "    }\n",
              "\n",
              "    .dataframe tbody tr th {\n",
              "        vertical-align: top;\n",
              "    }\n",
              "\n",
              "    .dataframe thead th {\n",
              "        text-align: right;\n",
              "    }\n",
              "</style>\n",
              "<table border=\"1\" class=\"dataframe\">\n",
              "  <thead>\n",
              "    <tr style=\"text-align: right;\">\n",
              "      <th></th>\n",
              "      <th>Age</th>\n",
              "      <th>Gender</th>\n",
              "      <th>AirPollution</th>\n",
              "      <th>Alcoholuse</th>\n",
              "      <th>DustAllergy</th>\n",
              "      <th>OccuPationalHazards</th>\n",
              "      <th>GeneticRisk</th>\n",
              "      <th>chronicLungDisease</th>\n",
              "      <th>BalancedDiet</th>\n",
              "      <th>Obesity</th>\n",
              "      <th>...</th>\n",
              "      <th>CoughingofBlood</th>\n",
              "      <th>Fatigue</th>\n",
              "      <th>WeightLoss</th>\n",
              "      <th>ShortnessofBreath</th>\n",
              "      <th>Wheezing</th>\n",
              "      <th>SwallowingDifficulty</th>\n",
              "      <th>ClubbingofFingerNails</th>\n",
              "      <th>FrequentCold</th>\n",
              "      <th>DryCough</th>\n",
              "      <th>Snoring</th>\n",
              "    </tr>\n",
              "  </thead>\n",
              "  <tbody>\n",
              "    <tr>\n",
              "      <th>0</th>\n",
              "      <td>0.372881</td>\n",
              "      <td>0.0</td>\n",
              "      <td>0.714286</td>\n",
              "      <td>0.857143</td>\n",
              "      <td>0.857143</td>\n",
              "      <td>0.857143</td>\n",
              "      <td>1.000000</td>\n",
              "      <td>1.000000</td>\n",
              "      <td>0.833333</td>\n",
              "      <td>1.000000</td>\n",
              "      <td>...</td>\n",
              "      <td>0.750</td>\n",
              "      <td>0.875</td>\n",
              "      <td>0.571429</td>\n",
              "      <td>0.750</td>\n",
              "      <td>0.714286</td>\n",
              "      <td>0.857143</td>\n",
              "      <td>0.875</td>\n",
              "      <td>1.000000</td>\n",
              "      <td>0.833333</td>\n",
              "      <td>0.166667</td>\n",
              "    </tr>\n",
              "    <tr>\n",
              "      <th>1</th>\n",
              "      <td>0.355932</td>\n",
              "      <td>0.0</td>\n",
              "      <td>0.428571</td>\n",
              "      <td>0.571429</td>\n",
              "      <td>0.714286</td>\n",
              "      <td>0.571429</td>\n",
              "      <td>0.833333</td>\n",
              "      <td>0.666667</td>\n",
              "      <td>0.666667</td>\n",
              "      <td>0.666667</td>\n",
              "      <td>...</td>\n",
              "      <td>0.500</td>\n",
              "      <td>0.000</td>\n",
              "      <td>0.428571</td>\n",
              "      <td>0.250</td>\n",
              "      <td>0.142857</td>\n",
              "      <td>0.428571</td>\n",
              "      <td>0.625</td>\n",
              "      <td>0.166667</td>\n",
              "      <td>0.500000</td>\n",
              "      <td>0.000000</td>\n",
              "    </tr>\n",
              "    <tr>\n",
              "      <th>2</th>\n",
              "      <td>0.322034</td>\n",
              "      <td>0.0</td>\n",
              "      <td>0.714286</td>\n",
              "      <td>0.857143</td>\n",
              "      <td>0.857143</td>\n",
              "      <td>0.857143</td>\n",
              "      <td>1.000000</td>\n",
              "      <td>1.000000</td>\n",
              "      <td>0.833333</td>\n",
              "      <td>1.000000</td>\n",
              "      <td>...</td>\n",
              "      <td>0.750</td>\n",
              "      <td>0.875</td>\n",
              "      <td>0.571429</td>\n",
              "      <td>0.750</td>\n",
              "      <td>0.714286</td>\n",
              "      <td>0.857143</td>\n",
              "      <td>0.875</td>\n",
              "      <td>1.000000</td>\n",
              "      <td>0.833333</td>\n",
              "      <td>0.166667</td>\n",
              "    </tr>\n",
              "    <tr>\n",
              "      <th>3</th>\n",
              "      <td>0.423729</td>\n",
              "      <td>1.0</td>\n",
              "      <td>0.714286</td>\n",
              "      <td>1.000000</td>\n",
              "      <td>0.857143</td>\n",
              "      <td>0.857143</td>\n",
              "      <td>1.000000</td>\n",
              "      <td>0.833333</td>\n",
              "      <td>1.000000</td>\n",
              "      <td>1.000000</td>\n",
              "      <td>...</td>\n",
              "      <td>1.000</td>\n",
              "      <td>0.250</td>\n",
              "      <td>0.142857</td>\n",
              "      <td>0.375</td>\n",
              "      <td>0.000000</td>\n",
              "      <td>0.428571</td>\n",
              "      <td>0.125</td>\n",
              "      <td>0.500000</td>\n",
              "      <td>0.166667</td>\n",
              "      <td>0.333333</td>\n",
              "    </tr>\n",
              "    <tr>\n",
              "      <th>4</th>\n",
              "      <td>0.406780</td>\n",
              "      <td>1.0</td>\n",
              "      <td>0.285714</td>\n",
              "      <td>0.142857</td>\n",
              "      <td>0.285714</td>\n",
              "      <td>0.142857</td>\n",
              "      <td>0.333333</td>\n",
              "      <td>0.166667</td>\n",
              "      <td>0.333333</td>\n",
              "      <td>0.166667</td>\n",
              "      <td>...</td>\n",
              "      <td>0.000</td>\n",
              "      <td>0.000</td>\n",
              "      <td>0.142857</td>\n",
              "      <td>0.250</td>\n",
              "      <td>0.142857</td>\n",
              "      <td>0.571429</td>\n",
              "      <td>0.000</td>\n",
              "      <td>0.666667</td>\n",
              "      <td>0.000000</td>\n",
              "      <td>0.000000</td>\n",
              "    </tr>\n",
              "    <tr>\n",
              "      <th>...</th>\n",
              "      <td>...</td>\n",
              "      <td>...</td>\n",
              "      <td>...</td>\n",
              "      <td>...</td>\n",
              "      <td>...</td>\n",
              "      <td>...</td>\n",
              "      <td>...</td>\n",
              "      <td>...</td>\n",
              "      <td>...</td>\n",
              "      <td>...</td>\n",
              "      <td>...</td>\n",
              "      <td>...</td>\n",
              "      <td>...</td>\n",
              "      <td>...</td>\n",
              "      <td>...</td>\n",
              "      <td>...</td>\n",
              "      <td>...</td>\n",
              "      <td>...</td>\n",
              "      <td>...</td>\n",
              "      <td>...</td>\n",
              "      <td>...</td>\n",
              "    </tr>\n",
              "    <tr>\n",
              "      <th>795</th>\n",
              "      <td>0.644068</td>\n",
              "      <td>0.0</td>\n",
              "      <td>0.285714</td>\n",
              "      <td>0.142857</td>\n",
              "      <td>0.000000</td>\n",
              "      <td>0.142857</td>\n",
              "      <td>0.333333</td>\n",
              "      <td>0.666667</td>\n",
              "      <td>0.000000</td>\n",
              "      <td>0.166667</td>\n",
              "      <td>...</td>\n",
              "      <td>0.000</td>\n",
              "      <td>0.000</td>\n",
              "      <td>0.000000</td>\n",
              "      <td>0.000</td>\n",
              "      <td>0.285714</td>\n",
              "      <td>0.142857</td>\n",
              "      <td>0.250</td>\n",
              "      <td>0.166667</td>\n",
              "      <td>0.333333</td>\n",
              "      <td>0.333333</td>\n",
              "    </tr>\n",
              "    <tr>\n",
              "      <th>796</th>\n",
              "      <td>0.220339</td>\n",
              "      <td>1.0</td>\n",
              "      <td>0.285714</td>\n",
              "      <td>0.000000</td>\n",
              "      <td>0.428571</td>\n",
              "      <td>0.142857</td>\n",
              "      <td>0.333333</td>\n",
              "      <td>0.166667</td>\n",
              "      <td>0.333333</td>\n",
              "      <td>0.333333</td>\n",
              "      <td>...</td>\n",
              "      <td>0.125</td>\n",
              "      <td>0.125</td>\n",
              "      <td>0.142857</td>\n",
              "      <td>0.250</td>\n",
              "      <td>0.428571</td>\n",
              "      <td>0.000000</td>\n",
              "      <td>0.500</td>\n",
              "      <td>0.166667</td>\n",
              "      <td>0.833333</td>\n",
              "      <td>0.166667</td>\n",
              "    </tr>\n",
              "    <tr>\n",
              "      <th>797</th>\n",
              "      <td>0.355932</td>\n",
              "      <td>1.0</td>\n",
              "      <td>0.142857</td>\n",
              "      <td>0.000000</td>\n",
              "      <td>0.142857</td>\n",
              "      <td>0.000000</td>\n",
              "      <td>0.166667</td>\n",
              "      <td>0.000000</td>\n",
              "      <td>0.166667</td>\n",
              "      <td>0.333333</td>\n",
              "      <td>...</td>\n",
              "      <td>0.000</td>\n",
              "      <td>0.250</td>\n",
              "      <td>0.428571</td>\n",
              "      <td>0.500</td>\n",
              "      <td>0.000000</td>\n",
              "      <td>0.285714</td>\n",
              "      <td>0.125</td>\n",
              "      <td>0.000000</td>\n",
              "      <td>0.166667</td>\n",
              "      <td>0.166667</td>\n",
              "    </tr>\n",
              "    <tr>\n",
              "      <th>798</th>\n",
              "      <td>0.322034</td>\n",
              "      <td>0.0</td>\n",
              "      <td>0.714286</td>\n",
              "      <td>1.000000</td>\n",
              "      <td>0.857143</td>\n",
              "      <td>0.857143</td>\n",
              "      <td>1.000000</td>\n",
              "      <td>0.833333</td>\n",
              "      <td>1.000000</td>\n",
              "      <td>1.000000</td>\n",
              "      <td>...</td>\n",
              "      <td>0.750</td>\n",
              "      <td>1.000</td>\n",
              "      <td>0.714286</td>\n",
              "      <td>0.500</td>\n",
              "      <td>0.857143</td>\n",
              "      <td>0.142857</td>\n",
              "      <td>0.375</td>\n",
              "      <td>0.333333</td>\n",
              "      <td>0.000000</td>\n",
              "      <td>0.500000</td>\n",
              "    </tr>\n",
              "    <tr>\n",
              "      <th>799</th>\n",
              "      <td>0.322034</td>\n",
              "      <td>0.0</td>\n",
              "      <td>0.714286</td>\n",
              "      <td>0.857143</td>\n",
              "      <td>0.857143</td>\n",
              "      <td>0.857143</td>\n",
              "      <td>1.000000</td>\n",
              "      <td>0.833333</td>\n",
              "      <td>1.000000</td>\n",
              "      <td>1.000000</td>\n",
              "      <td>...</td>\n",
              "      <td>0.750</td>\n",
              "      <td>0.375</td>\n",
              "      <td>0.428571</td>\n",
              "      <td>0.500</td>\n",
              "      <td>0.714286</td>\n",
              "      <td>0.571429</td>\n",
              "      <td>0.500</td>\n",
              "      <td>0.500000</td>\n",
              "      <td>0.833333</td>\n",
              "      <td>0.666667</td>\n",
              "    </tr>\n",
              "  </tbody>\n",
              "</table>\n",
              "<p>800 rows × 23 columns</p>\n",
              "</div>\n",
              "      <button class=\"colab-df-convert\" onclick=\"convertToInteractive('df-fa0d351b-e226-4904-8b48-25faa7c29096')\"\n",
              "              title=\"Convert this dataframe to an interactive table.\"\n",
              "              style=\"display:none;\">\n",
              "        \n",
              "  <svg xmlns=\"http://www.w3.org/2000/svg\" height=\"24px\"viewBox=\"0 0 24 24\"\n",
              "       width=\"24px\">\n",
              "    <path d=\"M0 0h24v24H0V0z\" fill=\"none\"/>\n",
              "    <path d=\"M18.56 5.44l.94 2.06.94-2.06 2.06-.94-2.06-.94-.94-2.06-.94 2.06-2.06.94zm-11 1L8.5 8.5l.94-2.06 2.06-.94-2.06-.94L8.5 2.5l-.94 2.06-2.06.94zm10 10l.94 2.06.94-2.06 2.06-.94-2.06-.94-.94-2.06-.94 2.06-2.06.94z\"/><path d=\"M17.41 7.96l-1.37-1.37c-.4-.4-.92-.59-1.43-.59-.52 0-1.04.2-1.43.59L10.3 9.45l-7.72 7.72c-.78.78-.78 2.05 0 2.83L4 21.41c.39.39.9.59 1.41.59.51 0 1.02-.2 1.41-.59l7.78-7.78 2.81-2.81c.8-.78.8-2.07 0-2.86zM5.41 20L4 18.59l7.72-7.72 1.47 1.35L5.41 20z\"/>\n",
              "  </svg>\n",
              "      </button>\n",
              "      \n",
              "  <style>\n",
              "    .colab-df-container {\n",
              "      display:flex;\n",
              "      flex-wrap:wrap;\n",
              "      gap: 12px;\n",
              "    }\n",
              "\n",
              "    .colab-df-convert {\n",
              "      background-color: #E8F0FE;\n",
              "      border: none;\n",
              "      border-radius: 50%;\n",
              "      cursor: pointer;\n",
              "      display: none;\n",
              "      fill: #1967D2;\n",
              "      height: 32px;\n",
              "      padding: 0 0 0 0;\n",
              "      width: 32px;\n",
              "    }\n",
              "\n",
              "    .colab-df-convert:hover {\n",
              "      background-color: #E2EBFA;\n",
              "      box-shadow: 0px 1px 2px rgba(60, 64, 67, 0.3), 0px 1px 3px 1px rgba(60, 64, 67, 0.15);\n",
              "      fill: #174EA6;\n",
              "    }\n",
              "\n",
              "    [theme=dark] .colab-df-convert {\n",
              "      background-color: #3B4455;\n",
              "      fill: #D2E3FC;\n",
              "    }\n",
              "\n",
              "    [theme=dark] .colab-df-convert:hover {\n",
              "      background-color: #434B5C;\n",
              "      box-shadow: 0px 1px 3px 1px rgba(0, 0, 0, 0.15);\n",
              "      filter: drop-shadow(0px 1px 2px rgba(0, 0, 0, 0.3));\n",
              "      fill: #FFFFFF;\n",
              "    }\n",
              "  </style>\n",
              "\n",
              "      <script>\n",
              "        const buttonEl =\n",
              "          document.querySelector('#df-fa0d351b-e226-4904-8b48-25faa7c29096 button.colab-df-convert');\n",
              "        buttonEl.style.display =\n",
              "          google.colab.kernel.accessAllowed ? 'block' : 'none';\n",
              "\n",
              "        async function convertToInteractive(key) {\n",
              "          const element = document.querySelector('#df-fa0d351b-e226-4904-8b48-25faa7c29096');\n",
              "          const dataTable =\n",
              "            await google.colab.kernel.invokeFunction('convertToInteractive',\n",
              "                                                     [key], {});\n",
              "          if (!dataTable) return;\n",
              "\n",
              "          const docLinkHtml = 'Like what you see? Visit the ' +\n",
              "            '<a target=\"_blank\" href=https://colab.research.google.com/notebooks/data_table.ipynb>data table notebook</a>'\n",
              "            + ' to learn more about interactive tables.';\n",
              "          element.innerHTML = '';\n",
              "          dataTable['output_type'] = 'display_data';\n",
              "          await google.colab.output.renderOutput(dataTable, element);\n",
              "          const docLink = document.createElement('div');\n",
              "          docLink.innerHTML = docLinkHtml;\n",
              "          element.appendChild(docLink);\n",
              "        }\n",
              "      </script>\n",
              "    </div>\n",
              "  </div>\n",
              "  "
            ]
          },
          "metadata": {},
          "execution_count": 24
        }
      ]
    },
    {
      "cell_type": "code",
      "source": [
        "X_test_scaled = pd.DataFrame(scaler.fit_transform(X_test),columns=X_test.columns)\n",
        "X_test_scaled"
      ],
      "metadata": {
        "colab": {
          "base_uri": "https://localhost:8080/",
          "height": 488
        },
        "id": "SAfPPIT_PJ6g",
        "outputId": "cf8058bb-1a62-4833-b320-709cf9680dce"
      },
      "execution_count": null,
      "outputs": [
        {
          "output_type": "execute_result",
          "data": {
            "text/plain": [
              "          Age  Gender  AirPollution  Alcoholuse  DustAllergy  \\\n",
              "0    0.508475     0.0      0.714286    0.857143     0.857143   \n",
              "1    0.322034     0.0      0.142857    0.428571     0.571429   \n",
              "2    0.406780     1.0      0.142857    0.000000     0.571429   \n",
              "3    0.508475     0.0      0.714286    0.857143     0.857143   \n",
              "4    0.593220     0.0      0.714286    0.571429     0.714286   \n",
              "..        ...     ...           ...         ...          ...   \n",
              "195  0.474576     0.0      0.142857    0.000000     0.142857   \n",
              "196  0.322034     0.0      0.285714    0.142857     0.428571   \n",
              "197  0.389831     0.0      0.000000    0.142857     0.285714   \n",
              "198  0.186441     1.0      0.428571    0.571429     0.714286   \n",
              "199  0.322034     0.0      0.285714    0.142857     0.428571   \n",
              "\n",
              "     OccuPationalHazards  GeneticRisk  chronicLungDisease  BalancedDiet  \\\n",
              "0               0.857143     1.000000            0.833333      1.000000   \n",
              "1               0.428571     0.333333            0.166667      0.166667   \n",
              "2               0.285714     0.166667            0.333333      0.166667   \n",
              "3               0.857143     1.000000            0.833333      1.000000   \n",
              "4               0.571429     0.666667            0.500000      0.833333   \n",
              "..                   ...          ...                 ...           ...   \n",
              "195             0.285714     0.500000            0.333333      0.166667   \n",
              "196             0.142857     0.333333            0.166667      0.333333   \n",
              "197             0.428571     0.166667            0.500000      0.333333   \n",
              "198             0.571429     0.666667            0.500000      0.833333   \n",
              "199             0.142857     0.333333            0.166667      0.333333   \n",
              "\n",
              "      Obesity  ...  CoughingofBlood  Fatigue  WeightLoss  ShortnessofBreath  \\\n",
              "0    1.000000  ...            0.750    0.500    0.285714              0.125   \n",
              "1    0.500000  ...            0.375    0.250    0.428571              0.125   \n",
              "2    0.500000  ...            0.375    0.625    0.857143              0.125   \n",
              "3    1.000000  ...            0.750    0.500    0.285714              0.125   \n",
              "4    1.000000  ...            0.875    0.875    0.857143              1.000   \n",
              "..        ...  ...              ...      ...         ...                ...   \n",
              "195  0.000000  ...            0.125    0.000    0.000000              0.000   \n",
              "196  0.333333  ...            0.250    0.375    0.571429              0.625   \n",
              "197  0.333333  ...            0.375    0.375    0.000000              0.125   \n",
              "198  1.000000  ...            0.875    0.875    0.857143              1.000   \n",
              "199  0.333333  ...            0.250    0.375    0.571429              0.625   \n",
              "\n",
              "     Wheezing  SwallowingDifficulty  ClubbingofFingerNails  FrequentCold  \\\n",
              "0    0.857143              1.000000                  0.125      0.500000   \n",
              "1    0.142857              0.285714                  0.000      0.166667   \n",
              "2    0.571429              1.000000                  0.000      0.333333   \n",
              "3    0.857143              1.000000                  0.125      0.500000   \n",
              "4    0.142857              0.000000                  0.375      0.833333   \n",
              "..        ...                   ...                    ...           ...   \n",
              "195  0.142857              0.000000                  0.125      0.333333   \n",
              "196  0.571429              0.571429                  0.375      0.833333   \n",
              "197  0.428571              0.714286                  0.500      0.500000   \n",
              "198  0.142857              0.000000                  0.375      0.833333   \n",
              "199  0.571429              0.571429                  0.375      0.833333   \n",
              "\n",
              "     DryCough  Snoring  \n",
              "0    0.666667      0.4  \n",
              "1    0.333333      0.6  \n",
              "2    0.166667      0.4  \n",
              "3    0.666667      0.4  \n",
              "4    1.000000      0.2  \n",
              "..        ...      ...  \n",
              "195  0.000000      0.2  \n",
              "196  0.666667      0.6  \n",
              "197  0.166667      0.8  \n",
              "198  1.000000      0.2  \n",
              "199  0.666667      0.6  \n",
              "\n",
              "[200 rows x 23 columns]"
            ],
            "text/html": [
              "\n",
              "  <div id=\"df-b2aad493-e8ae-4d0e-bf57-01855f1951d8\">\n",
              "    <div class=\"colab-df-container\">\n",
              "      <div>\n",
              "<style scoped>\n",
              "    .dataframe tbody tr th:only-of-type {\n",
              "        vertical-align: middle;\n",
              "    }\n",
              "\n",
              "    .dataframe tbody tr th {\n",
              "        vertical-align: top;\n",
              "    }\n",
              "\n",
              "    .dataframe thead th {\n",
              "        text-align: right;\n",
              "    }\n",
              "</style>\n",
              "<table border=\"1\" class=\"dataframe\">\n",
              "  <thead>\n",
              "    <tr style=\"text-align: right;\">\n",
              "      <th></th>\n",
              "      <th>Age</th>\n",
              "      <th>Gender</th>\n",
              "      <th>AirPollution</th>\n",
              "      <th>Alcoholuse</th>\n",
              "      <th>DustAllergy</th>\n",
              "      <th>OccuPationalHazards</th>\n",
              "      <th>GeneticRisk</th>\n",
              "      <th>chronicLungDisease</th>\n",
              "      <th>BalancedDiet</th>\n",
              "      <th>Obesity</th>\n",
              "      <th>...</th>\n",
              "      <th>CoughingofBlood</th>\n",
              "      <th>Fatigue</th>\n",
              "      <th>WeightLoss</th>\n",
              "      <th>ShortnessofBreath</th>\n",
              "      <th>Wheezing</th>\n",
              "      <th>SwallowingDifficulty</th>\n",
              "      <th>ClubbingofFingerNails</th>\n",
              "      <th>FrequentCold</th>\n",
              "      <th>DryCough</th>\n",
              "      <th>Snoring</th>\n",
              "    </tr>\n",
              "  </thead>\n",
              "  <tbody>\n",
              "    <tr>\n",
              "      <th>0</th>\n",
              "      <td>0.508475</td>\n",
              "      <td>0.0</td>\n",
              "      <td>0.714286</td>\n",
              "      <td>0.857143</td>\n",
              "      <td>0.857143</td>\n",
              "      <td>0.857143</td>\n",
              "      <td>1.000000</td>\n",
              "      <td>0.833333</td>\n",
              "      <td>1.000000</td>\n",
              "      <td>1.000000</td>\n",
              "      <td>...</td>\n",
              "      <td>0.750</td>\n",
              "      <td>0.500</td>\n",
              "      <td>0.285714</td>\n",
              "      <td>0.125</td>\n",
              "      <td>0.857143</td>\n",
              "      <td>1.000000</td>\n",
              "      <td>0.125</td>\n",
              "      <td>0.500000</td>\n",
              "      <td>0.666667</td>\n",
              "      <td>0.4</td>\n",
              "    </tr>\n",
              "    <tr>\n",
              "      <th>1</th>\n",
              "      <td>0.322034</td>\n",
              "      <td>0.0</td>\n",
              "      <td>0.142857</td>\n",
              "      <td>0.428571</td>\n",
              "      <td>0.571429</td>\n",
              "      <td>0.428571</td>\n",
              "      <td>0.333333</td>\n",
              "      <td>0.166667</td>\n",
              "      <td>0.166667</td>\n",
              "      <td>0.500000</td>\n",
              "      <td>...</td>\n",
              "      <td>0.375</td>\n",
              "      <td>0.250</td>\n",
              "      <td>0.428571</td>\n",
              "      <td>0.125</td>\n",
              "      <td>0.142857</td>\n",
              "      <td>0.285714</td>\n",
              "      <td>0.000</td>\n",
              "      <td>0.166667</td>\n",
              "      <td>0.333333</td>\n",
              "      <td>0.6</td>\n",
              "    </tr>\n",
              "    <tr>\n",
              "      <th>2</th>\n",
              "      <td>0.406780</td>\n",
              "      <td>1.0</td>\n",
              "      <td>0.142857</td>\n",
              "      <td>0.000000</td>\n",
              "      <td>0.571429</td>\n",
              "      <td>0.285714</td>\n",
              "      <td>0.166667</td>\n",
              "      <td>0.333333</td>\n",
              "      <td>0.166667</td>\n",
              "      <td>0.500000</td>\n",
              "      <td>...</td>\n",
              "      <td>0.375</td>\n",
              "      <td>0.625</td>\n",
              "      <td>0.857143</td>\n",
              "      <td>0.125</td>\n",
              "      <td>0.571429</td>\n",
              "      <td>1.000000</td>\n",
              "      <td>0.000</td>\n",
              "      <td>0.333333</td>\n",
              "      <td>0.166667</td>\n",
              "      <td>0.4</td>\n",
              "    </tr>\n",
              "    <tr>\n",
              "      <th>3</th>\n",
              "      <td>0.508475</td>\n",
              "      <td>0.0</td>\n",
              "      <td>0.714286</td>\n",
              "      <td>0.857143</td>\n",
              "      <td>0.857143</td>\n",
              "      <td>0.857143</td>\n",
              "      <td>1.000000</td>\n",
              "      <td>0.833333</td>\n",
              "      <td>1.000000</td>\n",
              "      <td>1.000000</td>\n",
              "      <td>...</td>\n",
              "      <td>0.750</td>\n",
              "      <td>0.500</td>\n",
              "      <td>0.285714</td>\n",
              "      <td>0.125</td>\n",
              "      <td>0.857143</td>\n",
              "      <td>1.000000</td>\n",
              "      <td>0.125</td>\n",
              "      <td>0.500000</td>\n",
              "      <td>0.666667</td>\n",
              "      <td>0.4</td>\n",
              "    </tr>\n",
              "    <tr>\n",
              "      <th>4</th>\n",
              "      <td>0.593220</td>\n",
              "      <td>0.0</td>\n",
              "      <td>0.714286</td>\n",
              "      <td>0.571429</td>\n",
              "      <td>0.714286</td>\n",
              "      <td>0.571429</td>\n",
              "      <td>0.666667</td>\n",
              "      <td>0.500000</td>\n",
              "      <td>0.833333</td>\n",
              "      <td>1.000000</td>\n",
              "      <td>...</td>\n",
              "      <td>0.875</td>\n",
              "      <td>0.875</td>\n",
              "      <td>0.857143</td>\n",
              "      <td>1.000</td>\n",
              "      <td>0.142857</td>\n",
              "      <td>0.000000</td>\n",
              "      <td>0.375</td>\n",
              "      <td>0.833333</td>\n",
              "      <td>1.000000</td>\n",
              "      <td>0.2</td>\n",
              "    </tr>\n",
              "    <tr>\n",
              "      <th>...</th>\n",
              "      <td>...</td>\n",
              "      <td>...</td>\n",
              "      <td>...</td>\n",
              "      <td>...</td>\n",
              "      <td>...</td>\n",
              "      <td>...</td>\n",
              "      <td>...</td>\n",
              "      <td>...</td>\n",
              "      <td>...</td>\n",
              "      <td>...</td>\n",
              "      <td>...</td>\n",
              "      <td>...</td>\n",
              "      <td>...</td>\n",
              "      <td>...</td>\n",
              "      <td>...</td>\n",
              "      <td>...</td>\n",
              "      <td>...</td>\n",
              "      <td>...</td>\n",
              "      <td>...</td>\n",
              "      <td>...</td>\n",
              "      <td>...</td>\n",
              "    </tr>\n",
              "    <tr>\n",
              "      <th>195</th>\n",
              "      <td>0.474576</td>\n",
              "      <td>0.0</td>\n",
              "      <td>0.142857</td>\n",
              "      <td>0.000000</td>\n",
              "      <td>0.142857</td>\n",
              "      <td>0.285714</td>\n",
              "      <td>0.500000</td>\n",
              "      <td>0.333333</td>\n",
              "      <td>0.166667</td>\n",
              "      <td>0.000000</td>\n",
              "      <td>...</td>\n",
              "      <td>0.125</td>\n",
              "      <td>0.000</td>\n",
              "      <td>0.000000</td>\n",
              "      <td>0.000</td>\n",
              "      <td>0.142857</td>\n",
              "      <td>0.000000</td>\n",
              "      <td>0.125</td>\n",
              "      <td>0.333333</td>\n",
              "      <td>0.000000</td>\n",
              "      <td>0.2</td>\n",
              "    </tr>\n",
              "    <tr>\n",
              "      <th>196</th>\n",
              "      <td>0.322034</td>\n",
              "      <td>0.0</td>\n",
              "      <td>0.285714</td>\n",
              "      <td>0.142857</td>\n",
              "      <td>0.428571</td>\n",
              "      <td>0.142857</td>\n",
              "      <td>0.333333</td>\n",
              "      <td>0.166667</td>\n",
              "      <td>0.333333</td>\n",
              "      <td>0.333333</td>\n",
              "      <td>...</td>\n",
              "      <td>0.250</td>\n",
              "      <td>0.375</td>\n",
              "      <td>0.571429</td>\n",
              "      <td>0.625</td>\n",
              "      <td>0.571429</td>\n",
              "      <td>0.571429</td>\n",
              "      <td>0.375</td>\n",
              "      <td>0.833333</td>\n",
              "      <td>0.666667</td>\n",
              "      <td>0.6</td>\n",
              "    </tr>\n",
              "    <tr>\n",
              "      <th>197</th>\n",
              "      <td>0.389831</td>\n",
              "      <td>0.0</td>\n",
              "      <td>0.000000</td>\n",
              "      <td>0.142857</td>\n",
              "      <td>0.285714</td>\n",
              "      <td>0.428571</td>\n",
              "      <td>0.166667</td>\n",
              "      <td>0.500000</td>\n",
              "      <td>0.333333</td>\n",
              "      <td>0.333333</td>\n",
              "      <td>...</td>\n",
              "      <td>0.375</td>\n",
              "      <td>0.375</td>\n",
              "      <td>0.000000</td>\n",
              "      <td>0.125</td>\n",
              "      <td>0.428571</td>\n",
              "      <td>0.714286</td>\n",
              "      <td>0.500</td>\n",
              "      <td>0.500000</td>\n",
              "      <td>0.166667</td>\n",
              "      <td>0.8</td>\n",
              "    </tr>\n",
              "    <tr>\n",
              "      <th>198</th>\n",
              "      <td>0.186441</td>\n",
              "      <td>1.0</td>\n",
              "      <td>0.428571</td>\n",
              "      <td>0.571429</td>\n",
              "      <td>0.714286</td>\n",
              "      <td>0.571429</td>\n",
              "      <td>0.666667</td>\n",
              "      <td>0.500000</td>\n",
              "      <td>0.833333</td>\n",
              "      <td>1.000000</td>\n",
              "      <td>...</td>\n",
              "      <td>0.875</td>\n",
              "      <td>0.875</td>\n",
              "      <td>0.857143</td>\n",
              "      <td>1.000</td>\n",
              "      <td>0.142857</td>\n",
              "      <td>0.000000</td>\n",
              "      <td>0.375</td>\n",
              "      <td>0.833333</td>\n",
              "      <td>1.000000</td>\n",
              "      <td>0.2</td>\n",
              "    </tr>\n",
              "    <tr>\n",
              "      <th>199</th>\n",
              "      <td>0.322034</td>\n",
              "      <td>0.0</td>\n",
              "      <td>0.285714</td>\n",
              "      <td>0.142857</td>\n",
              "      <td>0.428571</td>\n",
              "      <td>0.142857</td>\n",
              "      <td>0.333333</td>\n",
              "      <td>0.166667</td>\n",
              "      <td>0.333333</td>\n",
              "      <td>0.333333</td>\n",
              "      <td>...</td>\n",
              "      <td>0.250</td>\n",
              "      <td>0.375</td>\n",
              "      <td>0.571429</td>\n",
              "      <td>0.625</td>\n",
              "      <td>0.571429</td>\n",
              "      <td>0.571429</td>\n",
              "      <td>0.375</td>\n",
              "      <td>0.833333</td>\n",
              "      <td>0.666667</td>\n",
              "      <td>0.6</td>\n",
              "    </tr>\n",
              "  </tbody>\n",
              "</table>\n",
              "<p>200 rows × 23 columns</p>\n",
              "</div>\n",
              "      <button class=\"colab-df-convert\" onclick=\"convertToInteractive('df-b2aad493-e8ae-4d0e-bf57-01855f1951d8')\"\n",
              "              title=\"Convert this dataframe to an interactive table.\"\n",
              "              style=\"display:none;\">\n",
              "        \n",
              "  <svg xmlns=\"http://www.w3.org/2000/svg\" height=\"24px\"viewBox=\"0 0 24 24\"\n",
              "       width=\"24px\">\n",
              "    <path d=\"M0 0h24v24H0V0z\" fill=\"none\"/>\n",
              "    <path d=\"M18.56 5.44l.94 2.06.94-2.06 2.06-.94-2.06-.94-.94-2.06-.94 2.06-2.06.94zm-11 1L8.5 8.5l.94-2.06 2.06-.94-2.06-.94L8.5 2.5l-.94 2.06-2.06.94zm10 10l.94 2.06.94-2.06 2.06-.94-2.06-.94-.94-2.06-.94 2.06-2.06.94z\"/><path d=\"M17.41 7.96l-1.37-1.37c-.4-.4-.92-.59-1.43-.59-.52 0-1.04.2-1.43.59L10.3 9.45l-7.72 7.72c-.78.78-.78 2.05 0 2.83L4 21.41c.39.39.9.59 1.41.59.51 0 1.02-.2 1.41-.59l7.78-7.78 2.81-2.81c.8-.78.8-2.07 0-2.86zM5.41 20L4 18.59l7.72-7.72 1.47 1.35L5.41 20z\"/>\n",
              "  </svg>\n",
              "      </button>\n",
              "      \n",
              "  <style>\n",
              "    .colab-df-container {\n",
              "      display:flex;\n",
              "      flex-wrap:wrap;\n",
              "      gap: 12px;\n",
              "    }\n",
              "\n",
              "    .colab-df-convert {\n",
              "      background-color: #E8F0FE;\n",
              "      border: none;\n",
              "      border-radius: 50%;\n",
              "      cursor: pointer;\n",
              "      display: none;\n",
              "      fill: #1967D2;\n",
              "      height: 32px;\n",
              "      padding: 0 0 0 0;\n",
              "      width: 32px;\n",
              "    }\n",
              "\n",
              "    .colab-df-convert:hover {\n",
              "      background-color: #E2EBFA;\n",
              "      box-shadow: 0px 1px 2px rgba(60, 64, 67, 0.3), 0px 1px 3px 1px rgba(60, 64, 67, 0.15);\n",
              "      fill: #174EA6;\n",
              "    }\n",
              "\n",
              "    [theme=dark] .colab-df-convert {\n",
              "      background-color: #3B4455;\n",
              "      fill: #D2E3FC;\n",
              "    }\n",
              "\n",
              "    [theme=dark] .colab-df-convert:hover {\n",
              "      background-color: #434B5C;\n",
              "      box-shadow: 0px 1px 3px 1px rgba(0, 0, 0, 0.15);\n",
              "      filter: drop-shadow(0px 1px 2px rgba(0, 0, 0, 0.3));\n",
              "      fill: #FFFFFF;\n",
              "    }\n",
              "  </style>\n",
              "\n",
              "      <script>\n",
              "        const buttonEl =\n",
              "          document.querySelector('#df-b2aad493-e8ae-4d0e-bf57-01855f1951d8 button.colab-df-convert');\n",
              "        buttonEl.style.display =\n",
              "          google.colab.kernel.accessAllowed ? 'block' : 'none';\n",
              "\n",
              "        async function convertToInteractive(key) {\n",
              "          const element = document.querySelector('#df-b2aad493-e8ae-4d0e-bf57-01855f1951d8');\n",
              "          const dataTable =\n",
              "            await google.colab.kernel.invokeFunction('convertToInteractive',\n",
              "                                                     [key], {});\n",
              "          if (!dataTable) return;\n",
              "\n",
              "          const docLinkHtml = 'Like what you see? Visit the ' +\n",
              "            '<a target=\"_blank\" href=https://colab.research.google.com/notebooks/data_table.ipynb>data table notebook</a>'\n",
              "            + ' to learn more about interactive tables.';\n",
              "          element.innerHTML = '';\n",
              "          dataTable['output_type'] = 'display_data';\n",
              "          await google.colab.output.renderOutput(dataTable, element);\n",
              "          const docLink = document.createElement('div');\n",
              "          docLink.innerHTML = docLinkHtml;\n",
              "          element.appendChild(docLink);\n",
              "        }\n",
              "      </script>\n",
              "    </div>\n",
              "  </div>\n",
              "  "
            ]
          },
          "metadata": {},
          "execution_count": 25
        }
      ]
    },
    {
      "cell_type": "markdown",
      "source": [
        "Applying Random Forest\n"
      ],
      "metadata": {
        "id": "d7wAuXGt4-98"
      }
    },
    {
      "cell_type": "code",
      "source": [
        "model = RandomForestClassifier()\n",
        "model.fit(X_train,y_train)"
      ],
      "metadata": {
        "colab": {
          "base_uri": "https://localhost:8080/"
        },
        "id": "PLo4qCG7PPW9",
        "outputId": "d3a8a994-318b-4214-aef6-ef276815d665"
      },
      "execution_count": null,
      "outputs": [
        {
          "output_type": "execute_result",
          "data": {
            "text/plain": [
              "RandomForestClassifier()"
            ]
          },
          "metadata": {},
          "execution_count": 26
        }
      ]
    },
    {
      "cell_type": "code",
      "source": [
        "prediction = model.predict(X_test)\n",
        "prediction"
      ],
      "metadata": {
        "colab": {
          "base_uri": "https://localhost:8080/"
        },
        "id": "rS6PEUdHPVf6",
        "outputId": "98dbf3e5-1ca1-4d61-a408-b2eb5490e11d"
      },
      "execution_count": null,
      "outputs": [
        {
          "output_type": "execute_result",
          "data": {
            "text/plain": [
              "array([2, 0, 1, 2, 2, 1, 0, 1, 1, 2, 2, 0, 2, 0, 0, 1, 2, 1, 1, 0, 2, 0,\n",
              "       0, 1, 2, 2, 2, 0, 2, 2, 2, 0, 0, 2, 2, 2, 0, 2, 0, 0, 0, 1, 0, 1,\n",
              "       0, 2, 0, 2, 2, 0, 0, 2, 1, 2, 1, 1, 2, 1, 1, 0, 0, 2, 1, 0, 0, 2,\n",
              "       1, 2, 2, 2, 2, 1, 1, 1, 0, 2, 0, 1, 1, 0, 2, 2, 2, 1, 1, 0, 2, 2,\n",
              "       1, 1, 0, 1, 1, 1, 2, 0, 0, 2, 1, 0, 0, 1, 2, 0, 1, 1, 0, 2, 0, 2,\n",
              "       0, 1, 2, 0, 2, 1, 1, 2, 0, 2, 1, 0, 0, 1, 1, 0, 0, 1, 2, 1, 2, 1,\n",
              "       0, 0, 1, 0, 1, 1, 2, 0, 2, 0, 1, 2, 1, 2, 1, 1, 1, 0, 1, 0, 0, 1,\n",
              "       1, 0, 1, 1, 0, 2, 1, 0, 0, 2, 0, 0, 2, 0, 1, 1, 2, 2, 1, 2, 0, 0,\n",
              "       2, 2, 1, 1, 1, 1, 0, 1, 2, 1, 0, 2, 2, 1, 1, 0, 1, 0, 0, 0, 1, 1,\n",
              "       2, 1])"
            ]
          },
          "metadata": {},
          "execution_count": 27
        }
      ]
    },
    {
      "cell_type": "code",
      "source": [
        "accuracy = metrics.accuracy_score(y_test,prediction)\n",
        "accuracy\n"
      ],
      "metadata": {
        "colab": {
          "base_uri": "https://localhost:8080/"
        },
        "id": "1uynli-APcJI",
        "outputId": "f0f39bba-5dd2-479b-a4a7-96574320ab8f"
      },
      "execution_count": null,
      "outputs": [
        {
          "output_type": "execute_result",
          "data": {
            "text/plain": [
              "1.0"
            ]
          },
          "metadata": {},
          "execution_count": 28
        }
      ]
    },
    {
      "cell_type": "code",
      "source": [
        "from sklearn.metrics import confusion_matrix\n",
        "pred_list = [model]\n",
        "\n",
        "for i in pred_list:\n",
        "    print(\"Score : \",i.score(X_test,y_test))\n",
        "    y_pred = i.predict(X_test)\n",
        "    sns.heatmap(confusion_matrix(y_test,y_pred),annot = True)\n",
        "    plt.xlabel(\"Y_pred\")\n",
        "    plt.ylabel(\"Y_test\")\n",
        "    plt.title(i)\n",
        "    plt.show()"
      ],
      "metadata": {
        "colab": {
          "base_uri": "https://localhost:8080/",
          "height": 313
        },
        "id": "qNBW5DBgPuFz",
        "outputId": "f91747a0-ae4a-44da-ef97-992e0cb56182"
      },
      "execution_count": null,
      "outputs": [
        {
          "output_type": "stream",
          "name": "stdout",
          "text": [
            "Score :  1.0\n"
          ]
        },
        {
          "output_type": "display_data",
          "data": {
            "text/plain": [
              "<Figure size 432x288 with 2 Axes>"
            ],
            "image/png": "[encoded data removed]"
          },
          "metadata": {
            "needs_background": "light"
          }
        }
      ]
    },
    {
      "cell_type": "markdown",
      "source": [
        "Applying Linear Regression"
      ],
      "metadata": {
        "id": "GvLbQXhK4y7o"
      }
    },
    {
      "cell_type": "code",
      "source": [
        "LR = LinearRegression()\n",
        "# fitting the training data\n",
        "LR.fit(X_train,y_train)"
      ],
      "metadata": {
        "colab": {
          "base_uri": "https://localhost:8080/"
        },
        "id": "mchDLUZGQ0cT",
        "outputId": "36907f6c-db88-4162-9ae0-5b2212717848"
      },
      "execution_count": null,
      "outputs": [
        {
          "output_type": "execute_result",
          "data": {
            "text/plain": [
              "LinearRegression()"
            ]
          },
          "metadata": {},
          "execution_count": 30
        }
      ]
    },
    {
      "cell_type": "code",
      "source": [
        "y_prediction =  LR.predict(X_test)\n",
        "y_prediction"
      ],
      "metadata": {
        "colab": {
          "base_uri": "https://localhost:8080/"
        },
        "id": "wJdRBe5eVVn9",
        "outputId": "1470fd6a-9a38-4309-eaa7-ca9d9293ca2b"
      },
      "execution_count": null,
      "outputs": [
        {
          "output_type": "execute_result",
          "data": {
            "text/plain": [
              "array([ 1.94846951,  0.40282517,  0.88505661,  1.94846951,  1.95107334,\n",
              "        1.3576151 ,  0.00502342,  0.77444408,  1.08284136,  1.91137405,\n",
              "        2.05226494,  0.14298104,  1.94846951,  0.06333701, -0.04182811,\n",
              "        0.90197702,  1.8271307 ,  1.03634366,  1.03211804,  0.232678  ,\n",
              "        2.11406725,  0.00502342,  0.31685693,  1.13664205,  2.00182772,\n",
              "        1.80109858,  1.89544103, -0.09745407,  2.00182772,  1.80109858,\n",
              "        1.89283813,  0.94797425, -0.09745407,  1.89544103,  1.89283813,\n",
              "        2.06070904,  0.01030878,  2.04553765,  0.94797425,  0.25142351,\n",
              "        0.0854696 ,  1.03944124, -0.41149474,  0.91336607, -0.11273855,\n",
              "        1.94846951,  0.10563343,  2.00182772,  1.5619751 , -0.0423945 ,\n",
              "        0.40282517,  2.11406725,  1.01356556,  2.3664773 ,  1.05571131,\n",
              "        0.89058797,  1.92243739,  0.78908714,  0.89058797,  0.40282517,\n",
              "       -0.11273855,  1.93839433,  0.77444408,  0.25661858, -0.04182811,\n",
              "        1.91137405,  0.96734781,  1.66939883,  2.04553765,  1.97819736,\n",
              "        1.97819736,  0.95648784,  0.89058797,  0.92504562,  0.01355969,\n",
              "        1.97904962,  0.25661858,  0.90783405,  0.96734781,  0.01355969,\n",
              "        1.77838435,  2.15126915,  2.00182772,  0.80229423,  0.96082031,\n",
              "       -0.0423945 ,  2.2575323 ,  1.93839433,  1.13664205,  0.88505661,\n",
              "        0.14298104,  0.88505661,  0.78229825,  0.93155365,  1.66939883,\n",
              "       -0.54114599, -0.41149474,  1.89934616,  1.03211804,  0.00502342,\n",
              "        0.07309328,  0.91336607,  1.9091082 ,  0.01355969,  0.78229825,\n",
              "        1.3352459 ,  0.01030878,  1.89283813, -0.22232537,  2.2575323 ,\n",
              "       -0.11273855,  0.88505661,  1.89934616,  0.78283819,  2.23800821,\n",
              "        1.4409774 ,  0.91336607,  1.8271307 ,  0.31685693,  1.97904962,\n",
              "        1.00608593,  0.25142351,  0.25142351,  0.88505661,  0.90767762,\n",
              "        0.17079161,  0.07309328,  0.88180259,  1.66939883,  0.78229825,\n",
              "        1.6856689 ,  0.95648784,  0.10452546, -0.41149474,  1.13664205,\n",
              "       -0.1249068 ,  0.97275791,  0.78229825,  2.37135832,  0.31685693,\n",
              "        2.04553765, -0.05532675,  0.78908714,  2.37135832,  0.95648784,\n",
              "        2.2575323 ,  0.90767762,  0.92504562,  0.94782373,  0.28838513,\n",
              "        0.90767762,  0.25661858,  0.28339606,  0.93155365,  0.96082031,\n",
              "       -0.22232537,  0.77444408,  0.93155365,  0.78283819,  2.11406725,\n",
              "        1.34134503,  0.232678  ,  0.10452546,  1.8271307 ,  0.53946982,\n",
              "        0.42258843,  1.85807652,  0.94797425,  1.05030122,  1.00705753,\n",
              "        1.9091082 ,  2.2575323 ,  0.89058797,  2.37135832,  0.78283819,\n",
              "        0.78283819,  1.94781932,  1.8359626 ,  0.90198143,  1.03634366,\n",
              "        0.80229423,  0.78229825,  0.28339606,  1.00705753,  1.86127388,\n",
              "        0.77444408,  0.17079161,  2.3664773 ,  1.89934616,  0.96734781,\n",
              "        0.77444408,  0.94797425,  1.05030122,  0.31685693,  0.232678  ,\n",
              "       -0.54114599,  0.94782373,  0.78322946,  1.89283813,  0.94782373])"
            ]
          },
          "metadata": {},
          "execution_count": 31
        }
      ]
    },
    {
      "cell_type": "code",
      "source": [
        "score=r2_score(y_test,y_prediction)"
      ],
      "metadata": {
        "id": "H6mEBMGQVfKX"
      },
      "execution_count": null,
      "outputs": []
    },
    {
      "cell_type": "code",
      "source": [
        "Accuracy=r2_score(y_test,y_pred)*100\n",
        "print(\" Accuracy of the model is %.2f\" %Accuracy)"
      ],
      "metadata": {
        "colab": {
          "base_uri": "https://localhost:8080/"
        },
        "id": "P6HIuTefV6E-",
        "outputId": "bfb976b0-516b-45a4-a7a5-5a77e46f9619"
      },
      "execution_count": null,
      "outputs": [
        {
          "output_type": "stream",
          "name": "stdout",
          "text": [
            " Accuracy of the model is 100.00\n"
          ]
        }
      ]
    },
    {
      "cell_type": "markdown",
      "source": [
        "Appping SVM"
      ],
      "metadata": {
        "id": "JtrYqM__3Gu3"
      }
    },
    {
      "cell_type": "code",
      "source": [
        "x_train = df.drop(['Level'],axis = 1)\n",
        "x_train"
      ],
      "metadata": {
        "colab": {
          "base_uri": "https://localhost:8080/",
          "height": 488
        },
        "id": "mzAfD5V-1HeF",
        "outputId": "8c9e01ad-416d-4e96-d20d-2b842f2eca30"
      },
      "execution_count": null,
      "outputs": [
        {
          "output_type": "execute_result",
          "data": {
            "text/plain": [
              "     Age  Gender  AirPollution  Alcoholuse  DustAllergy  OccuPationalHazards  \\\n",
              "0     33       1             2           4            5                    4   \n",
              "1     17       1             3           1            5                    3   \n",
              "2     35       1             4           5            6                    5   \n",
              "3     37       1             7           7            7                    7   \n",
              "4     46       1             6           8            7                    7   \n",
              "..   ...     ...           ...         ...          ...                  ...   \n",
              "995   44       1             6           7            7                    7   \n",
              "996   37       2             6           8            7                    7   \n",
              "997   25       2             4           5            6                    5   \n",
              "998   18       2             6           8            7                    7   \n",
              "999   47       1             6           5            6                    5   \n",
              "\n",
              "     GeneticRisk  chronicLungDisease  BalancedDiet  Obesity  ...  \\\n",
              "0              3                   2             2        4  ...   \n",
              "1              4                   2             2        2  ...   \n",
              "2              5                   4             6        7  ...   \n",
              "3              6                   7             7        7  ...   \n",
              "4              7                   6             7        7  ...   \n",
              "..           ...                 ...           ...      ...  ...   \n",
              "995            7                   6             7        7  ...   \n",
              "996            7                   6             7        7  ...   \n",
              "997            5                   4             6        7  ...   \n",
              "998            7                   6             7        7  ...   \n",
              "999            5                   4             6        7  ...   \n",
              "\n",
              "     CoughingofBlood  Fatigue  WeightLoss  ShortnessofBreath  Wheezing  \\\n",
              "0                  4        3           4                  2         2   \n",
              "1                  3        1           3                  7         8   \n",
              "2                  8        8           7                  9         2   \n",
              "3                  8        4           2                  3         1   \n",
              "4                  9        3           2                  4         1   \n",
              "..               ...      ...         ...                ...       ...   \n",
              "995                7        5           3                  2         7   \n",
              "996                7        9           6                  5         7   \n",
              "997                8        8           7                  9         2   \n",
              "998                9        3           2                  4         1   \n",
              "999                8        8           7                  9         2   \n",
              "\n",
              "     SwallowingDifficulty  ClubbingofFingerNails  FrequentCold  DryCough  \\\n",
              "0                       3                      1             2         3   \n",
              "1                       6                      2             1         7   \n",
              "2                       1                      4             6         7   \n",
              "3                       4                      5             6         7   \n",
              "4                       4                      2             4         2   \n",
              "..                    ...                    ...           ...       ...   \n",
              "995                     8                      2             4         5   \n",
              "996                     2                      4             3         1   \n",
              "997                     1                      4             6         7   \n",
              "998                     4                      2             4         2   \n",
              "999                     1                      4             6         7   \n",
              "\n",
              "     Snoring  \n",
              "0          4  \n",
              "1          2  \n",
              "2          2  \n",
              "3          5  \n",
              "4          3  \n",
              "..       ...  \n",
              "995        3  \n",
              "996        4  \n",
              "997        2  \n",
              "998        3  \n",
              "999        2  \n",
              "\n",
              "[1000 rows x 23 columns]"
            ],
            "text/html": [
              "\n",
              "  <div id=\"df-1cc887e7-7477-459e-8659-cb63b17a9723\">\n",
              "    <div class=\"colab-df-container\">\n",
              "      <div>\n",
              "<style scoped>\n",
              "    .dataframe tbody tr th:only-of-type {\n",
              "        vertical-align: middle;\n",
              "    }\n",
              "\n",
              "    .dataframe tbody tr th {\n",
              "        vertical-align: top;\n",
              "    }\n",
              "\n",
              "    .dataframe thead th {\n",
              "        text-align: right;\n",
              "    }\n",
              "</style>\n",
              "<table border=\"1\" class=\"dataframe\">\n",
              "  <thead>\n",
              "    <tr style=\"text-align: right;\">\n",
              "      <th></th>\n",
              "      <th>Age</th>\n",
              "      <th>Gender</th>\n",
              "      <th>AirPollution</th>\n",
              "      <th>Alcoholuse</th>\n",
              "      <th>DustAllergy</th>\n",
              "      <th>OccuPationalHazards</th>\n",
              "      <th>GeneticRisk</th>\n",
              "      <th>chronicLungDisease</th>\n",
              "      <th>BalancedDiet</th>\n",
              "      <th>Obesity</th>\n",
              "      <th>...</th>\n",
              "      <th>CoughingofBlood</th>\n",
              "      <th>Fatigue</th>\n",
              "      <th>WeightLoss</th>\n",
              "      <th>ShortnessofBreath</th>\n",
              "      <th>Wheezing</th>\n",
              "      <th>SwallowingDifficulty</th>\n",
              "      <th>ClubbingofFingerNails</th>\n",
              "      <th>FrequentCold</th>\n",
              "      <th>DryCough</th>\n",
              "      <th>Snoring</th>\n",
              "    </tr>\n",
              "  </thead>\n",
              "  <tbody>\n",
              "    <tr>\n",
              "      <th>0</th>\n",
              "      <td>33</td>\n",
              "      <td>1</td>\n",
              "      <td>2</td>\n",
              "      <td>4</td>\n",
              "      <td>5</td>\n",
              "      <td>4</td>\n",
              "      <td>3</td>\n",
              "      <td>2</td>\n",
              "      <td>2</td>\n",
              "      <td>4</td>\n",
              "      <td>...</td>\n",
              "      <td>4</td>\n",
              "      <td>3</td>\n",
              "      <td>4</td>\n",
              "      <td>2</td>\n",
              "      <td>2</td>\n",
              "      <td>3</td>\n",
              "      <td>1</td>\n",
              "      <td>2</td>\n",
              "      <td>3</td>\n",
              "      <td>4</td>\n",
              "    </tr>\n",
              "    <tr>\n",
              "      <th>1</th>\n",
              "      <td>17</td>\n",
              "      <td>1</td>\n",
              "      <td>3</td>\n",
              "      <td>1</td>\n",
              "      <td>5</td>\n",
              "      <td>3</td>\n",
              "      <td>4</td>\n",
              "      <td>2</td>\n",
              "      <td>2</td>\n",
              "      <td>2</td>\n",
              "      <td>...</td>\n",
              "      <td>3</td>\n",
              "      <td>1</td>\n",
              "      <td>3</td>\n",
              "      <td>7</td>\n",
              "      <td>8</td>\n",
              "      <td>6</td>\n",
              "      <td>2</td>\n",
              "      <td>1</td>\n",
              "      <td>7</td>\n",
              "      <td>2</td>\n",
              "    </tr>\n",
              "    <tr>\n",
              "      <th>2</th>\n",
              "      <td>35</td>\n",
              "      <td>1</td>\n",
              "      <td>4</td>\n",
              "      <td>5</td>\n",
              "      <td>6</td>\n",
              "      <td>5</td>\n",
              "      <td>5</td>\n",
              "      <td>4</td>\n",
              "      <td>6</td>\n",
              "      <td>7</td>\n",
              "      <td>...</td>\n",
              "      <td>8</td>\n",
              "      <td>8</td>\n",
              "      <td>7</td>\n",
              "      <td>9</td>\n",
              "      <td>2</td>\n",
              "      <td>1</td>\n",
              "      <td>4</td>\n",
              "      <td>6</td>\n",
              "      <td>7</td>\n",
              "      <td>2</td>\n",
              "    </tr>\n",
              "    <tr>\n",
              "      <th>3</th>\n",
              "      <td>37</td>\n",
              "      <td>1</td>\n",
              "      <td>7</td>\n",
              "      <td>7</td>\n",
              "      <td>7</td>\n",
              "      <td>7</td>\n",
              "      <td>6</td>\n",
              "      <td>7</td>\n",
              "      <td>7</td>\n",
              "      <td>7</td>\n",
              "      <td>...</td>\n",
              "      <td>8</td>\n",
              "      <td>4</td>\n",
              "      <td>2</td>\n",
              "      <td>3</td>\n",
              "      <td>1</td>\n",
              "      <td>4</td>\n",
              "      <td>5</td>\n",
              "      <td>6</td>\n",
              "      <td>7</td>\n",
              "      <td>5</td>\n",
              "    </tr>\n",
              "    <tr>\n",
              "      <th>4</th>\n",
              "      <td>46</td>\n",
              "      <td>1</td>\n",
              "      <td>6</td>\n",
              "      <td>8</td>\n",
              "      <td>7</td>\n",
              "      <td>7</td>\n",
              "      <td>7</td>\n",
              "      <td>6</td>\n",
              "      <td>7</td>\n",
              "      <td>7</td>\n",
              "      <td>...</td>\n",
              "      <td>9</td>\n",
              "      <td>3</td>\n",
              "      <td>2</td>\n",
              "      <td>4</td>\n",
              "      <td>1</td>\n",
              "      <td>4</td>\n",
              "      <td>2</td>\n",
              "      <td>4</td>\n",
              "      <td>2</td>\n",
              "      <td>3</td>\n",
              "    </tr>\n",
              "    <tr>\n",
              "      <th>...</th>\n",
              "      <td>...</td>\n",
              "      <td>...</td>\n",
              "      <td>...</td>\n",
              "      <td>...</td>\n",
              "      <td>...</td>\n",
              "      <td>...</td>\n",
              "      <td>...</td>\n",
              "      <td>...</td>\n",
              "      <td>...</td>\n",
              "      <td>...</td>\n",
              "      <td>...</td>\n",
              "      <td>...</td>\n",
              "      <td>...</td>\n",
              "      <td>...</td>\n",
              "      <td>...</td>\n",
              "      <td>...</td>\n",
              "      <td>...</td>\n",
              "      <td>...</td>\n",
              "      <td>...</td>\n",
              "      <td>...</td>\n",
              "      <td>...</td>\n",
              "    </tr>\n",
              "    <tr>\n",
              "      <th>995</th>\n",
              "      <td>44</td>\n",
              "      <td>1</td>\n",
              "      <td>6</td>\n",
              "      <td>7</td>\n",
              "      <td>7</td>\n",
              "      <td>7</td>\n",
              "      <td>7</td>\n",
              "      <td>6</td>\n",
              "      <td>7</td>\n",
              "      <td>7</td>\n",
              "      <td>...</td>\n",
              "      <td>7</td>\n",
              "      <td>5</td>\n",
              "      <td>3</td>\n",
              "      <td>2</td>\n",
              "      <td>7</td>\n",
              "      <td>8</td>\n",
              "      <td>2</td>\n",
              "      <td>4</td>\n",
              "      <td>5</td>\n",
              "      <td>3</td>\n",
              "    </tr>\n",
              "    <tr>\n",
              "      <th>996</th>\n",
              "      <td>37</td>\n",
              "      <td>2</td>\n",
              "      <td>6</td>\n",
              "      <td>8</td>\n",
              "      <td>7</td>\n",
              "      <td>7</td>\n",
              "      <td>7</td>\n",
              "      <td>6</td>\n",
              "      <td>7</td>\n",
              "      <td>7</td>\n",
              "      <td>...</td>\n",
              "      <td>7</td>\n",
              "      <td>9</td>\n",
              "      <td>6</td>\n",
              "      <td>5</td>\n",
              "      <td>7</td>\n",
              "      <td>2</td>\n",
              "      <td>4</td>\n",
              "      <td>3</td>\n",
              "      <td>1</td>\n",
              "      <td>4</td>\n",
              "    </tr>\n",
              "    <tr>\n",
              "      <th>997</th>\n",
              "      <td>25</td>\n",
              "      <td>2</td>\n",
              "      <td>4</td>\n",
              "      <td>5</td>\n",
              "      <td>6</td>\n",
              "      <td>5</td>\n",
              "      <td>5</td>\n",
              "      <td>4</td>\n",
              "      <td>6</td>\n",
              "      <td>7</td>\n",
              "      <td>...</td>\n",
              "      <td>8</td>\n",
              "      <td>8</td>\n",
              "      <td>7</td>\n",
              "      <td>9</td>\n",
              "      <td>2</td>\n",
              "      <td>1</td>\n",
              "      <td>4</td>\n",
              "      <td>6</td>\n",
              "      <td>7</td>\n",
              "      <td>2</td>\n",
              "    </tr>\n",
              "    <tr>\n",
              "      <th>998</th>\n",
              "      <td>18</td>\n",
              "      <td>2</td>\n",
              "      <td>6</td>\n",
              "      <td>8</td>\n",
              "      <td>7</td>\n",
              "      <td>7</td>\n",
              "      <td>7</td>\n",
              "      <td>6</td>\n",
              "      <td>7</td>\n",
              "      <td>7</td>\n",
              "      <td>...</td>\n",
              "      <td>9</td>\n",
              "      <td>3</td>\n",
              "      <td>2</td>\n",
              "      <td>4</td>\n",
              "      <td>1</td>\n",
              "      <td>4</td>\n",
              "      <td>2</td>\n",
              "      <td>4</td>\n",
              "      <td>2</td>\n",
              "      <td>3</td>\n",
              "    </tr>\n",
              "    <tr>\n",
              "      <th>999</th>\n",
              "      <td>47</td>\n",
              "      <td>1</td>\n",
              "      <td>6</td>\n",
              "      <td>5</td>\n",
              "      <td>6</td>\n",
              "      <td>5</td>\n",
              "      <td>5</td>\n",
              "      <td>4</td>\n",
              "      <td>6</td>\n",
              "      <td>7</td>\n",
              "      <td>...</td>\n",
              "      <td>8</td>\n",
              "      <td>8</td>\n",
              "      <td>7</td>\n",
              "      <td>9</td>\n",
              "      <td>2</td>\n",
              "      <td>1</td>\n",
              "      <td>4</td>\n",
              "      <td>6</td>\n",
              "      <td>7</td>\n",
              "      <td>2</td>\n",
              "    </tr>\n",
              "  </tbody>\n",
              "</table>\n",
              "<p>1000 rows × 23 columns</p>\n",
              "</div>\n",
              "      <button class=\"colab-df-convert\" onclick=\"convertToInteractive('df-1cc887e7-7477-459e-8659-cb63b17a9723')\"\n",
              "              title=\"Convert this dataframe to an interactive table.\"\n",
              "              style=\"display:none;\">\n",
              "        \n",
              "  <svg xmlns=\"http://www.w3.org/2000/svg\" height=\"24px\"viewBox=\"0 0 24 24\"\n",
              "       width=\"24px\">\n",
              "    <path d=\"M0 0h24v24H0V0z\" fill=\"none\"/>\n",
              "    <path d=\"M18.56 5.44l.94 2.06.94-2.06 2.06-.94-2.06-.94-.94-2.06-.94 2.06-2.06.94zm-11 1L8.5 8.5l.94-2.06 2.06-.94-2.06-.94L8.5 2.5l-.94 2.06-2.06.94zm10 10l.94 2.06.94-2.06 2.06-.94-2.06-.94-.94-2.06-.94 2.06-2.06.94z\"/><path d=\"M17.41 7.96l-1.37-1.37c-.4-.4-.92-.59-1.43-.59-.52 0-1.04.2-1.43.59L10.3 9.45l-7.72 7.72c-.78.78-.78 2.05 0 2.83L4 21.41c.39.39.9.59 1.41.59.51 0 1.02-.2 1.41-.59l7.78-7.78 2.81-2.81c.8-.78.8-2.07 0-2.86zM5.41 20L4 18.59l7.72-7.72 1.47 1.35L5.41 20z\"/>\n",
              "  </svg>\n",
              "      </button>\n",
              "      \n",
              "  <style>\n",
              "    .colab-df-container {\n",
              "      display:flex;\n",
              "      flex-wrap:wrap;\n",
              "      gap: 12px;\n",
              "    }\n",
              "\n",
              "    .colab-df-convert {\n",
              "      background-color: #E8F0FE;\n",
              "      border: none;\n",
              "      border-radius: 50%;\n",
              "      cursor: pointer;\n",
              "      display: none;\n",
              "      fill: #1967D2;\n",
              "      height: 32px;\n",
              "      padding: 0 0 0 0;\n",
              "      width: 32px;\n",
              "    }\n",
              "\n",
              "    .colab-df-convert:hover {\n",
              "      background-color: #E2EBFA;\n",
              "      box-shadow: 0px 1px 2px rgba(60, 64, 67, 0.3), 0px 1px 3px 1px rgba(60, 64, 67, 0.15);\n",
              "      fill: #174EA6;\n",
              "    }\n",
              "\n",
              "    [theme=dark] .colab-df-convert {\n",
              "      background-color: #3B4455;\n",
              "      fill: #D2E3FC;\n",
              "    }\n",
              "\n",
              "    [theme=dark] .colab-df-convert:hover {\n",
              "      background-color: #434B5C;\n",
              "      box-shadow: 0px 1px 3px 1px rgba(0, 0, 0, 0.15);\n",
              "      filter: drop-shadow(0px 1px 2px rgba(0, 0, 0, 0.3));\n",
              "      fill: #FFFFFF;\n",
              "    }\n",
              "  </style>\n",
              "\n",
              "      <script>\n",
              "        const buttonEl =\n",
              "          document.querySelector('#df-1cc887e7-7477-459e-8659-cb63b17a9723 button.colab-df-convert');\n",
              "        buttonEl.style.display =\n",
              "          google.colab.kernel.accessAllowed ? 'block' : 'none';\n",
              "\n",
              "        async function convertToInteractive(key) {\n",
              "          const element = document.querySelector('#df-1cc887e7-7477-459e-8659-cb63b17a9723');\n",
              "          const dataTable =\n",
              "            await google.colab.kernel.invokeFunction('convertToInteractive',\n",
              "                                                     [key], {});\n",
              "          if (!dataTable) return;\n",
              "\n",
              "          const docLinkHtml = 'Like what you see? Visit the ' +\n",
              "            '<a target=\"_blank\" href=https://colab.research.google.com/notebooks/data_table.ipynb>data table notebook</a>'\n",
              "            + ' to learn more about interactive tables.';\n",
              "          element.innerHTML = '';\n",
              "          dataTable['output_type'] = 'display_data';\n",
              "          await google.colab.output.renderOutput(dataTable, element);\n",
              "          const docLink = document.createElement('div');\n",
              "          docLink.innerHTML = docLinkHtml;\n",
              "          element.appendChild(docLink);\n",
              "        }\n",
              "      </script>\n",
              "    </div>\n",
              "  </div>\n",
              "  "
            ]
          },
          "metadata": {},
          "execution_count": 34
        }
      ]
    },
    {
      "cell_type": "code",
      "source": [
        "y_train = df.Level\n",
        "y_train"
      ],
      "metadata": {
        "colab": {
          "base_uri": "https://localhost:8080/"
        },
        "id": "Yq8vaeZ23TFA",
        "outputId": "f7e8690b-5f3e-42b7-a45a-78c168350c67"
      },
      "execution_count": null,
      "outputs": [
        {
          "output_type": "execute_result",
          "data": {
            "text/plain": [
              "0      0\n",
              "1      1\n",
              "2      2\n",
              "3      2\n",
              "4      2\n",
              "      ..\n",
              "995    2\n",
              "996    2\n",
              "997    2\n",
              "998    2\n",
              "999    2\n",
              "Name: Level, Length: 1000, dtype: int64"
            ]
          },
          "metadata": {},
          "execution_count": 35
        }
      ]
    },
    {
      "cell_type": "code",
      "source": [
        "svc = SVC(kernel='linear')\n",
        "rfecv = RFECV(estimator=svc, step=1, cv=StratifiedKFold(2), scoring='accuracy')\n",
        "rfecv.fit(x_train, y_train)\n",
        "\n",
        "print(\"Optimal number of features : %d\" % rfecv.n_features_)\n",
        "\n",
        "# Plot number of Features Vs Cross-validation scores\n",
        "plt.figure()\n",
        "plt.xlabel(\"Number of features selected\")\n",
        "plt.ylabel(\"Cross validation score (nb of correct classifications)\")\n",
        "plt.plot(range(1, len(rfecv.grid_scores_) + 1), rfecv.grid_scores_)\n",
        "plt.show()"
      ],
      "metadata": {
        "colab": {
          "base_uri": "https://localhost:8080/",
          "height": 371
        },
        "id": "6NGeyOSD3ZET",
        "outputId": "b5c2fc25-a0c8-40fc-fd5a-c5f50c128d71"
      },
      "execution_count": null,
      "outputs": [
        {
          "output_type": "stream",
          "name": "stdout",
          "text": [
            "Optimal number of features : 6\n"
          ]
        },
        {
          "output_type": "stream",
          "name": "stderr",
          "text": [
            "/usr/local/lib/python3.7/dist-packages/sklearn/utils/deprecation.py:103: FutureWarning: The `grid_scores_` attribute is deprecated in version 1.0 in favor of `cv_results_` and will be removed in version 1.2.\n",
            "  warnings.warn(msg, category=FutureWarning)\n"
          ]
        },
        {
          "output_type": "display_data",
          "data": {
            "text/plain": [
              "<Figure size 432x288 with 1 Axes>"
            ],
            "image/png": "[encoded data removed]"
          },
          "metadata": {
            "needs_background": "light"
          }
        }
      ]
    },
    {
      "cell_type": "code",
      "source": [
        "FEATURES = list(x_train.columns[rfecv.support_])\n",
        "print('Best features :', FEATURES)"
      ],
      "metadata": {
        "colab": {
          "base_uri": "https://localhost:8080/"
        },
        "id": "ljo7Mz3k3q7U",
        "outputId": "a0f9241b-ac5c-41b0-ba18-ec9bddbde94d"
      },
      "execution_count": null,
      "outputs": [
        {
          "output_type": "stream",
          "name": "stdout",
          "text": [
            "Best features : ['Obesity', 'PassiveSmoker', 'CoughingofBlood', 'Fatigue', 'Wheezing', 'Snoring']\n"
          ]
        }
      ]
    },
    {
      "cell_type": "code",
      "source": [
        "from sklearn.preprocessing import StandardScaler\n",
        "\n",
        "def preprocess(X):\n",
        "    #extracting chosen features\n",
        "    X = X[FEATURES]\n",
        "    #Standardizing Features\n",
        "    sc = StandardScaler()\n",
        "    X = sc.fit_transform(X)\n",
        "    return X\n",
        "\n",
        "x_train = preprocess(x_train)\n",
        "x_train\n"
      ],
      "metadata": {
        "colab": {
          "base_uri": "https://localhost:8080/"
        },
        "id": "7RfODoo533En",
        "outputId": "b80f69db-e042-46b4-8401-0ad9bc9eafea"
      },
      "execution_count": null,
      "outputs": [
        {
          "output_type": "execute_result",
          "data": {
            "text/plain": [
              "array([[-0.21894114, -0.94996057, -0.35397126, -0.38154776, -0.87069449,\n",
              "         0.72865507],\n",
              "       [-1.16062345, -0.08439285, -0.7660449 , -1.27301449,  2.06918561,\n",
              "        -0.6282445 ],\n",
              "       [ 1.19358233, -0.51717671,  1.29432331,  1.84711907, -0.87069449,\n",
              "        -0.6282445 ],\n",
              "       ...,\n",
              "       [ 1.19358233, -0.51717671,  1.29432331,  1.84711907, -0.87069449,\n",
              "        -0.6282445 ],\n",
              "       [ 1.19358233,  1.21395873,  1.70639695, -0.38154776, -1.36067451,\n",
              "         0.05020528],\n",
              "       [ 1.19358233, -0.51717671,  1.29432331,  1.84711907, -0.87069449,\n",
              "        -0.6282445 ]])"
            ]
          },
          "metadata": {},
          "execution_count": 38
        }
      ]
    },
    {
      "cell_type": "code",
      "source": [
        "from sklearn.svm import SVC\n",
        "\n",
        "SV = SVC(probability=True, random_state=0) \n",
        "SV.fit(x_train, y_train)\n",
        "print('SVM Classifier Training Accuracy:', SV.score(x_train, y_train))"
      ],
      "metadata": {
        "colab": {
          "base_uri": "https://localhost:8080/"
        },
        "id": "2J3csODn39vt",
        "outputId": "228ab343-8f56-401a-fe4e-742b7455f04b"
      },
      "execution_count": null,
      "outputs": [
        {
          "output_type": "stream",
          "name": "stdout",
          "text": [
            "SVM Classifier Training Accuracy: 1.0\n"
          ]
        }
      ]
    },
    {
      "cell_type": "markdown",
      "source": [
        "Applying Gradient Boosting"
      ],
      "metadata": {
        "id": "AmJuN6Of9R5f"
      }
    },
    {
      "cell_type": "code",
      "source": [],
      "metadata": {
        "id": "ykHlCR5zI13B"
      },
      "execution_count": null,
      "outputs": []
    },
    {
      "cell_type": "code",
      "source": [
        "X = df.iloc[:,:-1]\n",
        "y = df.iloc[:,1]"
      ],
      "metadata": {
        "id": "xV3m6o5q9WUZ"
      },
      "execution_count": null,
      "outputs": []
    },
    {
      "cell_type": "code",
      "source": [
        "X_train = X.iloc[:700,:]"
      ],
      "metadata": {
        "id": "IbB-yptTDxJ1"
      },
      "execution_count": null,
      "outputs": []
    },
    {
      "cell_type": "code",
      "source": [
        "X_train.shape"
      ],
      "metadata": {
        "colab": {
          "base_uri": "https://localhost:8080/"
        },
        "id": "8-fK7tBcESIj",
        "outputId": "bf884113-8a57-4a1a-b3d0-569bc95f3461"
      },
      "execution_count": null,
      "outputs": [
        {
          "output_type": "execute_result",
          "data": {
            "text/plain": [
              "(700, 23)"
            ]
          },
          "metadata": {},
          "execution_count": 60
        }
      ]
    },
    {
      "cell_type": "code",
      "source": [
        "x_test = X.iloc[700:1000,:]"
      ],
      "metadata": {
        "id": "ojvC5CsqEXE5"
      },
      "execution_count": null,
      "outputs": []
    },
    {
      "cell_type": "code",
      "source": [
        "x_test.shape"
      ],
      "metadata": {
        "colab": {
          "base_uri": "https://localhost:8080/"
        },
        "id": "v-3XTJ-UEuYO",
        "outputId": "a9cc4f88-a86c-4428-abbf-26f185d7869f"
      },
      "execution_count": null,
      "outputs": [
        {
          "output_type": "execute_result",
          "data": {
            "text/plain": [
              "(300, 23)"
            ]
          },
          "metadata": {},
          "execution_count": 64
        }
      ]
    },
    {
      "cell_type": "code",
      "source": [
        "y_train = y.iloc[:700]"
      ],
      "metadata": {
        "id": "B4WeNDnTE29J"
      },
      "execution_count": null,
      "outputs": []
    },
    {
      "cell_type": "code",
      "source": [
        "y_train.shape"
      ],
      "metadata": {
        "colab": {
          "base_uri": "https://localhost:8080/"
        },
        "id": "9a2gtLibD5GI",
        "outputId": "c187118b-de62-435f-f232-44502239106d"
      },
      "execution_count": null,
      "outputs": [
        {
          "output_type": "execute_result",
          "data": {
            "text/plain": [
              "(700,)"
            ]
          },
          "metadata": {},
          "execution_count": 67
        }
      ]
    },
    {
      "cell_type": "code",
      "source": [
        "y_test = y.iloc[700:1000]"
      ],
      "metadata": {
        "id": "w78iKUqhFFK5"
      },
      "execution_count": null,
      "outputs": []
    },
    {
      "cell_type": "code",
      "source": [
        "gbclass = GradientBoostingClassifier(\n",
        "                    random_state = 1000,\n",
        "                    verbose = 0,\n",
        "                    n_estimators = 10,\n",
        "                    learning_rate = 0.9,\n",
        "                    loss = 'deviance',\n",
        "                    max_depth = 3\n",
        "                   )\n",
        "#gbclass = GradientBoostingClassifier(n_estimators=100, learning_rate=1.0, max_depth=1, random_state=0)\n",
        "# Train the model using the training sets and check score\n",
        "gbclass.fit(X_train, y_train)\n",
        "#Predict Output\n",
        "predicted= gbclass.predict(X_test)\n",
        "\n",
        "gbclass_score = round(gbclass.score(X_train, y_train) * 100, 2)\n",
        "gbclass_score_test = round(gbclass.score(X_test, y_test) * 100, 2)\n",
        "print('Score: \\n', gbclass_score)\n",
        "print('Test Score: \\n', gbclass_score_test)\n",
        "print('Accuracy: \\n', accuracy_score(y_test,predicted))\n",
        "print(confusion_matrix(predicted,y_test))\n",
        "print(classification_report(y_test,predicted))"
      ],
      "metadata": {
        "colab": {
          "base_uri": "https://localhost:8080/"
        },
        "id": "3ePj3Elo_bwE",
        "outputId": "e336555a-63d2-481b-ef4d-955a5a809774"
      },
      "execution_count": null,
      "outputs": [
        {
          "output_type": "stream",
          "name": "stdout",
          "text": [
            "Score: \n",
            " 100.0\n",
            "Test Score: \n",
            " 47.67\n",
            "Accuracy: \n",
            " 0.4766666666666667\n",
            "[[101  81]\n",
            " [ 76  42]]\n",
            "              precision    recall  f1-score   support\n",
            "\n",
            "           1       0.55      0.57      0.56       177\n",
            "           2       0.36      0.34      0.35       123\n",
            "\n",
            "    accuracy                           0.48       300\n",
            "   macro avg       0.46      0.46      0.46       300\n",
            "weighted avg       0.47      0.48      0.47       300\n",
            "\n"
          ]
        }
      ]
    },
    {
      "cell_type": "markdown",
      "source": [
        "Applying XGBOOST"
      ],
      "metadata": {
        "id": "eT89QnKvFuWQ"
      }
    },
    {
      "cell_type": "code",
      "source": [
        "X_train, X_test, y_train, y_test = model_selection.train_test_split(X, y, test_size=0.35, random_state=7)"
      ],
      "metadata": {
        "id": "XK1si1G3czwN"
      },
      "execution_count": null,
      "outputs": []
    },
    {
      "cell_type": "code",
      "source": [
        "y_pred = classifier.predict(X_test)\n",
        "cm = confusion_matrix(y_test, y_pred)\n",
        "print(cm)\n",
        "acc7 = accuracy_score(y_test, y_pred)"
      ],
      "metadata": {
        "colab": {
          "base_uri": "https://localhost:8080/"
        },
        "id": "1-4Lk93ZF0Sx",
        "outputId": "b15caeb9-a9ff-4f27-ee38-aa725f786fbe"
      },
      "execution_count": null,
      "outputs": [
        {
          "output_type": "stream",
          "name": "stdout",
          "text": [
            "[[213   0]\n",
            " [  0 137]]\n"
          ]
        }
      ]
    },
    {
      "cell_type": "code",
      "source": [
        "print(f\"By XG Boost classifier Acc: {acc7}\")"
      ],
      "metadata": {
        "colab": {
          "base_uri": "https://localhost:8080/"
        },
        "id": "imCd8cQXGxKz",
        "outputId": "52659856-281b-4b63-edc7-ea2078726ab2"
      },
      "execution_count": null,
      "outputs": [
        {
          "output_type": "stream",
          "name": "stdout",
          "text": [
            "By XG Boost classifier Acc: 1.0\n"
          ]
        }
      ]
    },
    {
      "cell_type": "markdown",
      "source": [
        "Applying Naive bayes"
      ],
      "metadata": {
        "id": "9wWcT5IYHwS8"
      }
    },
    {
      "cell_type": "code",
      "source": [
        "X_train, X_test, y_train, y_test = model_selection.train_test_split(X, y, test_size=0.25, random_state=42)"
      ],
      "metadata": {
        "id": "p57jO1TicDHe"
      },
      "execution_count": null,
      "outputs": []
    },
    {
      "cell_type": "code",
      "source": [
        "from sklearn.naive_bayes import GaussianNB\n",
        "classifier = GaussianNB()\n",
        "classifier.fit(X_train, y_train)"
      ],
      "metadata": {
        "colab": {
          "base_uri": "https://localhost:8080/"
        },
        "id": "JOyogj2HH5QX",
        "outputId": "95bfecae-0cde-4500-de9f-7353319116b7"
      },
      "execution_count": null,
      "outputs": [
        {
          "output_type": "execute_result",
          "data": {
            "text/plain": [
              "GaussianNB()"
            ]
          },
          "metadata": {},
          "execution_count": 125
        }
      ]
    },
    {
      "cell_type": "code",
      "source": [
        "y_pred = classifier.predict(X_test)\n",
        "cm = confusion_matrix(y_test, y_pred)\n",
        "print(cm)"
      ],
      "metadata": {
        "colab": {
          "base_uri": "https://localhost:8080/"
        },
        "id": "AK9KzGCYH7hl",
        "outputId": "6ed39bc6-73fa-4eaa-fd72-75bc4f56ad6a"
      },
      "execution_count": null,
      "outputs": [
        {
          "output_type": "stream",
          "name": "stdout",
          "text": [
            "[[137   0]\n",
            " [  0 113]]\n"
          ]
        }
      ]
    },
    {
      "cell_type": "code",
      "source": [
        "sns.heatmap(cm,annot=True)\n",
        "plt.show()"
      ],
      "metadata": {
        "colab": {
          "base_uri": "https://localhost:8080/",
          "height": 265
        },
        "id": "2Epa6HryIBnv",
        "outputId": "6da7b667-edb6-4adf-a00e-95a7f305b3ce"
      },
      "execution_count": null,
      "outputs": [
        {
          "output_type": "display_data",
          "data": {
            "text/plain": [
              "<Figure size 432x288 with 2 Axes>"
            ],
            "image/png": "[encoded data removed]"
          },
          "metadata": {
            "needs_background": "light"
          }
        }
      ]
    },
    {
      "cell_type": "code",
      "source": [
        "acc4 = accuracy_score(y_test, y_pred)\n",
        "print(f\"Accuracy score : {acc4}\")"
      ],
      "metadata": {
        "colab": {
          "base_uri": "https://localhost:8080/"
        },
        "id": "hlg1ahsFIFRO",
        "outputId": "1b63f14c-4a3c-45e9-af31-c5a5087867b6"
      },
      "execution_count": null,
      "outputs": [
        {
          "output_type": "stream",
          "name": "stdout",
          "text": [
            "Accuracy score : 1.0\n"
          ]
        }
      ]
    },
    {
      "cell_type": "markdown",
      "source": [
        "Applying Logistic Regression"
      ],
      "metadata": {
        "id": "RxyXaNXXabCj"
      }
    },
    {
      "cell_type": "code",
      "source": [
        "X_train, X_test, y_train, y_test = model_selection.train_test_split(X, y, test_size=0.2, random_state=42)"
      ],
      "metadata": {
        "id": "Tgeb0tIIYtt-"
      },
      "execution_count": null,
      "outputs": []
    },
    {
      "cell_type": "code",
      "source": [
        "tuned_params = {'C': [0.0001, 0.001, 0.01, 0.1, 1, 10, 100, 1000, 10000], 'penalty': ['l1', 'l2']}\n",
        "model = GridSearchCV(LogisticRegression(), tuned_params, scoring = 'roc_auc', n_jobs=-1)\n",
        "model.fit(X_train, y_train)"
      ],
      "metadata": {
        "id": "UXkX4M8NdH8F"
      },
      "execution_count": null,
      "outputs": []
    },
    {
      "cell_type": "code",
      "source": [
        "model.best_estimator_"
      ],
      "metadata": {
        "colab": {
          "base_uri": "https://localhost:8080/"
        },
        "id": "__OGETw1gBG4",
        "outputId": "ca0654bd-1b10-4b34-d477-69d5511e78bc"
      },
      "execution_count": null,
      "outputs": [
        {
          "output_type": "execute_result",
          "data": {
            "text/plain": [
              "LogisticRegression(C=0.1)"
            ]
          },
          "metadata": {},
          "execution_count": 111
        }
      ]
    },
    {
      "cell_type": "code",
      "source": [
        "## Predict Train set results\n",
        "y_train_pred = model.predict(X_train)"
      ],
      "metadata": {
        "id": "L4s9rIUogMr6"
      },
      "execution_count": null,
      "outputs": []
    },
    {
      "cell_type": "code",
      "source": [
        "## Predict Test set results\n",
        "y_pred = model.predict(X_test)"
      ],
      "metadata": {
        "id": "FHUmBqFAgOEr"
      },
      "execution_count": null,
      "outputs": []
    },
    {
      "cell_type": "code",
      "source": [
        "# Get just the prediction for the positive class (1)\n",
        "y_pred_proba = model.predict_proba(X_test)[:,1]"
      ],
      "metadata": {
        "id": "1pBPcedVgUz-"
      },
      "execution_count": null,
      "outputs": []
    },
    {
      "cell_type": "code",
      "source": [
        "# Display first 10 predictions\n",
        "y_pred_proba[:10]"
      ],
      "metadata": {
        "colab": {
          "base_uri": "https://localhost:8080/"
        },
        "id": "Empq3PnHgXC6",
        "outputId": "54e40d44-b141-4bc2-db68-2f5714fc8136"
      },
      "execution_count": null,
      "outputs": [
        {
          "output_type": "execute_result",
          "data": {
            "text/plain": [
              "array([0.85023413, 0.035946  , 0.17472247, 0.59530161, 0.84177515,\n",
              "       0.03707709, 0.035946  , 0.1940008 , 0.73540341, 0.0316954 ])"
            ]
          },
          "metadata": {},
          "execution_count": 115
        }
      ]
    },
    {
      "cell_type": "code",
      "source": [
        "i=28  ## Change the value of i to get the details of any point (56, 213, etc.)\n",
        "print('For test point {}, actual class = {}, precited class = {}, predicted probability = {}'.\n",
        "      format(i, y_test.iloc[i], y_pred[i], y_pred_proba[i]))"
      ],
      "metadata": {
        "colab": {
          "base_uri": "https://localhost:8080/"
        },
        "id": "ONuKad2egaq-",
        "outputId": "33559acb-c818-4f0b-8a71-d528a16df1e3"
      },
      "execution_count": null,
      "outputs": [
        {
          "output_type": "stream",
          "name": "stdout",
          "text": [
            "For test point 28, actual class = 2, precited class = 2, predicted probability = 0.8172577903823902\n"
          ]
        }
      ]
    },
    {
      "cell_type": "code",
      "source": [
        "confusion_matrix(y_test, y_pred).T"
      ],
      "metadata": {
        "colab": {
          "base_uri": "https://localhost:8080/"
        },
        "id": "QMqa7MqVgepf",
        "outputId": "aa67bf29-bab3-425b-ff72-fd866a53098b"
      },
      "execution_count": null,
      "outputs": [
        {
          "output_type": "execute_result",
          "data": {
            "text/plain": [
              "array([[105,   0],\n",
              "       [  0,  95]])"
            ]
          },
          "metadata": {},
          "execution_count": 117
        }
      ]
    },
    {
      "cell_type": "code",
      "source": [
        "# Calculate AUC for Train set\n",
        "print(roc_auc_score(y_train, y_train_pred))"
      ],
      "metadata": {
        "colab": {
          "base_uri": "https://localhost:8080/"
        },
        "id": "fv7SdaZkkjsy",
        "outputId": "4e557628-d597-4c88-99d7-9369190ff551"
      },
      "execution_count": null,
      "outputs": [
        {
          "output_type": "stream",
          "name": "stdout",
          "text": [
            "1.0\n"
          ]
        }
      ]
    },
    {
      "cell_type": "markdown",
      "source": [
        "Applying KNN"
      ],
      "metadata": {
        "id": "JOO8OFmqkuzT"
      }
    },
    {
      "cell_type": "code",
      "source": [
        "X_train, X_test, y_train, y_test = model_selection.train_test_split(X, y, test_size=0.2, random_state=42)"
      ],
      "metadata": {
        "id": "F8GnyKlyk0LZ"
      },
      "execution_count": null,
      "outputs": []
    },
    {
      "cell_type": "code",
      "source": [
        "knn = KNeighborsClassifier(n_neighbors=7)\n",
        "  \n",
        "knn.fit(X_train, y_train)\n",
        "  \n",
        "# Calculate the accuracy of the model\n",
        "print(knn.score(X_test, y_test))"
      ],
      "metadata": {
        "colab": {
          "base_uri": "https://localhost:8080/"
        },
        "id": "fI3WOtRvlXq_",
        "outputId": "18012af2-1e55-4eea-be41-b8386630dbb1"
      },
      "execution_count": null,
      "outputs": [
        {
          "output_type": "stream",
          "name": "stdout",
          "text": [
            "0.97\n"
          ]
        }
      ]
    }
  ]
}