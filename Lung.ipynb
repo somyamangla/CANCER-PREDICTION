{
  "nbformat": 4,
  "nbformat_minor": 0,
  "metadata": {
    "colab": {
      "provenance": [],
      "authorship_tag": "ABX9TyPz4EJWUf3U2Yp+JLqda9A0",
      "include_colab_link": true
    },
    "kernelspec": {
      "name": "python3",
      "display_name": "Python 3"
    },
    "language_info": {
      "name": "python"
    }
  },
  "cells": [
    {
      "cell_type": "markdown",
      "metadata": {
        "id": "view-in-github",
        "colab_type": "text"
      },
      "source": [
        "<a href=\"https://colab.research.google.com/github/somyamangla/CANCER-PREDICTION/blob/main/Lung.ipynb\" target=\"_parent\"><img src=\"https://colab.research.google.com/assets/colab-badge.svg\" alt=\"Open In Colab\"/></a>"
      ]
    },
    {
      "cell_type": "code",
      "execution_count": 19,
      "metadata": {
        "id": "FUCDFJ0jdJWC"
      },
      "outputs": [],
      "source": [
        "import seaborn as sns\n",
        "import numpy as np\n",
        "import pandas as pd\n",
        "import matplotlib.pyplot as plt\n",
        "\n",
        "from sklearn.preprocessing import LabelEncoder\n",
        "from sklearn.neighbors import KNeighborsClassifier\n",
        "from sklearn.model_selection import train_test_split\n",
        "from sklearn.preprocessing import StandardScaler\n",
        "from sklearn.metrics import f1_score, precision_score, accuracy_score, recall_score, balanced_accuracy_score\n",
        "from sklearn.svm import SVC\n",
        "from sklearn.model_selection import StratifiedKFold\n",
        "from sklearn.feature_selection import RFECV\n",
        "from sklearn.model_selection import train_test_split"
      ]
    },
    {
      "cell_type": "code",
      "source": [
        "train = pd.read_excel(\"lung_train.xlsx\")\n",
        "test = pd.read_excel(\"lung_test.xlsx\")"
      ],
      "metadata": {
        "id": "2Wj3Gbapdrad"
      },
      "execution_count": null,
      "outputs": []
    },
    {
      "cell_type": "code",
      "source": [
        "train=train.drop(['Patient Id'], axis=1)\n",
        "test=test.drop(['Patient Id'], axis=1)"
      ],
      "metadata": {
        "id": "ugyplIY-d0t2"
      },
      "execution_count": null,
      "outputs": []
    },
    {
      "cell_type": "code",
      "source": [
        "test"
      ],
      "metadata": {
        "colab": {
          "base_uri": "https://localhost:8080/",
          "height": 488
        },
        "id": "YoZ7Pg_hexdI",
        "outputId": "cbfabfd2-a5e3-4ca1-850c-7d29458ec36d"
      },
      "execution_count": null,
      "outputs": [
        {
          "output_type": "execute_result",
          "data": {
            "text/plain": [
              "     Age  Gender  AirPollution  Alcoholuse  DustAllergy  OccuPationalHazards  \\\n",
              "0     62       1             6           8            7                    7   \n",
              "1     29       2             6           7            7                    7   \n",
              "2     26       1             6           7            7                    7   \n",
              "3     65       1             6           8            7                    7   \n",
              "4     38       2             2           1            5                    3   \n",
              "..   ...     ...           ...         ...          ...                  ...   \n",
              "230   28       2             1           6            7                    5   \n",
              "231   35       2             2           6            2                    3   \n",
              "232   42       1             2           4            5                    6   \n",
              "233   32       2             1           6            7                    8   \n",
              "234   33       1             2           4            5                    4   \n",
              "\n",
              "     GeneticRisk  chronicLungDisease  BalancedDiet  Obesity  ...  Fatigue  \\\n",
              "0              7                   6             7        7  ...        3   \n",
              "1              7                   6             7        7  ...        2   \n",
              "2              6                   7             7        7  ...        4   \n",
              "3              7                   6             2        4  ...        2   \n",
              "4              2                   3             2        4  ...        6   \n",
              "..           ...                 ...           ...      ...  ...      ...   \n",
              "230            3                   2             6        2  ...        3   \n",
              "231            6                   6             6        4  ...        5   \n",
              "232            5                   5             4        6  ...        8   \n",
              "233            7                   6             7        7  ...        3   \n",
              "234            3                   2             2        4  ...        3   \n",
              "\n",
              "     WeightLoss  ShortnessofBreath  Wheezing  SwallowingDifficulty  \\\n",
              "0             2                  4         1                     4   \n",
              "1             7                  6         7                     6   \n",
              "2             2                  3         1                     4   \n",
              "3             7                  6         5                     1   \n",
              "4             7                  2         5                     8   \n",
              "..          ...                ...       ...                   ...   \n",
              "230           3                  7         7                     4   \n",
              "231           5                  4         6                     5   \n",
              "232           7                  7         3                     8   \n",
              "233           2                  6         4                     2   \n",
              "234           4                  2         2                     3   \n",
              "\n",
              "     ClubbingofFingerNails  FrequentCold  DryCough  Snoring   Level  \n",
              "0                        2             4         2        3    High  \n",
              "1                        7             2         3        1    High  \n",
              "2                        5             6         7        5    High  \n",
              "3                        9             3         4        2  Medium  \n",
              "4                        1             3         2        3  Medium  \n",
              "..                     ...           ...       ...      ...     ...  \n",
              "230                      8             7         7        5     Low  \n",
              "231                      4             6         5        7    High  \n",
              "232                      9             1         6        2    High  \n",
              "233                      3             1         2        1    High  \n",
              "234                      1             2         3        4  Medium  \n",
              "\n",
              "[235 rows x 24 columns]"
            ],
            "text/html": [
              "\n",
              "  <div id=\"df-3777ef15-a503-41ca-84c4-f81533cc296c\">\n",
              "    <div class=\"colab-df-container\">\n",
              "      <div>\n",
              "<style scoped>\n",
              "    .dataframe tbody tr th:only-of-type {\n",
              "        vertical-align: middle;\n",
              "    }\n",
              "\n",
              "    .dataframe tbody tr th {\n",
              "        vertical-align: top;\n",
              "    }\n",
              "\n",
              "    .dataframe thead th {\n",
              "        text-align: right;\n",
              "    }\n",
              "</style>\n",
              "<table border=\"1\" class=\"dataframe\">\n",
              "  <thead>\n",
              "    <tr style=\"text-align: right;\">\n",
              "      <th></th>\n",
              "      <th>Age</th>\n",
              "      <th>Gender</th>\n",
              "      <th>AirPollution</th>\n",
              "      <th>Alcoholuse</th>\n",
              "      <th>DustAllergy</th>\n",
              "      <th>OccuPationalHazards</th>\n",
              "      <th>GeneticRisk</th>\n",
              "      <th>chronicLungDisease</th>\n",
              "      <th>BalancedDiet</th>\n",
              "      <th>Obesity</th>\n",
              "      <th>...</th>\n",
              "      <th>Fatigue</th>\n",
              "      <th>WeightLoss</th>\n",
              "      <th>ShortnessofBreath</th>\n",
              "      <th>Wheezing</th>\n",
              "      <th>SwallowingDifficulty</th>\n",
              "      <th>ClubbingofFingerNails</th>\n",
              "      <th>FrequentCold</th>\n",
              "      <th>DryCough</th>\n",
              "      <th>Snoring</th>\n",
              "      <th>Level</th>\n",
              "    </tr>\n",
              "  </thead>\n",
              "  <tbody>\n",
              "    <tr>\n",
              "      <th>0</th>\n",
              "      <td>62</td>\n",
              "      <td>1</td>\n",
              "      <td>6</td>\n",
              "      <td>8</td>\n",
              "      <td>7</td>\n",
              "      <td>7</td>\n",
              "      <td>7</td>\n",
              "      <td>6</td>\n",
              "      <td>7</td>\n",
              "      <td>7</td>\n",
              "      <td>...</td>\n",
              "      <td>3</td>\n",
              "      <td>2</td>\n",
              "      <td>4</td>\n",
              "      <td>1</td>\n",
              "      <td>4</td>\n",
              "      <td>2</td>\n",
              "      <td>4</td>\n",
              "      <td>2</td>\n",
              "      <td>3</td>\n",
              "      <td>High</td>\n",
              "    </tr>\n",
              "    <tr>\n",
              "      <th>1</th>\n",
              "      <td>29</td>\n",
              "      <td>2</td>\n",
              "      <td>6</td>\n",
              "      <td>7</td>\n",
              "      <td>7</td>\n",
              "      <td>7</td>\n",
              "      <td>7</td>\n",
              "      <td>6</td>\n",
              "      <td>7</td>\n",
              "      <td>7</td>\n",
              "      <td>...</td>\n",
              "      <td>2</td>\n",
              "      <td>7</td>\n",
              "      <td>6</td>\n",
              "      <td>7</td>\n",
              "      <td>6</td>\n",
              "      <td>7</td>\n",
              "      <td>2</td>\n",
              "      <td>3</td>\n",
              "      <td>1</td>\n",
              "      <td>High</td>\n",
              "    </tr>\n",
              "    <tr>\n",
              "      <th>2</th>\n",
              "      <td>26</td>\n",
              "      <td>1</td>\n",
              "      <td>6</td>\n",
              "      <td>7</td>\n",
              "      <td>7</td>\n",
              "      <td>7</td>\n",
              "      <td>6</td>\n",
              "      <td>7</td>\n",
              "      <td>7</td>\n",
              "      <td>7</td>\n",
              "      <td>...</td>\n",
              "      <td>4</td>\n",
              "      <td>2</td>\n",
              "      <td>3</td>\n",
              "      <td>1</td>\n",
              "      <td>4</td>\n",
              "      <td>5</td>\n",
              "      <td>6</td>\n",
              "      <td>7</td>\n",
              "      <td>5</td>\n",
              "      <td>High</td>\n",
              "    </tr>\n",
              "    <tr>\n",
              "      <th>3</th>\n",
              "      <td>65</td>\n",
              "      <td>1</td>\n",
              "      <td>6</td>\n",
              "      <td>8</td>\n",
              "      <td>7</td>\n",
              "      <td>7</td>\n",
              "      <td>7</td>\n",
              "      <td>6</td>\n",
              "      <td>2</td>\n",
              "      <td>4</td>\n",
              "      <td>...</td>\n",
              "      <td>2</td>\n",
              "      <td>7</td>\n",
              "      <td>6</td>\n",
              "      <td>5</td>\n",
              "      <td>1</td>\n",
              "      <td>9</td>\n",
              "      <td>3</td>\n",
              "      <td>4</td>\n",
              "      <td>2</td>\n",
              "      <td>Medium</td>\n",
              "    </tr>\n",
              "    <tr>\n",
              "      <th>4</th>\n",
              "      <td>38</td>\n",
              "      <td>2</td>\n",
              "      <td>2</td>\n",
              "      <td>1</td>\n",
              "      <td>5</td>\n",
              "      <td>3</td>\n",
              "      <td>2</td>\n",
              "      <td>3</td>\n",
              "      <td>2</td>\n",
              "      <td>4</td>\n",
              "      <td>...</td>\n",
              "      <td>6</td>\n",
              "      <td>7</td>\n",
              "      <td>2</td>\n",
              "      <td>5</td>\n",
              "      <td>8</td>\n",
              "      <td>1</td>\n",
              "      <td>3</td>\n",
              "      <td>2</td>\n",
              "      <td>3</td>\n",
              "      <td>Medium</td>\n",
              "    </tr>\n",
              "    <tr>\n",
              "      <th>...</th>\n",
              "      <td>...</td>\n",
              "      <td>...</td>\n",
              "      <td>...</td>\n",
              "      <td>...</td>\n",
              "      <td>...</td>\n",
              "      <td>...</td>\n",
              "      <td>...</td>\n",
              "      <td>...</td>\n",
              "      <td>...</td>\n",
              "      <td>...</td>\n",
              "      <td>...</td>\n",
              "      <td>...</td>\n",
              "      <td>...</td>\n",
              "      <td>...</td>\n",
              "      <td>...</td>\n",
              "      <td>...</td>\n",
              "      <td>...</td>\n",
              "      <td>...</td>\n",
              "      <td>...</td>\n",
              "      <td>...</td>\n",
              "      <td>...</td>\n",
              "    </tr>\n",
              "    <tr>\n",
              "      <th>230</th>\n",
              "      <td>28</td>\n",
              "      <td>2</td>\n",
              "      <td>1</td>\n",
              "      <td>6</td>\n",
              "      <td>7</td>\n",
              "      <td>5</td>\n",
              "      <td>3</td>\n",
              "      <td>2</td>\n",
              "      <td>6</td>\n",
              "      <td>2</td>\n",
              "      <td>...</td>\n",
              "      <td>3</td>\n",
              "      <td>3</td>\n",
              "      <td>7</td>\n",
              "      <td>7</td>\n",
              "      <td>4</td>\n",
              "      <td>8</td>\n",
              "      <td>7</td>\n",
              "      <td>7</td>\n",
              "      <td>5</td>\n",
              "      <td>Low</td>\n",
              "    </tr>\n",
              "    <tr>\n",
              "      <th>231</th>\n",
              "      <td>35</td>\n",
              "      <td>2</td>\n",
              "      <td>2</td>\n",
              "      <td>6</td>\n",
              "      <td>2</td>\n",
              "      <td>3</td>\n",
              "      <td>6</td>\n",
              "      <td>6</td>\n",
              "      <td>6</td>\n",
              "      <td>4</td>\n",
              "      <td>...</td>\n",
              "      <td>5</td>\n",
              "      <td>5</td>\n",
              "      <td>4</td>\n",
              "      <td>6</td>\n",
              "      <td>5</td>\n",
              "      <td>4</td>\n",
              "      <td>6</td>\n",
              "      <td>5</td>\n",
              "      <td>7</td>\n",
              "      <td>High</td>\n",
              "    </tr>\n",
              "    <tr>\n",
              "      <th>232</th>\n",
              "      <td>42</td>\n",
              "      <td>1</td>\n",
              "      <td>2</td>\n",
              "      <td>4</td>\n",
              "      <td>5</td>\n",
              "      <td>6</td>\n",
              "      <td>5</td>\n",
              "      <td>5</td>\n",
              "      <td>4</td>\n",
              "      <td>6</td>\n",
              "      <td>...</td>\n",
              "      <td>8</td>\n",
              "      <td>7</td>\n",
              "      <td>7</td>\n",
              "      <td>3</td>\n",
              "      <td>8</td>\n",
              "      <td>9</td>\n",
              "      <td>1</td>\n",
              "      <td>6</td>\n",
              "      <td>2</td>\n",
              "      <td>High</td>\n",
              "    </tr>\n",
              "    <tr>\n",
              "      <th>233</th>\n",
              "      <td>32</td>\n",
              "      <td>2</td>\n",
              "      <td>1</td>\n",
              "      <td>6</td>\n",
              "      <td>7</td>\n",
              "      <td>8</td>\n",
              "      <td>7</td>\n",
              "      <td>6</td>\n",
              "      <td>7</td>\n",
              "      <td>7</td>\n",
              "      <td>...</td>\n",
              "      <td>3</td>\n",
              "      <td>2</td>\n",
              "      <td>6</td>\n",
              "      <td>4</td>\n",
              "      <td>2</td>\n",
              "      <td>3</td>\n",
              "      <td>1</td>\n",
              "      <td>2</td>\n",
              "      <td>1</td>\n",
              "      <td>High</td>\n",
              "    </tr>\n",
              "    <tr>\n",
              "      <th>234</th>\n",
              "      <td>33</td>\n",
              "      <td>1</td>\n",
              "      <td>2</td>\n",
              "      <td>4</td>\n",
              "      <td>5</td>\n",
              "      <td>4</td>\n",
              "      <td>3</td>\n",
              "      <td>2</td>\n",
              "      <td>2</td>\n",
              "      <td>4</td>\n",
              "      <td>...</td>\n",
              "      <td>3</td>\n",
              "      <td>4</td>\n",
              "      <td>2</td>\n",
              "      <td>2</td>\n",
              "      <td>3</td>\n",
              "      <td>1</td>\n",
              "      <td>2</td>\n",
              "      <td>3</td>\n",
              "      <td>4</td>\n",
              "      <td>Medium</td>\n",
              "    </tr>\n",
              "  </tbody>\n",
              "</table>\n",
              "<p>235 rows × 24 columns</p>\n",
              "</div>\n",
              "      <button class=\"colab-df-convert\" onclick=\"convertToInteractive('df-3777ef15-a503-41ca-84c4-f81533cc296c')\"\n",
              "              title=\"Convert this dataframe to an interactive table.\"\n",
              "              style=\"display:none;\">\n",
              "        \n",
              "  <svg xmlns=\"http://www.w3.org/2000/svg\" height=\"24px\"viewBox=\"0 0 24 24\"\n",
              "       width=\"24px\">\n",
              "    <path d=\"M0 0h24v24H0V0z\" fill=\"none\"/>\n",
              "    <path d=\"M18.56 5.44l.94 2.06.94-2.06 2.06-.94-2.06-.94-.94-2.06-.94 2.06-2.06.94zm-11 1L8.5 8.5l.94-2.06 2.06-.94-2.06-.94L8.5 2.5l-.94 2.06-2.06.94zm10 10l.94 2.06.94-2.06 2.06-.94-2.06-.94-.94-2.06-.94 2.06-2.06.94z\"/><path d=\"M17.41 7.96l-1.37-1.37c-.4-.4-.92-.59-1.43-.59-.52 0-1.04.2-1.43.59L10.3 9.45l-7.72 7.72c-.78.78-.78 2.05 0 2.83L4 21.41c.39.39.9.59 1.41.59.51 0 1.02-.2 1.41-.59l7.78-7.78 2.81-2.81c.8-.78.8-2.07 0-2.86zM5.41 20L4 18.59l7.72-7.72 1.47 1.35L5.41 20z\"/>\n",
              "  </svg>\n",
              "      </button>\n",
              "      \n",
              "  <style>\n",
              "    .colab-df-container {\n",
              "      display:flex;\n",
              "      flex-wrap:wrap;\n",
              "      gap: 12px;\n",
              "    }\n",
              "\n",
              "    .colab-df-convert {\n",
              "      background-color: #E8F0FE;\n",
              "      border: none;\n",
              "      border-radius: 50%;\n",
              "      cursor: pointer;\n",
              "      display: none;\n",
              "      fill: #1967D2;\n",
              "      height: 32px;\n",
              "      padding: 0 0 0 0;\n",
              "      width: 32px;\n",
              "    }\n",
              "\n",
              "    .colab-df-convert:hover {\n",
              "      background-color: #E2EBFA;\n",
              "      box-shadow: 0px 1px 2px rgba(60, 64, 67, 0.3), 0px 1px 3px 1px rgba(60, 64, 67, 0.15);\n",
              "      fill: #174EA6;\n",
              "    }\n",
              "\n",
              "    [theme=dark] .colab-df-convert {\n",
              "      background-color: #3B4455;\n",
              "      fill: #D2E3FC;\n",
              "    }\n",
              "\n",
              "    [theme=dark] .colab-df-convert:hover {\n",
              "      background-color: #434B5C;\n",
              "      box-shadow: 0px 1px 3px 1px rgba(0, 0, 0, 0.15);\n",
              "      filter: drop-shadow(0px 1px 2px rgba(0, 0, 0, 0.3));\n",
              "      fill: #FFFFFF;\n",
              "    }\n",
              "  </style>\n",
              "\n",
              "      <script>\n",
              "        const buttonEl =\n",
              "          document.querySelector('#df-3777ef15-a503-41ca-84c4-f81533cc296c button.colab-df-convert');\n",
              "        buttonEl.style.display =\n",
              "          google.colab.kernel.accessAllowed ? 'block' : 'none';\n",
              "\n",
              "        async function convertToInteractive(key) {\n",
              "          const element = document.querySelector('#df-3777ef15-a503-41ca-84c4-f81533cc296c');\n",
              "          const dataTable =\n",
              "            await google.colab.kernel.invokeFunction('convertToInteractive',\n",
              "                                                     [key], {});\n",
              "          if (!dataTable) return;\n",
              "\n",
              "          const docLinkHtml = 'Like what you see? Visit the ' +\n",
              "            '<a target=\"_blank\" href=https://colab.research.google.com/notebooks/data_table.ipynb>data table notebook</a>'\n",
              "            + ' to learn more about interactive tables.';\n",
              "          element.innerHTML = '';\n",
              "          dataTable['output_type'] = 'display_data';\n",
              "          await google.colab.output.renderOutput(dataTable, element);\n",
              "          const docLink = document.createElement('div');\n",
              "          docLink.innerHTML = docLinkHtml;\n",
              "          element.appendChild(docLink);\n",
              "        }\n",
              "      </script>\n",
              "    </div>\n",
              "  </div>\n",
              "  "
            ]
          },
          "metadata": {},
          "execution_count": 5
        }
      ]
    },
    {
      "cell_type": "code",
      "source": [
        "test['Level'] = test['Level'].map({'Low':0,'Medium':1, 'High': 2})"
      ],
      "metadata": {
        "id": "wxlVdaoLfF17"
      },
      "execution_count": null,
      "outputs": []
    },
    {
      "cell_type": "code",
      "source": [
        "train['Level'] = train['Level'].map({'Low':0,'Medium':1, 'High': 2})"
      ],
      "metadata": {
        "id": "xEm55CjcfKPA"
      },
      "execution_count": null,
      "outputs": []
    },
    {
      "cell_type": "code",
      "source": [
        "X_train = train.iloc[:,:-1]\n",
        "y_train = train['Level']"
      ],
      "metadata": {
        "id": "P3WU_lM0fdw7"
      },
      "execution_count": null,
      "outputs": []
    },
    {
      "cell_type": "code",
      "source": [
        "X_test = test.iloc[:,:-1]\n",
        "y_test = test['Level']"
      ],
      "metadata": {
        "id": "twrSJKjJfbjO"
      },
      "execution_count": null,
      "outputs": []
    },
    {
      "cell_type": "code",
      "source": [
        "from sklearn.ensemble import RandomForestClassifier"
      ],
      "metadata": {
        "id": "dOJHMg40fOEk"
      },
      "execution_count": null,
      "outputs": []
    },
    {
      "cell_type": "code",
      "source": [
        "model = RandomForestClassifier()\n",
        "model.fit(X_train,y_train)"
      ],
      "metadata": {
        "colab": {
          "base_uri": "https://localhost:8080/"
        },
        "id": "OExoiDAofN56",
        "outputId": "5cecc205-75ab-4b8a-f3b8-61b5e6d13808"
      },
      "execution_count": null,
      "outputs": [
        {
          "output_type": "execute_result",
          "data": {
            "text/plain": [
              "RandomForestClassifier()"
            ]
          },
          "metadata": {},
          "execution_count": 14
        }
      ]
    },
    {
      "cell_type": "code",
      "source": [
        "from sklearn.metrics import f1_score, precision_score, accuracy_score, recall_score, balanced_accuracy_score"
      ],
      "metadata": {
        "id": "lyyWAbV8gmTV"
      },
      "execution_count": null,
      "outputs": []
    },
    {
      "cell_type": "code",
      "source": [
        "prediction = model.predict(X_test)\n",
        "prediction"
      ],
      "metadata": {
        "colab": {
          "base_uri": "https://localhost:8080/"
        },
        "id": "AOP7IWKogqkF",
        "outputId": "94e560f8-5237-4e4d-eb59-dca2849bec98"
      },
      "execution_count": null,
      "outputs": [
        {
          "output_type": "execute_result",
          "data": {
            "text/plain": [
              "array([2, 2, 2, 1, 1, 1, 2, 1, 2, 2, 1, 0, 0, 2, 0, 0, 0, 0, 0, 0, 0, 0,\n",
              "       0, 0, 2, 0, 0, 0, 0, 0, 0, 0, 0, 0, 0, 2, 0, 0, 0, 0, 0, 1, 1, 1,\n",
              "       1, 1, 2, 1, 1, 1, 1, 1, 1, 1, 1, 1, 1, 2, 1, 1, 1, 1, 1, 1, 1, 2,\n",
              "       2, 2, 2, 2, 2, 2, 2, 2, 2, 2, 2, 2, 2, 2, 2, 2, 2, 2, 2, 2, 2, 2,\n",
              "       2, 2, 1, 2, 2, 2, 2, 0, 0, 1, 1, 2, 2, 1, 2, 0, 1, 1, 2, 2, 1, 2,\n",
              "       2, 2, 2, 2, 1, 1, 1, 2, 1, 2, 2, 1, 0, 0, 2, 0, 0, 0, 0, 0, 0, 0,\n",
              "       0, 0, 0, 2, 0, 0, 0, 0, 0, 0, 0, 0, 0, 0, 2, 0, 0, 0, 0, 0, 1, 1,\n",
              "       1, 1, 1, 2, 1, 1, 1, 1, 1, 1, 1, 1, 1, 1, 2, 1, 1, 1, 1, 1, 1, 1,\n",
              "       2, 0, 0, 2, 0, 2, 2, 2, 1, 1, 2, 2, 2, 2, 2, 2, 2, 2, 2, 2, 2, 2,\n",
              "       2, 2, 2, 0, 1, 2, 2, 2, 2, 0, 0, 1, 1, 2, 2, 1, 2, 0, 1, 1, 2, 2,\n",
              "       1, 2, 2, 2, 2, 2, 1, 1, 1, 2, 1, 2, 2, 1, 0])"
            ]
          },
          "metadata": {},
          "execution_count": 16
        }
      ]
    },
    {
      "cell_type": "code",
      "source": [
        "import sklearn.metrics as metrics"
      ],
      "metadata": {
        "id": "B6-4ubo8gtT0"
      },
      "execution_count": null,
      "outputs": []
    },
    {
      "cell_type": "code",
      "source": [
        "accuracy = metrics.accuracy_score(prediction,y_test)\n",
        "accuracy"
      ],
      "metadata": {
        "colab": {
          "base_uri": "https://localhost:8080/"
        },
        "id": "Y8ngf51Qgv3k",
        "outputId": "2ecd2295-37b0-46a4-a503-3ac54f0cb255"
      },
      "execution_count": null,
      "outputs": [
        {
          "output_type": "execute_result",
          "data": {
            "text/plain": [
              "0.9234042553191489"
            ]
          },
          "metadata": {},
          "execution_count": 18
        }
      ]
    },
    {
      "cell_type": "code",
      "source": [
        "svc = SVC(kernel='linear')\n",
        "rfecv = RFECV(estimator=svc, step=1, cv=StratifiedKFold(2), scoring='accuracy')\n",
        "rfecv.fit(X_train, y_train)\n",
        "\n",
        "print(\"Optimal number of features : %d\" % rfecv.n_features_)\n",
        "\n",
        "# Plot number of Features Vs Cross-validation scores\n",
        "plt.figure()\n",
        "plt.xlabel(\"Number of features selected\")\n",
        "plt.ylabel(\"Cross validation score (nb of correct classifications)\")\n",
        "plt.plot(range(1, len(rfecv.grid_scores_) + 1), rfecv.grid_scores_)\n",
        "plt.show()"
      ],
      "metadata": {
        "colab": {
          "base_uri": "https://localhost:8080/",
          "height": 374
        },
        "id": "rWnt1TeQqt4j",
        "outputId": "432e2de6-0b63-4d28-c7a9-faa2fcb992b2"
      },
      "execution_count": 21,
      "outputs": [
        {
          "output_type": "stream",
          "name": "stdout",
          "text": [
            "Optimal number of features : 6\n"
          ]
        },
        {
          "output_type": "stream",
          "name": "stderr",
          "text": [
            "/usr/local/lib/python3.7/dist-packages/sklearn/utils/deprecation.py:103: FutureWarning: The `grid_scores_` attribute is deprecated in version 1.0 in favor of `cv_results_` and will be removed in version 1.2.\n",
            "  warnings.warn(msg, category=FutureWarning)\n"
          ]
        },
        {
          "output_type": "display_data",
          "data": {
            "text/plain": [
              "<Figure size 432x288 with 1 Axes>"
            ],
            "image/png": "[encoded data removed]"
          },
          "metadata": {
            "needs_background": "light"
          }
        }
      ]
    },
    {
      "cell_type": "code",
      "source": [
        "from sklearn.svm import SVC\n",
        "\n",
        "SV = SVC(probability=True, random_state=0) \n",
        "SV.fit(X_train, y_train)\n",
        "print('SVM Classifier Training Accuracy:', SV.score(X_train, y_train))"
      ],
      "metadata": {
        "colab": {
          "base_uri": "https://localhost:8080/"
        },
        "id": "TCZJDq0vrAvf",
        "outputId": "f15d67ec-fd42-407f-9f2d-15cb46fbeedf"
      },
      "execution_count": 24,
      "outputs": [
        {
          "output_type": "stream",
          "name": "stdout",
          "text": [
            "SVM Classifier Training Accuracy: 0.9687108886107635\n"
          ]
        }
      ]
    },
    {
      "cell_type": "code",
      "source": [
        "from sklearn.metrics import accuracy_score\n",
        "from sklearn.model_selection import train_test_split\n",
        "from sklearn.metrics import classification_report,confusion_matrix\n",
        "from sklearn.ensemble import AdaBoostClassifier, BaggingClassifier\n",
        "from sklearn.linear_model import Perceptron\n",
        "from sklearn.linear_model import SGDClassifier\n",
        "from sklearn.neural_network import MLPClassifier"
      ],
      "metadata": {
        "id": "I918XQSNrQ0F"
      },
      "execution_count": 25,
      "outputs": []
    },
    {
      "cell_type": "code",
      "source": [
        "#Import Library\n",
        "from sklearn.ensemble import GradientBoostingClassifier\n",
        "#Assumed you have, X (predictor) and Y (target) for training data set and x_test(predictor) of test_dataset\n",
        "# Create Gradient Boosting Classifier object\n",
        "gbclass = GradientBoostingClassifier(\n",
        "                    random_state = 1000,\n",
        "                    verbose = 0,\n",
        "                    n_estimators = 10,\n",
        "                    learning_rate = 0.9,\n",
        "                    loss = 'deviance',\n",
        "                    max_depth = 3\n",
        "                   )\n",
        "#gbclass = GradientBoostingClassifier(n_estimators=100, learning_rate=1.0, max_depth=1, random_state=0)\n",
        "# Train the model using the training sets and check score\n",
        "gbclass.fit(X_train, y_train)\n",
        "#Predict Output\n",
        "predicted= gbclass.predict(X_test)\n",
        "\n",
        "gbclass_score = round(gbclass.score(X_train, y_train) * 100, 2)\n",
        "gbclass_score_test = round(gbclass.score(X_test, y_test) * 100, 2)\n",
        "print('Score: \\n', gbclass_score)\n",
        "print('Test Score: \\n', gbclass_score_test)\n",
        "print('Accuracy: \\n', accuracy_score(y_test,predicted))\n",
        "print(confusion_matrix(predicted,y_test))\n",
        "print(classification_report(y_test,predicted))"
      ],
      "metadata": {
        "colab": {
          "base_uri": "https://localhost:8080/"
        },
        "id": "IvHOZlLgrYzC",
        "outputId": "8d8fdbb6-c842-4d08-d44f-4b68ebfd8c69"
      },
      "execution_count": 26,
      "outputs": [
        {
          "output_type": "stream",
          "name": "stdout",
          "text": [
            "Score: \n",
            " 100.0\n",
            "Test Score: \n",
            " 92.34\n",
            "Accuracy: \n",
            " 0.9234042553191489\n",
            "[[60  2  3]\n",
            " [ 3 64  8]\n",
            " [ 2  0 93]]\n",
            "              precision    recall  f1-score   support\n",
            "\n",
            "           0       0.92      0.92      0.92        65\n",
            "           1       0.85      0.97      0.91        66\n",
            "           2       0.98      0.89      0.93       104\n",
            "\n",
            "    accuracy                           0.92       235\n",
            "   macro avg       0.92      0.93      0.92       235\n",
            "weighted avg       0.93      0.92      0.92       235\n",
            "\n"
          ]
        }
      ]
    },
    {
      "cell_type": "code",
      "source": [
        "from xgboost import XGBClassifier\n",
        "classifier = XGBClassifier()\n",
        "classifier.fit(X_train, y_train)"
      ],
      "metadata": {
        "colab": {
          "base_uri": "https://localhost:8080/"
        },
        "id": "AJbLMMBnridz",
        "outputId": "3831a21b-636f-456c-8b74-42db9f39bdd6"
      },
      "execution_count": 27,
      "outputs": [
        {
          "output_type": "execute_result",
          "data": {
            "text/plain": [
              "XGBClassifier(objective='multi:softprob')"
            ]
          },
          "metadata": {},
          "execution_count": 27
        }
      ]
    },
    {
      "cell_type": "code",
      "source": [
        "y_pred = classifier.predict(X_test)\n",
        "cm = confusion_matrix(y_test, y_pred)\n",
        "print(cm)\n",
        "acc7 = accuracy_score(y_test, y_pred)"
      ],
      "metadata": {
        "colab": {
          "base_uri": "https://localhost:8080/"
        },
        "id": "mzHTGeV0rkg5",
        "outputId": "68f52bd6-360e-4e31-f7a2-48e3b493ea04"
      },
      "execution_count": 28,
      "outputs": [
        {
          "output_type": "stream",
          "name": "stdout",
          "text": [
            "[[60  3  2]\n",
            " [ 2 64  0]\n",
            " [ 3  8 93]]\n"
          ]
        }
      ]
    },
    {
      "cell_type": "code",
      "source": [
        "print(f\"By XG Boost classifier Acc: {acc7}\")"
      ],
      "metadata": {
        "colab": {
          "base_uri": "https://localhost:8080/"
        },
        "id": "y_0rsjLvrmhQ",
        "outputId": "c719d128-3c60-4d70-dadd-da3b40405567"
      },
      "execution_count": 29,
      "outputs": [
        {
          "output_type": "stream",
          "name": "stdout",
          "text": [
            "By XG Boost classifier Acc: 0.9234042553191489\n"
          ]
        }
      ]
    },
    {
      "cell_type": "code",
      "source": [
        "from sklearn.linear_model import LinearRegression"
      ],
      "metadata": {
        "id": "-2JRVruarql5"
      },
      "execution_count": 30,
      "outputs": []
    },
    {
      "cell_type": "code",
      "source": [
        "LR = LinearRegression()\n",
        "\n",
        "LR.fit(X_train,y_train)"
      ],
      "metadata": {
        "colab": {
          "base_uri": "https://localhost:8080/"
        },
        "id": "um5ZQq3LruKA",
        "outputId": "de04b0e2-50bf-48ce-bc0e-f802d7e637f5"
      },
      "execution_count": 31,
      "outputs": [
        {
          "output_type": "execute_result",
          "data": {
            "text/plain": [
              "LinearRegression()"
            ]
          },
          "metadata": {},
          "execution_count": 31
        }
      ]
    },
    {
      "cell_type": "code",
      "source": [
        "y_prediction =  LR.predict(X_test)\n",
        "y_prediction"
      ],
      "metadata": {
        "colab": {
          "base_uri": "https://localhost:8080/"
        },
        "id": "EzxRbFZtrwUO",
        "outputId": "17d1f824-16ee-4b3c-f0c5-f88da62387cb"
      },
      "execution_count": 32,
      "outputs": [
        {
          "output_type": "execute_result",
          "data": {
            "text/plain": [
              "array([ 1.80491645,  1.74565162,  1.97788711,  0.97431553,  0.88745868,\n",
              "        0.9205056 ,  2.24713662,  1.00081104,  2.05314287,  1.88425921,\n",
              "        0.97381242,  0.40156934,  0.00883376,  2.3931264 ,  0.12343844,\n",
              "        0.88555436,  0.21036097,  0.67546309, -0.08264224,  0.25087836,\n",
              "        0.29381389, -0.22171378, -0.11873215, -0.56773348,  1.93227547,\n",
              "        0.21050228, -0.38984062,  0.01784246, -0.06662497,  0.25049564,\n",
              "        0.07321761,  0.13331482,  0.32587001,  0.16258507, -0.02657962,\n",
              "        1.98085358,  0.06119965,  0.02893467, -0.09719209,  0.1211802 ,\n",
              "       -0.15298617,  0.88234461,  1.03098794,  0.80155125,  0.95670133,\n",
              "        0.88094428,  1.89866957,  0.91211933,  0.78669219,  0.9701391 ,\n",
              "        0.88745868,  0.93999561,  0.91445336,  0.78902196,  0.92607417,\n",
              "        0.99608672,  1.02586962,  1.86715744,  0.89208962,  0.95621766,\n",
              "        1.04490938,  0.88467439,  1.0314716 ,  0.87259961,  0.93255123,\n",
              "        1.95454977,  2.00034358,  2.26384234,  1.94595038,  1.53536026,\n",
              "        1.90702243,  1.78264216,  1.64860705,  1.97788711,  2.3931264 ,\n",
              "        1.93227547,  1.98085358,  1.89866957,  1.86715744,  1.8838111 ,\n",
              "        1.94595038,  1.8838111 ,  1.79832431,  2.14431009,  2.38755783,\n",
              "        1.95454977,  2.10017244,  1.89310099,  1.83792243,  1.9431661 ,\n",
              "        1.11546591,  1.79832431,  1.96275781,  2.05004981,  1.90702243,\n",
              "        0.40156934,  0.00883376,  0.82239528,  0.97079795,  1.96011834,\n",
              "        2.04350003,  1.32800323,  2.14431009,  0.12343844,  1.11546591,\n",
              "        0.80566788,  1.98902426,  2.39173426,  1.33255605,  1.4949881 ,\n",
              "        1.93208101,  1.80491645,  1.74565162,  2.38755783,  0.97431553,\n",
              "        0.88745868,  0.9205056 ,  2.24713662,  1.00081104,  2.05314287,\n",
              "        1.88425921,  0.97381242,  0.40156934,  0.00883376,  1.95454977,\n",
              "        0.12343844,  0.88555436,  0.21036097,  0.67546309, -0.08264224,\n",
              "        0.25087836,  0.29381389, -0.22171378, -0.11873215, -0.56773348,\n",
              "        2.10017244,  0.21050228, -0.38984062,  0.01784246, -0.06662497,\n",
              "        0.25049564,  0.07321761,  0.13331482,  0.32587001,  0.16258507,\n",
              "       -0.02657962,  1.89310099,  0.06119965,  0.02893467, -0.09719209,\n",
              "        0.1211802 , -0.15298617,  0.88234461,  1.03098794,  0.80155125,\n",
              "        0.95670133,  0.88094428,  1.83792243,  0.91211933,  0.78669219,\n",
              "        0.9701391 ,  0.88745868,  0.93999561,  0.91445336,  0.78902196,\n",
              "        0.92607417,  0.99608672,  1.02586962,  1.9431661 ,  0.89208962,\n",
              "        0.95621766,  1.04490938,  0.88467439,  1.0314716 ,  0.87259961,\n",
              "        0.93255123,  1.95454977,  0.40156934, -0.05758366,  1.96275781,\n",
              "        0.06537388,  1.90702243,  1.78264216,  1.64860705,  0.9302506 ,\n",
              "        0.77694718,  1.93227547,  1.98085358,  1.89866957,  1.86715744,\n",
              "        2.05004981,  1.94595038,  1.8838111 ,  1.79832431,  2.14431009,\n",
              "        2.38755783,  1.95454977,  2.10017244,  1.89310099,  1.83792243,\n",
              "        1.9431661 ,  0.40156934,  0.80566788,  1.81276214,  2.05004981,\n",
              "        1.78264216,  1.81276214,  0.52228035,  0.01301019,  0.91665557,\n",
              "        0.99724867,  1.95454977,  2.13776031,  1.42226351,  1.98902426,\n",
              "        0.12343844,  1.11546591,  0.80566788,  1.98902426,  2.39173426,\n",
              "        1.33255605,  1.4949881 ,  1.93208101,  1.80491645,  1.74565162,\n",
              "        2.39173426,  0.97431553,  0.88745868,  0.9205056 ,  2.24713662,\n",
              "        1.00081104,  2.05314287,  1.88425921,  0.97381242,  0.40156934])"
            ]
          },
          "metadata": {},
          "execution_count": 32
        }
      ]
    },
    {
      "cell_type": "code",
      "source": [
        "from sklearn.metrics import r2_score\n",
        "score=r2_score(y_test,y_prediction)"
      ],
      "metadata": {
        "id": "howuNQ1jr2yO"
      },
      "execution_count": 34,
      "outputs": []
    },
    {
      "cell_type": "code",
      "source": [
        "Accuracy=r2_score(y_test,y_prediction)*100\n",
        "print(\" Accuracy of the model is %.2f\" %Accuracy)"
      ],
      "metadata": {
        "colab": {
          "base_uri": "https://localhost:8080/"
        },
        "id": "NSMIO0nmrzlq",
        "outputId": "4fe32e69-b5b0-4f54-f6fa-4efdaa2bf3d0"
      },
      "execution_count": 35,
      "outputs": [
        {
          "output_type": "stream",
          "name": "stdout",
          "text": [
            " Accuracy of the model is 74.04\n"
          ]
        }
      ]
    },
    {
      "cell_type": "code",
      "source": [
        "from sklearn.model_selection import GridSearchCV\n",
        "from sklearn.linear_model import LogisticRegression"
      ],
      "metadata": {
        "id": "lIdibmjCsCAG"
      },
      "execution_count": 36,
      "outputs": []
    },
    {
      "cell_type": "code",
      "source": [
        "tuned_params = {'C': [0.0001, 0.001, 0.01, 0.1, 1, 10, 100, 1000, 10000], 'penalty': ['l1', 'l2'],'solver':['liblinear']}\n",
        "model = GridSearchCV(LogisticRegression(), tuned_params, scoring = 'roc_auc', n_jobs=-1)\n",
        "model.fit(X_train, y_train)"
      ],
      "metadata": {
        "colab": {
          "base_uri": "https://localhost:8080/"
        },
        "id": "teZJP0sQsD-d",
        "outputId": "9fe1d932-920c-48fc-8e3c-a02c895dffa1"
      },
      "execution_count": 38,
      "outputs": [
        {
          "output_type": "stream",
          "name": "stderr",
          "text": [
            "/usr/local/lib/python3.7/dist-packages/sklearn/model_selection/_search.py:972: UserWarning: One or more of the test scores are non-finite: [nan nan nan nan nan nan nan nan nan nan nan nan nan nan nan nan nan nan]\n",
            "  category=UserWarning,\n"
          ]
        },
        {
          "output_type": "execute_result",
          "data": {
            "text/plain": [
              "GridSearchCV(estimator=LogisticRegression(), n_jobs=-1,\n",
              "             param_grid={'C': [0.0001, 0.001, 0.01, 0.1, 1, 10, 100, 1000,\n",
              "                               10000],\n",
              "                         'penalty': ['l1', 'l2'], 'solver': ['liblinear']},\n",
              "             scoring='roc_auc')"
            ]
          },
          "metadata": {},
          "execution_count": 38
        }
      ]
    },
    {
      "cell_type": "code",
      "source": [
        "from sklearn.naive_bayes import GaussianNB\n",
        "classifier = GaussianNB()\n",
        "classifier.fit(X_train, y_train)"
      ],
      "metadata": {
        "colab": {
          "base_uri": "https://localhost:8080/"
        },
        "id": "4skhxcomudnQ",
        "outputId": "fe2c0623-ab5a-4e86-fabc-da5fb7a65773"
      },
      "execution_count": 47,
      "outputs": [
        {
          "output_type": "execute_result",
          "data": {
            "text/plain": [
              "GaussianNB()"
            ]
          },
          "metadata": {},
          "execution_count": 47
        }
      ]
    },
    {
      "cell_type": "code",
      "source": [
        "y_pred = classifier.predict(X_test)\n",
        "cm = confusion_matrix(y_test, y_pred)\n",
        "print(cm)"
      ],
      "metadata": {
        "colab": {
          "base_uri": "https://localhost:8080/"
        },
        "id": "mqEh4zMwufJ5",
        "outputId": "25a0fd5f-28e1-47ae-d4f5-21a9ed72f057"
      },
      "execution_count": 48,
      "outputs": [
        {
          "output_type": "stream",
          "name": "stdout",
          "text": [
            "[[54  6  5]\n",
            " [ 2 54 10]\n",
            " [ 3 11 90]]\n"
          ]
        }
      ]
    },
    {
      "cell_type": "code",
      "source": [
        "acc4 = accuracy_score(y_test, y_pred)\n",
        "print(f\"Accuracy score : {acc4}\")"
      ],
      "metadata": {
        "colab": {
          "base_uri": "https://localhost:8080/"
        },
        "id": "D9LSnmqjuhh3",
        "outputId": "36ace146-de0e-4e17-d05f-996875c6113e"
      },
      "execution_count": 49,
      "outputs": [
        {
          "output_type": "stream",
          "name": "stdout",
          "text": [
            "Accuracy score : 0.8425531914893617\n"
          ]
        }
      ]
    }
  ]
}