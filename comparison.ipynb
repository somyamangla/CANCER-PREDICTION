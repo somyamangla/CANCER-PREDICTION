{
  "nbformat": 4,
  "nbformat_minor": 0,
  "metadata": {
    "colab": {
      "provenance": [],
      "authorship_tag": "ABX9TyPsq25OwDAflbIGZ/mMJzm3",
      "include_colab_link": true
    },
    "kernelspec": {
      "name": "python3",
      "display_name": "Python 3"
    },
    "language_info": {
      "name": "python"
    }
  },
  "cells": [
    {
      "cell_type": "markdown",
      "metadata": {
        "id": "view-in-github",
        "colab_type": "text"
      },
      "source": [
        "<a href=\"https://colab.research.google.com/github/somyamangla/CANCER-PREDICTION/blob/main/comparison.ipynb\" target=\"_parent\"><img src=\"https://colab.research.google.com/assets/colab-badge.svg\" alt=\"Open In Colab\"/></a>"
      ]
    },
    {
      "cell_type": "markdown",
      "source": [
        "ACCORDING TO THE DATA THE RESULT OF ACCURACIES OF DIFFERENT ALGORITHMS ON DIFFERENT DATASETS ARE"
      ],
      "metadata": {
        "id": "IoRTnTKv8VU9"
      }
    },
    {
      "cell_type": "markdown",
      "source": [
        "1. ON BREAST DATASET\n",
        "\n",
        "*   SVM: 98.2\n",
        "*   RANDOM FOREST CLASSIFIER: 100\n",
        "*   XG BOOST: 100\n",
        "*   GRADIENT BOOSTING: 100"
      ],
      "metadata": {
        "id": "Xs0HP96R8nAe"
      }
    },
    {
      "cell_type": "markdown",
      "source": [
        "2. ON LIVER DATASET\n",
        "\n",
        "*   SVM: 100\n",
        "*   RANDOM FOREST CLASSIFIER 100\n",
        "*   XG BOOST 100\n",
        "*   GRADIENT BOOSTING 100"
      ],
      "metadata": {
        "id": "N-eRRz_Q9pkH"
      }
    },
    {
      "cell_type": "markdown",
      "source": [
        "3. ON LUNG DATASET\n",
        "\n",
        "*   SVM: 98.2\n",
        "*   RANDOM FOREST CLASSIFIER 100\n",
        "*   XG BOOST 100\n",
        "*   GRADIENT BOOSTING 100"
      ],
      "metadata": {
        "id": "9eMVkTBy95rI"
      }
    },
    {
      "cell_type": "markdown",
      "source": [
        "4. ON CERVICAL DATASET\n",
        "\n",
        "*   SVM: 96.15\n",
        "*   RANDOM FOREST CLASSIFIER 100\n",
        "*   XG BOOST 99.22\n",
        "*   GRADIENT BOOSTING 100"
      ],
      "metadata": {
        "id": "weQrFK1m9xFl"
      }
    },
    {
      "cell_type": "code",
      "source": [
        "import matplotlib.pyplot as plt"
      ],
      "metadata": {
        "id": "gRrpuKQJDJ2t"
      },
      "execution_count": 3,
      "outputs": []
    },
    {
      "cell_type": "code",
      "source": [
        "breast_data = [98.2,100,100,100]\n",
        "liver_data = [100,100,100,100]\n",
        "lung_data = [98.2,100,100,100]\n",
        "cervical_data = [96.5,100,99.22,100]"
      ],
      "metadata": {
        "id": "42xb4APL8VGC"
      },
      "execution_count": 1,
      "outputs": []
    },
    {
      "cell_type": "code",
      "source": [
        "models = [\"SVM\" , \"RANDOM FOREST\" , \"XG BOOST\" , \"GRADIENT BOOSTING\"]"
      ],
      "metadata": {
        "id": "6_IGYUA7Cbi3"
      },
      "execution_count": 2,
      "outputs": []
    },
    {
      "cell_type": "code",
      "execution_count": 4,
      "metadata": {
        "colab": {
          "base_uri": "https://localhost:8080/",
          "height": 265
        },
        "id": "Het_UHHl8Slw",
        "outputId": "eefa1f74-05de-43ce-a47c-61b65614b616"
      },
      "outputs": [
        {
          "output_type": "display_data",
          "data": {
            "text/plain": [
              "<Figure size 432x288 with 1 Axes>"
            ],
            "image/png": "[encoded data removed]"
          },
          "metadata": {
            "needs_background": "light"
          }
        }
      ],
      "source": [
        "fig, ax = plt.subplots()\n",
        "ax.plot(models, breast_data, label=\"breast_data\")\n",
        "ax.plot(models, liver_data, label=\"liver_data\")\n",
        "ax.plot(models, lung_data, label=\"lung_data\")\n",
        "ax.plot(models, cervical_data, label=\"cervical_data\")\n",
        "ax.legend()\n",
        "\n",
        "plt.show()"
      ]
    }
  ]
}