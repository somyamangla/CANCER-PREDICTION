{
  "nbformat": 4,
  "nbformat_minor": 0,
  "metadata": {
    "colab": {
      "provenance": [],
      "include_colab_link": true
    },
    "kernelspec": {
      "name": "python3",
      "display_name": "Python 3"
    },
    "language_info": {
      "name": "python"
    }
  },
  "cells": [
    {
      "cell_type": "markdown",
      "metadata": {
        "id": "view-in-github",
        "colab_type": "text"
      },
      "source": [
        "<a href=\"https://colab.research.google.com/github/somyamangla/CANCER-PREDICTION/blob/main/Liver_Cancer_Detection.ipynb\" target=\"_parent\"><img src=\"https://colab.research.google.com/assets/colab-badge.svg\" alt=\"Open In Colab\"/></a>"
      ]
    },
    {
      "cell_type": "code",
      "source": [
        "# for numerical computing\n",
        "import numpy as np\n",
        "# for dataframes\n",
        "import pandas as pd\n",
        "# for easier visualization\n",
        "import seaborn as sns\n",
        "# for visualization and to display plots\n",
        "from matplotlib import pyplot as plt\n",
        "# %matplotlib inline\n",
        "# import color maps\n",
        "from matplotlib.colors import ListedColormap\n",
        "# Ignore Warnings\n",
        "import warnings\n",
        "warnings.filterwarnings(\"ignore\")\n",
        "\n",
        "from math import sqrt\n",
        "\n",
        "# to split train and test set\n",
        "from sklearn.model_selection import train_test_split\n",
        "\n",
        "# to perform hyperparameter tuning\n",
        "from sklearn.model_selection import GridSearchCV\n",
        "from sklearn.model_selection import RandomizedSearchCV\n",
        "\n",
        "from sklearn.model_selection import cross_val_score\n",
        "\n",
        "# Machine Learning Models\n",
        "from sklearn.linear_model import LogisticRegression\n",
        "from sklearn.ensemble import RandomForestClassifier\n",
        "from xgboost import XGBClassifier\n",
        "from sklearn.tree import DecisionTreeClassifier\n",
        "from sklearn.svm import SVC\n",
        "from sklearn.metrics import roc_curve, auc, roc_auc_score, confusion_matrix\n",
        "\n",
        "from sklearn.preprocessing import StandardScaler\n",
        "from sklearn.model_selection import train_test_split\n",
        "from sklearn.model_selection import cross_val_score\n",
        "from sklearn.neighbors import KNeighborsClassifier\n",
        "from matplotlib.colors import ListedColormap\n",
        "from sklearn.metrics import accuracy_score\n",
        "\n",
        "#import xgboost\n",
        "import os\n",
        "from xgboost import XGBClassifier\n",
        "from xgboost import plot_importance  # to plot feature importance\n",
        "import joblib\n",
        "import seaborn as sns\n",
        "import numpy as np\n",
        "import pandas as pd\n",
        "import matplotlib.pyplot as plt\n",
        "\n",
        "from sklearn.preprocessing import LabelEncoder\n",
        "from sklearn.neighbors import KNeighborsClassifier\n",
        "from sklearn.model_selection import train_test_split\n",
        "from sklearn.preprocessing import StandardScaler\n",
        "from sklearn.metrics import f1_score, precision_score, accuracy_score, recall_score, balanced_accuracy_score\n",
        "from sklearn.svm import SVC\n",
        "from sklearn.model_selection import StratifiedKFold\n",
        "from sklearn.feature_selection import RFECV\n",
        "from sklearn.model_selection import train_test_split\n",
        "\n",
        "import pandas as pd \n",
        "import matplotlib.pyplot as plt\n",
        "from sklearn.ensemble import RandomForestClassifier\n",
        "from sklearn import model_selection , metrics\n",
        "from sklearn.svm import SVC\n",
        "from sklearn.linear_model import LinearRegression\n",
        "from sklearn.model_selection import train_test_split\n",
        "from openpyxl import load_workbook\n",
        "import seaborn as sns\n",
        "from sklearn.metrics import confusion_matrix, ConfusionMatrixDisplay\n",
        "from sklearn.metrics import r2_score\n",
        "from sklearn.metrics import mean_squared_error\n",
        "from sklearn.preprocessing import LabelEncoder\n",
        "from sklearn.neighbors import KNeighborsClassifier\n",
        "from sklearn.model_selection import train_test_split\n",
        "from sklearn.preprocessing import StandardScaler\n",
        "from sklearn.metrics import f1_score, precision_score, accuracy_score, recall_score, balanced_accuracy_score\n",
        "from sklearn.svm import SVC\n",
        "from sklearn.model_selection import StratifiedKFold\n",
        "from sklearn.feature_selection import RFECV\n",
        "from sklearn.model_selection import train_test_split\n",
        "from sklearn.metrics import accuracy_score\n",
        "from sklearn.model_selection import train_test_split\n",
        "from sklearn.metrics import classification_report,confusion_matrix\n",
        "from sklearn.ensemble import AdaBoostClassifier, BaggingClassifier\n",
        "from sklearn.linear_model import Perceptron\n",
        "from sklearn.linear_model import SGDClassifier\n",
        "from sklearn.neural_network import MLPClassifier\n",
        "from sklearn.ensemble import GradientBoostingClassifier"
      ],
      "metadata": {
        "id": "-_mMsaKHjLzc"
      },
      "execution_count": null,
      "outputs": []
    },
    {
      "cell_type": "code",
      "source": [
        "df=pd.read_csv('/Indian_liver_patient.csv')"
      ],
      "metadata": {
        "id": "3QYMbTOIke_H"
      },
      "execution_count": null,
      "outputs": []
    },
    {
      "cell_type": "code",
      "source": [
        "df.shape"
      ],
      "metadata": {
        "colab": {
          "base_uri": "https://localhost:8080/"
        },
        "id": "MY7x6t75klv_",
        "outputId": "7701d406-bc34-4f22-a344-eede981cfaab"
      },
      "execution_count": null,
      "outputs": [
        {
          "output_type": "execute_result",
          "data": {
            "text/plain": [
              "(583, 11)"
            ]
          },
          "metadata": {},
          "execution_count": 7
        }
      ]
    },
    {
      "cell_type": "code",
      "source": [
        "df.columns"
      ],
      "metadata": {
        "colab": {
          "base_uri": "https://localhost:8080/"
        },
        "id": "fgZyOjdbkp2L",
        "outputId": "f88999ee-c00a-4983-f397-aee3cc497602"
      },
      "execution_count": null,
      "outputs": [
        {
          "output_type": "execute_result",
          "data": {
            "text/plain": [
              "Index(['Age', 'Gender', 'Total_Bilirubin', 'Direct_Bilirubin',\n",
              "       'Alkaline_Phosphotase', 'Alamine_Aminotransferase',\n",
              "       'Aspartate_Aminotransferase', 'Total_Protiens', 'Albumin',\n",
              "       'Albumin_and_Globulin_Ratio', 'Dataset'],\n",
              "      dtype='object')"
            ]
          },
          "metadata": {},
          "execution_count": 25
        }
      ]
    },
    {
      "cell_type": "code",
      "source": [
        "df.head()"
      ],
      "metadata": {
        "colab": {
          "base_uri": "https://localhost:8080/",
          "height": 270
        },
        "id": "8cwEB4uvksbB",
        "outputId": "16dd337f-6d0b-427e-9251-de113b4475f7"
      },
      "execution_count": null,
      "outputs": [
        {
          "output_type": "execute_result",
          "data": {
            "text/plain": [
              "   Age  Gender  Total_Bilirubin  Direct_Bilirubin  Alkaline_Phosphotase  \\\n",
              "0   65  Female              0.7               0.1                   187   \n",
              "1   62    Male             10.9               5.5                   699   \n",
              "2   62    Male              7.3               4.1                   490   \n",
              "3   58    Male              1.0               0.4                   182   \n",
              "4   72    Male              3.9               2.0                   195   \n",
              "\n",
              "   Alamine_Aminotransferase  Aspartate_Aminotransferase  Total_Protiens  \\\n",
              "0                        16                          18             6.8   \n",
              "1                        64                         100             7.5   \n",
              "2                        60                          68             7.0   \n",
              "3                        14                          20             6.8   \n",
              "4                        27                          59             7.3   \n",
              "\n",
              "   Albumin  Albumin_and_Globulin_Ratio  Dataset  \n",
              "0      3.3                        0.90        1  \n",
              "1      3.2                        0.74        1  \n",
              "2      3.3                        0.89        1  \n",
              "3      3.4                        1.00        1  \n",
              "4      2.4                        0.40        1  "
            ],
            "text/html": [
              "\n",
              "  <div id=\"df-2b6d2311-53ac-4f5e-8513-662e9b274372\">\n",
              "    <div class=\"colab-df-container\">\n",
              "      <div>\n",
              "<style scoped>\n",
              "    .dataframe tbody tr th:only-of-type {\n",
              "        vertical-align: middle;\n",
              "    }\n",
              "\n",
              "    .dataframe tbody tr th {\n",
              "        vertical-align: top;\n",
              "    }\n",
              "\n",
              "    .dataframe thead th {\n",
              "        text-align: right;\n",
              "    }\n",
              "</style>\n",
              "<table border=\"1\" class=\"dataframe\">\n",
              "  <thead>\n",
              "    <tr style=\"text-align: right;\">\n",
              "      <th></th>\n",
              "      <th>Age</th>\n",
              "      <th>Gender</th>\n",
              "      <th>Total_Bilirubin</th>\n",
              "      <th>Direct_Bilirubin</th>\n",
              "      <th>Alkaline_Phosphotase</th>\n",
              "      <th>Alamine_Aminotransferase</th>\n",
              "      <th>Aspartate_Aminotransferase</th>\n",
              "      <th>Total_Protiens</th>\n",
              "      <th>Albumin</th>\n",
              "      <th>Albumin_and_Globulin_Ratio</th>\n",
              "      <th>Dataset</th>\n",
              "    </tr>\n",
              "  </thead>\n",
              "  <tbody>\n",
              "    <tr>\n",
              "      <th>0</th>\n",
              "      <td>65</td>\n",
              "      <td>Female</td>\n",
              "      <td>0.7</td>\n",
              "      <td>0.1</td>\n",
              "      <td>187</td>\n",
              "      <td>16</td>\n",
              "      <td>18</td>\n",
              "      <td>6.8</td>\n",
              "      <td>3.3</td>\n",
              "      <td>0.90</td>\n",
              "      <td>1</td>\n",
              "    </tr>\n",
              "    <tr>\n",
              "      <th>1</th>\n",
              "      <td>62</td>\n",
              "      <td>Male</td>\n",
              "      <td>10.9</td>\n",
              "      <td>5.5</td>\n",
              "      <td>699</td>\n",
              "      <td>64</td>\n",
              "      <td>100</td>\n",
              "      <td>7.5</td>\n",
              "      <td>3.2</td>\n",
              "      <td>0.74</td>\n",
              "      <td>1</td>\n",
              "    </tr>\n",
              "    <tr>\n",
              "      <th>2</th>\n",
              "      <td>62</td>\n",
              "      <td>Male</td>\n",
              "      <td>7.3</td>\n",
              "      <td>4.1</td>\n",
              "      <td>490</td>\n",
              "      <td>60</td>\n",
              "      <td>68</td>\n",
              "      <td>7.0</td>\n",
              "      <td>3.3</td>\n",
              "      <td>0.89</td>\n",
              "      <td>1</td>\n",
              "    </tr>\n",
              "    <tr>\n",
              "      <th>3</th>\n",
              "      <td>58</td>\n",
              "      <td>Male</td>\n",
              "      <td>1.0</td>\n",
              "      <td>0.4</td>\n",
              "      <td>182</td>\n",
              "      <td>14</td>\n",
              "      <td>20</td>\n",
              "      <td>6.8</td>\n",
              "      <td>3.4</td>\n",
              "      <td>1.00</td>\n",
              "      <td>1</td>\n",
              "    </tr>\n",
              "    <tr>\n",
              "      <th>4</th>\n",
              "      <td>72</td>\n",
              "      <td>Male</td>\n",
              "      <td>3.9</td>\n",
              "      <td>2.0</td>\n",
              "      <td>195</td>\n",
              "      <td>27</td>\n",
              "      <td>59</td>\n",
              "      <td>7.3</td>\n",
              "      <td>2.4</td>\n",
              "      <td>0.40</td>\n",
              "      <td>1</td>\n",
              "    </tr>\n",
              "  </tbody>\n",
              "</table>\n",
              "</div>\n",
              "      <button class=\"colab-df-convert\" onclick=\"convertToInteractive('df-2b6d2311-53ac-4f5e-8513-662e9b274372')\"\n",
              "              title=\"Convert this dataframe to an interactive table.\"\n",
              "              style=\"display:none;\">\n",
              "        \n",
              "  <svg xmlns=\"http://www.w3.org/2000/svg\" height=\"24px\"viewBox=\"0 0 24 24\"\n",
              "       width=\"24px\">\n",
              "    <path d=\"M0 0h24v24H0V0z\" fill=\"none\"/>\n",
              "    <path d=\"M18.56 5.44l.94 2.06.94-2.06 2.06-.94-2.06-.94-.94-2.06-.94 2.06-2.06.94zm-11 1L8.5 8.5l.94-2.06 2.06-.94-2.06-.94L8.5 2.5l-.94 2.06-2.06.94zm10 10l.94 2.06.94-2.06 2.06-.94-2.06-.94-.94-2.06-.94 2.06-2.06.94z\"/><path d=\"M17.41 7.96l-1.37-1.37c-.4-.4-.92-.59-1.43-.59-.52 0-1.04.2-1.43.59L10.3 9.45l-7.72 7.72c-.78.78-.78 2.05 0 2.83L4 21.41c.39.39.9.59 1.41.59.51 0 1.02-.2 1.41-.59l7.78-7.78 2.81-2.81c.8-.78.8-2.07 0-2.86zM5.41 20L4 18.59l7.72-7.72 1.47 1.35L5.41 20z\"/>\n",
              "  </svg>\n",
              "      </button>\n",
              "      \n",
              "  <style>\n",
              "    .colab-df-container {\n",
              "      display:flex;\n",
              "      flex-wrap:wrap;\n",
              "      gap: 12px;\n",
              "    }\n",
              "\n",
              "    .colab-df-convert {\n",
              "      background-color: #E8F0FE;\n",
              "      border: none;\n",
              "      border-radius: 50%;\n",
              "      cursor: pointer;\n",
              "      display: none;\n",
              "      fill: #1967D2;\n",
              "      height: 32px;\n",
              "      padding: 0 0 0 0;\n",
              "      width: 32px;\n",
              "    }\n",
              "\n",
              "    .colab-df-convert:hover {\n",
              "      background-color: #E2EBFA;\n",
              "      box-shadow: 0px 1px 2px rgba(60, 64, 67, 0.3), 0px 1px 3px 1px rgba(60, 64, 67, 0.15);\n",
              "      fill: #174EA6;\n",
              "    }\n",
              "\n",
              "    [theme=dark] .colab-df-convert {\n",
              "      background-color: #3B4455;\n",
              "      fill: #D2E3FC;\n",
              "    }\n",
              "\n",
              "    [theme=dark] .colab-df-convert:hover {\n",
              "      background-color: #434B5C;\n",
              "      box-shadow: 0px 1px 3px 1px rgba(0, 0, 0, 0.15);\n",
              "      filter: drop-shadow(0px 1px 2px rgba(0, 0, 0, 0.3));\n",
              "      fill: #FFFFFF;\n",
              "    }\n",
              "  </style>\n",
              "\n",
              "      <script>\n",
              "        const buttonEl =\n",
              "          document.querySelector('#df-2b6d2311-53ac-4f5e-8513-662e9b274372 button.colab-df-convert');\n",
              "        buttonEl.style.display =\n",
              "          google.colab.kernel.accessAllowed ? 'block' : 'none';\n",
              "\n",
              "        async function convertToInteractive(key) {\n",
              "          const element = document.querySelector('#df-2b6d2311-53ac-4f5e-8513-662e9b274372');\n",
              "          const dataTable =\n",
              "            await google.colab.kernel.invokeFunction('convertToInteractive',\n",
              "                                                     [key], {});\n",
              "          if (!dataTable) return;\n",
              "\n",
              "          const docLinkHtml = 'Like what you see? Visit the ' +\n",
              "            '<a target=\"_blank\" href=https://colab.research.google.com/notebooks/data_table.ipynb>data table notebook</a>'\n",
              "            + ' to learn more about interactive tables.';\n",
              "          element.innerHTML = '';\n",
              "          dataTable['output_type'] = 'display_data';\n",
              "          await google.colab.output.renderOutput(dataTable, element);\n",
              "          const docLink = document.createElement('div');\n",
              "          docLink.innerHTML = docLinkHtml;\n",
              "          element.appendChild(docLink);\n",
              "        }\n",
              "      </script>\n",
              "    </div>\n",
              "  </div>\n",
              "  "
            ]
          },
          "metadata": {},
          "execution_count": 26
        }
      ]
    },
    {
      "cell_type": "code",
      "source": [
        "df.dtypes[df.dtypes=='object']"
      ],
      "metadata": {
        "colab": {
          "base_uri": "https://localhost:8080/"
        },
        "id": "nA2gkurCkwTM",
        "outputId": "06961e97-7b39-4b91-819d-23d83c363948"
      },
      "execution_count": null,
      "outputs": [
        {
          "output_type": "execute_result",
          "data": {
            "text/plain": [
              "Gender    object\n",
              "dtype: object"
            ]
          },
          "metadata": {},
          "execution_count": 27
        }
      ]
    },
    {
      "cell_type": "code",
      "source": [
        "# Plot histogram grid\n",
        "df.hist(figsize=(15,15), xrot=-45, bins=10) ## Display the labels rotated by 45 degress"
      ],
      "metadata": {
        "colab": {
          "base_uri": "https://localhost:8080/",
          "height": 1000
        },
        "id": "xnkJTxf6k0Hy",
        "outputId": "cc7ac969-7bdd-46b8-a82d-f32f4efa3840"
      },
      "execution_count": null,
      "outputs": [
        {
          "output_type": "execute_result",
          "data": {
            "text/plain": [
              "array([[<matplotlib.axes._subplots.AxesSubplot object at 0x7f46ee27fd90>,\n",
              "        <matplotlib.axes._subplots.AxesSubplot object at 0x7f46ee1e8390>,\n",
              "        <matplotlib.axes._subplots.AxesSubplot object at 0x7f46ee1a1990>],\n",
              "       [<matplotlib.axes._subplots.AxesSubplot object at 0x7f46ee1d2f90>,\n",
              "        <matplotlib.axes._subplots.AxesSubplot object at 0x7f46ee18f5d0>,\n",
              "        <matplotlib.axes._subplots.AxesSubplot object at 0x7f46ee145bd0>],\n",
              "       [<matplotlib.axes._subplots.AxesSubplot object at 0x7f46ee10a290>,\n",
              "        <matplotlib.axes._subplots.AxesSubplot object at 0x7f46ee0bf790>,\n",
              "        <matplotlib.axes._subplots.AxesSubplot object at 0x7f46ee0bf7d0>],\n",
              "       [<matplotlib.axes._subplots.AxesSubplot object at 0x7f46ee074ed0>,\n",
              "        <matplotlib.axes._subplots.AxesSubplot object at 0x7f46edff0a10>,\n",
              "        <matplotlib.axes._subplots.AxesSubplot object at 0x7f46edfa7fd0>]],\n",
              "      dtype=object)"
            ]
          },
          "metadata": {},
          "execution_count": 28
        },
        {
          "output_type": "display_data",
          "data": {
            "text/plain": [
              "<Figure size 1080x1080 with 12 Axes>"
            ],
            "image/png": "[encoded data removed]"
          },
          "metadata": {
            "needs_background": "light"
          }
        }
      ]
    },
    {
      "cell_type": "code",
      "source": [
        "# Clear the text \"residue\"\n",
        "plt.show()"
      ],
      "metadata": {
        "id": "ephRsDKSk37X"
      },
      "execution_count": null,
      "outputs": []
    },
    {
      "cell_type": "code",
      "source": [
        "df.describe()"
      ],
      "metadata": {
        "colab": {
          "base_uri": "https://localhost:8080/",
          "height": 364
        },
        "id": "S6u-JLPdk8iG",
        "outputId": "e5547d08-0461-4e69-854c-a81f1a0899aa"
      },
      "execution_count": null,
      "outputs": [
        {
          "output_type": "execute_result",
          "data": {
            "text/plain": [
              "              Age  Total_Bilirubin  Direct_Bilirubin  Alkaline_Phosphotase  \\\n",
              "count  583.000000       583.000000        583.000000            583.000000   \n",
              "mean    44.746141         3.298799          1.486106            290.576329   \n",
              "std     16.189833         6.209522          2.808498            242.937989   \n",
              "min      4.000000         0.400000          0.100000             63.000000   \n",
              "25%     33.000000         0.800000          0.200000            175.500000   \n",
              "50%     45.000000         1.000000          0.300000            208.000000   \n",
              "75%     58.000000         2.600000          1.300000            298.000000   \n",
              "max     90.000000        75.000000         19.700000           2110.000000   \n",
              "\n",
              "       Alamine_Aminotransferase  Aspartate_Aminotransferase  Total_Protiens  \\\n",
              "count                583.000000                  583.000000      583.000000   \n",
              "mean                  80.713551                  109.910806        6.483190   \n",
              "std                  182.620356                  288.918529        1.085451   \n",
              "min                   10.000000                   10.000000        2.700000   \n",
              "25%                   23.000000                   25.000000        5.800000   \n",
              "50%                   35.000000                   42.000000        6.600000   \n",
              "75%                   60.500000                   87.000000        7.200000   \n",
              "max                 2000.000000                 4929.000000        9.600000   \n",
              "\n",
              "          Albumin  Albumin_and_Globulin_Ratio     Dataset  \n",
              "count  583.000000                  579.000000  583.000000  \n",
              "mean     3.141852                    0.947064    1.286449  \n",
              "std      0.795519                    0.319592    0.452490  \n",
              "min      0.900000                    0.300000    1.000000  \n",
              "25%      2.600000                    0.700000    1.000000  \n",
              "50%      3.100000                    0.930000    1.000000  \n",
              "75%      3.800000                    1.100000    2.000000  \n",
              "max      5.500000                    2.800000    2.000000  "
            ],
            "text/html": [
              "\n",
              "  <div id=\"df-68a0a300-ba3c-4e2d-aee4-f91b25fa3013\">\n",
              "    <div class=\"colab-df-container\">\n",
              "      <div>\n",
              "<style scoped>\n",
              "    .dataframe tbody tr th:only-of-type {\n",
              "        vertical-align: middle;\n",
              "    }\n",
              "\n",
              "    .dataframe tbody tr th {\n",
              "        vertical-align: top;\n",
              "    }\n",
              "\n",
              "    .dataframe thead th {\n",
              "        text-align: right;\n",
              "    }\n",
              "</style>\n",
              "<table border=\"1\" class=\"dataframe\">\n",
              "  <thead>\n",
              "    <tr style=\"text-align: right;\">\n",
              "      <th></th>\n",
              "      <th>Age</th>\n",
              "      <th>Total_Bilirubin</th>\n",
              "      <th>Direct_Bilirubin</th>\n",
              "      <th>Alkaline_Phosphotase</th>\n",
              "      <th>Alamine_Aminotransferase</th>\n",
              "      <th>Aspartate_Aminotransferase</th>\n",
              "      <th>Total_Protiens</th>\n",
              "      <th>Albumin</th>\n",
              "      <th>Albumin_and_Globulin_Ratio</th>\n",
              "      <th>Dataset</th>\n",
              "    </tr>\n",
              "  </thead>\n",
              "  <tbody>\n",
              "    <tr>\n",
              "      <th>count</th>\n",
              "      <td>583.000000</td>\n",
              "      <td>583.000000</td>\n",
              "      <td>583.000000</td>\n",
              "      <td>583.000000</td>\n",
              "      <td>583.000000</td>\n",
              "      <td>583.000000</td>\n",
              "      <td>583.000000</td>\n",
              "      <td>583.000000</td>\n",
              "      <td>579.000000</td>\n",
              "      <td>583.000000</td>\n",
              "    </tr>\n",
              "    <tr>\n",
              "      <th>mean</th>\n",
              "      <td>44.746141</td>\n",
              "      <td>3.298799</td>\n",
              "      <td>1.486106</td>\n",
              "      <td>290.576329</td>\n",
              "      <td>80.713551</td>\n",
              "      <td>109.910806</td>\n",
              "      <td>6.483190</td>\n",
              "      <td>3.141852</td>\n",
              "      <td>0.947064</td>\n",
              "      <td>1.286449</td>\n",
              "    </tr>\n",
              "    <tr>\n",
              "      <th>std</th>\n",
              "      <td>16.189833</td>\n",
              "      <td>6.209522</td>\n",
              "      <td>2.808498</td>\n",
              "      <td>242.937989</td>\n",
              "      <td>182.620356</td>\n",
              "      <td>288.918529</td>\n",
              "      <td>1.085451</td>\n",
              "      <td>0.795519</td>\n",
              "      <td>0.319592</td>\n",
              "      <td>0.452490</td>\n",
              "    </tr>\n",
              "    <tr>\n",
              "      <th>min</th>\n",
              "      <td>4.000000</td>\n",
              "      <td>0.400000</td>\n",
              "      <td>0.100000</td>\n",
              "      <td>63.000000</td>\n",
              "      <td>10.000000</td>\n",
              "      <td>10.000000</td>\n",
              "      <td>2.700000</td>\n",
              "      <td>0.900000</td>\n",
              "      <td>0.300000</td>\n",
              "      <td>1.000000</td>\n",
              "    </tr>\n",
              "    <tr>\n",
              "      <th>25%</th>\n",
              "      <td>33.000000</td>\n",
              "      <td>0.800000</td>\n",
              "      <td>0.200000</td>\n",
              "      <td>175.500000</td>\n",
              "      <td>23.000000</td>\n",
              "      <td>25.000000</td>\n",
              "      <td>5.800000</td>\n",
              "      <td>2.600000</td>\n",
              "      <td>0.700000</td>\n",
              "      <td>1.000000</td>\n",
              "    </tr>\n",
              "    <tr>\n",
              "      <th>50%</th>\n",
              "      <td>45.000000</td>\n",
              "      <td>1.000000</td>\n",
              "      <td>0.300000</td>\n",
              "      <td>208.000000</td>\n",
              "      <td>35.000000</td>\n",
              "      <td>42.000000</td>\n",
              "      <td>6.600000</td>\n",
              "      <td>3.100000</td>\n",
              "      <td>0.930000</td>\n",
              "      <td>1.000000</td>\n",
              "    </tr>\n",
              "    <tr>\n",
              "      <th>75%</th>\n",
              "      <td>58.000000</td>\n",
              "      <td>2.600000</td>\n",
              "      <td>1.300000</td>\n",
              "      <td>298.000000</td>\n",
              "      <td>60.500000</td>\n",
              "      <td>87.000000</td>\n",
              "      <td>7.200000</td>\n",
              "      <td>3.800000</td>\n",
              "      <td>1.100000</td>\n",
              "      <td>2.000000</td>\n",
              "    </tr>\n",
              "    <tr>\n",
              "      <th>max</th>\n",
              "      <td>90.000000</td>\n",
              "      <td>75.000000</td>\n",
              "      <td>19.700000</td>\n",
              "      <td>2110.000000</td>\n",
              "      <td>2000.000000</td>\n",
              "      <td>4929.000000</td>\n",
              "      <td>9.600000</td>\n",
              "      <td>5.500000</td>\n",
              "      <td>2.800000</td>\n",
              "      <td>2.000000</td>\n",
              "    </tr>\n",
              "  </tbody>\n",
              "</table>\n",
              "</div>\n",
              "      <button class=\"colab-df-convert\" onclick=\"convertToInteractive('df-68a0a300-ba3c-4e2d-aee4-f91b25fa3013')\"\n",
              "              title=\"Convert this dataframe to an interactive table.\"\n",
              "              style=\"display:none;\">\n",
              "        \n",
              "  <svg xmlns=\"http://www.w3.org/2000/svg\" height=\"24px\"viewBox=\"0 0 24 24\"\n",
              "       width=\"24px\">\n",
              "    <path d=\"M0 0h24v24H0V0z\" fill=\"none\"/>\n",
              "    <path d=\"M18.56 5.44l.94 2.06.94-2.06 2.06-.94-2.06-.94-.94-2.06-.94 2.06-2.06.94zm-11 1L8.5 8.5l.94-2.06 2.06-.94-2.06-.94L8.5 2.5l-.94 2.06-2.06.94zm10 10l.94 2.06.94-2.06 2.06-.94-2.06-.94-.94-2.06-.94 2.06-2.06.94z\"/><path d=\"M17.41 7.96l-1.37-1.37c-.4-.4-.92-.59-1.43-.59-.52 0-1.04.2-1.43.59L10.3 9.45l-7.72 7.72c-.78.78-.78 2.05 0 2.83L4 21.41c.39.39.9.59 1.41.59.51 0 1.02-.2 1.41-.59l7.78-7.78 2.81-2.81c.8-.78.8-2.07 0-2.86zM5.41 20L4 18.59l7.72-7.72 1.47 1.35L5.41 20z\"/>\n",
              "  </svg>\n",
              "      </button>\n",
              "      \n",
              "  <style>\n",
              "    .colab-df-container {\n",
              "      display:flex;\n",
              "      flex-wrap:wrap;\n",
              "      gap: 12px;\n",
              "    }\n",
              "\n",
              "    .colab-df-convert {\n",
              "      background-color: #E8F0FE;\n",
              "      border: none;\n",
              "      border-radius: 50%;\n",
              "      cursor: pointer;\n",
              "      display: none;\n",
              "      fill: #1967D2;\n",
              "      height: 32px;\n",
              "      padding: 0 0 0 0;\n",
              "      width: 32px;\n",
              "    }\n",
              "\n",
              "    .colab-df-convert:hover {\n",
              "      background-color: #E2EBFA;\n",
              "      box-shadow: 0px 1px 2px rgba(60, 64, 67, 0.3), 0px 1px 3px 1px rgba(60, 64, 67, 0.15);\n",
              "      fill: #174EA6;\n",
              "    }\n",
              "\n",
              "    [theme=dark] .colab-df-convert {\n",
              "      background-color: #3B4455;\n",
              "      fill: #D2E3FC;\n",
              "    }\n",
              "\n",
              "    [theme=dark] .colab-df-convert:hover {\n",
              "      background-color: #434B5C;\n",
              "      box-shadow: 0px 1px 3px 1px rgba(0, 0, 0, 0.15);\n",
              "      filter: drop-shadow(0px 1px 2px rgba(0, 0, 0, 0.3));\n",
              "      fill: #FFFFFF;\n",
              "    }\n",
              "  </style>\n",
              "\n",
              "      <script>\n",
              "        const buttonEl =\n",
              "          document.querySelector('#df-68a0a300-ba3c-4e2d-aee4-f91b25fa3013 button.colab-df-convert');\n",
              "        buttonEl.style.display =\n",
              "          google.colab.kernel.accessAllowed ? 'block' : 'none';\n",
              "\n",
              "        async function convertToInteractive(key) {\n",
              "          const element = document.querySelector('#df-68a0a300-ba3c-4e2d-aee4-f91b25fa3013');\n",
              "          const dataTable =\n",
              "            await google.colab.kernel.invokeFunction('convertToInteractive',\n",
              "                                                     [key], {});\n",
              "          if (!dataTable) return;\n",
              "\n",
              "          const docLinkHtml = 'Like what you see? Visit the ' +\n",
              "            '<a target=\"_blank\" href=https://colab.research.google.com/notebooks/data_table.ipynb>data table notebook</a>'\n",
              "            + ' to learn more about interactive tables.';\n",
              "          element.innerHTML = '';\n",
              "          dataTable['output_type'] = 'display_data';\n",
              "          await google.colab.output.renderOutput(dataTable, element);\n",
              "          const docLink = document.createElement('div');\n",
              "          docLink.innerHTML = docLinkHtml;\n",
              "          element.appendChild(docLink);\n",
              "        }\n",
              "      </script>\n",
              "    </div>\n",
              "  </div>\n",
              "  "
            ]
          },
          "metadata": {},
          "execution_count": 30
        }
      ]
    },
    {
      "cell_type": "code",
      "source": [
        "## if score==negative, mark 0 ;else 1 \n",
        "def partition(x):\n",
        "    if x == 2:\n",
        "        return 0\n",
        "    return 1"
      ],
      "metadata": {
        "id": "UdWei5wMk-FX"
      },
      "execution_count": null,
      "outputs": []
    },
    {
      "cell_type": "code",
      "source": [
        "df['Dataset'] = df['Dataset'].map(partition)"
      ],
      "metadata": {
        "id": "DECmOIW5lCqP"
      },
      "execution_count": null,
      "outputs": []
    },
    {
      "cell_type": "code",
      "source": [
        "df.describe(include=['object'])"
      ],
      "metadata": {
        "colab": {
          "base_uri": "https://localhost:8080/",
          "height": 175
        },
        "id": "9gt0usT4lEQm",
        "outputId": "61308750-ab47-4404-b696-c504d10e5d4b"
      },
      "execution_count": null,
      "outputs": [
        {
          "output_type": "execute_result",
          "data": {
            "text/plain": [
              "       Gender\n",
              "count     583\n",
              "unique      2\n",
              "top      Male\n",
              "freq      441"
            ],
            "text/html": [
              "\n",
              "  <div id=\"df-3b043ddd-e7f8-47f7-8560-147fb6cc46a6\">\n",
              "    <div class=\"colab-df-container\">\n",
              "      <div>\n",
              "<style scoped>\n",
              "    .dataframe tbody tr th:only-of-type {\n",
              "        vertical-align: middle;\n",
              "    }\n",
              "\n",
              "    .dataframe tbody tr th {\n",
              "        vertical-align: top;\n",
              "    }\n",
              "\n",
              "    .dataframe thead th {\n",
              "        text-align: right;\n",
              "    }\n",
              "</style>\n",
              "<table border=\"1\" class=\"dataframe\">\n",
              "  <thead>\n",
              "    <tr style=\"text-align: right;\">\n",
              "      <th></th>\n",
              "      <th>Gender</th>\n",
              "    </tr>\n",
              "  </thead>\n",
              "  <tbody>\n",
              "    <tr>\n",
              "      <th>count</th>\n",
              "      <td>583</td>\n",
              "    </tr>\n",
              "    <tr>\n",
              "      <th>unique</th>\n",
              "      <td>2</td>\n",
              "    </tr>\n",
              "    <tr>\n",
              "      <th>top</th>\n",
              "      <td>Male</td>\n",
              "    </tr>\n",
              "    <tr>\n",
              "      <th>freq</th>\n",
              "      <td>441</td>\n",
              "    </tr>\n",
              "  </tbody>\n",
              "</table>\n",
              "</div>\n",
              "      <button class=\"colab-df-convert\" onclick=\"convertToInteractive('df-3b043ddd-e7f8-47f7-8560-147fb6cc46a6')\"\n",
              "              title=\"Convert this dataframe to an interactive table.\"\n",
              "              style=\"display:none;\">\n",
              "        \n",
              "  <svg xmlns=\"http://www.w3.org/2000/svg\" height=\"24px\"viewBox=\"0 0 24 24\"\n",
              "       width=\"24px\">\n",
              "    <path d=\"M0 0h24v24H0V0z\" fill=\"none\"/>\n",
              "    <path d=\"M18.56 5.44l.94 2.06.94-2.06 2.06-.94-2.06-.94-.94-2.06-.94 2.06-2.06.94zm-11 1L8.5 8.5l.94-2.06 2.06-.94-2.06-.94L8.5 2.5l-.94 2.06-2.06.94zm10 10l.94 2.06.94-2.06 2.06-.94-2.06-.94-.94-2.06-.94 2.06-2.06.94z\"/><path d=\"M17.41 7.96l-1.37-1.37c-.4-.4-.92-.59-1.43-.59-.52 0-1.04.2-1.43.59L10.3 9.45l-7.72 7.72c-.78.78-.78 2.05 0 2.83L4 21.41c.39.39.9.59 1.41.59.51 0 1.02-.2 1.41-.59l7.78-7.78 2.81-2.81c.8-.78.8-2.07 0-2.86zM5.41 20L4 18.59l7.72-7.72 1.47 1.35L5.41 20z\"/>\n",
              "  </svg>\n",
              "      </button>\n",
              "      \n",
              "  <style>\n",
              "    .colab-df-container {\n",
              "      display:flex;\n",
              "      flex-wrap:wrap;\n",
              "      gap: 12px;\n",
              "    }\n",
              "\n",
              "    .colab-df-convert {\n",
              "      background-color: #E8F0FE;\n",
              "      border: none;\n",
              "      border-radius: 50%;\n",
              "      cursor: pointer;\n",
              "      display: none;\n",
              "      fill: #1967D2;\n",
              "      height: 32px;\n",
              "      padding: 0 0 0 0;\n",
              "      width: 32px;\n",
              "    }\n",
              "\n",
              "    .colab-df-convert:hover {\n",
              "      background-color: #E2EBFA;\n",
              "      box-shadow: 0px 1px 2px rgba(60, 64, 67, 0.3), 0px 1px 3px 1px rgba(60, 64, 67, 0.15);\n",
              "      fill: #174EA6;\n",
              "    }\n",
              "\n",
              "    [theme=dark] .colab-df-convert {\n",
              "      background-color: #3B4455;\n",
              "      fill: #D2E3FC;\n",
              "    }\n",
              "\n",
              "    [theme=dark] .colab-df-convert:hover {\n",
              "      background-color: #434B5C;\n",
              "      box-shadow: 0px 1px 3px 1px rgba(0, 0, 0, 0.15);\n",
              "      filter: drop-shadow(0px 1px 2px rgba(0, 0, 0, 0.3));\n",
              "      fill: #FFFFFF;\n",
              "    }\n",
              "  </style>\n",
              "\n",
              "      <script>\n",
              "        const buttonEl =\n",
              "          document.querySelector('#df-3b043ddd-e7f8-47f7-8560-147fb6cc46a6 button.colab-df-convert');\n",
              "        buttonEl.style.display =\n",
              "          google.colab.kernel.accessAllowed ? 'block' : 'none';\n",
              "\n",
              "        async function convertToInteractive(key) {\n",
              "          const element = document.querySelector('#df-3b043ddd-e7f8-47f7-8560-147fb6cc46a6');\n",
              "          const dataTable =\n",
              "            await google.colab.kernel.invokeFunction('convertToInteractive',\n",
              "                                                     [key], {});\n",
              "          if (!dataTable) return;\n",
              "\n",
              "          const docLinkHtml = 'Like what you see? Visit the ' +\n",
              "            '<a target=\"_blank\" href=https://colab.research.google.com/notebooks/data_table.ipynb>data table notebook</a>'\n",
              "            + ' to learn more about interactive tables.';\n",
              "          element.innerHTML = '';\n",
              "          dataTable['output_type'] = 'display_data';\n",
              "          await google.colab.output.renderOutput(dataTable, element);\n",
              "          const docLink = document.createElement('div');\n",
              "          docLink.innerHTML = docLinkHtml;\n",
              "          element.appendChild(docLink);\n",
              "        }\n",
              "      </script>\n",
              "    </div>\n",
              "  </div>\n",
              "  "
            ]
          },
          "metadata": {},
          "execution_count": 32
        }
      ]
    },
    {
      "cell_type": "code",
      "source": [
        "plt.figure(figsize=(5,5))\n",
        "sns.countplot(y='Gender', data=df)"
      ],
      "metadata": {
        "colab": {
          "base_uri": "https://localhost:8080/",
          "height": 352
        },
        "id": "M0EteYGYlGaR",
        "outputId": "d5ae2c5b-8436-4992-c4fb-4279b64fd01a"
      },
      "execution_count": null,
      "outputs": [
        {
          "output_type": "execute_result",
          "data": {
            "text/plain": [
              "<matplotlib.axes._subplots.AxesSubplot at 0x7f46ed7981d0>"
            ]
          },
          "metadata": {},
          "execution_count": 34
        },
        {
          "output_type": "display_data",
          "data": {
            "text/plain": [
              "<Figure size 360x360 with 1 Axes>"
            ],
            "image/png": "[encoded data removed]"
          },
          "metadata": {
            "needs_background": "light"
          }
        }
      ]
    },
    {
      "cell_type": "code",
      "source": [
        "df[df['Gender'] == 'Male'][['Dataset', 'Gender']].head()"
      ],
      "metadata": {
        "colab": {
          "base_uri": "https://localhost:8080/",
          "height": 206
        },
        "id": "CdGTR3gNlKyF",
        "outputId": "523811c2-748c-49f2-877a-24eb88d8c940"
      },
      "execution_count": null,
      "outputs": [
        {
          "output_type": "execute_result",
          "data": {
            "text/plain": [
              "   Dataset Gender\n",
              "1        1   Male\n",
              "2        1   Male\n",
              "3        1   Male\n",
              "4        1   Male\n",
              "5        1   Male"
            ],
            "text/html": [
              "\n",
              "  <div id=\"df-25f12861-52e5-468e-b5ff-47f0cae714f1\">\n",
              "    <div class=\"colab-df-container\">\n",
              "      <div>\n",
              "<style scoped>\n",
              "    .dataframe tbody tr th:only-of-type {\n",
              "        vertical-align: middle;\n",
              "    }\n",
              "\n",
              "    .dataframe tbody tr th {\n",
              "        vertical-align: top;\n",
              "    }\n",
              "\n",
              "    .dataframe thead th {\n",
              "        text-align: right;\n",
              "    }\n",
              "</style>\n",
              "<table border=\"1\" class=\"dataframe\">\n",
              "  <thead>\n",
              "    <tr style=\"text-align: right;\">\n",
              "      <th></th>\n",
              "      <th>Dataset</th>\n",
              "      <th>Gender</th>\n",
              "    </tr>\n",
              "  </thead>\n",
              "  <tbody>\n",
              "    <tr>\n",
              "      <th>1</th>\n",
              "      <td>1</td>\n",
              "      <td>Male</td>\n",
              "    </tr>\n",
              "    <tr>\n",
              "      <th>2</th>\n",
              "      <td>1</td>\n",
              "      <td>Male</td>\n",
              "    </tr>\n",
              "    <tr>\n",
              "      <th>3</th>\n",
              "      <td>1</td>\n",
              "      <td>Male</td>\n",
              "    </tr>\n",
              "    <tr>\n",
              "      <th>4</th>\n",
              "      <td>1</td>\n",
              "      <td>Male</td>\n",
              "    </tr>\n",
              "    <tr>\n",
              "      <th>5</th>\n",
              "      <td>1</td>\n",
              "      <td>Male</td>\n",
              "    </tr>\n",
              "  </tbody>\n",
              "</table>\n",
              "</div>\n",
              "      <button class=\"colab-df-convert\" onclick=\"convertToInteractive('df-25f12861-52e5-468e-b5ff-47f0cae714f1')\"\n",
              "              title=\"Convert this dataframe to an interactive table.\"\n",
              "              style=\"display:none;\">\n",
              "        \n",
              "  <svg xmlns=\"http://www.w3.org/2000/svg\" height=\"24px\"viewBox=\"0 0 24 24\"\n",
              "       width=\"24px\">\n",
              "    <path d=\"M0 0h24v24H0V0z\" fill=\"none\"/>\n",
              "    <path d=\"M18.56 5.44l.94 2.06.94-2.06 2.06-.94-2.06-.94-.94-2.06-.94 2.06-2.06.94zm-11 1L8.5 8.5l.94-2.06 2.06-.94-2.06-.94L8.5 2.5l-.94 2.06-2.06.94zm10 10l.94 2.06.94-2.06 2.06-.94-2.06-.94-.94-2.06-.94 2.06-2.06.94z\"/><path d=\"M17.41 7.96l-1.37-1.37c-.4-.4-.92-.59-1.43-.59-.52 0-1.04.2-1.43.59L10.3 9.45l-7.72 7.72c-.78.78-.78 2.05 0 2.83L4 21.41c.39.39.9.59 1.41.59.51 0 1.02-.2 1.41-.59l7.78-7.78 2.81-2.81c.8-.78.8-2.07 0-2.86zM5.41 20L4 18.59l7.72-7.72 1.47 1.35L5.41 20z\"/>\n",
              "  </svg>\n",
              "      </button>\n",
              "      \n",
              "  <style>\n",
              "    .colab-df-container {\n",
              "      display:flex;\n",
              "      flex-wrap:wrap;\n",
              "      gap: 12px;\n",
              "    }\n",
              "\n",
              "    .colab-df-convert {\n",
              "      background-color: #E8F0FE;\n",
              "      border: none;\n",
              "      border-radius: 50%;\n",
              "      cursor: pointer;\n",
              "      display: none;\n",
              "      fill: #1967D2;\n",
              "      height: 32px;\n",
              "      padding: 0 0 0 0;\n",
              "      width: 32px;\n",
              "    }\n",
              "\n",
              "    .colab-df-convert:hover {\n",
              "      background-color: #E2EBFA;\n",
              "      box-shadow: 0px 1px 2px rgba(60, 64, 67, 0.3), 0px 1px 3px 1px rgba(60, 64, 67, 0.15);\n",
              "      fill: #174EA6;\n",
              "    }\n",
              "\n",
              "    [theme=dark] .colab-df-convert {\n",
              "      background-color: #3B4455;\n",
              "      fill: #D2E3FC;\n",
              "    }\n",
              "\n",
              "    [theme=dark] .colab-df-convert:hover {\n",
              "      background-color: #434B5C;\n",
              "      box-shadow: 0px 1px 3px 1px rgba(0, 0, 0, 0.15);\n",
              "      filter: drop-shadow(0px 1px 2px rgba(0, 0, 0, 0.3));\n",
              "      fill: #FFFFFF;\n",
              "    }\n",
              "  </style>\n",
              "\n",
              "      <script>\n",
              "        const buttonEl =\n",
              "          document.querySelector('#df-25f12861-52e5-468e-b5ff-47f0cae714f1 button.colab-df-convert');\n",
              "        buttonEl.style.display =\n",
              "          google.colab.kernel.accessAllowed ? 'block' : 'none';\n",
              "\n",
              "        async function convertToInteractive(key) {\n",
              "          const element = document.querySelector('#df-25f12861-52e5-468e-b5ff-47f0cae714f1');\n",
              "          const dataTable =\n",
              "            await google.colab.kernel.invokeFunction('convertToInteractive',\n",
              "                                                     [key], {});\n",
              "          if (!dataTable) return;\n",
              "\n",
              "          const docLinkHtml = 'Like what you see? Visit the ' +\n",
              "            '<a target=\"_blank\" href=https://colab.research.google.com/notebooks/data_table.ipynb>data table notebook</a>'\n",
              "            + ' to learn more about interactive tables.';\n",
              "          element.innerHTML = '';\n",
              "          dataTable['output_type'] = 'display_data';\n",
              "          await google.colab.output.renderOutput(dataTable, element);\n",
              "          const docLink = document.createElement('div');\n",
              "          docLink.innerHTML = docLinkHtml;\n",
              "          element.appendChild(docLink);\n",
              "        }\n",
              "      </script>\n",
              "    </div>\n",
              "  </div>\n",
              "  "
            ]
          },
          "metadata": {},
          "execution_count": 35
        }
      ]
    },
    {
      "cell_type": "code",
      "source": [
        "sns.factorplot (x=\"Age\", y=\"Gender\", hue=\"Dataset\", data=df);"
      ],
      "metadata": {
        "colab": {
          "base_uri": "https://localhost:8080/",
          "height": 369
        },
        "id": "lIua7e7tlN4N",
        "outputId": "8864989b-7fa5-4bbe-ea21-7c49abee4924"
      },
      "execution_count": null,
      "outputs": [
        {
          "output_type": "display_data",
          "data": {
            "text/plain": [
              "<Figure size 407.125x360 with 1 Axes>"
            ],
            "image/png": "[encoded data removed]"
          },
          "metadata": {
            "needs_background": "light"
          }
        }
      ]
    },
    {
      "cell_type": "code",
      "source": [
        "sns.countplot(data=df, x = 'Gender', label='Count')"
      ],
      "metadata": {
        "colab": {
          "base_uri": "https://localhost:8080/",
          "height": 297
        },
        "id": "xIohBGz5lQkx",
        "outputId": "026f3328-2b13-4238-ee45-6e81aa87eb77"
      },
      "execution_count": null,
      "outputs": [
        {
          "output_type": "execute_result",
          "data": {
            "text/plain": [
              "<matplotlib.axes._subplots.AxesSubplot at 0x7f46eae86450>"
            ]
          },
          "metadata": {},
          "execution_count": 37
        },
        {
          "output_type": "display_data",
          "data": {
            "text/plain": [
              "<Figure size 432x288 with 1 Axes>"
            ],
            "image/png": "[encoded data removed]"
          },
          "metadata": {
            "needs_background": "light"
          }
        }
      ]
    },
    {
      "cell_type": "code",
      "source": [
        "M, F = df['Gender'].value_counts()\n",
        "print('Number of patients that are male: ',M)\n",
        "print('Number of patients that are female: ',F)"
      ],
      "metadata": {
        "colab": {
          "base_uri": "https://localhost:8080/"
        },
        "id": "JiTZtbPGlTVy",
        "outputId": "a4373673-f1a6-4013-fd0a-6dea7920659a"
      },
      "execution_count": null,
      "outputs": [
        {
          "output_type": "stream",
          "name": "stdout",
          "text": [
            "Number of patients that are male:  441\n",
            "Number of patients that are female:  142\n"
          ]
        }
      ]
    },
    {
      "cell_type": "code",
      "source": [
        "\n",
        "def partition(x):\n",
        "    if x =='Male':\n",
        "        return 0\n",
        "    return 1"
      ],
      "metadata": {
        "id": "js2Gt9NolV-8"
      },
      "execution_count": null,
      "outputs": []
    },
    {
      "cell_type": "code",
      "source": [
        "df['Gender'] = df['Gender'].map(partition)"
      ],
      "metadata": {
        "id": "cGX7IYaRlYvt"
      },
      "execution_count": null,
      "outputs": []
    },
    {
      "cell_type": "code",
      "source": [
        "sns.set_style('whitegrid')   ## Background Grid\n",
        "sns.FacetGrid(df, hue = 'Dataset', size = 5).map(plt.scatter, 'Total_Bilirubin', 'Direct_Bilirubin').add_legend()"
      ],
      "metadata": {
        "colab": {
          "base_uri": "https://localhost:8080/",
          "height": 387
        },
        "id": "CxPeoztPlbpU",
        "outputId": "ad0389ef-2d28-4369-d155-76957d588fa6"
      },
      "execution_count": null,
      "outputs": [
        {
          "output_type": "execute_result",
          "data": {
            "text/plain": [
              "<seaborn.axisgrid.FacetGrid at 0x7f46eae5fe90>"
            ]
          },
          "metadata": {},
          "execution_count": 41
        },
        {
          "output_type": "display_data",
          "data": {
            "text/plain": [
              "<Figure size 407.125x360 with 1 Axes>"
            ],
            "image/png": "[encoded data removed]"
          },
          "metadata": {}
        }
      ]
    },
    {
      "cell_type": "code",
      "source": [
        "sns.set_style('whitegrid')   ## Background Grid\n",
        "sns.FacetGrid(df, hue = 'Dataset', size = 5).map(plt.scatter, 'Total_Bilirubin', 'Albumin').add_legend()"
      ],
      "metadata": {
        "colab": {
          "base_uri": "https://localhost:8080/",
          "height": 387
        },
        "id": "ewus82TOld3_",
        "outputId": "c57b8a18-3c77-4088-8ee1-fa3a799ca695"
      },
      "execution_count": null,
      "outputs": [
        {
          "output_type": "execute_result",
          "data": {
            "text/plain": [
              "<seaborn.axisgrid.FacetGrid at 0x7f46eae22310>"
            ]
          },
          "metadata": {},
          "execution_count": 42
        },
        {
          "output_type": "display_data",
          "data": {
            "text/plain": [
              "<Figure size 407.125x360 with 1 Axes>"
            ],
            "image/png": "[encoded data removed]"
          },
          "metadata": {}
        }
      ]
    },
    {
      "cell_type": "code",
      "source": [
        "sns.set_style('whitegrid')   ## Background Grid\n",
        "sns.FacetGrid(df, hue = 'Dataset', size = 5).map(plt.scatter, 'Total_Protiens', 'Albumin_and_Globulin_Ratio').add_legend()"
      ],
      "metadata": {
        "colab": {
          "base_uri": "https://localhost:8080/",
          "height": 387
        },
        "id": "Ay3p3LvFliUM",
        "outputId": "c339eb19-62a6-4879-9e20-5a9b3d824003"
      },
      "execution_count": null,
      "outputs": [
        {
          "output_type": "execute_result",
          "data": {
            "text/plain": [
              "<seaborn.axisgrid.FacetGrid at 0x7f46ead57510>"
            ]
          },
          "metadata": {},
          "execution_count": 43
        },
        {
          "output_type": "display_data",
          "data": {
            "text/plain": [
              "<Figure size 407.125x360 with 1 Axes>"
            ],
            "image/png": "[encoded data removed]"
          },
          "metadata": {}
        }
      ]
    },
    {
      "cell_type": "code",
      "source": [
        "df.corr()"
      ],
      "metadata": {
        "colab": {
          "base_uri": "https://localhost:8080/",
          "height": 458
        },
        "id": "JvEP05EklmKU",
        "outputId": "1837ace2-fe41-4a3f-f406-fc4074d214c8"
      },
      "execution_count": null,
      "outputs": [
        {
          "output_type": "execute_result",
          "data": {
            "text/plain": [
              "                                 Age    Gender  Total_Bilirubin  \\\n",
              "Age                         1.000000 -0.056560         0.011763   \n",
              "Gender                     -0.056560  1.000000        -0.089291   \n",
              "Total_Bilirubin             0.011763 -0.089291         1.000000   \n",
              "Direct_Bilirubin            0.007529 -0.100436         0.874618   \n",
              "Alkaline_Phosphotase        0.080425  0.027496         0.206669   \n",
              "Alamine_Aminotransferase   -0.086883 -0.082332         0.214065   \n",
              "Aspartate_Aminotransferase -0.019910 -0.080336         0.237831   \n",
              "Total_Protiens             -0.187461  0.089121        -0.008099   \n",
              "Albumin                    -0.265924  0.093799        -0.222250   \n",
              "Albumin_and_Globulin_Ratio -0.216408  0.003424        -0.206267   \n",
              "Dataset                     0.137351 -0.082416         0.220208   \n",
              "\n",
              "                            Direct_Bilirubin  Alkaline_Phosphotase  \\\n",
              "Age                                 0.007529              0.080425   \n",
              "Gender                             -0.100436              0.027496   \n",
              "Total_Bilirubin                     0.874618              0.206669   \n",
              "Direct_Bilirubin                    1.000000              0.234939   \n",
              "Alkaline_Phosphotase                0.234939              1.000000   \n",
              "Alamine_Aminotransferase            0.233894              0.125680   \n",
              "Aspartate_Aminotransferase          0.257544              0.167196   \n",
              "Total_Protiens                     -0.000139             -0.028514   \n",
              "Albumin                            -0.228531             -0.165453   \n",
              "Albumin_and_Globulin_Ratio         -0.200125             -0.234166   \n",
              "Dataset                             0.246046              0.184866   \n",
              "\n",
              "                            Alamine_Aminotransferase  \\\n",
              "Age                                        -0.086883   \n",
              "Gender                                     -0.082332   \n",
              "Total_Bilirubin                             0.214065   \n",
              "Direct_Bilirubin                            0.233894   \n",
              "Alkaline_Phosphotase                        0.125680   \n",
              "Alamine_Aminotransferase                    1.000000   \n",
              "Aspartate_Aminotransferase                  0.791966   \n",
              "Total_Protiens                             -0.042518   \n",
              "Albumin                                    -0.029742   \n",
              "Albumin_and_Globulin_Ratio                 -0.002375   \n",
              "Dataset                                     0.163416   \n",
              "\n",
              "                            Aspartate_Aminotransferase  Total_Protiens  \\\n",
              "Age                                          -0.019910       -0.187461   \n",
              "Gender                                       -0.080336        0.089121   \n",
              "Total_Bilirubin                               0.237831       -0.008099   \n",
              "Direct_Bilirubin                              0.257544       -0.000139   \n",
              "Alkaline_Phosphotase                          0.167196       -0.028514   \n",
              "Alamine_Aminotransferase                      0.791966       -0.042518   \n",
              "Aspartate_Aminotransferase                    1.000000       -0.025645   \n",
              "Total_Protiens                               -0.025645        1.000000   \n",
              "Albumin                                      -0.085290        0.784053   \n",
              "Albumin_and_Globulin_Ratio                   -0.070040        0.234887   \n",
              "Dataset                                       0.151934       -0.035008   \n",
              "\n",
              "                             Albumin  Albumin_and_Globulin_Ratio   Dataset  \n",
              "Age                        -0.265924                   -0.216408  0.137351  \n",
              "Gender                      0.093799                    0.003424 -0.082416  \n",
              "Total_Bilirubin            -0.222250                   -0.206267  0.220208  \n",
              "Direct_Bilirubin           -0.228531                   -0.200125  0.246046  \n",
              "Alkaline_Phosphotase       -0.165453                   -0.234166  0.184866  \n",
              "Alamine_Aminotransferase   -0.029742                   -0.002375  0.163416  \n",
              "Aspartate_Aminotransferase -0.085290                   -0.070040  0.151934  \n",
              "Total_Protiens              0.784053                    0.234887 -0.035008  \n",
              "Albumin                     1.000000                    0.689632 -0.161388  \n",
              "Albumin_and_Globulin_Ratio  0.689632                    1.000000 -0.163131  \n",
              "Dataset                    -0.161388                   -0.163131  1.000000  "
            ],
            "text/html": [
              "\n",
              "  <div id=\"df-855549b5-7c4f-4e71-be79-b3f1c7bc8f1e\">\n",
              "    <div class=\"colab-df-container\">\n",
              "      <div>\n",
              "<style scoped>\n",
              "    .dataframe tbody tr th:only-of-type {\n",
              "        vertical-align: middle;\n",
              "    }\n",
              "\n",
              "    .dataframe tbody tr th {\n",
              "        vertical-align: top;\n",
              "    }\n",
              "\n",
              "    .dataframe thead th {\n",
              "        text-align: right;\n",
              "    }\n",
              "</style>\n",
              "<table border=\"1\" class=\"dataframe\">\n",
              "  <thead>\n",
              "    <tr style=\"text-align: right;\">\n",
              "      <th></th>\n",
              "      <th>Age</th>\n",
              "      <th>Gender</th>\n",
              "      <th>Total_Bilirubin</th>\n",
              "      <th>Direct_Bilirubin</th>\n",
              "      <th>Alkaline_Phosphotase</th>\n",
              "      <th>Alamine_Aminotransferase</th>\n",
              "      <th>Aspartate_Aminotransferase</th>\n",
              "      <th>Total_Protiens</th>\n",
              "      <th>Albumin</th>\n",
              "      <th>Albumin_and_Globulin_Ratio</th>\n",
              "      <th>Dataset</th>\n",
              "    </tr>\n",
              "  </thead>\n",
              "  <tbody>\n",
              "    <tr>\n",
              "      <th>Age</th>\n",
              "      <td>1.000000</td>\n",
              "      <td>-0.056560</td>\n",
              "      <td>0.011763</td>\n",
              "      <td>0.007529</td>\n",
              "      <td>0.080425</td>\n",
              "      <td>-0.086883</td>\n",
              "      <td>-0.019910</td>\n",
              "      <td>-0.187461</td>\n",
              "      <td>-0.265924</td>\n",
              "      <td>-0.216408</td>\n",
              "      <td>0.137351</td>\n",
              "    </tr>\n",
              "    <tr>\n",
              "      <th>Gender</th>\n",
              "      <td>-0.056560</td>\n",
              "      <td>1.000000</td>\n",
              "      <td>-0.089291</td>\n",
              "      <td>-0.100436</td>\n",
              "      <td>0.027496</td>\n",
              "      <td>-0.082332</td>\n",
              "      <td>-0.080336</td>\n",
              "      <td>0.089121</td>\n",
              "      <td>0.093799</td>\n",
              "      <td>0.003424</td>\n",
              "      <td>-0.082416</td>\n",
              "    </tr>\n",
              "    <tr>\n",
              "      <th>Total_Bilirubin</th>\n",
              "      <td>0.011763</td>\n",
              "      <td>-0.089291</td>\n",
              "      <td>1.000000</td>\n",
              "      <td>0.874618</td>\n",
              "      <td>0.206669</td>\n",
              "      <td>0.214065</td>\n",
              "      <td>0.237831</td>\n",
              "      <td>-0.008099</td>\n",
              "      <td>-0.222250</td>\n",
              "      <td>-0.206267</td>\n",
              "      <td>0.220208</td>\n",
              "    </tr>\n",
              "    <tr>\n",
              "      <th>Direct_Bilirubin</th>\n",
              "      <td>0.007529</td>\n",
              "      <td>-0.100436</td>\n",
              "      <td>0.874618</td>\n",
              "      <td>1.000000</td>\n",
              "      <td>0.234939</td>\n",
              "      <td>0.233894</td>\n",
              "      <td>0.257544</td>\n",
              "      <td>-0.000139</td>\n",
              "      <td>-0.228531</td>\n",
              "      <td>-0.200125</td>\n",
              "      <td>0.246046</td>\n",
              "    </tr>\n",
              "    <tr>\n",
              "      <th>Alkaline_Phosphotase</th>\n",
              "      <td>0.080425</td>\n",
              "      <td>0.027496</td>\n",
              "      <td>0.206669</td>\n",
              "      <td>0.234939</td>\n",
              "      <td>1.000000</td>\n",
              "      <td>0.125680</td>\n",
              "      <td>0.167196</td>\n",
              "      <td>-0.028514</td>\n",
              "      <td>-0.165453</td>\n",
              "      <td>-0.234166</td>\n",
              "      <td>0.184866</td>\n",
              "    </tr>\n",
              "    <tr>\n",
              "      <th>Alamine_Aminotransferase</th>\n",
              "      <td>-0.086883</td>\n",
              "      <td>-0.082332</td>\n",
              "      <td>0.214065</td>\n",
              "      <td>0.233894</td>\n",
              "      <td>0.125680</td>\n",
              "      <td>1.000000</td>\n",
              "      <td>0.791966</td>\n",
              "      <td>-0.042518</td>\n",
              "      <td>-0.029742</td>\n",
              "      <td>-0.002375</td>\n",
              "      <td>0.163416</td>\n",
              "    </tr>\n",
              "    <tr>\n",
              "      <th>Aspartate_Aminotransferase</th>\n",
              "      <td>-0.019910</td>\n",
              "      <td>-0.080336</td>\n",
              "      <td>0.237831</td>\n",
              "      <td>0.257544</td>\n",
              "      <td>0.167196</td>\n",
              "      <td>0.791966</td>\n",
              "      <td>1.000000</td>\n",
              "      <td>-0.025645</td>\n",
              "      <td>-0.085290</td>\n",
              "      <td>-0.070040</td>\n",
              "      <td>0.151934</td>\n",
              "    </tr>\n",
              "    <tr>\n",
              "      <th>Total_Protiens</th>\n",
              "      <td>-0.187461</td>\n",
              "      <td>0.089121</td>\n",
              "      <td>-0.008099</td>\n",
              "      <td>-0.000139</td>\n",
              "      <td>-0.028514</td>\n",
              "      <td>-0.042518</td>\n",
              "      <td>-0.025645</td>\n",
              "      <td>1.000000</td>\n",
              "      <td>0.784053</td>\n",
              "      <td>0.234887</td>\n",
              "      <td>-0.035008</td>\n",
              "    </tr>\n",
              "    <tr>\n",
              "      <th>Albumin</th>\n",
              "      <td>-0.265924</td>\n",
              "      <td>0.093799</td>\n",
              "      <td>-0.222250</td>\n",
              "      <td>-0.228531</td>\n",
              "      <td>-0.165453</td>\n",
              "      <td>-0.029742</td>\n",
              "      <td>-0.085290</td>\n",
              "      <td>0.784053</td>\n",
              "      <td>1.000000</td>\n",
              "      <td>0.689632</td>\n",
              "      <td>-0.161388</td>\n",
              "    </tr>\n",
              "    <tr>\n",
              "      <th>Albumin_and_Globulin_Ratio</th>\n",
              "      <td>-0.216408</td>\n",
              "      <td>0.003424</td>\n",
              "      <td>-0.206267</td>\n",
              "      <td>-0.200125</td>\n",
              "      <td>-0.234166</td>\n",
              "      <td>-0.002375</td>\n",
              "      <td>-0.070040</td>\n",
              "      <td>0.234887</td>\n",
              "      <td>0.689632</td>\n",
              "      <td>1.000000</td>\n",
              "      <td>-0.163131</td>\n",
              "    </tr>\n",
              "    <tr>\n",
              "      <th>Dataset</th>\n",
              "      <td>0.137351</td>\n",
              "      <td>-0.082416</td>\n",
              "      <td>0.220208</td>\n",
              "      <td>0.246046</td>\n",
              "      <td>0.184866</td>\n",
              "      <td>0.163416</td>\n",
              "      <td>0.151934</td>\n",
              "      <td>-0.035008</td>\n",
              "      <td>-0.161388</td>\n",
              "      <td>-0.163131</td>\n",
              "      <td>1.000000</td>\n",
              "    </tr>\n",
              "  </tbody>\n",
              "</table>\n",
              "</div>\n",
              "      <button class=\"colab-df-convert\" onclick=\"convertToInteractive('df-855549b5-7c4f-4e71-be79-b3f1c7bc8f1e')\"\n",
              "              title=\"Convert this dataframe to an interactive table.\"\n",
              "              style=\"display:none;\">\n",
              "        \n",
              "  <svg xmlns=\"http://www.w3.org/2000/svg\" height=\"24px\"viewBox=\"0 0 24 24\"\n",
              "       width=\"24px\">\n",
              "    <path d=\"M0 0h24v24H0V0z\" fill=\"none\"/>\n",
              "    <path d=\"M18.56 5.44l.94 2.06.94-2.06 2.06-.94-2.06-.94-.94-2.06-.94 2.06-2.06.94zm-11 1L8.5 8.5l.94-2.06 2.06-.94-2.06-.94L8.5 2.5l-.94 2.06-2.06.94zm10 10l.94 2.06.94-2.06 2.06-.94-2.06-.94-.94-2.06-.94 2.06-2.06.94z\"/><path d=\"M17.41 7.96l-1.37-1.37c-.4-.4-.92-.59-1.43-.59-.52 0-1.04.2-1.43.59L10.3 9.45l-7.72 7.72c-.78.78-.78 2.05 0 2.83L4 21.41c.39.39.9.59 1.41.59.51 0 1.02-.2 1.41-.59l7.78-7.78 2.81-2.81c.8-.78.8-2.07 0-2.86zM5.41 20L4 18.59l7.72-7.72 1.47 1.35L5.41 20z\"/>\n",
              "  </svg>\n",
              "      </button>\n",
              "      \n",
              "  <style>\n",
              "    .colab-df-container {\n",
              "      display:flex;\n",
              "      flex-wrap:wrap;\n",
              "      gap: 12px;\n",
              "    }\n",
              "\n",
              "    .colab-df-convert {\n",
              "      background-color: #E8F0FE;\n",
              "      border: none;\n",
              "      border-radius: 50%;\n",
              "      cursor: pointer;\n",
              "      display: none;\n",
              "      fill: #1967D2;\n",
              "      height: 32px;\n",
              "      padding: 0 0 0 0;\n",
              "      width: 32px;\n",
              "    }\n",
              "\n",
              "    .colab-df-convert:hover {\n",
              "      background-color: #E2EBFA;\n",
              "      box-shadow: 0px 1px 2px rgba(60, 64, 67, 0.3), 0px 1px 3px 1px rgba(60, 64, 67, 0.15);\n",
              "      fill: #174EA6;\n",
              "    }\n",
              "\n",
              "    [theme=dark] .colab-df-convert {\n",
              "      background-color: #3B4455;\n",
              "      fill: #D2E3FC;\n",
              "    }\n",
              "\n",
              "    [theme=dark] .colab-df-convert:hover {\n",
              "      background-color: #434B5C;\n",
              "      box-shadow: 0px 1px 3px 1px rgba(0, 0, 0, 0.15);\n",
              "      filter: drop-shadow(0px 1px 2px rgba(0, 0, 0, 0.3));\n",
              "      fill: #FFFFFF;\n",
              "    }\n",
              "  </style>\n",
              "\n",
              "      <script>\n",
              "        const buttonEl =\n",
              "          document.querySelector('#df-855549b5-7c4f-4e71-be79-b3f1c7bc8f1e button.colab-df-convert');\n",
              "        buttonEl.style.display =\n",
              "          google.colab.kernel.accessAllowed ? 'block' : 'none';\n",
              "\n",
              "        async function convertToInteractive(key) {\n",
              "          const element = document.querySelector('#df-855549b5-7c4f-4e71-be79-b3f1c7bc8f1e');\n",
              "          const dataTable =\n",
              "            await google.colab.kernel.invokeFunction('convertToInteractive',\n",
              "                                                     [key], {});\n",
              "          if (!dataTable) return;\n",
              "\n",
              "          const docLinkHtml = 'Like what you see? Visit the ' +\n",
              "            '<a target=\"_blank\" href=https://colab.research.google.com/notebooks/data_table.ipynb>data table notebook</a>'\n",
              "            + ' to learn more about interactive tables.';\n",
              "          element.innerHTML = '';\n",
              "          dataTable['output_type'] = 'display_data';\n",
              "          await google.colab.output.renderOutput(dataTable, element);\n",
              "          const docLink = document.createElement('div');\n",
              "          docLink.innerHTML = docLinkHtml;\n",
              "          element.appendChild(docLink);\n",
              "        }\n",
              "      </script>\n",
              "    </div>\n",
              "  </div>\n",
              "  "
            ]
          },
          "metadata": {},
          "execution_count": 44
        }
      ]
    },
    {
      "cell_type": "code",
      "source": [
        "plt.figure(figsize=(10,10))\n",
        "sns.heatmap(df.corr())"
      ],
      "metadata": {
        "colab": {
          "base_uri": "https://localhost:8080/",
          "height": 746
        },
        "id": "XAWB3Ch_loqY",
        "outputId": "2749ca0a-490a-4aab-ae50-290100757f34"
      },
      "execution_count": null,
      "outputs": [
        {
          "output_type": "execute_result",
          "data": {
            "text/plain": [
              "<matplotlib.axes._subplots.AxesSubplot at 0x7f46eacf4550>"
            ]
          },
          "metadata": {},
          "execution_count": 45
        },
        {
          "output_type": "display_data",
          "data": {
            "text/plain": [
              "<Figure size 720x720 with 2 Axes>"
            ],
            "image/png": "[encoded data removed]"
          },
          "metadata": {}
        }
      ]
    },
    {
      "cell_type": "code",
      "source": [
        "mask=np.zeros_like(df.corr())\n",
        "mask[np.triu_indices_from(mask)] = True\n",
        "plt.figure(figsize=(10,10))\n",
        "with sns.axes_style(\"white\"):\n",
        "    ax = sns.heatmap(df.corr()*100, mask=mask, fmt='.0f', annot=True, lw=1, cmap=ListedColormap(['green', 'yellow', 'red','blue']))"
      ],
      "metadata": {
        "colab": {
          "base_uri": "https://localhost:8080/",
          "height": 724
        },
        "id": "RfH_d94fls1U",
        "outputId": "d2277998-495e-4e6a-8fc1-b58d8c646578"
      },
      "execution_count": null,
      "outputs": [
        {
          "output_type": "display_data",
          "data": {
            "text/plain": [
              "<Figure size 720x720 with 2 Axes>"
            ],
            "image/png": "[encoded data removed]"
          },
          "metadata": {}
        }
      ]
    },
    {
      "cell_type": "code",
      "source": [
        "df = df.drop_duplicates()\n",
        "print( df.shape )"
      ],
      "metadata": {
        "colab": {
          "base_uri": "https://localhost:8080/"
        },
        "id": "VRMGtncPlwQB",
        "outputId": "fd38a6e4-5b2d-40c4-d817-3f17e7656cae"
      },
      "execution_count": null,
      "outputs": [
        {
          "output_type": "stream",
          "name": "stdout",
          "text": [
            "(570, 11)\n"
          ]
        }
      ]
    },
    {
      "cell_type": "code",
      "source": [
        "sns.boxplot(df.Aspartate_Aminotransferase)"
      ],
      "metadata": {
        "colab": {
          "base_uri": "https://localhost:8080/",
          "height": 298
        },
        "id": "ohatOT1RlzVm",
        "outputId": "c435a589-e309-41ee-8ee6-2d1c9fb1f3ef"
      },
      "execution_count": null,
      "outputs": [
        {
          "output_type": "execute_result",
          "data": {
            "text/plain": [
              "<matplotlib.axes._subplots.AxesSubplot at 0x7f46eac37e50>"
            ]
          },
          "metadata": {},
          "execution_count": 48
        },
        {
          "output_type": "display_data",
          "data": {
            "text/plain": [
              "<Figure size 432x288 with 1 Axes>"
            ],
            "image/png": "[encoded data removed]"
          },
          "metadata": {}
        }
      ]
    },
    {
      "cell_type": "code",
      "source": [
        "df.Aspartate_Aminotransferase.sort_values(ascending=False).head()"
      ],
      "metadata": {
        "colab": {
          "base_uri": "https://localhost:8080/"
        },
        "id": "z1VayyWZl2C9",
        "outputId": "c82a1b91-e0b6-4de8-84f7-c090ab0a5e88"
      },
      "execution_count": null,
      "outputs": [
        {
          "output_type": "execute_result",
          "data": {
            "text/plain": [
              "135    4929\n",
              "117    2946\n",
              "118    1600\n",
              "207    1500\n",
              "199    1050\n",
              "Name: Aspartate_Aminotransferase, dtype: int64"
            ]
          },
          "metadata": {},
          "execution_count": 49
        }
      ]
    },
    {
      "cell_type": "code",
      "source": [
        "df = df[df.Aspartate_Aminotransferase <=3000 ]\n",
        "df.shape"
      ],
      "metadata": {
        "colab": {
          "base_uri": "https://localhost:8080/"
        },
        "id": "3FVhs4Fal41h",
        "outputId": "e4e32746-82ee-497b-bc63-bc9779259795"
      },
      "execution_count": null,
      "outputs": [
        {
          "output_type": "execute_result",
          "data": {
            "text/plain": [
              "(569, 11)"
            ]
          },
          "metadata": {},
          "execution_count": 50
        }
      ]
    },
    {
      "cell_type": "code",
      "source": [
        "sns.boxplot(df.Aspartate_Aminotransferase)"
      ],
      "metadata": {
        "colab": {
          "base_uri": "https://localhost:8080/",
          "height": 298
        },
        "id": "YZZ8IQzDl7Fg",
        "outputId": "2f7820ea-cb01-4415-8a30-a0779985b7b3"
      },
      "execution_count": null,
      "outputs": [
        {
          "output_type": "execute_result",
          "data": {
            "text/plain": [
              "<matplotlib.axes._subplots.AxesSubplot at 0x7f46eaa4f250>"
            ]
          },
          "metadata": {},
          "execution_count": 51
        },
        {
          "output_type": "display_data",
          "data": {
            "text/plain": [
              "<Figure size 432x288 with 1 Axes>"
            ],
            "image/png": "[encoded data removed]"
          },
          "metadata": {}
        }
      ]
    },
    {
      "cell_type": "code",
      "source": [
        "df.Aspartate_Aminotransferase.sort_values(ascending=False).head()"
      ],
      "metadata": {
        "colab": {
          "base_uri": "https://localhost:8080/"
        },
        "id": "b7SxRH_Tl-sZ",
        "outputId": "b6cf98a2-2419-48b4-b135-a557c0be8e79"
      },
      "execution_count": null,
      "outputs": [
        {
          "output_type": "execute_result",
          "data": {
            "text/plain": [
              "117    2946\n",
              "118    1600\n",
              "207    1500\n",
              "119    1050\n",
              "199    1050\n",
              "Name: Aspartate_Aminotransferase, dtype: int64"
            ]
          },
          "metadata": {},
          "execution_count": 52
        }
      ]
    },
    {
      "cell_type": "code",
      "source": [
        "df = df[df.Aspartate_Aminotransferase <=2500 ]\n",
        "df.shape"
      ],
      "metadata": {
        "colab": {
          "base_uri": "https://localhost:8080/"
        },
        "id": "0t3Fo5GFmBEX",
        "outputId": "0596acd8-1cf7-4e69-979c-1b6ae469644a"
      },
      "execution_count": null,
      "outputs": [
        {
          "output_type": "execute_result",
          "data": {
            "text/plain": [
              "(568, 11)"
            ]
          },
          "metadata": {},
          "execution_count": 53
        }
      ]
    },
    {
      "cell_type": "code",
      "source": [
        "df.isnull().values.any()"
      ],
      "metadata": {
        "colab": {
          "base_uri": "https://localhost:8080/"
        },
        "id": "GeMTeLtlmDDS",
        "outputId": "dc0f3d06-a3ea-4d5f-ab4c-637429073b11"
      },
      "execution_count": null,
      "outputs": [
        {
          "output_type": "execute_result",
          "data": {
            "text/plain": [
              "True"
            ]
          },
          "metadata": {},
          "execution_count": 54
        }
      ]
    },
    {
      "cell_type": "code",
      "source": [
        "df=df.dropna(how='any')"
      ],
      "metadata": {
        "id": "oYJoGADEmEq8"
      },
      "execution_count": null,
      "outputs": []
    },
    {
      "cell_type": "code",
      "source": [
        "df.shape"
      ],
      "metadata": {
        "colab": {
          "base_uri": "https://localhost:8080/"
        },
        "id": "PAj5vfy9mGj5",
        "outputId": "0ffc1ba1-0709-42ff-a08c-772bd278b4ff"
      },
      "execution_count": null,
      "outputs": [
        {
          "output_type": "execute_result",
          "data": {
            "text/plain": [
              "(564, 11)"
            ]
          },
          "metadata": {},
          "execution_count": 56
        }
      ]
    },
    {
      "cell_type": "code",
      "source": [
        "df.head()"
      ],
      "metadata": {
        "colab": {
          "base_uri": "https://localhost:8080/",
          "height": 270
        },
        "id": "-WB9pUPumIjt",
        "outputId": "7f32926d-8082-4f31-f6de-1bff8835a8de"
      },
      "execution_count": null,
      "outputs": [
        {
          "output_type": "execute_result",
          "data": {
            "text/plain": [
              "   Age  Gender  Total_Bilirubin  Direct_Bilirubin  Alkaline_Phosphotase  \\\n",
              "0   65       1              0.7               0.1                   187   \n",
              "1   62       0             10.9               5.5                   699   \n",
              "2   62       0              7.3               4.1                   490   \n",
              "3   58       0              1.0               0.4                   182   \n",
              "4   72       0              3.9               2.0                   195   \n",
              "\n",
              "   Alamine_Aminotransferase  Aspartate_Aminotransferase  Total_Protiens  \\\n",
              "0                        16                          18             6.8   \n",
              "1                        64                         100             7.5   \n",
              "2                        60                          68             7.0   \n",
              "3                        14                          20             6.8   \n",
              "4                        27                          59             7.3   \n",
              "\n",
              "   Albumin  Albumin_and_Globulin_Ratio  Dataset  \n",
              "0      3.3                        0.90        1  \n",
              "1      3.2                        0.74        1  \n",
              "2      3.3                        0.89        1  \n",
              "3      3.4                        1.00        1  \n",
              "4      2.4                        0.40        1  "
            ],
            "text/html": [
              "\n",
              "  <div id=\"df-1e5549ba-423f-4c56-85b7-3c31384cddae\">\n",
              "    <div class=\"colab-df-container\">\n",
              "      <div>\n",
              "<style scoped>\n",
              "    .dataframe tbody tr th:only-of-type {\n",
              "        vertical-align: middle;\n",
              "    }\n",
              "\n",
              "    .dataframe tbody tr th {\n",
              "        vertical-align: top;\n",
              "    }\n",
              "\n",
              "    .dataframe thead th {\n",
              "        text-align: right;\n",
              "    }\n",
              "</style>\n",
              "<table border=\"1\" class=\"dataframe\">\n",
              "  <thead>\n",
              "    <tr style=\"text-align: right;\">\n",
              "      <th></th>\n",
              "      <th>Age</th>\n",
              "      <th>Gender</th>\n",
              "      <th>Total_Bilirubin</th>\n",
              "      <th>Direct_Bilirubin</th>\n",
              "      <th>Alkaline_Phosphotase</th>\n",
              "      <th>Alamine_Aminotransferase</th>\n",
              "      <th>Aspartate_Aminotransferase</th>\n",
              "      <th>Total_Protiens</th>\n",
              "      <th>Albumin</th>\n",
              "      <th>Albumin_and_Globulin_Ratio</th>\n",
              "      <th>Dataset</th>\n",
              "    </tr>\n",
              "  </thead>\n",
              "  <tbody>\n",
              "    <tr>\n",
              "      <th>0</th>\n",
              "      <td>65</td>\n",
              "      <td>1</td>\n",
              "      <td>0.7</td>\n",
              "      <td>0.1</td>\n",
              "      <td>187</td>\n",
              "      <td>16</td>\n",
              "      <td>18</td>\n",
              "      <td>6.8</td>\n",
              "      <td>3.3</td>\n",
              "      <td>0.90</td>\n",
              "      <td>1</td>\n",
              "    </tr>\n",
              "    <tr>\n",
              "      <th>1</th>\n",
              "      <td>62</td>\n",
              "      <td>0</td>\n",
              "      <td>10.9</td>\n",
              "      <td>5.5</td>\n",
              "      <td>699</td>\n",
              "      <td>64</td>\n",
              "      <td>100</td>\n",
              "      <td>7.5</td>\n",
              "      <td>3.2</td>\n",
              "      <td>0.74</td>\n",
              "      <td>1</td>\n",
              "    </tr>\n",
              "    <tr>\n",
              "      <th>2</th>\n",
              "      <td>62</td>\n",
              "      <td>0</td>\n",
              "      <td>7.3</td>\n",
              "      <td>4.1</td>\n",
              "      <td>490</td>\n",
              "      <td>60</td>\n",
              "      <td>68</td>\n",
              "      <td>7.0</td>\n",
              "      <td>3.3</td>\n",
              "      <td>0.89</td>\n",
              "      <td>1</td>\n",
              "    </tr>\n",
              "    <tr>\n",
              "      <th>3</th>\n",
              "      <td>58</td>\n",
              "      <td>0</td>\n",
              "      <td>1.0</td>\n",
              "      <td>0.4</td>\n",
              "      <td>182</td>\n",
              "      <td>14</td>\n",
              "      <td>20</td>\n",
              "      <td>6.8</td>\n",
              "      <td>3.4</td>\n",
              "      <td>1.00</td>\n",
              "      <td>1</td>\n",
              "    </tr>\n",
              "    <tr>\n",
              "      <th>4</th>\n",
              "      <td>72</td>\n",
              "      <td>0</td>\n",
              "      <td>3.9</td>\n",
              "      <td>2.0</td>\n",
              "      <td>195</td>\n",
              "      <td>27</td>\n",
              "      <td>59</td>\n",
              "      <td>7.3</td>\n",
              "      <td>2.4</td>\n",
              "      <td>0.40</td>\n",
              "      <td>1</td>\n",
              "    </tr>\n",
              "  </tbody>\n",
              "</table>\n",
              "</div>\n",
              "      <button class=\"colab-df-convert\" onclick=\"convertToInteractive('df-1e5549ba-423f-4c56-85b7-3c31384cddae')\"\n",
              "              title=\"Convert this dataframe to an interactive table.\"\n",
              "              style=\"display:none;\">\n",
              "        \n",
              "  <svg xmlns=\"http://www.w3.org/2000/svg\" height=\"24px\"viewBox=\"0 0 24 24\"\n",
              "       width=\"24px\">\n",
              "    <path d=\"M0 0h24v24H0V0z\" fill=\"none\"/>\n",
              "    <path d=\"M18.56 5.44l.94 2.06.94-2.06 2.06-.94-2.06-.94-.94-2.06-.94 2.06-2.06.94zm-11 1L8.5 8.5l.94-2.06 2.06-.94-2.06-.94L8.5 2.5l-.94 2.06-2.06.94zm10 10l.94 2.06.94-2.06 2.06-.94-2.06-.94-.94-2.06-.94 2.06-2.06.94z\"/><path d=\"M17.41 7.96l-1.37-1.37c-.4-.4-.92-.59-1.43-.59-.52 0-1.04.2-1.43.59L10.3 9.45l-7.72 7.72c-.78.78-.78 2.05 0 2.83L4 21.41c.39.39.9.59 1.41.59.51 0 1.02-.2 1.41-.59l7.78-7.78 2.81-2.81c.8-.78.8-2.07 0-2.86zM5.41 20L4 18.59l7.72-7.72 1.47 1.35L5.41 20z\"/>\n",
              "  </svg>\n",
              "      </button>\n",
              "      \n",
              "  <style>\n",
              "    .colab-df-container {\n",
              "      display:flex;\n",
              "      flex-wrap:wrap;\n",
              "      gap: 12px;\n",
              "    }\n",
              "\n",
              "    .colab-df-convert {\n",
              "      background-color: #E8F0FE;\n",
              "      border: none;\n",
              "      border-radius: 50%;\n",
              "      cursor: pointer;\n",
              "      display: none;\n",
              "      fill: #1967D2;\n",
              "      height: 32px;\n",
              "      padding: 0 0 0 0;\n",
              "      width: 32px;\n",
              "    }\n",
              "\n",
              "    .colab-df-convert:hover {\n",
              "      background-color: #E2EBFA;\n",
              "      box-shadow: 0px 1px 2px rgba(60, 64, 67, 0.3), 0px 1px 3px 1px rgba(60, 64, 67, 0.15);\n",
              "      fill: #174EA6;\n",
              "    }\n",
              "\n",
              "    [theme=dark] .colab-df-convert {\n",
              "      background-color: #3B4455;\n",
              "      fill: #D2E3FC;\n",
              "    }\n",
              "\n",
              "    [theme=dark] .colab-df-convert:hover {\n",
              "      background-color: #434B5C;\n",
              "      box-shadow: 0px 1px 3px 1px rgba(0, 0, 0, 0.15);\n",
              "      filter: drop-shadow(0px 1px 2px rgba(0, 0, 0, 0.3));\n",
              "      fill: #FFFFFF;\n",
              "    }\n",
              "  </style>\n",
              "\n",
              "      <script>\n",
              "        const buttonEl =\n",
              "          document.querySelector('#df-1e5549ba-423f-4c56-85b7-3c31384cddae button.colab-df-convert');\n",
              "        buttonEl.style.display =\n",
              "          google.colab.kernel.accessAllowed ? 'block' : 'none';\n",
              "\n",
              "        async function convertToInteractive(key) {\n",
              "          const element = document.querySelector('#df-1e5549ba-423f-4c56-85b7-3c31384cddae');\n",
              "          const dataTable =\n",
              "            await google.colab.kernel.invokeFunction('convertToInteractive',\n",
              "                                                     [key], {});\n",
              "          if (!dataTable) return;\n",
              "\n",
              "          const docLinkHtml = 'Like what you see? Visit the ' +\n",
              "            '<a target=\"_blank\" href=https://colab.research.google.com/notebooks/data_table.ipynb>data table notebook</a>'\n",
              "            + ' to learn more about interactive tables.';\n",
              "          element.innerHTML = '';\n",
              "          dataTable['output_type'] = 'display_data';\n",
              "          await google.colab.output.renderOutput(dataTable, element);\n",
              "          const docLink = document.createElement('div');\n",
              "          docLink.innerHTML = docLinkHtml;\n",
              "          element.appendChild(docLink);\n",
              "        }\n",
              "      </script>\n",
              "    </div>\n",
              "  </div>\n",
              "  "
            ]
          },
          "metadata": {},
          "execution_count": 57
        }
      ]
    },
    {
      "cell_type": "code",
      "source": [
        "# Create separate object for target variable\n",
        "y = df.Dataset"
      ],
      "metadata": {
        "id": "N8fHP5jGmLKD"
      },
      "execution_count": null,
      "outputs": []
    },
    {
      "cell_type": "code",
      "source": [
        "# Create separate object for input features\n",
        "X = df.drop('Dataset', axis=1)"
      ],
      "metadata": {
        "id": "8oGB0gfCmNcP"
      },
      "execution_count": null,
      "outputs": []
    },
    {
      "cell_type": "code",
      "source": [
        "# Split X and y into train and test sets\n",
        "X_train, X_test, y_train, y_test = train_test_split(X, y, \n",
        "                                                    test_size=0.2, \n",
        "                                                    random_state=1234,\n",
        "                                                    stratify=df.Dataset)"
      ],
      "metadata": {
        "id": "Qpt7MchJmRgD"
      },
      "execution_count": null,
      "outputs": []
    },
    {
      "cell_type": "code",
      "source": [
        "# Print number of observations in X_train, X_test, y_train, and y_test\n",
        "print(X_train.shape, X_test.shape, y_train.shape, y_test.shape)"
      ],
      "metadata": {
        "colab": {
          "base_uri": "https://localhost:8080/"
        },
        "id": "JniUr43xmTNx",
        "outputId": "4473be02-8474-4de1-fbea-dd46cb52863b"
      },
      "execution_count": null,
      "outputs": [
        {
          "output_type": "stream",
          "name": "stdout",
          "text": [
            "(451, 10) (113, 10) (451,) (113,)\n"
          ]
        }
      ]
    },
    {
      "cell_type": "code",
      "source": [
        "train_mean = X_train.mean()\n",
        "train_std = X_train.std()"
      ],
      "metadata": {
        "id": "2cHKozUTmYWC"
      },
      "execution_count": null,
      "outputs": []
    },
    {
      "cell_type": "code",
      "source": [
        "## Standardize the train data set\n",
        "X_train = (X_train - train_mean) / train_std"
      ],
      "metadata": {
        "id": "oGQ4Vc1fmaVJ"
      },
      "execution_count": null,
      "outputs": []
    },
    {
      "cell_type": "code",
      "source": [
        "## Check for mean and std dev.\n",
        "X_train.describe()"
      ],
      "metadata": {
        "colab": {
          "base_uri": "https://localhost:8080/",
          "height": 364
        },
        "id": "uZenr6KUmcTT",
        "outputId": "5509c5d3-b679-4fd8-8aa7-f690b56f4ffd"
      },
      "execution_count": null,
      "outputs": [
        {
          "output_type": "execute_result",
          "data": {
            "text/plain": [
              "                Age        Gender  Total_Bilirubin  Direct_Bilirubin  \\\n",
              "count  4.510000e+02  4.510000e+02     4.510000e+02      4.510000e+02   \n",
              "mean   1.378547e-16 -8.271285e-17    -3.938707e-18      1.772418e-17   \n",
              "std    1.000000e+00  1.000000e+00     1.000000e+00      1.000000e+00   \n",
              "min   -2.459710e+00 -5.980292e-01    -4.613674e-01     -5.013974e-01   \n",
              "25%   -7.595886e-01 -5.980292e-01    -3.996190e-01     -4.658144e-01   \n",
              "50%    2.975347e-02 -5.980292e-01    -3.687448e-01     -4.302314e-01   \n",
              "75%    7.583769e-01  1.668451e+00    -1.063141e-01     -7.440091e-02   \n",
              "max    2.762091e+00  1.668451e+00     1.105471e+01      6.472879e+00   \n",
              "\n",
              "       Alkaline_Phosphotase  Alamine_Aminotransferase  \\\n",
              "count          4.510000e+02              4.510000e+02   \n",
              "mean           6.301931e-17             -7.877414e-18   \n",
              "std            1.000000e+00              1.000000e+00   \n",
              "min           -9.009611e-01             -3.943772e-01   \n",
              "25%           -4.636908e-01             -3.157860e-01   \n",
              "50%           -3.270438e-01             -2.432402e-01   \n",
              "75%            2.042996e-02             -9.814860e-02   \n",
              "max            7.090935e+00              9.701578e+00   \n",
              "\n",
              "       Aspartate_Aminotransferase  Total_Protiens       Albumin  \\\n",
              "count                4.510000e+02    4.510000e+02  4.510000e+02   \n",
              "mean                -2.363224e-17    1.486862e-15  1.417935e-16   \n",
              "std                  1.000000e+00    1.000000e+00  1.000000e+00   \n",
              "min                 -4.865614e-01   -3.476087e+00 -2.818030e+00   \n",
              "25%                 -4.017376e-01   -6.503894e-01 -7.121980e-01   \n",
              "50%                 -3.056039e-01    7.882282e-02  3.103678e-02   \n",
              "75%                 -7.092474e-02    6.257320e-01  8.362078e-01   \n",
              "max                  8.504762e+00    2.813368e+00  2.880103e+00   \n",
              "\n",
              "       Albumin_and_Globulin_Ratio  \n",
              "count                4.510000e+02  \n",
              "mean                -3.150966e-17  \n",
              "std                  1.000000e+00  \n",
              "min                 -2.023543e+00  \n",
              "25%                 -6.338007e-01  \n",
              "50%                  1.145223e-01  \n",
              "75%                  4.199603e-01  \n",
              "max                  5.612406e+00  "
            ],
            "text/html": [
              "\n",
              "  <div id=\"df-cfad6674-d9d7-4dff-bb25-2d4c10bb77d2\">\n",
              "    <div class=\"colab-df-container\">\n",
              "      <div>\n",
              "<style scoped>\n",
              "    .dataframe tbody tr th:only-of-type {\n",
              "        vertical-align: middle;\n",
              "    }\n",
              "\n",
              "    .dataframe tbody tr th {\n",
              "        vertical-align: top;\n",
              "    }\n",
              "\n",
              "    .dataframe thead th {\n",
              "        text-align: right;\n",
              "    }\n",
              "</style>\n",
              "<table border=\"1\" class=\"dataframe\">\n",
              "  <thead>\n",
              "    <tr style=\"text-align: right;\">\n",
              "      <th></th>\n",
              "      <th>Age</th>\n",
              "      <th>Gender</th>\n",
              "      <th>Total_Bilirubin</th>\n",
              "      <th>Direct_Bilirubin</th>\n",
              "      <th>Alkaline_Phosphotase</th>\n",
              "      <th>Alamine_Aminotransferase</th>\n",
              "      <th>Aspartate_Aminotransferase</th>\n",
              "      <th>Total_Protiens</th>\n",
              "      <th>Albumin</th>\n",
              "      <th>Albumin_and_Globulin_Ratio</th>\n",
              "    </tr>\n",
              "  </thead>\n",
              "  <tbody>\n",
              "    <tr>\n",
              "      <th>count</th>\n",
              "      <td>4.510000e+02</td>\n",
              "      <td>4.510000e+02</td>\n",
              "      <td>4.510000e+02</td>\n",
              "      <td>4.510000e+02</td>\n",
              "      <td>4.510000e+02</td>\n",
              "      <td>4.510000e+02</td>\n",
              "      <td>4.510000e+02</td>\n",
              "      <td>4.510000e+02</td>\n",
              "      <td>4.510000e+02</td>\n",
              "      <td>4.510000e+02</td>\n",
              "    </tr>\n",
              "    <tr>\n",
              "      <th>mean</th>\n",
              "      <td>1.378547e-16</td>\n",
              "      <td>-8.271285e-17</td>\n",
              "      <td>-3.938707e-18</td>\n",
              "      <td>1.772418e-17</td>\n",
              "      <td>6.301931e-17</td>\n",
              "      <td>-7.877414e-18</td>\n",
              "      <td>-2.363224e-17</td>\n",
              "      <td>1.486862e-15</td>\n",
              "      <td>1.417935e-16</td>\n",
              "      <td>-3.150966e-17</td>\n",
              "    </tr>\n",
              "    <tr>\n",
              "      <th>std</th>\n",
              "      <td>1.000000e+00</td>\n",
              "      <td>1.000000e+00</td>\n",
              "      <td>1.000000e+00</td>\n",
              "      <td>1.000000e+00</td>\n",
              "      <td>1.000000e+00</td>\n",
              "      <td>1.000000e+00</td>\n",
              "      <td>1.000000e+00</td>\n",
              "      <td>1.000000e+00</td>\n",
              "      <td>1.000000e+00</td>\n",
              "      <td>1.000000e+00</td>\n",
              "    </tr>\n",
              "    <tr>\n",
              "      <th>min</th>\n",
              "      <td>-2.459710e+00</td>\n",
              "      <td>-5.980292e-01</td>\n",
              "      <td>-4.613674e-01</td>\n",
              "      <td>-5.013974e-01</td>\n",
              "      <td>-9.009611e-01</td>\n",
              "      <td>-3.943772e-01</td>\n",
              "      <td>-4.865614e-01</td>\n",
              "      <td>-3.476087e+00</td>\n",
              "      <td>-2.818030e+00</td>\n",
              "      <td>-2.023543e+00</td>\n",
              "    </tr>\n",
              "    <tr>\n",
              "      <th>25%</th>\n",
              "      <td>-7.595886e-01</td>\n",
              "      <td>-5.980292e-01</td>\n",
              "      <td>-3.996190e-01</td>\n",
              "      <td>-4.658144e-01</td>\n",
              "      <td>-4.636908e-01</td>\n",
              "      <td>-3.157860e-01</td>\n",
              "      <td>-4.017376e-01</td>\n",
              "      <td>-6.503894e-01</td>\n",
              "      <td>-7.121980e-01</td>\n",
              "      <td>-6.338007e-01</td>\n",
              "    </tr>\n",
              "    <tr>\n",
              "      <th>50%</th>\n",
              "      <td>2.975347e-02</td>\n",
              "      <td>-5.980292e-01</td>\n",
              "      <td>-3.687448e-01</td>\n",
              "      <td>-4.302314e-01</td>\n",
              "      <td>-3.270438e-01</td>\n",
              "      <td>-2.432402e-01</td>\n",
              "      <td>-3.056039e-01</td>\n",
              "      <td>7.882282e-02</td>\n",
              "      <td>3.103678e-02</td>\n",
              "      <td>1.145223e-01</td>\n",
              "    </tr>\n",
              "    <tr>\n",
              "      <th>75%</th>\n",
              "      <td>7.583769e-01</td>\n",
              "      <td>1.668451e+00</td>\n",
              "      <td>-1.063141e-01</td>\n",
              "      <td>-7.440091e-02</td>\n",
              "      <td>2.042996e-02</td>\n",
              "      <td>-9.814860e-02</td>\n",
              "      <td>-7.092474e-02</td>\n",
              "      <td>6.257320e-01</td>\n",
              "      <td>8.362078e-01</td>\n",
              "      <td>4.199603e-01</td>\n",
              "    </tr>\n",
              "    <tr>\n",
              "      <th>max</th>\n",
              "      <td>2.762091e+00</td>\n",
              "      <td>1.668451e+00</td>\n",
              "      <td>1.105471e+01</td>\n",
              "      <td>6.472879e+00</td>\n",
              "      <td>7.090935e+00</td>\n",
              "      <td>9.701578e+00</td>\n",
              "      <td>8.504762e+00</td>\n",
              "      <td>2.813368e+00</td>\n",
              "      <td>2.880103e+00</td>\n",
              "      <td>5.612406e+00</td>\n",
              "    </tr>\n",
              "  </tbody>\n",
              "</table>\n",
              "</div>\n",
              "      <button class=\"colab-df-convert\" onclick=\"convertToInteractive('df-cfad6674-d9d7-4dff-bb25-2d4c10bb77d2')\"\n",
              "              title=\"Convert this dataframe to an interactive table.\"\n",
              "              style=\"display:none;\">\n",
              "        \n",
              "  <svg xmlns=\"http://www.w3.org/2000/svg\" height=\"24px\"viewBox=\"0 0 24 24\"\n",
              "       width=\"24px\">\n",
              "    <path d=\"M0 0h24v24H0V0z\" fill=\"none\"/>\n",
              "    <path d=\"M18.56 5.44l.94 2.06.94-2.06 2.06-.94-2.06-.94-.94-2.06-.94 2.06-2.06.94zm-11 1L8.5 8.5l.94-2.06 2.06-.94-2.06-.94L8.5 2.5l-.94 2.06-2.06.94zm10 10l.94 2.06.94-2.06 2.06-.94-2.06-.94-.94-2.06-.94 2.06-2.06.94z\"/><path d=\"M17.41 7.96l-1.37-1.37c-.4-.4-.92-.59-1.43-.59-.52 0-1.04.2-1.43.59L10.3 9.45l-7.72 7.72c-.78.78-.78 2.05 0 2.83L4 21.41c.39.39.9.59 1.41.59.51 0 1.02-.2 1.41-.59l7.78-7.78 2.81-2.81c.8-.78.8-2.07 0-2.86zM5.41 20L4 18.59l7.72-7.72 1.47 1.35L5.41 20z\"/>\n",
              "  </svg>\n",
              "      </button>\n",
              "      \n",
              "  <style>\n",
              "    .colab-df-container {\n",
              "      display:flex;\n",
              "      flex-wrap:wrap;\n",
              "      gap: 12px;\n",
              "    }\n",
              "\n",
              "    .colab-df-convert {\n",
              "      background-color: #E8F0FE;\n",
              "      border: none;\n",
              "      border-radius: 50%;\n",
              "      cursor: pointer;\n",
              "      display: none;\n",
              "      fill: #1967D2;\n",
              "      height: 32px;\n",
              "      padding: 0 0 0 0;\n",
              "      width: 32px;\n",
              "    }\n",
              "\n",
              "    .colab-df-convert:hover {\n",
              "      background-color: #E2EBFA;\n",
              "      box-shadow: 0px 1px 2px rgba(60, 64, 67, 0.3), 0px 1px 3px 1px rgba(60, 64, 67, 0.15);\n",
              "      fill: #174EA6;\n",
              "    }\n",
              "\n",
              "    [theme=dark] .colab-df-convert {\n",
              "      background-color: #3B4455;\n",
              "      fill: #D2E3FC;\n",
              "    }\n",
              "\n",
              "    [theme=dark] .colab-df-convert:hover {\n",
              "      background-color: #434B5C;\n",
              "      box-shadow: 0px 1px 3px 1px rgba(0, 0, 0, 0.15);\n",
              "      filter: drop-shadow(0px 1px 2px rgba(0, 0, 0, 0.3));\n",
              "      fill: #FFFFFF;\n",
              "    }\n",
              "  </style>\n",
              "\n",
              "      <script>\n",
              "        const buttonEl =\n",
              "          document.querySelector('#df-cfad6674-d9d7-4dff-bb25-2d4c10bb77d2 button.colab-df-convert');\n",
              "        buttonEl.style.display =\n",
              "          google.colab.kernel.accessAllowed ? 'block' : 'none';\n",
              "\n",
              "        async function convertToInteractive(key) {\n",
              "          const element = document.querySelector('#df-cfad6674-d9d7-4dff-bb25-2d4c10bb77d2');\n",
              "          const dataTable =\n",
              "            await google.colab.kernel.invokeFunction('convertToInteractive',\n",
              "                                                     [key], {});\n",
              "          if (!dataTable) return;\n",
              "\n",
              "          const docLinkHtml = 'Like what you see? Visit the ' +\n",
              "            '<a target=\"_blank\" href=https://colab.research.google.com/notebooks/data_table.ipynb>data table notebook</a>'\n",
              "            + ' to learn more about interactive tables.';\n",
              "          element.innerHTML = '';\n",
              "          dataTable['output_type'] = 'display_data';\n",
              "          await google.colab.output.renderOutput(dataTable, element);\n",
              "          const docLink = document.createElement('div');\n",
              "          docLink.innerHTML = docLinkHtml;\n",
              "          element.appendChild(docLink);\n",
              "        }\n",
              "      </script>\n",
              "    </div>\n",
              "  </div>\n",
              "  "
            ]
          },
          "metadata": {},
          "execution_count": 64
        }
      ]
    },
    {
      "cell_type": "code",
      "source": [
        "## Note: We use train_mean and train_std_dev to standardize test data set\n",
        "X_test = (X_test - train_mean) / train_std"
      ],
      "metadata": {
        "id": "e22UcvNimeYc"
      },
      "execution_count": null,
      "outputs": []
    },
    {
      "cell_type": "code",
      "source": [
        "## Check for mean and std dev. - not exactly 0 and 1\n",
        "X_test.describe()"
      ],
      "metadata": {
        "colab": {
          "base_uri": "https://localhost:8080/",
          "height": 364
        },
        "id": "5JaTBRKOmgNS",
        "outputId": "589bf8f6-3845-4c94-aa05-e0cd97c48425"
      },
      "execution_count": null,
      "outputs": [
        {
          "output_type": "execute_result",
          "data": {
            "text/plain": [
              "              Age      Gender  Total_Bilirubin  Direct_Bilirubin  \\\n",
              "count  113.000000  113.000000       113.000000        113.000000   \n",
              "mean     0.109816   -0.216940        -0.062052         -0.033465   \n",
              "std      0.937258    0.851421         0.835512          1.046110   \n",
              "min     -2.338273   -0.598029        -0.445930         -0.501397   \n",
              "25%     -0.577433   -0.598029        -0.399619         -0.465814   \n",
              "50%      0.090472   -0.598029        -0.384182         -0.430231   \n",
              "75%      0.940533   -0.598029        -0.198937         -0.181150   \n",
              "max      1.851312    1.668451         4.231512          5.974717   \n",
              "\n",
              "       Alkaline_Phosphotase  Alamine_Aminotransferase  \\\n",
              "count            113.000000                113.000000   \n",
              "mean              -0.048222                 -0.017203   \n",
              "std                0.734043                  0.661163   \n",
              "min               -0.768218                 -0.394377   \n",
              "25%               -0.444170                 -0.321831   \n",
              "50%               -0.342661                 -0.261377   \n",
              "75%               -0.018612                 -0.007466   \n",
              "max                3.147694                  4.834965   \n",
              "\n",
              "       Aspartate_Aminotransferase  Total_Protiens     Albumin  \\\n",
              "count                  113.000000      113.000000  113.000000   \n",
              "mean                     0.007819       -0.082507   -0.175052   \n",
              "std                      0.874507        0.962887    0.922474   \n",
              "min                     -0.469597       -2.655723   -2.198667   \n",
              "25%                     -0.401738       -0.741541   -0.836070   \n",
              "50%                     -0.316914       -0.012329   -0.216708   \n",
              "75%                     -0.034168        0.625732    0.526527   \n",
              "max                      4.263572        2.175308    2.136869   \n",
              "\n",
              "       Albumin_and_Globulin_Ratio  \n",
              "count                  113.000000  \n",
              "mean                    -0.218486  \n",
              "std                      0.851370  \n",
              "min                     -1.718105  \n",
              "25%                     -0.801792  \n",
              "50%                     -0.190916  \n",
              "75%                      0.114522  \n",
              "max                      2.558026  "
            ],
            "text/html": [
              "\n",
              "  <div id=\"df-409e3844-62c7-4cd9-a4a0-4d4df7a00bcc\">\n",
              "    <div class=\"colab-df-container\">\n",
              "      <div>\n",
              "<style scoped>\n",
              "    .dataframe tbody tr th:only-of-type {\n",
              "        vertical-align: middle;\n",
              "    }\n",
              "\n",
              "    .dataframe tbody tr th {\n",
              "        vertical-align: top;\n",
              "    }\n",
              "\n",
              "    .dataframe thead th {\n",
              "        text-align: right;\n",
              "    }\n",
              "</style>\n",
              "<table border=\"1\" class=\"dataframe\">\n",
              "  <thead>\n",
              "    <tr style=\"text-align: right;\">\n",
              "      <th></th>\n",
              "      <th>Age</th>\n",
              "      <th>Gender</th>\n",
              "      <th>Total_Bilirubin</th>\n",
              "      <th>Direct_Bilirubin</th>\n",
              "      <th>Alkaline_Phosphotase</th>\n",
              "      <th>Alamine_Aminotransferase</th>\n",
              "      <th>Aspartate_Aminotransferase</th>\n",
              "      <th>Total_Protiens</th>\n",
              "      <th>Albumin</th>\n",
              "      <th>Albumin_and_Globulin_Ratio</th>\n",
              "    </tr>\n",
              "  </thead>\n",
              "  <tbody>\n",
              "    <tr>\n",
              "      <th>count</th>\n",
              "      <td>113.000000</td>\n",
              "      <td>113.000000</td>\n",
              "      <td>113.000000</td>\n",
              "      <td>113.000000</td>\n",
              "      <td>113.000000</td>\n",
              "      <td>113.000000</td>\n",
              "      <td>113.000000</td>\n",
              "      <td>113.000000</td>\n",
              "      <td>113.000000</td>\n",
              "      <td>113.000000</td>\n",
              "    </tr>\n",
              "    <tr>\n",
              "      <th>mean</th>\n",
              "      <td>0.109816</td>\n",
              "      <td>-0.216940</td>\n",
              "      <td>-0.062052</td>\n",
              "      <td>-0.033465</td>\n",
              "      <td>-0.048222</td>\n",
              "      <td>-0.017203</td>\n",
              "      <td>0.007819</td>\n",
              "      <td>-0.082507</td>\n",
              "      <td>-0.175052</td>\n",
              "      <td>-0.218486</td>\n",
              "    </tr>\n",
              "    <tr>\n",
              "      <th>std</th>\n",
              "      <td>0.937258</td>\n",
              "      <td>0.851421</td>\n",
              "      <td>0.835512</td>\n",
              "      <td>1.046110</td>\n",
              "      <td>0.734043</td>\n",
              "      <td>0.661163</td>\n",
              "      <td>0.874507</td>\n",
              "      <td>0.962887</td>\n",
              "      <td>0.922474</td>\n",
              "      <td>0.851370</td>\n",
              "    </tr>\n",
              "    <tr>\n",
              "      <th>min</th>\n",
              "      <td>-2.338273</td>\n",
              "      <td>-0.598029</td>\n",
              "      <td>-0.445930</td>\n",
              "      <td>-0.501397</td>\n",
              "      <td>-0.768218</td>\n",
              "      <td>-0.394377</td>\n",
              "      <td>-0.469597</td>\n",
              "      <td>-2.655723</td>\n",
              "      <td>-2.198667</td>\n",
              "      <td>-1.718105</td>\n",
              "    </tr>\n",
              "    <tr>\n",
              "      <th>25%</th>\n",
              "      <td>-0.577433</td>\n",
              "      <td>-0.598029</td>\n",
              "      <td>-0.399619</td>\n",
              "      <td>-0.465814</td>\n",
              "      <td>-0.444170</td>\n",
              "      <td>-0.321831</td>\n",
              "      <td>-0.401738</td>\n",
              "      <td>-0.741541</td>\n",
              "      <td>-0.836070</td>\n",
              "      <td>-0.801792</td>\n",
              "    </tr>\n",
              "    <tr>\n",
              "      <th>50%</th>\n",
              "      <td>0.090472</td>\n",
              "      <td>-0.598029</td>\n",
              "      <td>-0.384182</td>\n",
              "      <td>-0.430231</td>\n",
              "      <td>-0.342661</td>\n",
              "      <td>-0.261377</td>\n",
              "      <td>-0.316914</td>\n",
              "      <td>-0.012329</td>\n",
              "      <td>-0.216708</td>\n",
              "      <td>-0.190916</td>\n",
              "    </tr>\n",
              "    <tr>\n",
              "      <th>75%</th>\n",
              "      <td>0.940533</td>\n",
              "      <td>-0.598029</td>\n",
              "      <td>-0.198937</td>\n",
              "      <td>-0.181150</td>\n",
              "      <td>-0.018612</td>\n",
              "      <td>-0.007466</td>\n",
              "      <td>-0.034168</td>\n",
              "      <td>0.625732</td>\n",
              "      <td>0.526527</td>\n",
              "      <td>0.114522</td>\n",
              "    </tr>\n",
              "    <tr>\n",
              "      <th>max</th>\n",
              "      <td>1.851312</td>\n",
              "      <td>1.668451</td>\n",
              "      <td>4.231512</td>\n",
              "      <td>5.974717</td>\n",
              "      <td>3.147694</td>\n",
              "      <td>4.834965</td>\n",
              "      <td>4.263572</td>\n",
              "      <td>2.175308</td>\n",
              "      <td>2.136869</td>\n",
              "      <td>2.558026</td>\n",
              "    </tr>\n",
              "  </tbody>\n",
              "</table>\n",
              "</div>\n",
              "      <button class=\"colab-df-convert\" onclick=\"convertToInteractive('df-409e3844-62c7-4cd9-a4a0-4d4df7a00bcc')\"\n",
              "              title=\"Convert this dataframe to an interactive table.\"\n",
              "              style=\"display:none;\">\n",
              "        \n",
              "  <svg xmlns=\"http://www.w3.org/2000/svg\" height=\"24px\"viewBox=\"0 0 24 24\"\n",
              "       width=\"24px\">\n",
              "    <path d=\"M0 0h24v24H0V0z\" fill=\"none\"/>\n",
              "    <path d=\"M18.56 5.44l.94 2.06.94-2.06 2.06-.94-2.06-.94-.94-2.06-.94 2.06-2.06.94zm-11 1L8.5 8.5l.94-2.06 2.06-.94-2.06-.94L8.5 2.5l-.94 2.06-2.06.94zm10 10l.94 2.06.94-2.06 2.06-.94-2.06-.94-.94-2.06-.94 2.06-2.06.94z\"/><path d=\"M17.41 7.96l-1.37-1.37c-.4-.4-.92-.59-1.43-.59-.52 0-1.04.2-1.43.59L10.3 9.45l-7.72 7.72c-.78.78-.78 2.05 0 2.83L4 21.41c.39.39.9.59 1.41.59.51 0 1.02-.2 1.41-.59l7.78-7.78 2.81-2.81c.8-.78.8-2.07 0-2.86zM5.41 20L4 18.59l7.72-7.72 1.47 1.35L5.41 20z\"/>\n",
              "  </svg>\n",
              "      </button>\n",
              "      \n",
              "  <style>\n",
              "    .colab-df-container {\n",
              "      display:flex;\n",
              "      flex-wrap:wrap;\n",
              "      gap: 12px;\n",
              "    }\n",
              "\n",
              "    .colab-df-convert {\n",
              "      background-color: #E8F0FE;\n",
              "      border: none;\n",
              "      border-radius: 50%;\n",
              "      cursor: pointer;\n",
              "      display: none;\n",
              "      fill: #1967D2;\n",
              "      height: 32px;\n",
              "      padding: 0 0 0 0;\n",
              "      width: 32px;\n",
              "    }\n",
              "\n",
              "    .colab-df-convert:hover {\n",
              "      background-color: #E2EBFA;\n",
              "      box-shadow: 0px 1px 2px rgba(60, 64, 67, 0.3), 0px 1px 3px 1px rgba(60, 64, 67, 0.15);\n",
              "      fill: #174EA6;\n",
              "    }\n",
              "\n",
              "    [theme=dark] .colab-df-convert {\n",
              "      background-color: #3B4455;\n",
              "      fill: #D2E3FC;\n",
              "    }\n",
              "\n",
              "    [theme=dark] .colab-df-convert:hover {\n",
              "      background-color: #434B5C;\n",
              "      box-shadow: 0px 1px 3px 1px rgba(0, 0, 0, 0.15);\n",
              "      filter: drop-shadow(0px 1px 2px rgba(0, 0, 0, 0.3));\n",
              "      fill: #FFFFFF;\n",
              "    }\n",
              "  </style>\n",
              "\n",
              "      <script>\n",
              "        const buttonEl =\n",
              "          document.querySelector('#df-409e3844-62c7-4cd9-a4a0-4d4df7a00bcc button.colab-df-convert');\n",
              "        buttonEl.style.display =\n",
              "          google.colab.kernel.accessAllowed ? 'block' : 'none';\n",
              "\n",
              "        async function convertToInteractive(key) {\n",
              "          const element = document.querySelector('#df-409e3844-62c7-4cd9-a4a0-4d4df7a00bcc');\n",
              "          const dataTable =\n",
              "            await google.colab.kernel.invokeFunction('convertToInteractive',\n",
              "                                                     [key], {});\n",
              "          if (!dataTable) return;\n",
              "\n",
              "          const docLinkHtml = 'Like what you see? Visit the ' +\n",
              "            '<a target=\"_blank\" href=https://colab.research.google.com/notebooks/data_table.ipynb>data table notebook</a>'\n",
              "            + ' to learn more about interactive tables.';\n",
              "          element.innerHTML = '';\n",
              "          dataTable['output_type'] = 'display_data';\n",
              "          await google.colab.output.renderOutput(dataTable, element);\n",
              "          const docLink = document.createElement('div');\n",
              "          docLink.innerHTML = docLinkHtml;\n",
              "          element.appendChild(docLink);\n",
              "        }\n",
              "      </script>\n",
              "    </div>\n",
              "  </div>\n",
              "  "
            ]
          },
          "metadata": {},
          "execution_count": 66
        }
      ]
    },
    {
      "cell_type": "markdown",
      "source": [
        "MODEL-1: LOGISTIC REGRESSION"
      ],
      "metadata": {
        "id": "O-JSVi803Qk8"
      }
    },
    {
      "cell_type": "code",
      "source": [
        "tuned_params = {'C': [0.0001, 0.001, 0.01, 0.1, 1, 10, 100, 1000, 10000], 'penalty': ['l1', 'l2']}\n",
        "model = GridSearchCV(LogisticRegression(), tuned_params, scoring = 'roc_auc', n_jobs=-1)\n",
        "model.fit(X_train, y_train)"
      ],
      "metadata": {
        "colab": {
          "base_uri": "https://localhost:8080/"
        },
        "id": "4I6RZxUjmiQq",
        "outputId": "89dc52e7-c8eb-4fa4-c2a8-7e27c4b97d05"
      },
      "execution_count": null,
      "outputs": [
        {
          "output_type": "execute_result",
          "data": {
            "text/plain": [
              "GridSearchCV(estimator=LogisticRegression(), n_jobs=-1,\n",
              "             param_grid={'C': [0.0001, 0.001, 0.01, 0.1, 1, 10, 100, 1000,\n",
              "                               10000],\n",
              "                         'penalty': ['l1', 'l2']},\n",
              "             scoring='roc_auc')"
            ]
          },
          "metadata": {},
          "execution_count": 68
        }
      ]
    },
    {
      "cell_type": "code",
      "source": [
        "model.best_estimator_"
      ],
      "metadata": {
        "colab": {
          "base_uri": "https://localhost:8080/"
        },
        "id": "nr0nQB7emlWP",
        "outputId": "71363c55-ba25-4fb0-8681-b9d37e5edfda"
      },
      "execution_count": null,
      "outputs": [
        {
          "output_type": "execute_result",
          "data": {
            "text/plain": [
              "LogisticRegression(C=0.1)"
            ]
          },
          "metadata": {},
          "execution_count": 69
        }
      ]
    },
    {
      "cell_type": "code",
      "source": [
        "## Predict Train set results\n",
        "y_train_pred = model.predict(X_train)"
      ],
      "metadata": {
        "id": "HlzvJd7tmocr"
      },
      "execution_count": null,
      "outputs": []
    },
    {
      "cell_type": "code",
      "source": [
        "## Predict Test set results\n",
        "y_pred = model.predict(X_test)"
      ],
      "metadata": {
        "id": "DF5sF8IlmrcQ"
      },
      "execution_count": null,
      "outputs": []
    },
    {
      "cell_type": "code",
      "source": [
        "# Get just the prediction for the positive class (1)\n",
        "y_pred_proba = model.predict_proba(X_test)[:,1]\n"
      ],
      "metadata": {
        "id": "_bkfcoz8mtfg"
      },
      "execution_count": null,
      "outputs": []
    },
    {
      "cell_type": "code",
      "source": [
        "# Display first 10 predictions\n",
        "y_pred_proba[:10]"
      ],
      "metadata": {
        "colab": {
          "base_uri": "https://localhost:8080/"
        },
        "id": "r2-ykbEAmvo7",
        "outputId": "3d9d5437-5bb5-4bda-9390-c088401de95c"
      },
      "execution_count": null,
      "outputs": [
        {
          "output_type": "execute_result",
          "data": {
            "text/plain": [
              "array([0.62886101, 0.60635075, 0.65628802, 0.69577814, 0.45236153,\n",
              "       0.97879646, 0.56694329, 0.67530199, 0.79401715, 0.50727069])"
            ]
          },
          "metadata": {},
          "execution_count": 72
        }
      ]
    },
    {
      "cell_type": "code",
      "source": [
        "i=28  ## Change the value of i to get the details of any point (56, 213, etc.)\n",
        "print('For test point {}, actual class = {}, precited class = {}, predicted probability = {}'.\n",
        "      format(i, y_test.iloc[i], y_pred[i], y_pred_proba[i]))"
      ],
      "metadata": {
        "colab": {
          "base_uri": "https://localhost:8080/"
        },
        "id": "loA34h85myb-",
        "outputId": "b6c62992-2fb8-4a81-da7c-67a53b0f46c3"
      },
      "execution_count": null,
      "outputs": [
        {
          "output_type": "stream",
          "name": "stdout",
          "text": [
            "For test point 28, actual class = 1, precited class = 1, predicted probability = 0.8175521111565488\n"
          ]
        }
      ]
    },
    {
      "cell_type": "code",
      "source": [
        "confusion_matrix(y_test, y_pred).T"
      ],
      "metadata": {
        "colab": {
          "base_uri": "https://localhost:8080/"
        },
        "id": "cQlmjhN_m0cv",
        "outputId": "a9aecc5f-44f6-4047-eec0-d7dc01eff4cd"
      },
      "execution_count": null,
      "outputs": [
        {
          "output_type": "execute_result",
          "data": {
            "text/plain": [
              "array([[ 1,  4],\n",
              "       [31, 77]])"
            ]
          },
          "metadata": {},
          "execution_count": 74
        }
      ]
    },
    {
      "cell_type": "code",
      "source": [
        "# Calculate ROC curve from y_test and pred\n",
        "fpr, tpr, thresholds = roc_curve(y_test, y_pred_proba)"
      ],
      "metadata": {
        "id": "4W7zTaeJm3Mz"
      },
      "execution_count": null,
      "outputs": []
    },
    {
      "cell_type": "code",
      "source": [
        "# Plot the ROC curve\n",
        "fig = plt.figure(figsize=(8,8))\n",
        "plt.title('Receiver Operating Characteristic')"
      ],
      "metadata": {
        "colab": {
          "base_uri": "https://localhost:8080/",
          "height": 517
        },
        "id": "Z_dqjpdLm5T4",
        "outputId": "45e4250e-b43c-4bd5-e3fb-dd5680617de8"
      },
      "execution_count": null,
      "outputs": [
        {
          "output_type": "execute_result",
          "data": {
            "text/plain": [
              "Text(0.5, 1.0, 'Receiver Operating Characteristic')"
            ]
          },
          "metadata": {},
          "execution_count": 76
        },
        {
          "output_type": "display_data",
          "data": {
            "text/plain": [
              "<Figure size 576x576 with 1 Axes>"
            ],
            "image/png": "[encoded data removed]"
          },
          "metadata": {}
        }
      ]
    },
    {
      "cell_type": "code",
      "source": [
        "# Plot ROC curve\n",
        "plt.plot(fpr, tpr, label='l1')\n",
        "plt.legend(loc='lower right')"
      ],
      "metadata": {
        "colab": {
          "base_uri": "https://localhost:8080/",
          "height": 283
        },
        "id": "i0MveVQJm7Tw",
        "outputId": "7ba7632c-0214-4f10-c4ea-a279bcdd5201"
      },
      "execution_count": null,
      "outputs": [
        {
          "output_type": "execute_result",
          "data": {
            "text/plain": [
              "<matplotlib.legend.Legend at 0x7f46ea11f050>"
            ]
          },
          "metadata": {},
          "execution_count": 77
        },
        {
          "output_type": "display_data",
          "data": {
            "text/plain": [
              "<Figure size 432x288 with 1 Axes>"
            ],
            "image/png": "[encoded data removed]"
          },
          "metadata": {}
        }
      ]
    },
    {
      "cell_type": "code",
      "source": [
        "# Diagonal 45 degree line\n",
        "plt.plot([0,1],[0,1],'k--')"
      ],
      "metadata": {
        "colab": {
          "base_uri": "https://localhost:8080/",
          "height": 283
        },
        "id": "fqWRpz8hm9RE",
        "outputId": "430d80f4-8c4c-4a19-daf8-276192241612"
      },
      "execution_count": null,
      "outputs": [
        {
          "output_type": "execute_result",
          "data": {
            "text/plain": [
              "[<matplotlib.lines.Line2D at 0x7f46edd2d090>]"
            ]
          },
          "metadata": {},
          "execution_count": 78
        },
        {
          "output_type": "display_data",
          "data": {
            "text/plain": [
              "<Figure size 432x288 with 1 Axes>"
            ],
            "image/png": "[encoded data removed]"
          },
          "metadata": {}
        }
      ]
    },
    {
      "cell_type": "code",
      "source": [
        "# Axes limits and labels\n",
        "plt.xlim([-0.1,1.1])\n",
        "plt.ylim([-0.1,1.1])\n",
        "plt.ylabel('True Positive Rate')\n",
        "plt.xlabel('False Positive Rate')\n",
        "plt.show()"
      ],
      "metadata": {
        "colab": {
          "base_uri": "https://localhost:8080/",
          "height": 279
        },
        "id": "DNdq-1_km_y6",
        "outputId": "733b5a3e-fb83-4f8b-9e2a-6ea2444c1348"
      },
      "execution_count": null,
      "outputs": [
        {
          "output_type": "display_data",
          "data": {
            "text/plain": [
              "<Figure size 432x288 with 1 Axes>"
            ],
            "image/png": "[encoded data removed]"
          },
          "metadata": {}
        }
      ]
    },
    {
      "cell_type": "code",
      "source": [
        "# Calculate AUC for Train set\n",
        "print(roc_auc_score(y_train, y_train_pred))"
      ],
      "metadata": {
        "colab": {
          "base_uri": "https://localhost:8080/"
        },
        "id": "P5ho_vF0nBoi",
        "outputId": "99cdbc43-cb19-4869-c739-260970831416"
      },
      "execution_count": null,
      "outputs": [
        {
          "output_type": "stream",
          "name": "stdout",
          "text": [
            "0.5380781212556913\n"
          ]
        }
      ]
    },
    {
      "cell_type": "code",
      "source": [
        "# Calculate AUC for Test set\n",
        "print(auc(fpr, tpr))"
      ],
      "metadata": {
        "colab": {
          "base_uri": "https://localhost:8080/"
        },
        "id": "iQpqX-53nDmX",
        "outputId": "6a507118-2893-4978-ec6c-c0d2f42d1502"
      },
      "execution_count": null,
      "outputs": [
        {
          "output_type": "stream",
          "name": "stdout",
          "text": [
            "0.6940586419753086\n"
          ]
        }
      ]
    },
    {
      "cell_type": "code",
      "source": [
        "## Building the model again with the best hyperparameters\n",
        "model = LogisticRegression(C=1, penalty = 'l2')\n",
        "model.fit(X_train, y_train)"
      ],
      "metadata": {
        "colab": {
          "base_uri": "https://localhost:8080/"
        },
        "id": "mWe-oX4OnFVH",
        "outputId": "992cb33c-3b49-4953-99fd-28794ae005bb"
      },
      "execution_count": null,
      "outputs": [
        {
          "output_type": "execute_result",
          "data": {
            "text/plain": [
              "LogisticRegression(C=1)"
            ]
          },
          "metadata": {},
          "execution_count": 85
        }
      ]
    },
    {
      "cell_type": "code",
      "source": [
        "indices = np.argsort(-abs(model.coef_[0,:]))\n",
        "print(\"The features in order of importance are:\")\n",
        "print(50*'-')\n",
        "for feature in X.columns[indices]:\n",
        "    print(feature)"
      ],
      "metadata": {
        "colab": {
          "base_uri": "https://localhost:8080/"
        },
        "id": "sK_I8JESnHCo",
        "outputId": "02a6a05b-f4c2-454c-ae4d-e8bb555ee1c9"
      },
      "execution_count": null,
      "outputs": [
        {
          "output_type": "stream",
          "name": "stdout",
          "text": [
            "The features in order of importance are:\n",
            "--------------------------------------------------\n",
            "Alamine_Aminotransferase\n",
            "Direct_Bilirubin\n",
            "Aspartate_Aminotransferase\n",
            "Albumin\n",
            "Total_Protiens\n",
            "Total_Bilirubin\n",
            "Alkaline_Phosphotase\n",
            "Age\n",
            "Gender\n",
            "Albumin_and_Globulin_Ratio\n"
          ]
        }
      ]
    },
    {
      "cell_type": "markdown",
      "source": [
        "MODEL-2: \n",
        "GRADIENT BOOSTING"
      ],
      "metadata": {
        "id": "6svNvsc91FTP"
      }
    },
    {
      "cell_type": "code",
      "source": [
        "from sklearn.metrics import accuracy_score\n",
        "from sklearn.model_selection import train_test_split\n",
        "from sklearn.metrics import classification_report,confusion_matrix\n",
        "from sklearn.ensemble import AdaBoostClassifier, BaggingClassifier\n",
        "from sklearn.linear_model import Perceptron\n",
        "from sklearn.linear_model import SGDClassifier\n",
        "from sklearn.neural_network import MLPClassifier"
      ],
      "metadata": {
        "id": "7Byl3hdE1DR4"
      },
      "execution_count": null,
      "outputs": []
    },
    {
      "cell_type": "code",
      "source": [
        "#Import Library\n",
        "from sklearn.ensemble import GradientBoostingClassifier\n",
        "#Assumed you have, X (predictor) and Y (target) for training data set and x_test(predictor) of test_dataset\n",
        "# Create Gradient Boosting Classifier object\n",
        "gbclass = GradientBoostingClassifier(\n",
        "                    random_state = 1000,\n",
        "                    verbose = 0,\n",
        "                    n_estimators = 10,\n",
        "                    learning_rate = 0.9,\n",
        "                    loss = 'deviance',\n",
        "                    max_depth = 3\n",
        "                   )\n",
        "#gbclass = GradientBoostingClassifier(n_estimators=100, learning_rate=1.0, max_depth=1, random_state=0)\n",
        "# Train the model using the training sets and check score\n",
        "gbclass.fit(X_train, y_train)\n",
        "#Predict Output\n",
        "predicted= gbclass.predict(X_test)\n",
        "\n",
        "gbclass_score = round(gbclass.score(X_train, y_train) * 100, 2)\n",
        "gbclass_score_test = round(gbclass.score(X_test, y_test) * 100, 2)\n",
        "print('Score: \\n', gbclass_score)\n",
        "print('Test Score: \\n', gbclass_score_test)\n",
        "print('Accuracy: \\n', accuracy_score(y_test,predicted))\n",
        "print(confusion_matrix(predicted,y_test))\n",
        "print(classification_report(y_test,predicted))"
      ],
      "metadata": {
        "colab": {
          "base_uri": "https://localhost:8080/"
        },
        "id": "FXUWesmr1Wj6",
        "outputId": "444349d8-3b2f-4484-d6a4-b5a0e51d0608"
      },
      "execution_count": null,
      "outputs": [
        {
          "output_type": "stream",
          "name": "stdout",
          "text": [
            "Score: \n",
            " 90.02\n",
            "Test Score: \n",
            " 69.03\n",
            "Accuracy: \n",
            " 0.6902654867256637\n",
            "[[13 16]\n",
            " [19 65]]\n",
            "              precision    recall  f1-score   support\n",
            "\n",
            "           0       0.45      0.41      0.43        32\n",
            "           1       0.77      0.80      0.79        81\n",
            "\n",
            "    accuracy                           0.69       113\n",
            "   macro avg       0.61      0.60      0.61       113\n",
            "weighted avg       0.68      0.69      0.69       113\n",
            "\n"
          ]
        }
      ]
    },
    {
      "cell_type": "code",
      "source": [
        "## Predict Train results\n",
        "y_train_pred = gbclass.predict(X_train)"
      ],
      "metadata": {
        "id": "d6H3nBNs1Zi_"
      },
      "execution_count": null,
      "outputs": []
    },
    {
      "cell_type": "code",
      "source": [
        "## Predict Test results\n",
        "y_pred = gbclass.predict(X_test)"
      ],
      "metadata": {
        "id": "SRsyQLMh1bxi"
      },
      "execution_count": null,
      "outputs": []
    },
    {
      "cell_type": "code",
      "source": [
        "y_pred_proba = gbclass.predict_proba(X_test)[:,1]"
      ],
      "metadata": {
        "id": "wUI662NS1eUO"
      },
      "execution_count": null,
      "outputs": []
    },
    {
      "cell_type": "code",
      "source": [
        "# Calculate ROC curve from y_test and pred\n",
        "fpr, tpr, thresholds = roc_curve(y_test, y_pred_proba)"
      ],
      "metadata": {
        "id": "uuNCISXV1g8v"
      },
      "execution_count": null,
      "outputs": []
    },
    {
      "cell_type": "code",
      "source": [
        "# Plot the ROC curve\n",
        "fig = plt.figure(figsize=(8,8))\n",
        "plt.title('Receiver Operating Characteristic')\n",
        "\n",
        "# Plot ROC curve\n",
        "plt.plot(fpr, tpr, label='l1')\n",
        "plt.legend(loc='lower right')\n",
        "\n",
        "# Diagonal 45 degree line\n",
        "plt.plot([0,1],[0,1],'k--')\n",
        "\n",
        "# Axes limits and labels\n",
        "plt.xlim([-0.1,1.1])\n",
        "plt.ylim([-0.1,1.1])\n",
        "plt.ylabel('True Positive Rate')\n",
        "plt.xlabel('False Positive Rate')\n",
        "plt.show()"
      ],
      "metadata": {
        "colab": {
          "base_uri": "https://localhost:8080/",
          "height": 513
        },
        "id": "zUcAIOXE1jhs",
        "outputId": "6032608e-c056-45ea-dbe2-15746d109aee"
      },
      "execution_count": null,
      "outputs": [
        {
          "output_type": "display_data",
          "data": {
            "text/plain": [
              "<Figure size 576x576 with 1 Axes>"
            ],
            "image/png": "[encoded data removed]"
          },
          "metadata": {}
        }
      ]
    },
    {
      "cell_type": "code",
      "source": [
        "# Calculate AUC for Train set\n",
        "roc_auc_score(y_train,y_train_pred )"
      ],
      "metadata": {
        "colab": {
          "base_uri": "https://localhost:8080/"
        },
        "id": "WYQ53ghA1m2A",
        "outputId": "9b8ac93f-5080-444e-9cd7-be07714cc273"
      },
      "execution_count": null,
      "outputs": [
        {
          "output_type": "execute_result",
          "data": {
            "text/plain": [
              "0.861250898634076"
            ]
          },
          "metadata": {},
          "execution_count": 94
        }
      ]
    },
    {
      "cell_type": "code",
      "source": [
        "# Calculate AUC for Test set\n",
        "print(auc(fpr, tpr))"
      ],
      "metadata": {
        "colab": {
          "base_uri": "https://localhost:8080/"
        },
        "id": "Scw43RLV1rf2",
        "outputId": "d772ed74-c146-40e5-adcc-e71a9e3d1348"
      },
      "execution_count": null,
      "outputs": [
        {
          "output_type": "stream",
          "name": "stdout",
          "text": [
            "0.707175925925926\n"
          ]
        }
      ]
    },
    {
      "cell_type": "markdown",
      "source": [
        "MODEL-3: XG BOOST"
      ],
      "metadata": {
        "id": "8KAPDgTv51M3"
      }
    },
    {
      "cell_type": "code",
      "source": [
        "from xgboost import XGBClassifier\n",
        "classifier = XGBClassifier()\n",
        "classifier.fit(X_train, y_train)"
      ],
      "metadata": {
        "colab": {
          "base_uri": "https://localhost:8080/"
        },
        "id": "F46z_glV5yzX",
        "outputId": "bb2deff1-3074-49b9-fb13-3021b31be660"
      },
      "execution_count": null,
      "outputs": [
        {
          "output_type": "execute_result",
          "data": {
            "text/plain": [
              "XGBClassifier()"
            ]
          },
          "metadata": {},
          "execution_count": 96
        }
      ]
    },
    {
      "cell_type": "code",
      "source": [
        "y_pred = classifier.predict(X_test)\n",
        "cm = confusion_matrix(y_test, y_pred)\n",
        "print(cm)\n",
        "acc7 = accuracy_score(y_test, y_pred)"
      ],
      "metadata": {
        "colab": {
          "base_uri": "https://localhost:8080/"
        },
        "id": "eVVrttCY6ZPb",
        "outputId": "4488ba0b-d22b-40d5-b671-64a53f334161"
      },
      "execution_count": null,
      "outputs": [
        {
          "output_type": "stream",
          "name": "stdout",
          "text": [
            "[[11 21]\n",
            " [12 69]]\n"
          ]
        }
      ]
    },
    {
      "cell_type": "code",
      "source": [
        "print(f\"By XG Boost classifier Acc: {acc7}\")"
      ],
      "metadata": {
        "colab": {
          "base_uri": "https://localhost:8080/"
        },
        "id": "edEWCJrm6dbT",
        "outputId": "989d106f-9222-4c45-8308-2783673e3fb7"
      },
      "execution_count": null,
      "outputs": [
        {
          "output_type": "stream",
          "name": "stdout",
          "text": [
            "By XG Boost classifier Acc: 0.7079646017699115\n"
          ]
        }
      ]
    },
    {
      "cell_type": "markdown",
      "source": [
        "MODEL-4: SVM"
      ],
      "metadata": {
        "id": "FUclhW-D6gF8"
      }
    },
    {
      "cell_type": "code",
      "source": [
        "x_train = df.drop(['Dataset'],axis = 1)\n",
        "x_train"
      ],
      "metadata": {
        "colab": {
          "base_uri": "https://localhost:8080/",
          "height": 468
        },
        "id": "1QJkbBll6jNP",
        "outputId": "a09dcc71-9922-4757-b097-3781ed95618a"
      },
      "execution_count": null,
      "outputs": [
        {
          "output_type": "execute_result",
          "data": {
            "text/plain": [
              "     Age  Gender  Total_Bilirubin  Direct_Bilirubin  Alkaline_Phosphotase  \\\n",
              "0     65       1              0.7               0.1                   187   \n",
              "1     62       0             10.9               5.5                   699   \n",
              "2     62       0              7.3               4.1                   490   \n",
              "3     58       0              1.0               0.4                   182   \n",
              "4     72       0              3.9               2.0                   195   \n",
              "..   ...     ...              ...               ...                   ...   \n",
              "578   60       0              0.5               0.1                   500   \n",
              "579   40       0              0.6               0.1                    98   \n",
              "580   52       0              0.8               0.2                   245   \n",
              "581   31       0              1.3               0.5                   184   \n",
              "582   38       0              1.0               0.3                   216   \n",
              "\n",
              "     Alamine_Aminotransferase  Aspartate_Aminotransferase  Total_Protiens  \\\n",
              "0                          16                          18             6.8   \n",
              "1                          64                         100             7.5   \n",
              "2                          60                          68             7.0   \n",
              "3                          14                          20             6.8   \n",
              "4                          27                          59             7.3   \n",
              "..                        ...                         ...             ...   \n",
              "578                        20                          34             5.9   \n",
              "579                        35                          31             6.0   \n",
              "580                        48                          49             6.4   \n",
              "581                        29                          32             6.8   \n",
              "582                        21                          24             7.3   \n",
              "\n",
              "     Albumin  Albumin_and_Globulin_Ratio  \n",
              "0        3.3                        0.90  \n",
              "1        3.2                        0.74  \n",
              "2        3.3                        0.89  \n",
              "3        3.4                        1.00  \n",
              "4        2.4                        0.40  \n",
              "..       ...                         ...  \n",
              "578      1.6                        0.37  \n",
              "579      3.2                        1.10  \n",
              "580      3.2                        1.00  \n",
              "581      3.4                        1.00  \n",
              "582      4.4                        1.50  \n",
              "\n",
              "[564 rows x 10 columns]"
            ],
            "text/html": [
              "\n",
              "  <div id=\"df-9a60362b-7046-4193-ba3b-1944073a0c4a\">\n",
              "    <div class=\"colab-df-container\">\n",
              "      <div>\n",
              "<style scoped>\n",
              "    .dataframe tbody tr th:only-of-type {\n",
              "        vertical-align: middle;\n",
              "    }\n",
              "\n",
              "    .dataframe tbody tr th {\n",
              "        vertical-align: top;\n",
              "    }\n",
              "\n",
              "    .dataframe thead th {\n",
              "        text-align: right;\n",
              "    }\n",
              "</style>\n",
              "<table border=\"1\" class=\"dataframe\">\n",
              "  <thead>\n",
              "    <tr style=\"text-align: right;\">\n",
              "      <th></th>\n",
              "      <th>Age</th>\n",
              "      <th>Gender</th>\n",
              "      <th>Total_Bilirubin</th>\n",
              "      <th>Direct_Bilirubin</th>\n",
              "      <th>Alkaline_Phosphotase</th>\n",
              "      <th>Alamine_Aminotransferase</th>\n",
              "      <th>Aspartate_Aminotransferase</th>\n",
              "      <th>Total_Protiens</th>\n",
              "      <th>Albumin</th>\n",
              "      <th>Albumin_and_Globulin_Ratio</th>\n",
              "    </tr>\n",
              "  </thead>\n",
              "  <tbody>\n",
              "    <tr>\n",
              "      <th>0</th>\n",
              "      <td>65</td>\n",
              "      <td>1</td>\n",
              "      <td>0.7</td>\n",
              "      <td>0.1</td>\n",
              "      <td>187</td>\n",
              "      <td>16</td>\n",
              "      <td>18</td>\n",
              "      <td>6.8</td>\n",
              "      <td>3.3</td>\n",
              "      <td>0.90</td>\n",
              "    </tr>\n",
              "    <tr>\n",
              "      <th>1</th>\n",
              "      <td>62</td>\n",
              "      <td>0</td>\n",
              "      <td>10.9</td>\n",
              "      <td>5.5</td>\n",
              "      <td>699</td>\n",
              "      <td>64</td>\n",
              "      <td>100</td>\n",
              "      <td>7.5</td>\n",
              "      <td>3.2</td>\n",
              "      <td>0.74</td>\n",
              "    </tr>\n",
              "    <tr>\n",
              "      <th>2</th>\n",
              "      <td>62</td>\n",
              "      <td>0</td>\n",
              "      <td>7.3</td>\n",
              "      <td>4.1</td>\n",
              "      <td>490</td>\n",
              "      <td>60</td>\n",
              "      <td>68</td>\n",
              "      <td>7.0</td>\n",
              "      <td>3.3</td>\n",
              "      <td>0.89</td>\n",
              "    </tr>\n",
              "    <tr>\n",
              "      <th>3</th>\n",
              "      <td>58</td>\n",
              "      <td>0</td>\n",
              "      <td>1.0</td>\n",
              "      <td>0.4</td>\n",
              "      <td>182</td>\n",
              "      <td>14</td>\n",
              "      <td>20</td>\n",
              "      <td>6.8</td>\n",
              "      <td>3.4</td>\n",
              "      <td>1.00</td>\n",
              "    </tr>\n",
              "    <tr>\n",
              "      <th>4</th>\n",
              "      <td>72</td>\n",
              "      <td>0</td>\n",
              "      <td>3.9</td>\n",
              "      <td>2.0</td>\n",
              "      <td>195</td>\n",
              "      <td>27</td>\n",
              "      <td>59</td>\n",
              "      <td>7.3</td>\n",
              "      <td>2.4</td>\n",
              "      <td>0.40</td>\n",
              "    </tr>\n",
              "    <tr>\n",
              "      <th>...</th>\n",
              "      <td>...</td>\n",
              "      <td>...</td>\n",
              "      <td>...</td>\n",
              "      <td>...</td>\n",
              "      <td>...</td>\n",
              "      <td>...</td>\n",
              "      <td>...</td>\n",
              "      <td>...</td>\n",
              "      <td>...</td>\n",
              "      <td>...</td>\n",
              "    </tr>\n",
              "    <tr>\n",
              "      <th>578</th>\n",
              "      <td>60</td>\n",
              "      <td>0</td>\n",
              "      <td>0.5</td>\n",
              "      <td>0.1</td>\n",
              "      <td>500</td>\n",
              "      <td>20</td>\n",
              "      <td>34</td>\n",
              "      <td>5.9</td>\n",
              "      <td>1.6</td>\n",
              "      <td>0.37</td>\n",
              "    </tr>\n",
              "    <tr>\n",
              "      <th>579</th>\n",
              "      <td>40</td>\n",
              "      <td>0</td>\n",
              "      <td>0.6</td>\n",
              "      <td>0.1</td>\n",
              "      <td>98</td>\n",
              "      <td>35</td>\n",
              "      <td>31</td>\n",
              "      <td>6.0</td>\n",
              "      <td>3.2</td>\n",
              "      <td>1.10</td>\n",
              "    </tr>\n",
              "    <tr>\n",
              "      <th>580</th>\n",
              "      <td>52</td>\n",
              "      <td>0</td>\n",
              "      <td>0.8</td>\n",
              "      <td>0.2</td>\n",
              "      <td>245</td>\n",
              "      <td>48</td>\n",
              "      <td>49</td>\n",
              "      <td>6.4</td>\n",
              "      <td>3.2</td>\n",
              "      <td>1.00</td>\n",
              "    </tr>\n",
              "    <tr>\n",
              "      <th>581</th>\n",
              "      <td>31</td>\n",
              "      <td>0</td>\n",
              "      <td>1.3</td>\n",
              "      <td>0.5</td>\n",
              "      <td>184</td>\n",
              "      <td>29</td>\n",
              "      <td>32</td>\n",
              "      <td>6.8</td>\n",
              "      <td>3.4</td>\n",
              "      <td>1.00</td>\n",
              "    </tr>\n",
              "    <tr>\n",
              "      <th>582</th>\n",
              "      <td>38</td>\n",
              "      <td>0</td>\n",
              "      <td>1.0</td>\n",
              "      <td>0.3</td>\n",
              "      <td>216</td>\n",
              "      <td>21</td>\n",
              "      <td>24</td>\n",
              "      <td>7.3</td>\n",
              "      <td>4.4</td>\n",
              "      <td>1.50</td>\n",
              "    </tr>\n",
              "  </tbody>\n",
              "</table>\n",
              "<p>564 rows × 10 columns</p>\n",
              "</div>\n",
              "      <button class=\"colab-df-convert\" onclick=\"convertToInteractive('df-9a60362b-7046-4193-ba3b-1944073a0c4a')\"\n",
              "              title=\"Convert this dataframe to an interactive table.\"\n",
              "              style=\"display:none;\">\n",
              "        \n",
              "  <svg xmlns=\"http://www.w3.org/2000/svg\" height=\"24px\"viewBox=\"0 0 24 24\"\n",
              "       width=\"24px\">\n",
              "    <path d=\"M0 0h24v24H0V0z\" fill=\"none\"/>\n",
              "    <path d=\"M18.56 5.44l.94 2.06.94-2.06 2.06-.94-2.06-.94-.94-2.06-.94 2.06-2.06.94zm-11 1L8.5 8.5l.94-2.06 2.06-.94-2.06-.94L8.5 2.5l-.94 2.06-2.06.94zm10 10l.94 2.06.94-2.06 2.06-.94-2.06-.94-.94-2.06-.94 2.06-2.06.94z\"/><path d=\"M17.41 7.96l-1.37-1.37c-.4-.4-.92-.59-1.43-.59-.52 0-1.04.2-1.43.59L10.3 9.45l-7.72 7.72c-.78.78-.78 2.05 0 2.83L4 21.41c.39.39.9.59 1.41.59.51 0 1.02-.2 1.41-.59l7.78-7.78 2.81-2.81c.8-.78.8-2.07 0-2.86zM5.41 20L4 18.59l7.72-7.72 1.47 1.35L5.41 20z\"/>\n",
              "  </svg>\n",
              "      </button>\n",
              "      \n",
              "  <style>\n",
              "    .colab-df-container {\n",
              "      display:flex;\n",
              "      flex-wrap:wrap;\n",
              "      gap: 12px;\n",
              "    }\n",
              "\n",
              "    .colab-df-convert {\n",
              "      background-color: #E8F0FE;\n",
              "      border: none;\n",
              "      border-radius: 50%;\n",
              "      cursor: pointer;\n",
              "      display: none;\n",
              "      fill: #1967D2;\n",
              "      height: 32px;\n",
              "      padding: 0 0 0 0;\n",
              "      width: 32px;\n",
              "    }\n",
              "\n",
              "    .colab-df-convert:hover {\n",
              "      background-color: #E2EBFA;\n",
              "      box-shadow: 0px 1px 2px rgba(60, 64, 67, 0.3), 0px 1px 3px 1px rgba(60, 64, 67, 0.15);\n",
              "      fill: #174EA6;\n",
              "    }\n",
              "\n",
              "    [theme=dark] .colab-df-convert {\n",
              "      background-color: #3B4455;\n",
              "      fill: #D2E3FC;\n",
              "    }\n",
              "\n",
              "    [theme=dark] .colab-df-convert:hover {\n",
              "      background-color: #434B5C;\n",
              "      box-shadow: 0px 1px 3px 1px rgba(0, 0, 0, 0.15);\n",
              "      filter: drop-shadow(0px 1px 2px rgba(0, 0, 0, 0.3));\n",
              "      fill: #FFFFFF;\n",
              "    }\n",
              "  </style>\n",
              "\n",
              "      <script>\n",
              "        const buttonEl =\n",
              "          document.querySelector('#df-9a60362b-7046-4193-ba3b-1944073a0c4a button.colab-df-convert');\n",
              "        buttonEl.style.display =\n",
              "          google.colab.kernel.accessAllowed ? 'block' : 'none';\n",
              "\n",
              "        async function convertToInteractive(key) {\n",
              "          const element = document.querySelector('#df-9a60362b-7046-4193-ba3b-1944073a0c4a');\n",
              "          const dataTable =\n",
              "            await google.colab.kernel.invokeFunction('convertToInteractive',\n",
              "                                                     [key], {});\n",
              "          if (!dataTable) return;\n",
              "\n",
              "          const docLinkHtml = 'Like what you see? Visit the ' +\n",
              "            '<a target=\"_blank\" href=https://colab.research.google.com/notebooks/data_table.ipynb>data table notebook</a>'\n",
              "            + ' to learn more about interactive tables.';\n",
              "          element.innerHTML = '';\n",
              "          dataTable['output_type'] = 'display_data';\n",
              "          await google.colab.output.renderOutput(dataTable, element);\n",
              "          const docLink = document.createElement('div');\n",
              "          docLink.innerHTML = docLinkHtml;\n",
              "          element.appendChild(docLink);\n",
              "        }\n",
              "      </script>\n",
              "    </div>\n",
              "  </div>\n",
              "  "
            ]
          },
          "metadata": {},
          "execution_count": 99
        }
      ]
    },
    {
      "cell_type": "code",
      "source": [
        "y_train = df.Dataset\n",
        "y_train"
      ],
      "metadata": {
        "colab": {
          "base_uri": "https://localhost:8080/"
        },
        "id": "wsOb0lLA7Mfl",
        "outputId": "13d03c25-3c7f-4ca8-8823-e08fd5a31dad"
      },
      "execution_count": null,
      "outputs": [
        {
          "output_type": "execute_result",
          "data": {
            "text/plain": [
              "0      1\n",
              "1      1\n",
              "2      1\n",
              "3      1\n",
              "4      1\n",
              "      ..\n",
              "578    0\n",
              "579    1\n",
              "580    1\n",
              "581    1\n",
              "582    0\n",
              "Name: Dataset, Length: 564, dtype: int64"
            ]
          },
          "metadata": {},
          "execution_count": 100
        }
      ]
    },
    {
      "cell_type": "code",
      "source": [
        "svc = SVC(kernel='linear')\n",
        "rfecv = RFECV(estimator=svc, step=1, cv=StratifiedKFold(2), scoring='accuracy')\n",
        "rfecv.fit(x_train, y_train)\n",
        "\n",
        "print(\"Optimal number of features : %d\" % rfecv.n_features_)\n",
        "\n",
        "# Plot number of Features Vs Cross-validation scores\n",
        "plt.figure()\n",
        "plt.xlabel(\"Number of features selected\")\n",
        "plt.ylabel(\"Cross validation score (nb of correct classifications)\")\n",
        "plt.plot(range(1, len(rfecv.grid_scores_) + 1), rfecv.grid_scores_)\n",
        "plt.show()"
      ],
      "metadata": {
        "colab": {
          "base_uri": "https://localhost:8080/",
          "height": 317
        },
        "id": "7yP5di_W8ogd",
        "outputId": "898fdb09-5251-4109-aeec-5e8b7df4a09e"
      },
      "execution_count": null,
      "outputs": [
        {
          "output_type": "stream",
          "name": "stdout",
          "text": [
            "Optimal number of features : 1\n"
          ]
        },
        {
          "output_type": "display_data",
          "data": {
            "text/plain": [
              "<Figure size 432x288 with 1 Axes>"
            ],
            "image/png": "[encoded data removed]"
          },
          "metadata": {}
        }
      ]
    },
    {
      "cell_type": "code",
      "source": [
        "FEATURES = list(x_train.columns[rfecv.support_])\n",
        "print('Best features :', FEATURES)"
      ],
      "metadata": {
        "colab": {
          "base_uri": "https://localhost:8080/"
        },
        "id": "x5pWHcW69LXb",
        "outputId": "25ba1563-d0ef-4e82-d399-251a02097081"
      },
      "execution_count": null,
      "outputs": [
        {
          "output_type": "stream",
          "name": "stdout",
          "text": [
            "Best features : ['Total_Protiens']\n"
          ]
        }
      ]
    },
    {
      "cell_type": "code",
      "source": [
        "from sklearn.preprocessing import StandardScaler\n",
        "\n",
        "def preprocess(X):\n",
        "    #extracting chosen features\n",
        "    X = X[FEATURES]\n",
        "    #Standardizing Features\n",
        "    sc = StandardScaler()\n",
        "    X = sc.fit_transform(X)\n",
        "    return X\n",
        "\n",
        "x_train = preprocess(x_train)\n",
        "x_train"
      ],
      "metadata": {
        "colab": {
          "base_uri": "https://localhost:8080/"
        },
        "id": "ogKjod3u9PCg",
        "outputId": "58bedb2a-7736-46b9-8f14-d404b3aa54cd"
      },
      "execution_count": null,
      "outputs": [
        {
          "output_type": "execute_result",
          "data": {
            "text/plain": [
              "array([[ 0.28003604],\n",
              "       [ 0.92356473],\n",
              "       [ 0.46390138],\n",
              "       [ 0.28003604],\n",
              "       [ 0.73969939],\n",
              "       [ 1.0154974 ],\n",
              "       [ 0.46390138],\n",
              "       [ 0.18810337],\n",
              "       [ 0.83163206],\n",
              "       [ 0.28003604],\n",
              "       [-0.54735799],\n",
              "       [ 0.83163206],\n",
              "       [ 0.46390138],\n",
              "       [ 1.47516075],\n",
              "       [-0.63929066],\n",
              "       [-0.91508867],\n",
              "       [ 1.0154974 ],\n",
              "       [ 0.73969939],\n",
              "       [ 0.28003604],\n",
              "       [ 0.73969939],\n",
              "       [ 0.46390138],\n",
              "       [-0.08769464],\n",
              "       [-2.01828071],\n",
              "       [-0.45542532],\n",
              "       [-1.37475202],\n",
              "       [ 0.64776672],\n",
              "       [-2.38601139],\n",
              "       [-0.45542532],\n",
              "       [-1.19088668],\n",
              "       [-1.46668469],\n",
              "       [-1.19088668],\n",
              "       [-0.823156  ],\n",
              "       [ 0.37196871],\n",
              "       [ 0.64776672],\n",
              "       [-2.01828071],\n",
              "       [-0.63929066],\n",
              "       [-0.27155998],\n",
              "       [-1.28281935],\n",
              "       [-1.46668469],\n",
              "       [-0.36349265],\n",
              "       [-0.08769464],\n",
              "       [ 0.46390138],\n",
              "       [ 0.00423803],\n",
              "       [ 0.28003604],\n",
              "       [-1.46668469],\n",
              "       [-0.45542532],\n",
              "       [-0.27155998],\n",
              "       [-0.73122333],\n",
              "       [ 0.0961707 ],\n",
              "       [ 0.28003604],\n",
              "       [-0.17962731],\n",
              "       [-0.63929066],\n",
              "       [ 1.38322808],\n",
              "       [-0.91508867],\n",
              "       [-1.19088668],\n",
              "       [-0.91508867],\n",
              "       [-0.45542532],\n",
              "       [ 0.64776672],\n",
              "       [-1.28281935],\n",
              "       [ 0.00423803],\n",
              "       [-0.823156  ],\n",
              "       [-0.45542532],\n",
              "       [-0.08769464],\n",
              "       [-0.17962731],\n",
              "       [-0.17962731],\n",
              "       [-0.91508867],\n",
              "       [-1.92634804],\n",
              "       [-1.92634804],\n",
              "       [ 0.0961707 ],\n",
              "       [-0.63929066],\n",
              "       [-1.19088668],\n",
              "       [-1.09895401],\n",
              "       [-1.7424827 ],\n",
              "       [-0.27155998],\n",
              "       [-1.65055003],\n",
              "       [-1.65055003],\n",
              "       [-1.28281935],\n",
              "       [-1.00702134],\n",
              "       [-1.00702134],\n",
              "       [ 0.92356473],\n",
              "       [ 0.18810337],\n",
              "       [ 0.64776672],\n",
              "       [-0.27155998],\n",
              "       [ 0.92356473],\n",
              "       [ 0.55583405],\n",
              "       [ 0.73969939],\n",
              "       [ 0.28003604],\n",
              "       [ 0.83163206],\n",
              "       [ 0.46390138],\n",
              "       [ 0.28003604],\n",
              "       [-1.92634804],\n",
              "       [ 0.55583405],\n",
              "       [-2.29407872],\n",
              "       [-0.54735799],\n",
              "       [ 0.37196871],\n",
              "       [-2.56987673],\n",
              "       [-1.09895401],\n",
              "       [ 0.37196871],\n",
              "       [-0.36349265],\n",
              "       [-0.91508867],\n",
              "       [-1.28281935],\n",
              "       [-0.45542532],\n",
              "       [-0.54735799],\n",
              "       [-0.91508867],\n",
              "       [-0.73122333],\n",
              "       [-0.36349265],\n",
              "       [-1.37475202],\n",
              "       [-0.73122333],\n",
              "       [-0.823156  ],\n",
              "       [-1.09895401],\n",
              "       [-0.823156  ],\n",
              "       [-1.00702134],\n",
              "       [ 0.55583405],\n",
              "       [ 0.0961707 ],\n",
              "       [-0.54735799],\n",
              "       [-0.17962731],\n",
              "       [ 0.37196871],\n",
              "       [-2.38601139],\n",
              "       [-0.45542532],\n",
              "       [ 0.00423803],\n",
              "       [ 1.38322808],\n",
              "       [-1.28281935],\n",
              "       [-0.45542532],\n",
              "       [-0.63929066],\n",
              "       [ 0.00423803],\n",
              "       [ 0.0961707 ],\n",
              "       [ 0.28003604],\n",
              "       [-0.08769464],\n",
              "       [-0.91508867],\n",
              "       [-0.36349265],\n",
              "       [-0.27155998],\n",
              "       [ 0.55583405],\n",
              "       [-0.823156  ],\n",
              "       [-0.823156  ],\n",
              "       [-1.00702134],\n",
              "       [-0.91508867],\n",
              "       [-1.09895401],\n",
              "       [ 0.64776672],\n",
              "       [ 0.55583405],\n",
              "       [ 0.37196871],\n",
              "       [-0.54735799],\n",
              "       [-0.45542532],\n",
              "       [ 0.00423803],\n",
              "       [-0.823156  ],\n",
              "       [-0.63929066],\n",
              "       [-0.27155998],\n",
              "       [-0.63929066],\n",
              "       [ 0.64776672],\n",
              "       [-0.91508867],\n",
              "       [-0.27155998],\n",
              "       [-1.00702134],\n",
              "       [ 0.83163206],\n",
              "       [ 0.46390138],\n",
              "       [-0.27155998],\n",
              "       [-0.823156  ],\n",
              "       [ 0.37196871],\n",
              "       [ 0.28003604],\n",
              "       [-0.27155998],\n",
              "       [ 0.0961707 ],\n",
              "       [-1.37475202],\n",
              "       [-0.45542532],\n",
              "       [ 0.73969939],\n",
              "       [-0.73122333],\n",
              "       [-1.09895401],\n",
              "       [-1.28281935],\n",
              "       [-0.91508867],\n",
              "       [-3.48920343],\n",
              "       [-3.21340542],\n",
              "       [-2.47794406],\n",
              "       [-1.00702134],\n",
              "       [ 0.37196871],\n",
              "       [-0.45542532],\n",
              "       [ 1.19936274],\n",
              "       [-2.29407872],\n",
              "       [-1.83441537],\n",
              "       [-1.19088668],\n",
              "       [ 0.0961707 ],\n",
              "       [ 0.0961707 ],\n",
              "       [ 0.0961707 ],\n",
              "       [-0.45542532],\n",
              "       [-0.73122333],\n",
              "       [-1.19088668],\n",
              "       [-0.45542532],\n",
              "       [-0.73122333],\n",
              "       [-0.36349265],\n",
              "       [-0.36349265],\n",
              "       [-1.37475202],\n",
              "       [-0.36349265],\n",
              "       [-0.08769464],\n",
              "       [-0.08769464],\n",
              "       [ 1.0154974 ],\n",
              "       [ 0.46390138],\n",
              "       [ 0.18810337],\n",
              "       [-0.36349265],\n",
              "       [-2.20214605],\n",
              "       [ 0.46390138],\n",
              "       [-0.91508867],\n",
              "       [ 0.92356473],\n",
              "       [ 0.64776672],\n",
              "       [-1.37475202],\n",
              "       [-0.27155998],\n",
              "       [ 0.46390138],\n",
              "       [-1.55861736],\n",
              "       [-0.08769464],\n",
              "       [-1.37475202],\n",
              "       [ 0.73969939],\n",
              "       [ 1.38322808],\n",
              "       [ 0.55583405],\n",
              "       [-0.73122333],\n",
              "       [ 1.29129541],\n",
              "       [ 1.38322808],\n",
              "       [-0.08769464],\n",
              "       [-1.09895401],\n",
              "       [-0.45542532],\n",
              "       [ 0.18810337],\n",
              "       [ 1.84289143],\n",
              "       [ 1.29129541],\n",
              "       [-0.27155998],\n",
              "       [ 1.10743007],\n",
              "       [-1.83441537],\n",
              "       [ 1.29129541],\n",
              "       [ 1.38322808],\n",
              "       [ 0.73969939],\n",
              "       [ 0.28003604],\n",
              "       [ 1.38322808],\n",
              "       [ 1.56709342],\n",
              "       [ 1.84289143],\n",
              "       [-0.17962731],\n",
              "       [-0.36349265],\n",
              "       [-0.36349265],\n",
              "       [-0.54735799],\n",
              "       [-1.37475202],\n",
              "       [ 0.46390138],\n",
              "       [ 0.00423803],\n",
              "       [-0.54735799],\n",
              "       [ 0.46390138],\n",
              "       [ 0.55583405],\n",
              "       [-0.45542532],\n",
              "       [-0.27155998],\n",
              "       [-0.823156  ],\n",
              "       [-0.08769464],\n",
              "       [-1.19088668],\n",
              "       [-1.00702134],\n",
              "       [ 0.92356473],\n",
              "       [ 0.37196871],\n",
              "       [ 0.46390138],\n",
              "       [ 0.83163206],\n",
              "       [ 1.38322808],\n",
              "       [-0.17962731],\n",
              "       [ 0.83163206],\n",
              "       [-0.73122333],\n",
              "       [-3.39727076],\n",
              "       [ 2.76221813],\n",
              "       [ 0.00423803],\n",
              "       [ 1.56709342],\n",
              "       [ 2.8541508 ],\n",
              "       [ 1.38322808],\n",
              "       [ 1.56709342],\n",
              "       [-0.08769464],\n",
              "       [-0.45542532],\n",
              "       [ 1.38322808],\n",
              "       [ 1.65902609],\n",
              "       [-0.45542532],\n",
              "       [ 0.83163206],\n",
              "       [ 0.46390138],\n",
              "       [-0.45542532],\n",
              "       [ 1.38322808],\n",
              "       [ 1.29129541],\n",
              "       [ 1.9348241 ],\n",
              "       [ 1.38322808],\n",
              "       [ 0.92356473],\n",
              "       [ 0.46390138],\n",
              "       [ 1.9348241 ],\n",
              "       [ 1.19936274],\n",
              "       [ 0.55583405],\n",
              "       [ 1.10743007],\n",
              "       [ 1.65902609],\n",
              "       [ 1.38322808],\n",
              "       [ 1.29129541],\n",
              "       [ 0.37196871],\n",
              "       [ 1.29129541],\n",
              "       [ 0.83163206],\n",
              "       [ 1.56709342],\n",
              "       [ 0.18810337],\n",
              "       [ 0.28003604],\n",
              "       [ 1.75095876],\n",
              "       [ 0.37196871],\n",
              "       [ 1.29129541],\n",
              "       [ 0.73969939],\n",
              "       [-1.7424827 ],\n",
              "       [ 1.56709342],\n",
              "       [ 1.38322808],\n",
              "       [ 1.47516075],\n",
              "       [ 0.64776672],\n",
              "       [ 1.29129541],\n",
              "       [ 1.19936274],\n",
              "       [ 0.18810337],\n",
              "       [ 0.55583405],\n",
              "       [ 0.28003604],\n",
              "       [ 1.19936274],\n",
              "       [ 1.47516075],\n",
              "       [-0.63929066],\n",
              "       [-1.19088668],\n",
              "       [ 0.55583405],\n",
              "       [ 0.18810337],\n",
              "       [-1.00702134],\n",
              "       [ 0.18810337],\n",
              "       [ 1.65902609],\n",
              "       [ 1.0154974 ],\n",
              "       [-0.45542532],\n",
              "       [ 0.73969939],\n",
              "       [-0.36349265],\n",
              "       [-1.00702134],\n",
              "       [-0.27155998],\n",
              "       [-0.54735799],\n",
              "       [ 0.83163206],\n",
              "       [ 2.21062211],\n",
              "       [-0.27155998],\n",
              "       [-0.08769464],\n",
              "       [-0.36349265],\n",
              "       [-0.54735799],\n",
              "       [-0.27155998],\n",
              "       [ 0.0961707 ],\n",
              "       [ 0.46390138],\n",
              "       [-0.823156  ],\n",
              "       [ 1.56709342],\n",
              "       [-0.823156  ],\n",
              "       [ 0.37196871],\n",
              "       [ 0.46390138],\n",
              "       [-0.36349265],\n",
              "       [ 0.0961707 ],\n",
              "       [-0.73122333],\n",
              "       [-1.09895401],\n",
              "       [ 1.56709342],\n",
              "       [ 0.64776672],\n",
              "       [ 0.92356473],\n",
              "       [ 1.38322808],\n",
              "       [ 1.84289143],\n",
              "       [ 0.28003604],\n",
              "       [-0.823156  ],\n",
              "       [ 1.75095876],\n",
              "       [ 0.0961707 ],\n",
              "       [ 0.28003604],\n",
              "       [-0.27155998],\n",
              "       [ 1.84289143],\n",
              "       [ 0.28003604],\n",
              "       [-1.09895401],\n",
              "       [ 0.64776672],\n",
              "       [-0.36349265],\n",
              "       [ 0.64776672],\n",
              "       [ 0.46390138],\n",
              "       [ 1.19936274],\n",
              "       [ 0.64776672],\n",
              "       [ 2.02675677],\n",
              "       [ 1.0154974 ],\n",
              "       [ 0.46390138],\n",
              "       [ 0.28003604],\n",
              "       [ 0.46390138],\n",
              "       [-0.36349265],\n",
              "       [ 0.73969939],\n",
              "       [ 0.73969939],\n",
              "       [ 0.73969939],\n",
              "       [ 1.47516075],\n",
              "       [ 0.18810337],\n",
              "       [-1.46668469],\n",
              "       [ 0.00423803],\n",
              "       [ 0.83163206],\n",
              "       [ 0.92356473],\n",
              "       [ 0.37196871],\n",
              "       [ 0.73969939],\n",
              "       [-0.17962731],\n",
              "       [-0.45542532],\n",
              "       [ 0.37196871],\n",
              "       [-0.17962731],\n",
              "       [ 1.38322808],\n",
              "       [-0.54735799],\n",
              "       [-0.17962731],\n",
              "       [-0.08769464],\n",
              "       [-0.17962731],\n",
              "       [ 0.55583405],\n",
              "       [-0.45542532],\n",
              "       [-0.08769464],\n",
              "       [ 0.28003604],\n",
              "       [ 1.47516075],\n",
              "       [-0.17962731],\n",
              "       [ 0.28003604],\n",
              "       [ 1.0154974 ],\n",
              "       [ 0.18810337],\n",
              "       [ 0.64776672],\n",
              "       [ 0.92356473],\n",
              "       [ 0.00423803],\n",
              "       [-1.37475202],\n",
              "       [ 0.37196871],\n",
              "       [ 0.55583405],\n",
              "       [-1.7424827 ],\n",
              "       [-1.19088668],\n",
              "       [-2.6618094 ],\n",
              "       [-0.17962731],\n",
              "       [ 0.55583405],\n",
              "       [ 0.46390138],\n",
              "       [ 0.18810337],\n",
              "       [-0.08769464],\n",
              "       [ 0.55583405],\n",
              "       [ 0.37196871],\n",
              "       [ 0.00423803],\n",
              "       [ 0.46390138],\n",
              "       [-2.01828071],\n",
              "       [-0.823156  ],\n",
              "       [ 0.46390138],\n",
              "       [ 0.37196871],\n",
              "       [-0.91508867],\n",
              "       [-1.55861736],\n",
              "       [ 0.18810337],\n",
              "       [ 0.92356473],\n",
              "       [ 1.0154974 ],\n",
              "       [ 0.92356473],\n",
              "       [ 0.55583405],\n",
              "       [-0.27155998],\n",
              "       [-1.19088668],\n",
              "       [-2.47794406],\n",
              "       [-0.27155998],\n",
              "       [ 0.46390138],\n",
              "       [-2.20214605],\n",
              "       [-1.7424827 ],\n",
              "       [-0.27155998],\n",
              "       [-0.17962731],\n",
              "       [ 0.73969939],\n",
              "       [-0.91508867],\n",
              "       [ 1.10743007],\n",
              "       [-0.45542532],\n",
              "       [-0.27155998],\n",
              "       [-0.45542532],\n",
              "       [ 0.64776672],\n",
              "       [ 0.55583405],\n",
              "       [ 0.55583405],\n",
              "       [ 0.46390138],\n",
              "       [ 0.28003604],\n",
              "       [ 0.83163206],\n",
              "       [ 0.37196871],\n",
              "       [-2.6618094 ],\n",
              "       [-0.73122333],\n",
              "       [-0.91508867],\n",
              "       [ 0.28003604],\n",
              "       [-0.08769464],\n",
              "       [ 1.38322808],\n",
              "       [-1.83441537],\n",
              "       [-1.28281935],\n",
              "       [-1.46668469],\n",
              "       [ 0.28003604],\n",
              "       [-1.09895401],\n",
              "       [-1.92634804],\n",
              "       [ 0.55583405],\n",
              "       [ 0.0961707 ],\n",
              "       [-0.63929066],\n",
              "       [ 0.28003604],\n",
              "       [-0.45542532],\n",
              "       [ 1.29129541],\n",
              "       [-0.91508867],\n",
              "       [-1.28281935],\n",
              "       [ 0.37196871],\n",
              "       [ 0.73969939],\n",
              "       [ 1.29129541],\n",
              "       [ 0.73969939],\n",
              "       [ 0.64776672],\n",
              "       [ 1.19936274],\n",
              "       [-1.37475202],\n",
              "       [-0.27155998],\n",
              "       [ 0.18810337],\n",
              "       [-0.45542532],\n",
              "       [ 0.46390138],\n",
              "       [-0.54735799],\n",
              "       [ 0.18810337],\n",
              "       [ 0.28003604],\n",
              "       [ 1.29129541],\n",
              "       [-1.19088668],\n",
              "       [ 0.00423803],\n",
              "       [-0.36349265],\n",
              "       [ 1.38322808],\n",
              "       [ 0.64776672],\n",
              "       [ 0.00423803],\n",
              "       [ 0.64776672],\n",
              "       [-0.45542532],\n",
              "       [-0.54735799],\n",
              "       [-1.46668469],\n",
              "       [ 1.47516075],\n",
              "       [-0.91508867],\n",
              "       [-0.63929066],\n",
              "       [-0.823156  ],\n",
              "       [ 0.92356473],\n",
              "       [ 0.92356473],\n",
              "       [-1.00702134],\n",
              "       [ 2.48642012],\n",
              "       [ 0.28003604],\n",
              "       [-0.63929066],\n",
              "       [ 0.37196871],\n",
              "       [ 1.75095876],\n",
              "       [ 0.37196871],\n",
              "       [ 0.18810337],\n",
              "       [ 1.38322808],\n",
              "       [ 0.64776672],\n",
              "       [ 2.48642012],\n",
              "       [ 1.9348241 ],\n",
              "       [ 0.55583405],\n",
              "       [ 1.29129541],\n",
              "       [-1.55861736],\n",
              "       [ 0.28003604],\n",
              "       [ 1.38322808],\n",
              "       [-0.08769464],\n",
              "       [ 0.55583405],\n",
              "       [-0.17962731],\n",
              "       [-1.28281935],\n",
              "       [ 0.46390138],\n",
              "       [ 1.29129541],\n",
              "       [ 1.56709342],\n",
              "       [-2.6618094 ],\n",
              "       [ 1.38322808],\n",
              "       [-0.36349265],\n",
              "       [ 0.37196871],\n",
              "       [ 1.0154974 ],\n",
              "       [-0.08769464],\n",
              "       [ 0.64776672],\n",
              "       [ 0.46390138],\n",
              "       [ 0.0961707 ],\n",
              "       [ 0.73969939],\n",
              "       [ 1.0154974 ],\n",
              "       [ 0.46390138],\n",
              "       [-1.83441537],\n",
              "       [-1.00702134],\n",
              "       [ 0.55583405],\n",
              "       [ 0.37196871],\n",
              "       [ 1.19936274],\n",
              "       [-0.823156  ],\n",
              "       [-0.27155998],\n",
              "       [-0.63929066],\n",
              "       [ 0.46390138],\n",
              "       [ 0.00423803],\n",
              "       [ 0.46390138],\n",
              "       [-0.36349265],\n",
              "       [-0.27155998],\n",
              "       [ 0.92356473],\n",
              "       [ 0.92356473],\n",
              "       [ 0.00423803],\n",
              "       [ 0.37196871],\n",
              "       [ 1.19936274],\n",
              "       [ 0.64776672],\n",
              "       [-0.54735799],\n",
              "       [ 0.0961707 ],\n",
              "       [ 1.19936274],\n",
              "       [-0.45542532],\n",
              "       [ 0.37196871],\n",
              "       [ 0.55583405],\n",
              "       [-1.00702134],\n",
              "       [ 0.37196871],\n",
              "       [-0.823156  ],\n",
              "       [-0.27155998],\n",
              "       [ 0.0961707 ],\n",
              "       [ 1.29129541],\n",
              "       [-1.09895401],\n",
              "       [-1.00702134],\n",
              "       [-0.54735799],\n",
              "       [-0.45542532],\n",
              "       [-0.08769464],\n",
              "       [ 0.28003604],\n",
              "       [ 0.73969939]])"
            ]
          },
          "metadata": {},
          "execution_count": 103
        }
      ]
    },
    {
      "cell_type": "code",
      "source": [
        "from sklearn.svm import SVC\n",
        "\n",
        "SV = SVC(probability=True, random_state=0) \n",
        "SV.fit(x_train, y_train)\n",
        "print('SVM Classifier Training Accuracy:', SV.score(x_train, y_train))"
      ],
      "metadata": {
        "colab": {
          "base_uri": "https://localhost:8080/"
        },
        "id": "ateQT_M_9TKH",
        "outputId": "d1917fa9-8ec7-477f-c21a-15022fd9386c"
      },
      "execution_count": null,
      "outputs": [
        {
          "output_type": "stream",
          "name": "stdout",
          "text": [
            "SVM Classifier Training Accuracy: 0.7127659574468085\n"
          ]
        }
      ]
    },
    {
      "cell_type": "markdown",
      "source": [
        "MODEL-5: RANDOM FOREST"
      ],
      "metadata": {
        "id": "3oCnBezJ9X7k"
      }
    },
    {
      "cell_type": "code",
      "source": [
        "X = df.iloc[:,:-1]\n",
        "y = df['Dataset']"
      ],
      "metadata": {
        "id": "OWVaZjPRAt5d"
      },
      "execution_count": null,
      "outputs": []
    },
    {
      "cell_type": "code",
      "source": [
        "X_train, X_test, y_train, y_test = train_test_split(X, y, test_size = 0.35, random_state = 42)"
      ],
      "metadata": {
        "id": "VKbtI7WGAzSu"
      },
      "execution_count": null,
      "outputs": []
    },
    {
      "cell_type": "code",
      "source": [
        "df.dtypes"
      ],
      "metadata": {
        "colab": {
          "base_uri": "https://localhost:8080/"
        },
        "id": "JN4PoVczA1k1",
        "outputId": "61d33b38-75a2-49ca-c549-3d39818bec46"
      },
      "execution_count": null,
      "outputs": [
        {
          "output_type": "execute_result",
          "data": {
            "text/plain": [
              "Age                             int64\n",
              "Gender                          int64\n",
              "Total_Bilirubin               float64\n",
              "Direct_Bilirubin              float64\n",
              "Alkaline_Phosphotase            int64\n",
              "Alamine_Aminotransferase        int64\n",
              "Aspartate_Aminotransferase      int64\n",
              "Total_Protiens                float64\n",
              "Albumin                       float64\n",
              "Albumin_and_Globulin_Ratio    float64\n",
              "Dataset                         int64\n",
              "dtype: object"
            ]
          },
          "metadata": {},
          "execution_count": 106
        }
      ]
    },
    {
      "cell_type": "code",
      "source": [
        "from sklearn.preprocessing import MinMaxScaler\n",
        "scaler = MinMaxScaler()\n",
        "X_train_scaled = pd.DataFrame(scaler.fit_transform(X_train),columns=X_train.columns)\n",
        "X_train_scaled"
      ],
      "metadata": {
        "colab": {
          "base_uri": "https://localhost:8080/",
          "height": 488
        },
        "id": "x_AqpuDFA4qA",
        "outputId": "46d33601-56d3-4b9b-f8b5-83764af2dea9"
      },
      "execution_count": null,
      "outputs": [
        {
          "output_type": "execute_result",
          "data": {
            "text/plain": [
              "          Age  Gender  Total_Bilirubin  Direct_Bilirubin  \\\n",
              "0    0.232558     1.0         0.004021          0.005102   \n",
              "1    0.325581     1.0         0.002681          0.000000   \n",
              "2    0.523256     1.0         0.002681          0.000000   \n",
              "3    0.825581     0.0         0.084450          0.178571   \n",
              "4    0.441860     1.0         0.025469          0.051020   \n",
              "..        ...     ...              ...               ...   \n",
              "446  0.697674     0.0         0.013405          0.020408   \n",
              "447  0.186047     1.0         0.002681          0.005102   \n",
              "448  0.395349     0.0         0.008043          0.010204   \n",
              "449  0.627907     1.0         0.017426          0.035714   \n",
              "450  0.767442     0.0         0.030831          0.056122   \n",
              "\n",
              "     Alkaline_Phosphotase  Alamine_Aminotransferase  \\\n",
              "0                0.061065                  0.000599   \n",
              "1                0.055203                  0.017365   \n",
              "2                0.059599                  0.004192   \n",
              "3                0.192965                  0.112575   \n",
              "4                0.111871                  0.011377   \n",
              "..                    ...                       ...   \n",
              "446              0.114802                  0.012575   \n",
              "447              0.067904                  0.001198   \n",
              "448              0.074744                  0.006587   \n",
              "449              0.895457                  0.030539   \n",
              "450              0.147533                  0.031138   \n",
              "\n",
              "     Aspartate_Aminotransferase  Total_Protiens   Albumin  \\\n",
              "0                      0.000000        0.405797  0.304348   \n",
              "1                      0.011321        0.478261  0.456522   \n",
              "2                      0.010063        0.565217  0.434783   \n",
              "3                      0.083648        0.507246  0.500000   \n",
              "4                      0.018239        0.202899  0.195652   \n",
              "..                          ...             ...       ...   \n",
              "446                    0.045912        0.652174  0.369565   \n",
              "447                    0.001887        0.492754  0.456522   \n",
              "448                    0.008805        0.666667  0.760870   \n",
              "449                    0.045912        0.768116  0.652174   \n",
              "450                    0.028302        0.478261  0.326087   \n",
              "\n",
              "     Albumin_and_Globulin_Ratio  \n",
              "0                         0.164  \n",
              "1                         0.280  \n",
              "2                         0.160  \n",
              "3                         0.280  \n",
              "4                         0.160  \n",
              "..                          ...  \n",
              "446                       0.080  \n",
              "447                       0.240  \n",
              "448                       0.480  \n",
              "449                       0.260  \n",
              "450                       0.120  \n",
              "\n",
              "[451 rows x 10 columns]"
            ],
            "text/html": [
              "\n",
              "  <div id=\"df-31014f24-4ea2-40b6-bf01-a91e7aee2b0a\">\n",
              "    <div class=\"colab-df-container\">\n",
              "      <div>\n",
              "<style scoped>\n",
              "    .dataframe tbody tr th:only-of-type {\n",
              "        vertical-align: middle;\n",
              "    }\n",
              "\n",
              "    .dataframe tbody tr th {\n",
              "        vertical-align: top;\n",
              "    }\n",
              "\n",
              "    .dataframe thead th {\n",
              "        text-align: right;\n",
              "    }\n",
              "</style>\n",
              "<table border=\"1\" class=\"dataframe\">\n",
              "  <thead>\n",
              "    <tr style=\"text-align: right;\">\n",
              "      <th></th>\n",
              "      <th>Age</th>\n",
              "      <th>Gender</th>\n",
              "      <th>Total_Bilirubin</th>\n",
              "      <th>Direct_Bilirubin</th>\n",
              "      <th>Alkaline_Phosphotase</th>\n",
              "      <th>Alamine_Aminotransferase</th>\n",
              "      <th>Aspartate_Aminotransferase</th>\n",
              "      <th>Total_Protiens</th>\n",
              "      <th>Albumin</th>\n",
              "      <th>Albumin_and_Globulin_Ratio</th>\n",
              "    </tr>\n",
              "  </thead>\n",
              "  <tbody>\n",
              "    <tr>\n",
              "      <th>0</th>\n",
              "      <td>0.232558</td>\n",
              "      <td>1.0</td>\n",
              "      <td>0.004021</td>\n",
              "      <td>0.005102</td>\n",
              "      <td>0.061065</td>\n",
              "      <td>0.000599</td>\n",
              "      <td>0.000000</td>\n",
              "      <td>0.405797</td>\n",
              "      <td>0.304348</td>\n",
              "      <td>0.164</td>\n",
              "    </tr>\n",
              "    <tr>\n",
              "      <th>1</th>\n",
              "      <td>0.325581</td>\n",
              "      <td>1.0</td>\n",
              "      <td>0.002681</td>\n",
              "      <td>0.000000</td>\n",
              "      <td>0.055203</td>\n",
              "      <td>0.017365</td>\n",
              "      <td>0.011321</td>\n",
              "      <td>0.478261</td>\n",
              "      <td>0.456522</td>\n",
              "      <td>0.280</td>\n",
              "    </tr>\n",
              "    <tr>\n",
              "      <th>2</th>\n",
              "      <td>0.523256</td>\n",
              "      <td>1.0</td>\n",
              "      <td>0.002681</td>\n",
              "      <td>0.000000</td>\n",
              "      <td>0.059599</td>\n",
              "      <td>0.004192</td>\n",
              "      <td>0.010063</td>\n",
              "      <td>0.565217</td>\n",
              "      <td>0.434783</td>\n",
              "      <td>0.160</td>\n",
              "    </tr>\n",
              "    <tr>\n",
              "      <th>3</th>\n",
              "      <td>0.825581</td>\n",
              "      <td>0.0</td>\n",
              "      <td>0.084450</td>\n",
              "      <td>0.178571</td>\n",
              "      <td>0.192965</td>\n",
              "      <td>0.112575</td>\n",
              "      <td>0.083648</td>\n",
              "      <td>0.507246</td>\n",
              "      <td>0.500000</td>\n",
              "      <td>0.280</td>\n",
              "    </tr>\n",
              "    <tr>\n",
              "      <th>4</th>\n",
              "      <td>0.441860</td>\n",
              "      <td>1.0</td>\n",
              "      <td>0.025469</td>\n",
              "      <td>0.051020</td>\n",
              "      <td>0.111871</td>\n",
              "      <td>0.011377</td>\n",
              "      <td>0.018239</td>\n",
              "      <td>0.202899</td>\n",
              "      <td>0.195652</td>\n",
              "      <td>0.160</td>\n",
              "    </tr>\n",
              "    <tr>\n",
              "      <th>...</th>\n",
              "      <td>...</td>\n",
              "      <td>...</td>\n",
              "      <td>...</td>\n",
              "      <td>...</td>\n",
              "      <td>...</td>\n",
              "      <td>...</td>\n",
              "      <td>...</td>\n",
              "      <td>...</td>\n",
              "      <td>...</td>\n",
              "      <td>...</td>\n",
              "    </tr>\n",
              "    <tr>\n",
              "      <th>446</th>\n",
              "      <td>0.697674</td>\n",
              "      <td>0.0</td>\n",
              "      <td>0.013405</td>\n",
              "      <td>0.020408</td>\n",
              "      <td>0.114802</td>\n",
              "      <td>0.012575</td>\n",
              "      <td>0.045912</td>\n",
              "      <td>0.652174</td>\n",
              "      <td>0.369565</td>\n",
              "      <td>0.080</td>\n",
              "    </tr>\n",
              "    <tr>\n",
              "      <th>447</th>\n",
              "      <td>0.186047</td>\n",
              "      <td>1.0</td>\n",
              "      <td>0.002681</td>\n",
              "      <td>0.005102</td>\n",
              "      <td>0.067904</td>\n",
              "      <td>0.001198</td>\n",
              "      <td>0.001887</td>\n",
              "      <td>0.492754</td>\n",
              "      <td>0.456522</td>\n",
              "      <td>0.240</td>\n",
              "    </tr>\n",
              "    <tr>\n",
              "      <th>448</th>\n",
              "      <td>0.395349</td>\n",
              "      <td>0.0</td>\n",
              "      <td>0.008043</td>\n",
              "      <td>0.010204</td>\n",
              "      <td>0.074744</td>\n",
              "      <td>0.006587</td>\n",
              "      <td>0.008805</td>\n",
              "      <td>0.666667</td>\n",
              "      <td>0.760870</td>\n",
              "      <td>0.480</td>\n",
              "    </tr>\n",
              "    <tr>\n",
              "      <th>449</th>\n",
              "      <td>0.627907</td>\n",
              "      <td>1.0</td>\n",
              "      <td>0.017426</td>\n",
              "      <td>0.035714</td>\n",
              "      <td>0.895457</td>\n",
              "      <td>0.030539</td>\n",
              "      <td>0.045912</td>\n",
              "      <td>0.768116</td>\n",
              "      <td>0.652174</td>\n",
              "      <td>0.260</td>\n",
              "    </tr>\n",
              "    <tr>\n",
              "      <th>450</th>\n",
              "      <td>0.767442</td>\n",
              "      <td>0.0</td>\n",
              "      <td>0.030831</td>\n",
              "      <td>0.056122</td>\n",
              "      <td>0.147533</td>\n",
              "      <td>0.031138</td>\n",
              "      <td>0.028302</td>\n",
              "      <td>0.478261</td>\n",
              "      <td>0.326087</td>\n",
              "      <td>0.120</td>\n",
              "    </tr>\n",
              "  </tbody>\n",
              "</table>\n",
              "<p>451 rows × 10 columns</p>\n",
              "</div>\n",
              "      <button class=\"colab-df-convert\" onclick=\"convertToInteractive('df-31014f24-4ea2-40b6-bf01-a91e7aee2b0a')\"\n",
              "              title=\"Convert this dataframe to an interactive table.\"\n",
              "              style=\"display:none;\">\n",
              "        \n",
              "  <svg xmlns=\"http://www.w3.org/2000/svg\" height=\"24px\"viewBox=\"0 0 24 24\"\n",
              "       width=\"24px\">\n",
              "    <path d=\"M0 0h24v24H0V0z\" fill=\"none\"/>\n",
              "    <path d=\"M18.56 5.44l.94 2.06.94-2.06 2.06-.94-2.06-.94-.94-2.06-.94 2.06-2.06.94zm-11 1L8.5 8.5l.94-2.06 2.06-.94-2.06-.94L8.5 2.5l-.94 2.06-2.06.94zm10 10l.94 2.06.94-2.06 2.06-.94-2.06-.94-.94-2.06-.94 2.06-2.06.94z\"/><path d=\"M17.41 7.96l-1.37-1.37c-.4-.4-.92-.59-1.43-.59-.52 0-1.04.2-1.43.59L10.3 9.45l-7.72 7.72c-.78.78-.78 2.05 0 2.83L4 21.41c.39.39.9.59 1.41.59.51 0 1.02-.2 1.41-.59l7.78-7.78 2.81-2.81c.8-.78.8-2.07 0-2.86zM5.41 20L4 18.59l7.72-7.72 1.47 1.35L5.41 20z\"/>\n",
              "  </svg>\n",
              "      </button>\n",
              "      \n",
              "  <style>\n",
              "    .colab-df-container {\n",
              "      display:flex;\n",
              "      flex-wrap:wrap;\n",
              "      gap: 12px;\n",
              "    }\n",
              "\n",
              "    .colab-df-convert {\n",
              "      background-color: #E8F0FE;\n",
              "      border: none;\n",
              "      border-radius: 50%;\n",
              "      cursor: pointer;\n",
              "      display: none;\n",
              "      fill: #1967D2;\n",
              "      height: 32px;\n",
              "      padding: 0 0 0 0;\n",
              "      width: 32px;\n",
              "    }\n",
              "\n",
              "    .colab-df-convert:hover {\n",
              "      background-color: #E2EBFA;\n",
              "      box-shadow: 0px 1px 2px rgba(60, 64, 67, 0.3), 0px 1px 3px 1px rgba(60, 64, 67, 0.15);\n",
              "      fill: #174EA6;\n",
              "    }\n",
              "\n",
              "    [theme=dark] .colab-df-convert {\n",
              "      background-color: #3B4455;\n",
              "      fill: #D2E3FC;\n",
              "    }\n",
              "\n",
              "    [theme=dark] .colab-df-convert:hover {\n",
              "      background-color: #434B5C;\n",
              "      box-shadow: 0px 1px 3px 1px rgba(0, 0, 0, 0.15);\n",
              "      filter: drop-shadow(0px 1px 2px rgba(0, 0, 0, 0.3));\n",
              "      fill: #FFFFFF;\n",
              "    }\n",
              "  </style>\n",
              "\n",
              "      <script>\n",
              "        const buttonEl =\n",
              "          document.querySelector('#df-31014f24-4ea2-40b6-bf01-a91e7aee2b0a button.colab-df-convert');\n",
              "        buttonEl.style.display =\n",
              "          google.colab.kernel.accessAllowed ? 'block' : 'none';\n",
              "\n",
              "        async function convertToInteractive(key) {\n",
              "          const element = document.querySelector('#df-31014f24-4ea2-40b6-bf01-a91e7aee2b0a');\n",
              "          const dataTable =\n",
              "            await google.colab.kernel.invokeFunction('convertToInteractive',\n",
              "                                                     [key], {});\n",
              "          if (!dataTable) return;\n",
              "\n",
              "          const docLinkHtml = 'Like what you see? Visit the ' +\n",
              "            '<a target=\"_blank\" href=https://colab.research.google.com/notebooks/data_table.ipynb>data table notebook</a>'\n",
              "            + ' to learn more about interactive tables.';\n",
              "          element.innerHTML = '';\n",
              "          dataTable['output_type'] = 'display_data';\n",
              "          await google.colab.output.renderOutput(dataTable, element);\n",
              "          const docLink = document.createElement('div');\n",
              "          docLink.innerHTML = docLinkHtml;\n",
              "          element.appendChild(docLink);\n",
              "        }\n",
              "      </script>\n",
              "    </div>\n",
              "  </div>\n",
              "  "
            ]
          },
          "metadata": {},
          "execution_count": 107
        }
      ]
    },
    {
      "cell_type": "code",
      "source": [
        "X_test_scaled = pd.DataFrame(scaler.fit_transform(X_test),columns=X_test.columns)\n",
        "X_test_scaled"
      ],
      "metadata": {
        "colab": {
          "base_uri": "https://localhost:8080/",
          "height": 488
        },
        "id": "FDWf7c4xA9Lk",
        "outputId": "05334892-513a-4a5c-99eb-ed187206092c"
      },
      "execution_count": null,
      "outputs": [
        {
          "output_type": "execute_result",
          "data": {
            "text/plain": [
              "          Age  Gender  Total_Bilirubin  Direct_Bilirubin  \\\n",
              "0    0.304348     0.0         0.006601          0.005495   \n",
              "1    0.391304     0.0         0.009901          0.005495   \n",
              "2    0.550725     0.0         0.013201          0.005495   \n",
              "3    0.797101     0.0         0.009901          0.005495   \n",
              "4    0.536232     1.0         0.013201          0.010989   \n",
              "..        ...     ...              ...               ...   \n",
              "108  0.289855     0.0         0.049505          0.043956   \n",
              "109  0.637681     0.0         0.174917          0.159341   \n",
              "110  0.521739     0.0         0.990099          0.774725   \n",
              "111  0.710145     1.0         0.009901          0.005495   \n",
              "112  0.652174     0.0         0.009901          0.005495   \n",
              "\n",
              "     Alkaline_Phosphotase  Alamine_Aminotransferase  \\\n",
              "0                0.145563                  0.012717   \n",
              "1                0.100698                  0.018497   \n",
              "2                0.084746                  0.021965   \n",
              "3                0.094716                  0.020809   \n",
              "4                0.042871                  0.002312   \n",
              "..                    ...                       ...   \n",
              "108              0.097707                  0.016185   \n",
              "109              0.562313                  0.197688   \n",
              "110              0.187438                  0.063584   \n",
              "111              0.057827                  0.012717   \n",
              "112              0.269192                  0.036994   \n",
              "\n",
              "     Aspartate_Aminotransferase  Total_Protiens   Albumin  \\\n",
              "0                      0.011947        0.320755  0.257143   \n",
              "1                      0.011947        0.830189  0.742857   \n",
              "2                      0.082437        0.660377  0.657143   \n",
              "3                      0.026284        0.622642  0.571429   \n",
              "4                      0.019116        0.716981  0.600000   \n",
              "..                          ...             ...       ...   \n",
              "108                    0.062127        0.792453  0.828571   \n",
              "109                    0.324970        0.396226  0.257143   \n",
              "110                    0.139785        0.301887  0.200000   \n",
              "111                    0.004779        0.622642  0.685714   \n",
              "112                    0.005974        0.301887  0.171429   \n",
              "\n",
              "     Albumin_and_Globulin_Ratio  \n",
              "0                      0.214286  \n",
              "1                      0.428571  \n",
              "2                      0.428571  \n",
              "3                      0.357143  \n",
              "4                      1.000000  \n",
              "..                          ...  \n",
              "108                    0.571429  \n",
              "109                    0.192857  \n",
              "110                    0.142857  \n",
              "111                    0.714286  \n",
              "112                    0.142857  \n",
              "\n",
              "[113 rows x 10 columns]"
            ],
            "text/html": [
              "\n",
              "  <div id=\"df-0b522c40-a889-4077-bb3d-5e4bb84971cc\">\n",
              "    <div class=\"colab-df-container\">\n",
              "      <div>\n",
              "<style scoped>\n",
              "    .dataframe tbody tr th:only-of-type {\n",
              "        vertical-align: middle;\n",
              "    }\n",
              "\n",
              "    .dataframe tbody tr th {\n",
              "        vertical-align: top;\n",
              "    }\n",
              "\n",
              "    .dataframe thead th {\n",
              "        text-align: right;\n",
              "    }\n",
              "</style>\n",
              "<table border=\"1\" class=\"dataframe\">\n",
              "  <thead>\n",
              "    <tr style=\"text-align: right;\">\n",
              "      <th></th>\n",
              "      <th>Age</th>\n",
              "      <th>Gender</th>\n",
              "      <th>Total_Bilirubin</th>\n",
              "      <th>Direct_Bilirubin</th>\n",
              "      <th>Alkaline_Phosphotase</th>\n",
              "      <th>Alamine_Aminotransferase</th>\n",
              "      <th>Aspartate_Aminotransferase</th>\n",
              "      <th>Total_Protiens</th>\n",
              "      <th>Albumin</th>\n",
              "      <th>Albumin_and_Globulin_Ratio</th>\n",
              "    </tr>\n",
              "  </thead>\n",
              "  <tbody>\n",
              "    <tr>\n",
              "      <th>0</th>\n",
              "      <td>0.304348</td>\n",
              "      <td>0.0</td>\n",
              "      <td>0.006601</td>\n",
              "      <td>0.005495</td>\n",
              "      <td>0.145563</td>\n",
              "      <td>0.012717</td>\n",
              "      <td>0.011947</td>\n",
              "      <td>0.320755</td>\n",
              "      <td>0.257143</td>\n",
              "      <td>0.214286</td>\n",
              "    </tr>\n",
              "    <tr>\n",
              "      <th>1</th>\n",
              "      <td>0.391304</td>\n",
              "      <td>0.0</td>\n",
              "      <td>0.009901</td>\n",
              "      <td>0.005495</td>\n",
              "      <td>0.100698</td>\n",
              "      <td>0.018497</td>\n",
              "      <td>0.011947</td>\n",
              "      <td>0.830189</td>\n",
              "      <td>0.742857</td>\n",
              "      <td>0.428571</td>\n",
              "    </tr>\n",
              "    <tr>\n",
              "      <th>2</th>\n",
              "      <td>0.550725</td>\n",
              "      <td>0.0</td>\n",
              "      <td>0.013201</td>\n",
              "      <td>0.005495</td>\n",
              "      <td>0.084746</td>\n",
              "      <td>0.021965</td>\n",
              "      <td>0.082437</td>\n",
              "      <td>0.660377</td>\n",
              "      <td>0.657143</td>\n",
              "      <td>0.428571</td>\n",
              "    </tr>\n",
              "    <tr>\n",
              "      <th>3</th>\n",
              "      <td>0.797101</td>\n",
              "      <td>0.0</td>\n",
              "      <td>0.009901</td>\n",
              "      <td>0.005495</td>\n",
              "      <td>0.094716</td>\n",
              "      <td>0.020809</td>\n",
              "      <td>0.026284</td>\n",
              "      <td>0.622642</td>\n",
              "      <td>0.571429</td>\n",
              "      <td>0.357143</td>\n",
              "    </tr>\n",
              "    <tr>\n",
              "      <th>4</th>\n",
              "      <td>0.536232</td>\n",
              "      <td>1.0</td>\n",
              "      <td>0.013201</td>\n",
              "      <td>0.010989</td>\n",
              "      <td>0.042871</td>\n",
              "      <td>0.002312</td>\n",
              "      <td>0.019116</td>\n",
              "      <td>0.716981</td>\n",
              "      <td>0.600000</td>\n",
              "      <td>1.000000</td>\n",
              "    </tr>\n",
              "    <tr>\n",
              "      <th>...</th>\n",
              "      <td>...</td>\n",
              "      <td>...</td>\n",
              "      <td>...</td>\n",
              "      <td>...</td>\n",
              "      <td>...</td>\n",
              "      <td>...</td>\n",
              "      <td>...</td>\n",
              "      <td>...</td>\n",
              "      <td>...</td>\n",
              "      <td>...</td>\n",
              "    </tr>\n",
              "    <tr>\n",
              "      <th>108</th>\n",
              "      <td>0.289855</td>\n",
              "      <td>0.0</td>\n",
              "      <td>0.049505</td>\n",
              "      <td>0.043956</td>\n",
              "      <td>0.097707</td>\n",
              "      <td>0.016185</td>\n",
              "      <td>0.062127</td>\n",
              "      <td>0.792453</td>\n",
              "      <td>0.828571</td>\n",
              "      <td>0.571429</td>\n",
              "    </tr>\n",
              "    <tr>\n",
              "      <th>109</th>\n",
              "      <td>0.637681</td>\n",
              "      <td>0.0</td>\n",
              "      <td>0.174917</td>\n",
              "      <td>0.159341</td>\n",
              "      <td>0.562313</td>\n",
              "      <td>0.197688</td>\n",
              "      <td>0.324970</td>\n",
              "      <td>0.396226</td>\n",
              "      <td>0.257143</td>\n",
              "      <td>0.192857</td>\n",
              "    </tr>\n",
              "    <tr>\n",
              "      <th>110</th>\n",
              "      <td>0.521739</td>\n",
              "      <td>0.0</td>\n",
              "      <td>0.990099</td>\n",
              "      <td>0.774725</td>\n",
              "      <td>0.187438</td>\n",
              "      <td>0.063584</td>\n",
              "      <td>0.139785</td>\n",
              "      <td>0.301887</td>\n",
              "      <td>0.200000</td>\n",
              "      <td>0.142857</td>\n",
              "    </tr>\n",
              "    <tr>\n",
              "      <th>111</th>\n",
              "      <td>0.710145</td>\n",
              "      <td>1.0</td>\n",
              "      <td>0.009901</td>\n",
              "      <td>0.005495</td>\n",
              "      <td>0.057827</td>\n",
              "      <td>0.012717</td>\n",
              "      <td>0.004779</td>\n",
              "      <td>0.622642</td>\n",
              "      <td>0.685714</td>\n",
              "      <td>0.714286</td>\n",
              "    </tr>\n",
              "    <tr>\n",
              "      <th>112</th>\n",
              "      <td>0.652174</td>\n",
              "      <td>0.0</td>\n",
              "      <td>0.009901</td>\n",
              "      <td>0.005495</td>\n",
              "      <td>0.269192</td>\n",
              "      <td>0.036994</td>\n",
              "      <td>0.005974</td>\n",
              "      <td>0.301887</td>\n",
              "      <td>0.171429</td>\n",
              "      <td>0.142857</td>\n",
              "    </tr>\n",
              "  </tbody>\n",
              "</table>\n",
              "<p>113 rows × 10 columns</p>\n",
              "</div>\n",
              "      <button class=\"colab-df-convert\" onclick=\"convertToInteractive('df-0b522c40-a889-4077-bb3d-5e4bb84971cc')\"\n",
              "              title=\"Convert this dataframe to an interactive table.\"\n",
              "              style=\"display:none;\">\n",
              "        \n",
              "  <svg xmlns=\"http://www.w3.org/2000/svg\" height=\"24px\"viewBox=\"0 0 24 24\"\n",
              "       width=\"24px\">\n",
              "    <path d=\"M0 0h24v24H0V0z\" fill=\"none\"/>\n",
              "    <path d=\"M18.56 5.44l.94 2.06.94-2.06 2.06-.94-2.06-.94-.94-2.06-.94 2.06-2.06.94zm-11 1L8.5 8.5l.94-2.06 2.06-.94-2.06-.94L8.5 2.5l-.94 2.06-2.06.94zm10 10l.94 2.06.94-2.06 2.06-.94-2.06-.94-.94-2.06-.94 2.06-2.06.94z\"/><path d=\"M17.41 7.96l-1.37-1.37c-.4-.4-.92-.59-1.43-.59-.52 0-1.04.2-1.43.59L10.3 9.45l-7.72 7.72c-.78.78-.78 2.05 0 2.83L4 21.41c.39.39.9.59 1.41.59.51 0 1.02-.2 1.41-.59l7.78-7.78 2.81-2.81c.8-.78.8-2.07 0-2.86zM5.41 20L4 18.59l7.72-7.72 1.47 1.35L5.41 20z\"/>\n",
              "  </svg>\n",
              "      </button>\n",
              "      \n",
              "  <style>\n",
              "    .colab-df-container {\n",
              "      display:flex;\n",
              "      flex-wrap:wrap;\n",
              "      gap: 12px;\n",
              "    }\n",
              "\n",
              "    .colab-df-convert {\n",
              "      background-color: #E8F0FE;\n",
              "      border: none;\n",
              "      border-radius: 50%;\n",
              "      cursor: pointer;\n",
              "      display: none;\n",
              "      fill: #1967D2;\n",
              "      height: 32px;\n",
              "      padding: 0 0 0 0;\n",
              "      width: 32px;\n",
              "    }\n",
              "\n",
              "    .colab-df-convert:hover {\n",
              "      background-color: #E2EBFA;\n",
              "      box-shadow: 0px 1px 2px rgba(60, 64, 67, 0.3), 0px 1px 3px 1px rgba(60, 64, 67, 0.15);\n",
              "      fill: #174EA6;\n",
              "    }\n",
              "\n",
              "    [theme=dark] .colab-df-convert {\n",
              "      background-color: #3B4455;\n",
              "      fill: #D2E3FC;\n",
              "    }\n",
              "\n",
              "    [theme=dark] .colab-df-convert:hover {\n",
              "      background-color: #434B5C;\n",
              "      box-shadow: 0px 1px 3px 1px rgba(0, 0, 0, 0.15);\n",
              "      filter: drop-shadow(0px 1px 2px rgba(0, 0, 0, 0.3));\n",
              "      fill: #FFFFFF;\n",
              "    }\n",
              "  </style>\n",
              "\n",
              "      <script>\n",
              "        const buttonEl =\n",
              "          document.querySelector('#df-0b522c40-a889-4077-bb3d-5e4bb84971cc button.colab-df-convert');\n",
              "        buttonEl.style.display =\n",
              "          google.colab.kernel.accessAllowed ? 'block' : 'none';\n",
              "\n",
              "        async function convertToInteractive(key) {\n",
              "          const element = document.querySelector('#df-0b522c40-a889-4077-bb3d-5e4bb84971cc');\n",
              "          const dataTable =\n",
              "            await google.colab.kernel.invokeFunction('convertToInteractive',\n",
              "                                                     [key], {});\n",
              "          if (!dataTable) return;\n",
              "\n",
              "          const docLinkHtml = 'Like what you see? Visit the ' +\n",
              "            '<a target=\"_blank\" href=https://colab.research.google.com/notebooks/data_table.ipynb>data table notebook</a>'\n",
              "            + ' to learn more about interactive tables.';\n",
              "          element.innerHTML = '';\n",
              "          dataTable['output_type'] = 'display_data';\n",
              "          await google.colab.output.renderOutput(dataTable, element);\n",
              "          const docLink = document.createElement('div');\n",
              "          docLink.innerHTML = docLinkHtml;\n",
              "          element.appendChild(docLink);\n",
              "        }\n",
              "      </script>\n",
              "    </div>\n",
              "  </div>\n",
              "  "
            ]
          },
          "metadata": {},
          "execution_count": 108
        }
      ]
    },
    {
      "cell_type": "code",
      "source": [
        "from sklearn.ensemble import RandomForestClassifier"
      ],
      "metadata": {
        "id": "wu8bDU6pA_pJ"
      },
      "execution_count": null,
      "outputs": []
    },
    {
      "cell_type": "code",
      "source": [
        "model = RandomForestClassifier()\n",
        "model.fit(X_train,y_train)"
      ],
      "metadata": {
        "colab": {
          "base_uri": "https://localhost:8080/"
        },
        "id": "dWo6VfdaBCVa",
        "outputId": "3e6ad706-2fa5-42de-9275-3a31e3983862"
      },
      "execution_count": null,
      "outputs": [
        {
          "output_type": "execute_result",
          "data": {
            "text/plain": [
              "RandomForestClassifier()"
            ]
          },
          "metadata": {},
          "execution_count": 112
        }
      ]
    },
    {
      "cell_type": "code",
      "source": [
        "from sklearn import model_selection , metrics"
      ],
      "metadata": {
        "id": "TqvOjIAKBFEa"
      },
      "execution_count": null,
      "outputs": []
    },
    {
      "cell_type": "code",
      "source": [
        "from sklearn.metrics import f1_score, precision_score, accuracy_score, recall_score, balanced_accuracy_score"
      ],
      "metadata": {
        "id": "2M9NYoI3BIEf"
      },
      "execution_count": null,
      "outputs": []
    },
    {
      "cell_type": "code",
      "source": [
        "prediction = model.predict(X_test)\n",
        "prediction"
      ],
      "metadata": {
        "colab": {
          "base_uri": "https://localhost:8080/"
        },
        "id": "VbXcFGAuBKLX",
        "outputId": "d3bc556a-1d1a-4b3c-a75e-6770c6ef150e"
      },
      "execution_count": null,
      "outputs": [
        {
          "output_type": "execute_result",
          "data": {
            "text/plain": [
              "array([0, 1, 1, 0, 1, 1, 1, 1, 1, 0, 1, 1, 1, 1, 0, 1, 0, 1, 1, 1, 1, 1,\n",
              "       1, 1, 1, 1, 1, 1, 1, 1, 1, 1, 0, 1, 1, 1, 1, 0, 1, 0, 1, 0, 1, 0,\n",
              "       0, 0, 1, 1, 0, 0, 1, 1, 1, 1, 1, 1, 1, 0, 1, 1, 0, 1, 1, 1, 1, 1,\n",
              "       0, 0, 1, 1, 1, 1, 1, 1, 1, 1, 1, 1, 1, 1, 1, 0, 1, 0, 0, 1, 1, 1,\n",
              "       1, 1, 1, 1, 1, 1, 1, 1, 1, 1, 1, 1, 1, 0, 0, 0, 1, 1, 1, 0, 1, 1,\n",
              "       1, 1, 1, 1, 1, 0, 0, 0, 1, 1, 1, 0, 1, 1, 0, 1, 1, 1, 1, 1, 1, 1,\n",
              "       1, 1, 1, 1, 1, 1, 0, 1, 1, 1, 1, 1, 1, 1, 1, 1, 1, 0, 0, 1, 1, 0,\n",
              "       1, 1, 0, 1, 1, 1, 1, 1, 1, 1, 1, 1, 0, 1, 1, 1, 1, 1, 1, 1, 1, 1,\n",
              "       1, 0, 1, 1, 1, 1, 1, 1, 0, 1, 1, 1, 1, 1, 0, 1, 1, 1, 1, 1, 1, 1])"
            ]
          },
          "metadata": {},
          "execution_count": 115
        }
      ]
    },
    {
      "cell_type": "code",
      "source": [
        "accuracy = metrics.accuracy_score(y_test,prediction)\n",
        "accuracy"
      ],
      "metadata": {
        "colab": {
          "base_uri": "https://localhost:8080/"
        },
        "id": "p7FCjqL8BNwH",
        "outputId": "d9dcfcc4-c23e-4829-a0f1-3e52cb168954"
      },
      "execution_count": null,
      "outputs": [
        {
          "output_type": "execute_result",
          "data": {
            "text/plain": [
              "0.7272727272727273"
            ]
          },
          "metadata": {},
          "execution_count": 116
        }
      ]
    },
    {
      "cell_type": "markdown",
      "source": [
        "MODEL-6: KNN MODEL"
      ],
      "metadata": {
        "id": "VIWkqn1m7paH"
      }
    },
    {
      "cell_type": "code",
      "source": [
        "X = np.array(df.iloc[:, 1:])\n",
        "y = np.array(df['Dataset'])"
      ],
      "metadata": {
        "id": "ecUsd9DU2y9J"
      },
      "execution_count": null,
      "outputs": []
    },
    {
      "cell_type": "code",
      "source": [
        "from sklearn.model_selection import train_test_split\n",
        "X_train, X_test, y_train, y_test = train_test_split(X, y, test_size = 0.35, random_state = 42)\n",
        "\n",
        "# Feature Scaling\n",
        "\n",
        "from sklearn.preprocessing import StandardScaler\n",
        "sc = StandardScaler()\n",
        "X_train = sc.fit_transform(X_train)\n",
        "X_test = sc.transform(X_test)\n",
        "\n",
        "#principle component analysis\n",
        "\n",
        "from sklearn.decomposition import PCA\n",
        "pca = PCA(n_components=2)\n",
        "X_train = pca.fit_transform(X_train)\n",
        "X_test = pca.fit_transform(X_test)\n",
        "explained_variance=pca.explained_variance_ratio_\n",
        "\n",
        "# Fitting KNN to the Training set\n",
        "\n",
        "from sklearn.neighbors import KNeighborsClassifier\n",
        "knn = []\n",
        "for i in range(1,21):\n",
        "            \n",
        "    classifier = KNeighborsClassifier(n_neighbors=i)\n",
        "    trained_model=classifier.fit(X_train,y_train)\n",
        "    trained_model.fit(X_train,y_train )\n",
        "    \n",
        "    # Predicting the Test set results\n",
        "    \n",
        "    y_pred = classifier.predict(X_test)\n",
        "    \n",
        "    # Making the Confusion Matrix\n",
        "    \n",
        "    from sklearn.metrics import confusion_matrix\n",
        "    \n",
        "    cm_KNN = confusion_matrix(y_test, y_pred)\n",
        "    print(cm_KNN)\n",
        "    print(\"Accuracy score of train KNN\")\n",
        "    print(accuracy_score(y_train, trained_model.predict(X_train))*100)\n",
        "    \n",
        "    print(\"Accuracy score of test KNN\")\n",
        "    print(accuracy_score(y_test, y_pred)*100)\n",
        "    \n",
        "    knn.append(accuracy_score(y_test, y_pred)*100)\n",
        "    \n",
        "plt.figure(figsize=(12, 6))  \n",
        "plt.plot(range(1, 21),knn, color='red', linestyle='dashed', marker='o',  \n",
        "             markerfacecolor='blue', markersize=10)\n",
        "plt.title('Accuracy for different  K Value')  \n",
        "plt.xlabel('K Value')  \n",
        "plt.ylabel('Accuracy') "
      ],
      "metadata": {
        "colab": {
          "base_uri": "https://localhost:8080/",
          "height": 1000
        },
        "id": "0gNOMFcv7w5Z",
        "outputId": "a2049791-03e2-48e7-f289-8f69f38e03f0"
      },
      "execution_count": null,
      "outputs": [
        {
          "output_type": "stream",
          "name": "stdout",
          "text": [
            "[[ 32  21]\n",
            " [ 36 109]]\n",
            "Accuracy score of train KNN\n",
            "100.0\n",
            "Accuracy score of test KNN\n",
            "71.21212121212122\n",
            "[[ 32  21]\n",
            " [ 44 101]]\n",
            "Accuracy score of train KNN\n",
            "93.98907103825137\n",
            "Accuracy score of test KNN\n",
            "67.17171717171718\n",
            "[[ 32  21]\n",
            " [ 34 111]]\n",
            "Accuracy score of train KNN\n",
            "94.80874316939891\n",
            "Accuracy score of test KNN\n",
            "72.22222222222221\n",
            "[[ 32  21]\n",
            " [ 36 109]]\n",
            "Accuracy score of train KNN\n",
            "94.53551912568307\n",
            "Accuracy score of test KNN\n",
            "71.21212121212122\n",
            "[[ 32  21]\n",
            " [ 35 110]]\n",
            "Accuracy score of train KNN\n",
            "94.26229508196722\n",
            "Accuracy score of test KNN\n",
            "71.71717171717171\n",
            "[[ 32  21]\n",
            " [ 36 109]]\n",
            "Accuracy score of train KNN\n",
            "93.16939890710383\n",
            "Accuracy score of test KNN\n",
            "71.21212121212122\n",
            "[[ 32  21]\n",
            " [ 36 109]]\n",
            "Accuracy score of train KNN\n",
            "94.26229508196722\n",
            "Accuracy score of test KNN\n",
            "71.21212121212122\n",
            "[[ 32  21]\n",
            " [ 37 108]]\n",
            "Accuracy score of train KNN\n",
            "92.89617486338798\n",
            "Accuracy score of test KNN\n",
            "70.70707070707071\n",
            "[[ 32  21]\n",
            " [ 36 109]]\n",
            "Accuracy score of train KNN\n",
            "93.44262295081968\n",
            "Accuracy score of test KNN\n",
            "71.21212121212122\n",
            "[[ 32  21]\n",
            " [ 38 107]]\n",
            "Accuracy score of train KNN\n",
            "92.62295081967213\n",
            "Accuracy score of test KNN\n",
            "70.2020202020202\n",
            "[[ 32  21]\n",
            " [ 36 109]]\n",
            "Accuracy score of train KNN\n",
            "92.89617486338798\n",
            "Accuracy score of test KNN\n",
            "71.21212121212122\n",
            "[[ 32  21]\n",
            " [ 36 109]]\n",
            "Accuracy score of train KNN\n",
            "92.62295081967213\n",
            "Accuracy score of test KNN\n",
            "71.21212121212122\n",
            "[[ 32  21]\n",
            " [ 35 110]]\n",
            "Accuracy score of train KNN\n",
            "92.34972677595628\n",
            "Accuracy score of test KNN\n",
            "71.71717171717171\n",
            "[[ 32  21]\n",
            " [ 35 110]]\n",
            "Accuracy score of train KNN\n",
            "92.62295081967213\n",
            "Accuracy score of test KNN\n",
            "71.71717171717171\n",
            "[[ 32  21]\n",
            " [ 35 110]]\n",
            "Accuracy score of train KNN\n",
            "92.62295081967213\n",
            "Accuracy score of test KNN\n",
            "71.71717171717171\n",
            "[[ 32  21]\n",
            " [ 35 110]]\n",
            "Accuracy score of train KNN\n",
            "92.34972677595628\n",
            "Accuracy score of test KNN\n",
            "71.71717171717171\n",
            "[[ 32  21]\n",
            " [ 35 110]]\n",
            "Accuracy score of train KNN\n",
            "91.80327868852459\n",
            "Accuracy score of test KNN\n",
            "71.71717171717171\n",
            "[[ 32  21]\n",
            " [ 35 110]]\n",
            "Accuracy score of train KNN\n",
            "91.80327868852459\n",
            "Accuracy score of test KNN\n",
            "71.71717171717171\n",
            "[[ 32  21]\n",
            " [ 33 112]]\n",
            "Accuracy score of train KNN\n",
            "91.2568306010929\n",
            "Accuracy score of test KNN\n",
            "72.72727272727273\n",
            "[[ 32  21]\n",
            " [ 34 111]]\n",
            "Accuracy score of train KNN\n",
            "90.7103825136612\n",
            "Accuracy score of test KNN\n",
            "72.22222222222221\n"
          ]
        },
        {
          "output_type": "execute_result",
          "data": {
            "text/plain": [
              "Text(0, 0.5, 'Accuracy')"
            ]
          },
          "metadata": {},
          "execution_count": 118
        },
        {
          "output_type": "display_data",
          "data": {
            "text/plain": [
              "<Figure size 864x432 with 1 Axes>"
            ],
            "image/png": "[encoded data removed]"
          },
          "metadata": {}
        }
      ]
    },
    {
      "cell_type": "markdown",
      "source": [
        "MODEL-7: LINEAR REGRESSION"
      ],
      "metadata": {
        "id": "Dp3Y3pHm8BEr"
      }
    },
    {
      "cell_type": "code",
      "source": [
        "from sklearn.linear_model import LinearRegression"
      ],
      "metadata": {
        "id": "R0jzLoIN8F4f"
      },
      "execution_count": null,
      "outputs": []
    },
    {
      "cell_type": "code",
      "source": [
        "X_train, X_test, y_train, y_test = train_test_split(X, y, test_size = 0.35, random_state = 7)"
      ],
      "metadata": {
        "id": "B8tlPKnR8JWx"
      },
      "execution_count": null,
      "outputs": []
    },
    {
      "cell_type": "code",
      "source": [
        "LR = LinearRegression()\n",
        "\n",
        "LR.fit(X_train,y_train)"
      ],
      "metadata": {
        "colab": {
          "base_uri": "https://localhost:8080/"
        },
        "id": "vFOuCtdN8Nmf",
        "outputId": "e8c405e2-a2b1-421c-a7ec-5fc13d78f573"
      },
      "execution_count": null,
      "outputs": [
        {
          "output_type": "execute_result",
          "data": {
            "text/plain": [
              "LinearRegression()"
            ]
          },
          "metadata": {},
          "execution_count": 121
        }
      ]
    },
    {
      "cell_type": "code",
      "source": [
        "y_prediction =  LR.predict(X_test)\n",
        "y_prediction"
      ],
      "metadata": {
        "colab": {
          "base_uri": "https://localhost:8080/"
        },
        "id": "ZoE_2wfz8P-G",
        "outputId": "096c5f75-1fd9-4f43-87d4-e643195f01a5"
      },
      "execution_count": null,
      "outputs": [
        {
          "output_type": "execute_result",
          "data": {
            "text/plain": [
              "array([ 1.00000000e+00,  7.03083727e-16,  1.00000000e+00,  1.00000000e+00,\n",
              "        1.00000000e+00,  1.00000000e+00,  2.52990852e-16,  1.00000000e+00,\n",
              "        1.03355303e-15,  1.00000000e+00,  1.00000000e+00,  3.39415729e-16,\n",
              "        1.00000000e+00,  1.00000000e+00,  6.73016884e-16,  1.00000000e+00,\n",
              "        1.00000000e+00,  1.00000000e+00,  1.00000000e+00,  3.84431110e-16,\n",
              "        1.00000000e+00,  1.41964979e-15,  1.00000000e+00,  1.00000000e+00,\n",
              "        1.00000000e+00,  1.00000000e+00, -6.72437140e-16,  4.57359638e-16,\n",
              "        9.84234476e-16,  4.77236275e-16,  1.00000000e+00,  7.29131498e-16,\n",
              "        4.27788014e-16,  1.00000000e+00,  1.00000000e+00,  1.00000000e+00,\n",
              "        1.00000000e+00,  1.00000000e+00,  1.00000000e+00,  5.06080130e-16,\n",
              "        1.00000000e+00,  1.36565580e-16,  1.00000000e+00,  1.00000000e+00,\n",
              "        1.00000000e+00,  1.00000000e+00,  1.00000000e+00,  1.00000000e+00,\n",
              "        1.00000000e+00,  2.15017470e-16,  1.00000000e+00,  1.00000000e+00,\n",
              "        2.82780348e-15,  1.00000000e+00,  4.18697061e-16,  1.00000000e+00,\n",
              "        1.00000000e+00,  1.00000000e+00,  1.00000000e+00,  1.00000000e+00,\n",
              "        6.60675335e-16,  1.03597078e-15,  1.00000000e+00,  1.00000000e+00,\n",
              "        4.11746676e-16,  1.94374220e-16,  6.46614613e-16,  1.29121600e-15,\n",
              "        1.00000000e+00,  1.00000000e+00,  1.00000000e+00,  1.00000000e+00,\n",
              "        2.95024765e-16,  1.00000000e+00,  1.00000000e+00,  1.00000000e+00,\n",
              "        1.00000000e+00,  1.00000000e+00,  1.00000000e+00,  1.00000000e+00,\n",
              "        7.03604559e-16,  1.00000000e+00,  6.04676101e-16,  1.00000000e+00,\n",
              "        7.77405721e-16,  1.00000000e+00,  1.00000000e+00,  1.00000000e+00,\n",
              "        6.99233380e-16,  1.00000000e+00,  1.00000000e+00,  1.25994335e-16,\n",
              "        1.00000000e+00,  3.40817464e-16,  1.00000000e+00,  1.00000000e+00,\n",
              "        1.00000000e+00,  8.14378128e-16,  1.00000000e+00,  1.00000000e+00,\n",
              "        1.00000000e+00,  1.00000000e+00,  1.00000000e+00,  1.00000000e+00,\n",
              "        1.00000000e+00,  1.00000000e+00, -8.73193516e-16,  6.79896970e-16,\n",
              "        1.00000000e+00, -2.12414083e-15,  1.00000000e+00,  1.00000000e+00,\n",
              "        1.00000000e+00,  7.12203819e-16,  3.75680586e-16,  1.00000000e+00,\n",
              "        1.00000000e+00, -3.72185467e-16,  3.72503481e-16,  1.09726407e-15,\n",
              "        1.00000000e+00,  1.00000000e+00,  1.00000000e+00,  1.00000000e+00,\n",
              "        1.00000000e+00,  1.00000000e+00,  1.00000000e+00,  1.00000000e+00,\n",
              "        1.00000000e+00,  1.00000000e+00,  1.00000000e+00,  3.37342253e-16,\n",
              "        1.00000000e+00,  1.00000000e+00,  1.87130277e-16,  1.00000000e+00,\n",
              "        1.00000000e+00,  1.00000000e+00,  1.00000000e+00,  1.15019398e-16,\n",
              "        1.00000000e+00,  6.27827148e-16,  1.00000000e+00,  1.00000000e+00,\n",
              "        1.00000000e+00,  1.00000000e+00,  1.00000000e+00,  1.00000000e+00,\n",
              "        1.00000000e+00,  1.00000000e+00,  1.00000000e+00,  1.00000000e+00,\n",
              "        1.00000000e+00,  1.00000000e+00,  1.00000000e+00,  1.00000000e+00,\n",
              "        1.00000000e+00,  1.00000000e+00,  1.00000000e+00,  1.00000000e+00,\n",
              "        1.00000000e+00,  1.00000000e+00,  1.00000000e+00,  1.00000000e+00,\n",
              "        1.00000000e+00,  9.79193334e-17,  3.93842038e-17,  1.00000000e+00,\n",
              "        1.00000000e+00,  1.07019966e-15,  1.00000000e+00,  2.14262060e-15,\n",
              "        1.00000000e+00,  1.00000000e+00,  1.00000000e+00,  1.94417072e-16,\n",
              "        1.00000000e+00,  5.44195931e-16,  1.00000000e+00,  1.00000000e+00,\n",
              "        1.00000000e+00,  1.00000000e+00,  3.57070626e-16,  3.19208879e-17,\n",
              "        8.27835684e-17,  7.49036365e-16,  4.97765417e-16,  1.00000000e+00,\n",
              "        1.08985853e-15,  8.31097030e-16,  1.00000000e+00,  1.00000000e+00,\n",
              "        5.73038654e-16,  1.00000000e+00,  1.00000000e+00,  1.00000000e+00,\n",
              "        1.00000000e+00,  1.00000000e+00])"
            ]
          },
          "metadata": {},
          "execution_count": 122
        }
      ]
    },
    {
      "cell_type": "code",
      "source": [
        "from sklearn.metrics import r2_score\n",
        "score=r2_score(y_test,y_prediction)"
      ],
      "metadata": {
        "id": "rSqQMIjf8UPF"
      },
      "execution_count": null,
      "outputs": []
    },
    {
      "cell_type": "code",
      "source": [
        "Accuracy=r2_score(y_test,y_prediction)*100\n",
        "print(\" Accuracy of the model is %.2f\" %Accuracy)"
      ],
      "metadata": {
        "colab": {
          "base_uri": "https://localhost:8080/"
        },
        "id": "MOKgGlEr8XHr",
        "outputId": "5cc27a2a-448b-4d61-c8a1-d675e6fc6dfb"
      },
      "execution_count": null,
      "outputs": [
        {
          "output_type": "stream",
          "name": "stdout",
          "text": [
            " Accuracy of the model is 100.00\n"
          ]
        }
      ]
    },
    {
      "cell_type": "markdown",
      "source": [
        "MODEL-8: NAIVE BAYES"
      ],
      "metadata": {
        "id": "uM77cqyF8cWi"
      }
    },
    {
      "cell_type": "code",
      "source": [
        "X_train, X_test, y_train, y_test = train_test_split(X, y, test_size = 0.30, random_state = 10)"
      ],
      "metadata": {
        "id": "IVuowkfx8hBy"
      },
      "execution_count": null,
      "outputs": []
    },
    {
      "cell_type": "code",
      "source": [
        "from sklearn.naive_bayes import GaussianNB\n",
        "classifier = GaussianNB()\n",
        "classifier.fit(X_train, y_train)"
      ],
      "metadata": {
        "colab": {
          "base_uri": "https://localhost:8080/"
        },
        "id": "RQz0azoQ8lVn",
        "outputId": "d10525e1-e45d-4eb2-f06d-1a406dc45837"
      },
      "execution_count": null,
      "outputs": [
        {
          "output_type": "execute_result",
          "data": {
            "text/plain": [
              "GaussianNB()"
            ]
          },
          "metadata": {},
          "execution_count": 126
        }
      ]
    },
    {
      "cell_type": "code",
      "source": [
        "y_pred = classifier.predict(X_test)\n",
        "cm = confusion_matrix(y_test, y_pred)\n",
        "print(cm)"
      ],
      "metadata": {
        "colab": {
          "base_uri": "https://localhost:8080/"
        },
        "id": "jXzhAAJX8pN0",
        "outputId": "6c808d3c-867c-462d-a3c4-b13fb4ed6cd0"
      },
      "execution_count": null,
      "outputs": [
        {
          "output_type": "stream",
          "name": "stdout",
          "text": [
            "[[ 42   0]\n",
            " [  0 128]]\n"
          ]
        }
      ]
    },
    {
      "cell_type": "code",
      "source": [
        "acc4 = accuracy_score(y_test, y_pred)\n",
        "print(f\"Accuracy score : {acc4}\")"
      ],
      "metadata": {
        "colab": {
          "base_uri": "https://localhost:8080/"
        },
        "id": "f8ESw6NQ8s3O",
        "outputId": "4b39aec3-d11b-4dfe-c99f-413a26168e49"
      },
      "execution_count": null,
      "outputs": [
        {
          "output_type": "stream",
          "name": "stdout",
          "text": [
            "Accuracy score : 1.0\n"
          ]
        }
      ]
    }
  ]
}